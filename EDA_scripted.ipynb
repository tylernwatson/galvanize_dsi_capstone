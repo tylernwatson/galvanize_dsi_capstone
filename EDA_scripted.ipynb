{
 "cells": [
  {
   "cell_type": "markdown",
   "metadata": {},
   "source": [
    "# WHAT ARE WE YELLING ABOUT?"
   ]
  },
  {
   "cell_type": "markdown",
   "metadata": {},
   "source": [
    "# Import Data"
   ]
  },
  {
   "cell_type": "code",
   "execution_count": 84,
   "metadata": {},
   "outputs": [
    {
     "name": "stdout",
     "output_type": "stream",
     "text": [
      "The autoreload extension is already loaded. To reload it, use:\n",
      "  %reload_ext autoreload\n"
     ]
    }
   ],
   "source": [
    "from collections import Counter\n",
    "import community\n",
    "import operator\n",
    "import networkx as nx\n",
    "import pandas as pd\n",
    "import numpy as np\n",
    "import matplotlib.pyplot as plt\n",
    "import seaborn as sns\n",
    "import EDA as eda\n",
    "import json\n",
    "import scipy.stats as scipy\n",
    "\n",
    "sns.set(color_codes = True)\n",
    "\n",
    "%matplotlib inline\n",
    "%load_ext autoreload\n",
    "%autoreload 2"
   ]
  },
  {
   "cell_type": "code",
   "execution_count": 87,
   "metadata": {},
   "outputs": [],
   "source": [
    "mega_df = eda.import_files()"
   ]
  },
  {
   "cell_type": "code",
   "execution_count": null,
   "metadata": {
    "collapsed": true
   },
   "outputs": [],
   "source": [
    "mega_df.describe()"
   ]
  },
  {
   "cell_type": "markdown",
   "metadata": {},
   "source": [
    "# Data Cleaning"
   ]
  },
  {
   "cell_type": "code",
   "execution_count": 88,
   "metadata": {
    "collapsed": true
   },
   "outputs": [],
   "source": [
    "# This creates new columns for hashtags (other than #netneutrality), links, and mentions in the tweet data.\n",
    "# It also creates a field for text without links since the same tweets with slightly different URLs keep\n",
    "# coming up.\n",
    "\n",
    "mega_df[\"other_hashtags\"] = mega_df[\"text\"].apply(eda.get_hashtags)\n",
    "mega_df[\"links\"] = mega_df[\"text\"].apply(eda.get_links)\n",
    "mega_df[\"@s\"] = mega_df[\"text\"].apply(eda.get_mentions)\n",
    "mega_df['cleaned_text'] = mega_df['text'].apply(eda.clean_text)"
   ]
  },
  {
   "cell_type": "code",
   "execution_count": null,
   "metadata": {
    "collapsed": true
   },
   "outputs": [],
   "source": [
    "d = {'text': ['oh wow @tyler sucks', '@!$ is that', 'hey@234tjeld fuk', '@', \"suck @fcc's dick\"]}\n",
    "test_df = pd.DataFrame(data=d)\n",
    "test_df"
   ]
  },
  {
   "cell_type": "code",
   "execution_count": null,
   "metadata": {
    "collapsed": true
   },
   "outputs": [],
   "source": [
    "test_df[\"@s\"] = test_df[\"text\"].apply(eda.get_mentions)\n",
    "test_df"
   ]
  },
  {
   "cell_type": "markdown",
   "metadata": {},
   "source": [
    "## Identifying guided information campaigns"
   ]
  },
  {
   "cell_type": "code",
   "execution_count": 89,
   "metadata": {
    "collapsed": true
   },
   "outputs": [],
   "source": [
    "# Create Counter that will tally up the number of times text appears in tweets\n",
    "\n",
    "tweet_text_dict = eda.tweet_text_dict_fn(mega_df)"
   ]
  },
  {
   "cell_type": "code",
   "execution_count": 90,
   "metadata": {
    "collapsed": true
   },
   "outputs": [],
   "source": [
    "campaign_tweet_set = eda.create_campaign_tweet_set(tweet_text_dict)\n",
    "original_tweet_set = eda.create_original_tweet_set(tweet_text_dict)"
   ]
  },
  {
   "cell_type": "code",
   "execution_count": 91,
   "metadata": {
    "collapsed": true
   },
   "outputs": [],
   "source": [
    "def info_campaign(text):\n",
    "    if text in campaign_tweet_set:\n",
    "        return 1\n",
    "    else:\n",
    "        return 0"
   ]
  },
  {
   "cell_type": "code",
   "execution_count": 92,
   "metadata": {
    "collapsed": true
   },
   "outputs": [],
   "source": [
    "def original_tweet(text):\n",
    "    if text in original_tweet_set:\n",
    "        return 1\n",
    "    else:\n",
    "        return 0"
   ]
  },
  {
   "cell_type": "code",
   "execution_count": 93,
   "metadata": {
    "collapsed": true
   },
   "outputs": [],
   "source": [
    "# Create new columns using above functions\n",
    "\n",
    "mega_df['info_campaign'] = mega_df['cleaned_text'].apply(info_campaign)\n",
    "mega_df['original_tweet'] = mega_df['cleaned_text'].apply(original_tweet)"
   ]
  },
  {
   "cell_type": "markdown",
   "metadata": {},
   "source": [
    "## Get to work seeing if there are any tweets in here that appear to be pro-repeal of net neutrality"
   ]
  },
  {
   "cell_type": "code",
   "execution_count": 94,
   "metadata": {
    "collapsed": true
   },
   "outputs": [],
   "source": [
    "# Function to be used in apply - labels tweets that appear to be pro-repeal of net neutrality\n",
    "\n",
    "mega_df['pro_repeal'] = mega_df['other_hashtags'].apply(eda.negative_tweet_grab)"
   ]
  },
  {
   "cell_type": "code",
   "execution_count": 95,
   "metadata": {
    "collapsed": true
   },
   "outputs": [],
   "source": [
    "# Create array of usernames that were classified as 'pro-repeal'\n",
    "\n",
    "pro_repeal_users = mega_df['user'][mega_df['pro_repeal'] == 1]\n",
    "pro_repeal_users_unique = mega_df['user'][mega_df['pro_repeal'] == 1].unique()"
   ]
  },
  {
   "cell_type": "markdown",
   "metadata": {},
   "source": [
    "## Ok, now let's split the data into 3 categories:\n",
    "### * Guided information campaign tweets\n",
    "### * Original tweets (only showed up one time)\n",
    "### * Tweets that appear to be pro-repeal of net neutrality that still used #netneutrality "
   ]
  },
  {
   "cell_type": "code",
   "execution_count": 96,
   "metadata": {
    "collapsed": true
   },
   "outputs": [],
   "source": [
    "campaign_tweets_df = mega_df[(mega_df['info_campaign'] == 1)]\n",
    "original_tweets_df = mega_df[(mega_df['original_tweet'] == 1) & (mega_df['pro_repeal'] == 0)]\n",
    "\n",
    "# All of the tweets in this category are determined to be original - there were not any that were classified as \\\n",
    "# pro-repeal and part of an information campaign. The total number of pro-repeal tweets is low.\n",
    "repeal_tweets_df = mega_df[(mega_df['pro_repeal'] == 1) & (mega_df['original_tweet'] == 1)]"
   ]
  },
  {
   "cell_type": "code",
   "execution_count": 103,
   "metadata": {},
   "outputs": [
    {
     "data": {
      "text/html": [
       "<div>\n",
       "<style>\n",
       "    .dataframe thead tr:only-child th {\n",
       "        text-align: right;\n",
       "    }\n",
       "\n",
       "    .dataframe thead th {\n",
       "        text-align: left;\n",
       "    }\n",
       "\n",
       "    .dataframe tbody tr th {\n",
       "        vertical-align: top;\n",
       "    }\n",
       "</style>\n",
       "<table border=\"1\" class=\"dataframe\">\n",
       "  <thead>\n",
       "    <tr style=\"text-align: right;\">\n",
       "      <th></th>\n",
       "      <th>fullname</th>\n",
       "      <th>id</th>\n",
       "      <th>likes</th>\n",
       "      <th>replies</th>\n",
       "      <th>retweets</th>\n",
       "      <th>text</th>\n",
       "      <th>timestamp</th>\n",
       "      <th>url</th>\n",
       "      <th>user</th>\n",
       "      <th>other_hashtags</th>\n",
       "      <th>links</th>\n",
       "      <th>@s</th>\n",
       "      <th>cleaned_text</th>\n",
       "      <th>info_campaign</th>\n",
       "      <th>original_tweet</th>\n",
       "      <th>pro_repeal</th>\n",
       "    </tr>\n",
       "  </thead>\n",
       "  <tbody>\n",
       "    <tr>\n",
       "      <th>315789</th>\n",
       "      <td>flaquito</td>\n",
       "      <td>940983353410498560</td>\n",
       "      <td>0</td>\n",
       "      <td>0</td>\n",
       "      <td>0</td>\n",
       "      <td>The @FCC should stand up for the consumers it ...</td>\n",
       "      <td>2017-12-13 16:34:48</td>\n",
       "      <td>/Khvnsaab/status/940983353410498560</td>\n",
       "      <td>Khvnsaab</td>\n",
       "      <td>[]</td>\n",
       "      <td>[https://cards.twitter.com/cards/18ce54j487s/5...</td>\n",
       "      <td>[@fcc]</td>\n",
       "      <td>the should stand up for the consumers it repre...</td>\n",
       "      <td>1</td>\n",
       "      <td>0</td>\n",
       "      <td>0</td>\n",
       "    </tr>\n",
       "    <tr>\n",
       "      <th>395124</th>\n",
       "      <td>David</td>\n",
       "      <td>941078935516909568</td>\n",
       "      <td>0</td>\n",
       "      <td>0</td>\n",
       "      <td>0</td>\n",
       "      <td>#NetNeutrality is key to free expression, inno...</td>\n",
       "      <td>2017-12-13 22:54:37</td>\n",
       "      <td>/ddarlington02/status/941078935516909568</td>\n",
       "      <td>ddarlington02</td>\n",
       "      <td>[]</td>\n",
       "      <td>[https://cards.twitter.com/cards/18ce54j487s/5...</td>\n",
       "      <td>[]</td>\n",
       "      <td>is key to free expression innovation  public s...</td>\n",
       "      <td>1</td>\n",
       "      <td>0</td>\n",
       "      <td>0</td>\n",
       "    </tr>\n",
       "    <tr>\n",
       "      <th>227589</th>\n",
       "      <td>khai  👑</td>\n",
       "      <td>940353975462834176</td>\n",
       "      <td>1</td>\n",
       "      <td>0</td>\n",
       "      <td>1</td>\n",
       "      <td>EVEN IF YOU CAN’T GET THROUGH, CONTINUE TO TEX...</td>\n",
       "      <td>2017-12-11 22:53:53</td>\n",
       "      <td>/_BabyKhai/status/940353975462834178</td>\n",
       "      <td>_BabyKhai</td>\n",
       "      <td>[]</td>\n",
       "      <td>[]</td>\n",
       "      <td>[]</td>\n",
       "      <td>even if you can’t get through continue to text...</td>\n",
       "      <td>0</td>\n",
       "      <td>1</td>\n",
       "      <td>0</td>\n",
       "    </tr>\n",
       "    <tr>\n",
       "      <th>157972</th>\n",
       "      <td>Paul Brinich</td>\n",
       "      <td>938815614780657664</td>\n",
       "      <td>0</td>\n",
       "      <td>0</td>\n",
       "      <td>0</td>\n",
       "      <td>Nationwide protests happening in 700+ cities t...</td>\n",
       "      <td>2017-12-07 17:00:59</td>\n",
       "      <td>/PaulBrinich/status/938815614780657664</td>\n",
       "      <td>PaulBrinich</td>\n",
       "      <td>[#stopthefcc, #netneutrality]</td>\n",
       "      <td>[http://verizonprotests.com]</td>\n",
       "      <td>[@idltweets]</td>\n",
       "      <td>nationwide protests happening in  cities today...</td>\n",
       "      <td>1</td>\n",
       "      <td>0</td>\n",
       "      <td>0</td>\n",
       "    </tr>\n",
       "    <tr>\n",
       "      <th>295620</th>\n",
       "      <td>Xipiti Dieudaux</td>\n",
       "      <td>940686495974920192</td>\n",
       "      <td>0</td>\n",
       "      <td>0</td>\n",
       "      <td>1</td>\n",
       "      <td>Without #netneutrality, the Internet will be l...</td>\n",
       "      <td>2017-12-12 20:55:12</td>\n",
       "      <td>/XipitiPix/status/940686495974920194</td>\n",
       "      <td>XipitiPix</td>\n",
       "      <td>[#netneutrality]</td>\n",
       "      <td>[http://battleforthenet.com]</td>\n",
       "      <td>[]</td>\n",
       "      <td>without  the internet will be like cable tv bi...</td>\n",
       "      <td>1</td>\n",
       "      <td>0</td>\n",
       "      <td>0</td>\n",
       "    </tr>\n",
       "    <tr>\n",
       "      <th>202214</th>\n",
       "      <td>Skrubzy</td>\n",
       "      <td>939696307198922752</td>\n",
       "      <td>0</td>\n",
       "      <td>0</td>\n",
       "      <td>0</td>\n",
       "      <td>I haven't seen any posts discussing how much t...</td>\n",
       "      <td>2017-12-10 03:20:33</td>\n",
       "      <td>/SkrubzyYT/status/939696307198922753</td>\n",
       "      <td>SkrubzyYT</td>\n",
       "      <td>[]</td>\n",
       "      <td>[]</td>\n",
       "      <td>[]</td>\n",
       "      <td>i havent seen any posts discussing how much th...</td>\n",
       "      <td>0</td>\n",
       "      <td>1</td>\n",
       "      <td>0</td>\n",
       "    </tr>\n",
       "    <tr>\n",
       "      <th>111318</th>\n",
       "      <td>Van</td>\n",
       "      <td>938155678744662016</td>\n",
       "      <td>1</td>\n",
       "      <td>0</td>\n",
       "      <td>0</td>\n",
       "      <td>DEFEND #NetNeutrality</td>\n",
       "      <td>2017-12-05 21:18:38</td>\n",
       "      <td>/_AsianNextDoor/status/938155678744662016</td>\n",
       "      <td>_AsianNextDoor</td>\n",
       "      <td>[]</td>\n",
       "      <td>[]</td>\n",
       "      <td>[]</td>\n",
       "      <td>defend</td>\n",
       "      <td>1</td>\n",
       "      <td>0</td>\n",
       "      <td>0</td>\n",
       "    </tr>\n",
       "    <tr>\n",
       "      <th>108420</th>\n",
       "      <td>Nihilistic Anon</td>\n",
       "      <td>938152214429929472</td>\n",
       "      <td>0</td>\n",
       "      <td>0</td>\n",
       "      <td>0</td>\n",
       "      <td>The former Verizon lawyer in charge of the FCC...</td>\n",
       "      <td>2017-12-05 21:04:52</td>\n",
       "      <td>/NihilisticAnon/status/938152214429929478</td>\n",
       "      <td>NihilisticAnon</td>\n",
       "      <td>[]</td>\n",
       "      <td>[http://verizonprotests.com]</td>\n",
       "      <td>[]</td>\n",
       "      <td>the former verizon lawyer in charge of the fcc...</td>\n",
       "      <td>1</td>\n",
       "      <td>0</td>\n",
       "      <td>0</td>\n",
       "    </tr>\n",
       "    <tr>\n",
       "      <th>276588</th>\n",
       "      <td>Σοφή Κουκουβάγια</td>\n",
       "      <td>940655402227781632</td>\n",
       "      <td>0</td>\n",
       "      <td>0</td>\n",
       "      <td>0</td>\n",
       "      <td>This is an Internet emergency. Less than 48 ho...</td>\n",
       "      <td>2017-12-12 18:51:39</td>\n",
       "      <td>/WiseTiredOwl/status/940655402227781635</td>\n",
       "      <td>WiseTiredOwl</td>\n",
       "      <td>[#netneutrality, #breaktheinternet, #stopthefcc]</td>\n",
       "      <td>[http://breaktheinternetprotest.org]</td>\n",
       "      <td>[@idltweets]</td>\n",
       "      <td>this is an internet emergency less than hours ...</td>\n",
       "      <td>1</td>\n",
       "      <td>0</td>\n",
       "      <td>0</td>\n",
       "    </tr>\n",
       "    <tr>\n",
       "      <th>207597</th>\n",
       "      <td>Randy Latimer</td>\n",
       "      <td>939895277540044800</td>\n",
       "      <td>0</td>\n",
       "      <td>0</td>\n",
       "      <td>0</td>\n",
       "      <td>Save Net Neutrality #netneutrality - Sign the ...</td>\n",
       "      <td>2017-12-10 16:31:11</td>\n",
       "      <td>/LatimerRandy/status/939895277540044800</td>\n",
       "      <td>LatimerRandy</td>\n",
       "      <td>[]</td>\n",
       "      <td>[http://chn.ge/2jeiygz]</td>\n",
       "      <td>[@change]</td>\n",
       "      <td>save net neutrality  sign the petition via</td>\n",
       "      <td>1</td>\n",
       "      <td>0</td>\n",
       "      <td>0</td>\n",
       "    </tr>\n",
       "    <tr>\n",
       "      <th>398715</th>\n",
       "      <td>Sarah-nta Claus 🎅🏻 ❄️</td>\n",
       "      <td>941082289034932224</td>\n",
       "      <td>0</td>\n",
       "      <td>0</td>\n",
       "      <td>0</td>\n",
       "      <td>Please make this happen.\\nLet’s fight for #Net...</td>\n",
       "      <td>2017-12-13 23:07:56</td>\n",
       "      <td>/theweirdlobster/status/941082289034932225</td>\n",
       "      <td>theweirdlobster</td>\n",
       "      <td>[]</td>\n",
       "      <td>[https://twitter.com/jacksfilms/status/9409908...</td>\n",
       "      <td>[]</td>\n",
       "      <td>please make this happenlet’s fight for by the ...</td>\n",
       "      <td>0</td>\n",
       "      <td>1</td>\n",
       "      <td>0</td>\n",
       "    </tr>\n",
       "    <tr>\n",
       "      <th>27707</th>\n",
       "      <td>LMZamora_IMT</td>\n",
       "      <td>936000360535199744</td>\n",
       "      <td>0</td>\n",
       "      <td>0</td>\n",
       "      <td>0</td>\n",
       "      <td>#NetNeutrality https://twitter.com/tomshardwar...</td>\n",
       "      <td>2017-11-29 22:34:10</td>\n",
       "      <td>/LMZamora_IMT/status/936000360535199746</td>\n",
       "      <td>LMZamora_IMT</td>\n",
       "      <td>[]</td>\n",
       "      <td>[https://twitter.com/tomshardware/status/93599...</td>\n",
       "      <td>[]</td>\n",
       "      <td>…</td>\n",
       "      <td>1</td>\n",
       "      <td>0</td>\n",
       "      <td>0</td>\n",
       "    </tr>\n",
       "    <tr>\n",
       "      <th>376074</th>\n",
       "      <td>ALA Chapters</td>\n",
       "      <td>941060209971290112</td>\n",
       "      <td>0</td>\n",
       "      <td>0</td>\n",
       "      <td>0</td>\n",
       "      <td>Tell Congress Why #Libraries Support Net Neutr...</td>\n",
       "      <td>2017-12-13 21:40:12</td>\n",
       "      <td>/ALA_CRO/status/941060209971290112</td>\n",
       "      <td>ALA_CRO</td>\n",
       "      <td>[#libraries]</td>\n",
       "      <td>[http://bit.ly/2blovr1]</td>\n",
       "      <td>[]</td>\n",
       "      <td>tell congress why support net neutrality forev...</td>\n",
       "      <td>0</td>\n",
       "      <td>1</td>\n",
       "      <td>0</td>\n",
       "    </tr>\n",
       "    <tr>\n",
       "      <th>344823</th>\n",
       "      <td>Jillian</td>\n",
       "      <td>941025764866166784</td>\n",
       "      <td>0</td>\n",
       "      <td>0</td>\n",
       "      <td>0</td>\n",
       "      <td>.@SenatorTimScott, stop selling out your const...</td>\n",
       "      <td>2017-12-13 19:23:20</td>\n",
       "      <td>/JilliYoungMoney/status/941025764866166791</td>\n",
       "      <td>JilliYoungMoney</td>\n",
       "      <td>[]</td>\n",
       "      <td>[http://battleforthenet.com]</td>\n",
       "      <td>[]</td>\n",
       "      <td>stop selling out your constituents oppose s pl...</td>\n",
       "      <td>1</td>\n",
       "      <td>0</td>\n",
       "      <td>0</td>\n",
       "    </tr>\n",
       "    <tr>\n",
       "      <th>315691</th>\n",
       "      <td>potor porker 143</td>\n",
       "      <td>940983188050120704</td>\n",
       "      <td>0</td>\n",
       "      <td>1</td>\n",
       "      <td>0</td>\n",
       "      <td>I'm going to correct myself here, we will stil...</td>\n",
       "      <td>2017-12-13 16:34:09</td>\n",
       "      <td>/stevvenyeun/status/940983188050120704</td>\n",
       "      <td>stevvenyeun</td>\n",
       "      <td>[]</td>\n",
       "      <td>[]</td>\n",
       "      <td>[]</td>\n",
       "      <td>im going to correct myself here we will still ...</td>\n",
       "      <td>0</td>\n",
       "      <td>1</td>\n",
       "      <td>0</td>\n",
       "    </tr>\n",
       "    <tr>\n",
       "      <th>328098</th>\n",
       "      <td>Dr. TChris the Clout God of the 337</td>\n",
       "      <td>941002611892932608</td>\n",
       "      <td>2</td>\n",
       "      <td>0</td>\n",
       "      <td>5</td>\n",
       "      <td>how is Twitter still free?\\n\\n#Netneutrality i...</td>\n",
       "      <td>2017-12-13 17:51:20</td>\n",
       "      <td>/TChrisNasty_HD/status/941002611892932608</td>\n",
       "      <td>TChrisNasty_HD</td>\n",
       "      <td>[]</td>\n",
       "      <td>[]</td>\n",
       "      <td>[]</td>\n",
       "      <td>how is twitter still free is the reason why tw...</td>\n",
       "      <td>0</td>\n",
       "      <td>1</td>\n",
       "      <td>0</td>\n",
       "    </tr>\n",
       "    <tr>\n",
       "      <th>176477</th>\n",
       "      <td>Jennifer Syma</td>\n",
       "      <td>938833180035026944</td>\n",
       "      <td>0</td>\n",
       "      <td>0</td>\n",
       "      <td>0</td>\n",
       "      <td>.@SenKaineOffice Microbusinesses like mine are...</td>\n",
       "      <td>2017-12-07 18:10:47</td>\n",
       "      <td>/TheNicheAndNail/status/938833180035026944</td>\n",
       "      <td>TheNicheAndNail</td>\n",
       "      <td>[#netneutrality]</td>\n",
       "      <td>[]</td>\n",
       "      <td>[]</td>\n",
       "      <td>microbusinesses like mine are able to thrive b...</td>\n",
       "      <td>1</td>\n",
       "      <td>0</td>\n",
       "      <td>0</td>\n",
       "    </tr>\n",
       "    <tr>\n",
       "      <th>257402</th>\n",
       "      <td>R  ❤️ J</td>\n",
       "      <td>940652226774818816</td>\n",
       "      <td>0</td>\n",
       "      <td>0</td>\n",
       "      <td>2</td>\n",
       "      <td>This is an Internet emergency. Less than 48 ho...</td>\n",
       "      <td>2017-12-12 18:39:01</td>\n",
       "      <td>/changeutoday/status/940652226774818816</td>\n",
       "      <td>changeutoday</td>\n",
       "      <td>[#netneutrality, #breaktheinternet, #stopthefcc]</td>\n",
       "      <td>[http://breaktheinternetprotest.org]</td>\n",
       "      <td>[@idltweets]</td>\n",
       "      <td>this is an internet emergency less than hours ...</td>\n",
       "      <td>1</td>\n",
       "      <td>0</td>\n",
       "      <td>0</td>\n",
       "    </tr>\n",
       "    <tr>\n",
       "      <th>199963</th>\n",
       "      <td>Ryan Williams</td>\n",
       "      <td>939615508390957056</td>\n",
       "      <td>0</td>\n",
       "      <td>0</td>\n",
       "      <td>0</td>\n",
       "      <td>I support #netneutrality. Join me in fighting ...</td>\n",
       "      <td>2017-12-09 21:59:29</td>\n",
       "      <td>/Ryan_Williams63/status/939615508390957058</td>\n",
       "      <td>Ryan_Williams63</td>\n",
       "      <td>[#netneutrality]</td>\n",
       "      <td>[]</td>\n",
       "      <td>[@fcc]</td>\n",
       "      <td>i support  join me in fighting back against th...</td>\n",
       "      <td>1</td>\n",
       "      <td>0</td>\n",
       "      <td>0</td>\n",
       "    </tr>\n",
       "    <tr>\n",
       "      <th>143696</th>\n",
       "      <td>Annie Angst</td>\n",
       "      <td>938556004756627456</td>\n",
       "      <td>0</td>\n",
       "      <td>0</td>\n",
       "      <td>1</td>\n",
       "      <td>Mark December 14, 2017 as the end of free spee...</td>\n",
       "      <td>2017-12-06 23:49:23</td>\n",
       "      <td>/AnnieAngst/status/938556004756627459</td>\n",
       "      <td>AnnieAngst</td>\n",
       "      <td>[]</td>\n",
       "      <td>[]</td>\n",
       "      <td>[]</td>\n",
       "      <td>mark december  as the end of free speech</td>\n",
       "      <td>0</td>\n",
       "      <td>1</td>\n",
       "      <td>0</td>\n",
       "    </tr>\n",
       "    <tr>\n",
       "      <th>354813</th>\n",
       "      <td>Mark</td>\n",
       "      <td>941037417011826688</td>\n",
       "      <td>0</td>\n",
       "      <td>0</td>\n",
       "      <td>0</td>\n",
       "      <td>That's great!!!! We can use that cut for our n...</td>\n",
       "      <td>2017-12-13 20:09:38</td>\n",
       "      <td>/brack227/status/941037417011826690</td>\n",
       "      <td>brack227</td>\n",
       "      <td>[]</td>\n",
       "      <td>[https://twitter.com/foxnews/status/9410362455...</td>\n",
       "      <td>[@ajitpaifcc, @fcc]</td>\n",
       "      <td>thats great we can use that cut for our new in...</td>\n",
       "      <td>0</td>\n",
       "      <td>1</td>\n",
       "      <td>0</td>\n",
       "    </tr>\n",
       "    <tr>\n",
       "      <th>51307</th>\n",
       "      <td>🔪 🌹</td>\n",
       "      <td>937036187046465536</td>\n",
       "      <td>2</td>\n",
       "      <td>0</td>\n",
       "      <td>0</td>\n",
       "      <td>Idk about y’all but I’m broke &amp; i can’t afford...</td>\n",
       "      <td>2017-12-02 19:10:10</td>\n",
       "      <td>/_tounz/status/937036187046465538</td>\n",
       "      <td>_tounz</td>\n",
       "      <td>[]</td>\n",
       "      <td>[]</td>\n",
       "      <td>[]</td>\n",
       "      <td>idk about y’all but i’m broke  i can’t afford ...</td>\n",
       "      <td>0</td>\n",
       "      <td>1</td>\n",
       "      <td>0</td>\n",
       "    </tr>\n",
       "    <tr>\n",
       "      <th>322670</th>\n",
       "      <td>Brad Conroy</td>\n",
       "      <td>940994848068337664</td>\n",
       "      <td>18</td>\n",
       "      <td>1</td>\n",
       "      <td>4</td>\n",
       "      <td>The internet should be part of the public doma...</td>\n",
       "      <td>2017-12-13 17:20:29</td>\n",
       "      <td>/2obee1/status/940994848068337664</td>\n",
       "      <td>2obee1</td>\n",
       "      <td>[]</td>\n",
       "      <td>[]</td>\n",
       "      <td>[]</td>\n",
       "      <td>the internet should be part of the public domain</td>\n",
       "      <td>0</td>\n",
       "      <td>1</td>\n",
       "      <td>0</td>\n",
       "    </tr>\n",
       "    <tr>\n",
       "      <th>74737</th>\n",
       "      <td>Diane Weaver</td>\n",
       "      <td>937095681726140416</td>\n",
       "      <td>0</td>\n",
       "      <td>0</td>\n",
       "      <td>0</td>\n",
       "      <td>Science Friday podcast has enlightening discus...</td>\n",
       "      <td>2017-12-02 23:06:35</td>\n",
       "      <td>/theweav1/status/937095681726140417</td>\n",
       "      <td>theweav1</td>\n",
       "      <td>[#netneutrality]</td>\n",
       "      <td>[https://www.sciencefriday.com/episodes/decemb...</td>\n",
       "      <td>[]</td>\n",
       "      <td>science friday podcast has enlightening discus...</td>\n",
       "      <td>0</td>\n",
       "      <td>1</td>\n",
       "      <td>0</td>\n",
       "    </tr>\n",
       "    <tr>\n",
       "      <th>345118</th>\n",
       "      <td>candy cain</td>\n",
       "      <td>941026146992492544</td>\n",
       "      <td>2</td>\n",
       "      <td>0</td>\n",
       "      <td>2</td>\n",
       "      <td>You don’t have any reason not to text RESIST t...</td>\n",
       "      <td>2017-12-13 19:24:51</td>\n",
       "      <td>/Briana_Cain/status/941026146992492544</td>\n",
       "      <td>Briana_Cain</td>\n",
       "      <td>[]</td>\n",
       "      <td>[]</td>\n",
       "      <td>[]</td>\n",
       "      <td>you don’t have any reason not to text resist t...</td>\n",
       "      <td>0</td>\n",
       "      <td>1</td>\n",
       "      <td>0</td>\n",
       "    </tr>\n",
       "    <tr>\n",
       "      <th>304981</th>\n",
       "      <td>patrick</td>\n",
       "      <td>940725216250122240</td>\n",
       "      <td>0</td>\n",
       "      <td>0</td>\n",
       "      <td>0</td>\n",
       "      <td>.@CongBillPosey, stop selling out your constit...</td>\n",
       "      <td>2017-12-12 23:29:04</td>\n",
       "      <td>/Ptullz/status/940725216250122241</td>\n",
       "      <td>Ptullz</td>\n",
       "      <td>[]</td>\n",
       "      <td>[http://battleforthenet.com]</td>\n",
       "      <td>[]</td>\n",
       "      <td>stop selling out your constituents oppose s pl...</td>\n",
       "      <td>1</td>\n",
       "      <td>0</td>\n",
       "      <td>0</td>\n",
       "    </tr>\n",
       "    <tr>\n",
       "      <th>316287</th>\n",
       "      <td>this bitch empty. YEET</td>\n",
       "      <td>940984219110723584</td>\n",
       "      <td>20</td>\n",
       "      <td>2</td>\n",
       "      <td>11</td>\n",
       "      <td>s\\nse\\nsen\\nsend \\nsend n\\nsend nu \\nsend nud\\...</td>\n",
       "      <td>2017-12-13 16:38:15</td>\n",
       "      <td>/meetinthehazza/status/940984219110723584</td>\n",
       "      <td>meetinthehazza</td>\n",
       "      <td>[]</td>\n",
       "      <td>[]</td>\n",
       "      <td>[]</td>\n",
       "      <td>ssesensend send nsend nu send nudsend nude sen...</td>\n",
       "      <td>0</td>\n",
       "      <td>1</td>\n",
       "      <td>0</td>\n",
       "    </tr>\n",
       "    <tr>\n",
       "      <th>23720</th>\n",
       "      <td>Patricia  #NetNeutrality*</td>\n",
       "      <td>935937435686535168</td>\n",
       "      <td>0</td>\n",
       "      <td>0</td>\n",
       "      <td>0</td>\n",
       "      <td>Nope. We'll have Pence; he's far more evil. He...</td>\n",
       "      <td>2017-11-29 18:24:08</td>\n",
       "      <td>/perlop/status/935937435686535168</td>\n",
       "      <td>perlop</td>\n",
       "      <td>[]</td>\n",
       "      <td>[]</td>\n",
       "      <td>[]</td>\n",
       "      <td>nope well have pence hes far more evil he will...</td>\n",
       "      <td>0</td>\n",
       "      <td>1</td>\n",
       "      <td>0</td>\n",
       "    </tr>\n",
       "    <tr>\n",
       "      <th>186594</th>\n",
       "      <td>Faithful Internet</td>\n",
       "      <td>939098521881468928</td>\n",
       "      <td>1</td>\n",
       "      <td>0</td>\n",
       "      <td>0</td>\n",
       "      <td>12/12 is a day to ask everyone CALL CONGRESS t...</td>\n",
       "      <td>2017-12-08 11:45:09</td>\n",
       "      <td>/thefaithfulnet/status/939098521881468933</td>\n",
       "      <td>thefaithfulnet</td>\n",
       "      <td>[]</td>\n",
       "      <td>[http://ow.ly/2unb30h5avi, http://ow.ly/ba6q30...</td>\n",
       "      <td>[]</td>\n",
       "      <td>is a day to ask everyone call congress to save</td>\n",
       "      <td>0</td>\n",
       "      <td>1</td>\n",
       "      <td>0</td>\n",
       "    </tr>\n",
       "    <tr>\n",
       "      <th>127574</th>\n",
       "      <td>Arkadiy Deliev  🌐 🐸</td>\n",
       "      <td>938459510418665472</td>\n",
       "      <td>0</td>\n",
       "      <td>0</td>\n",
       "      <td>0</td>\n",
       "      <td>TOMORROW: 600+ #NetNeutrality protests across ...</td>\n",
       "      <td>2017-12-06 17:25:57</td>\n",
       "      <td>/arkadiy_deliev/status/938459510418665474</td>\n",
       "      <td>arkadiy_deliev</td>\n",
       "      <td>[#stopthefcc]</td>\n",
       "      <td>[http://verizonprotests.com, http://battlefort...</td>\n",
       "      <td>[@idltweets]</td>\n",
       "      <td>tomorrow  protests across the us find one near...</td>\n",
       "      <td>1</td>\n",
       "      <td>0</td>\n",
       "      <td>0</td>\n",
       "    </tr>\n",
       "    <tr>\n",
       "      <th>192930</th>\n",
       "      <td>Patrick G. Barkman</td>\n",
       "      <td>939288249834594304</td>\n",
       "      <td>0</td>\n",
       "      <td>0</td>\n",
       "      <td>0</td>\n",
       "      <td>Coming soon to all of us in the post #NetNeutr...</td>\n",
       "      <td>2017-12-09 00:19:04</td>\n",
       "      <td>/PGBarkman/status/939288249834594304</td>\n",
       "      <td>PGBarkman</td>\n",
       "      <td>[]</td>\n",
       "      <td>[https://twitter.com/goangelo/status/939279136...</td>\n",
       "      <td>[]</td>\n",
       "      <td>coming soon to all of us in the post world …</td>\n",
       "      <td>0</td>\n",
       "      <td>1</td>\n",
       "      <td>0</td>\n",
       "    </tr>\n",
       "    <tr>\n",
       "      <th>285806</th>\n",
       "      <td>Jay-and-Kos</td>\n",
       "      <td>940656897409118208</td>\n",
       "      <td>0</td>\n",
       "      <td>0</td>\n",
       "      <td>0</td>\n",
       "      <td>This is an Internet emergency. Less than 48 ho...</td>\n",
       "      <td>2017-12-12 18:57:35</td>\n",
       "      <td>/Jay_And_Kosmos/status/940656897409118210</td>\n",
       "      <td>Jay_And_Kosmos</td>\n",
       "      <td>[#netneutrality, #breaktheinternet, #stopthefcc]</td>\n",
       "      <td>[http://breaktheinternetprotest.org]</td>\n",
       "      <td>[@idltweets]</td>\n",
       "      <td>this is an internet emergency less than hours ...</td>\n",
       "      <td>1</td>\n",
       "      <td>0</td>\n",
       "      <td>0</td>\n",
       "    </tr>\n",
       "    <tr>\n",
       "      <th>211468</th>\n",
       "      <td>Alex 🍒</td>\n",
       "      <td>939927519003803648</td>\n",
       "      <td>0</td>\n",
       "      <td>0</td>\n",
       "      <td>0</td>\n",
       "      <td>#NetNeutrality is not dead yet! Congress can s...</td>\n",
       "      <td>2017-12-10 18:39:18</td>\n",
       "      <td>/AlexEvalynn/status/939927519003803649</td>\n",
       "      <td>AlexEvalynn</td>\n",
       "      <td>[#stopthefcc, #breaktheinternet]</td>\n",
       "      <td>[http://breaktheinternetprotest.org]</td>\n",
       "      <td>[@idltweets]</td>\n",
       "      <td>is not dead yet congress can still  but only i...</td>\n",
       "      <td>1</td>\n",
       "      <td>0</td>\n",
       "      <td>0</td>\n",
       "    </tr>\n",
       "    <tr>\n",
       "      <th>85765</th>\n",
       "      <td>Euro Maestro</td>\n",
       "      <td>937791211951280128</td>\n",
       "      <td>2</td>\n",
       "      <td>0</td>\n",
       "      <td>1</td>\n",
       "      <td>Next time someone tries to tell you that the i...</td>\n",
       "      <td>2017-12-04 21:10:22</td>\n",
       "      <td>/euromaestro/status/937791211951280128</td>\n",
       "      <td>euromaestro</td>\n",
       "      <td>[#chaotichoundoompic]</td>\n",
       "      <td>[]</td>\n",
       "      <td>[]</td>\n",
       "      <td>next time someone tries to tell you that the i...</td>\n",
       "      <td>0</td>\n",
       "      <td>1</td>\n",
       "      <td>0</td>\n",
       "    </tr>\n",
       "    <tr>\n",
       "      <th>157075</th>\n",
       "      <td>sifilismental</td>\n",
       "      <td>938815458857406464</td>\n",
       "      <td>0</td>\n",
       "      <td>0</td>\n",
       "      <td>0</td>\n",
       "      <td>Nationwide protests happening in 700+ cities t...</td>\n",
       "      <td>2017-12-07 17:00:22</td>\n",
       "      <td>/sifilismental/status/938815458857406465</td>\n",
       "      <td>sifilismental</td>\n",
       "      <td>[#stopthefcc, #netneutrality]</td>\n",
       "      <td>[http://verizonprotests.com]</td>\n",
       "      <td>[@idltweets]</td>\n",
       "      <td>nationwide protests happening in  cities today...</td>\n",
       "      <td>1</td>\n",
       "      <td>0</td>\n",
       "      <td>0</td>\n",
       "    </tr>\n",
       "    <tr>\n",
       "      <th>87720</th>\n",
       "      <td>HOF</td>\n",
       "      <td>938051534285430784</td>\n",
       "      <td>0</td>\n",
       "      <td>0</td>\n",
       "      <td>0</td>\n",
       "      <td>Save Net Neutrality #netneutrality - Sign the ...</td>\n",
       "      <td>2017-12-05 14:24:48</td>\n",
       "      <td>/FeliciaSaidWhat/status/938051534285430784</td>\n",
       "      <td>FeliciaSaidWhat</td>\n",
       "      <td>[]</td>\n",
       "      <td>[http://chn.ge/2asbi3j]</td>\n",
       "      <td>[@ukchange]</td>\n",
       "      <td>save net neutrality  sign the petition via</td>\n",
       "      <td>1</td>\n",
       "      <td>0</td>\n",
       "      <td>0</td>\n",
       "    </tr>\n",
       "    <tr>\n",
       "      <th>315888</th>\n",
       "      <td>KNDesign</td>\n",
       "      <td>940983523380486144</td>\n",
       "      <td>11</td>\n",
       "      <td>0</td>\n",
       "      <td>0</td>\n",
       "      <td>#Fascism in America is NOT an option. Please v...</td>\n",
       "      <td>2017-12-13 16:35:29</td>\n",
       "      <td>/KNDmex/status/940983523380486144</td>\n",
       "      <td>KNDmex</td>\n",
       "      <td>[#fascism]</td>\n",
       "      <td>[]</td>\n",
       "      <td>[]</td>\n",
       "      <td>in america is not an option please vote agains...</td>\n",
       "      <td>0</td>\n",
       "      <td>1</td>\n",
       "      <td>0</td>\n",
       "    </tr>\n",
       "    <tr>\n",
       "      <th>21643</th>\n",
       "      <td>Dev Turner</td>\n",
       "      <td>935895957924753408</td>\n",
       "      <td>0</td>\n",
       "      <td>0</td>\n",
       "      <td>0</td>\n",
       "      <td>Hi, @JeffFlake and @SenJohnMcCain.  I’m one of...</td>\n",
       "      <td>2017-11-29 15:39:19</td>\n",
       "      <td>/DevTurner1/status/935895957924753410</td>\n",
       "      <td>DevTurner1</td>\n",
       "      <td>[#savenetneutrality]</td>\n",
       "      <td>[]</td>\n",
       "      <td>[@jeffflake, @ajitpaifcc, @jrosenworcel]</td>\n",
       "      <td>hi and  i’m one of your constituents and a str...</td>\n",
       "      <td>0</td>\n",
       "      <td>0</td>\n",
       "      <td>0</td>\n",
       "    </tr>\n",
       "    <tr>\n",
       "      <th>236107</th>\n",
       "      <td>B.  💟</td>\n",
       "      <td>940456127875215360</td>\n",
       "      <td>0</td>\n",
       "      <td>0</td>\n",
       "      <td>0</td>\n",
       "      <td>.@RepBeatty, I'm a constituent &amp; #netneutralit...</td>\n",
       "      <td>2017-12-12 05:39:48</td>\n",
       "      <td>/kiitttyyxo/status/940456127875215360</td>\n",
       "      <td>kiitttyyxo</td>\n",
       "      <td>[]</td>\n",
       "      <td>[http://battleforthenet.com]</td>\n",
       "      <td>[]</td>\n",
       "      <td>im a constituent  rules matter to me please op...</td>\n",
       "      <td>1</td>\n",
       "      <td>0</td>\n",
       "      <td>0</td>\n",
       "    </tr>\n",
       "    <tr>\n",
       "      <th>160993</th>\n",
       "      <td>ForbiddenKnowledgeTV</td>\n",
       "      <td>938816142218551296</td>\n",
       "      <td>1</td>\n",
       "      <td>0</td>\n",
       "      <td>1</td>\n",
       "      <td>Nationwide protests happening in 700+ cities t...</td>\n",
       "      <td>2017-12-07 17:03:05</td>\n",
       "      <td>/FKTVis/status/938816142218551296</td>\n",
       "      <td>FKTVis</td>\n",
       "      <td>[#stopthefcc, #netneutrality]</td>\n",
       "      <td>[http://verizonprotests.com]</td>\n",
       "      <td>[@idltweets]</td>\n",
       "      <td>nationwide protests happening in  cities today...</td>\n",
       "      <td>1</td>\n",
       "      <td>0</td>\n",
       "      <td>0</td>\n",
       "    </tr>\n",
       "    <tr>\n",
       "      <th>100217</th>\n",
       "      <td>Brandon Swearingin</td>\n",
       "      <td>938150650143215616</td>\n",
       "      <td>0</td>\n",
       "      <td>0</td>\n",
       "      <td>0</td>\n",
       "      <td>The former Verizon lawyer in charge of the FCC...</td>\n",
       "      <td>2017-12-05 20:58:39</td>\n",
       "      <td>/Bolomon7/status/938150650143215616</td>\n",
       "      <td>Bolomon7</td>\n",
       "      <td>[]</td>\n",
       "      <td>[http://verizonprotests.com]</td>\n",
       "      <td>[]</td>\n",
       "      <td>the former verizon lawyer in charge of the fcc...</td>\n",
       "      <td>1</td>\n",
       "      <td>0</td>\n",
       "      <td>0</td>\n",
       "    </tr>\n",
       "    <tr>\n",
       "      <th>371127</th>\n",
       "      <td>han rose</td>\n",
       "      <td>941055254317142016</td>\n",
       "      <td>1</td>\n",
       "      <td>0</td>\n",
       "      <td>0</td>\n",
       "      <td>Save Net Neutrality #netneutrality - Sign the ...</td>\n",
       "      <td>2017-12-13 21:20:31</td>\n",
       "      <td>/hhanrose/status/941055254317142016</td>\n",
       "      <td>hhanrose</td>\n",
       "      <td>[]</td>\n",
       "      <td>[http://chn.ge/2iyiwe0]</td>\n",
       "      <td>[@change]</td>\n",
       "      <td>save net neutrality  sign the petition via</td>\n",
       "      <td>1</td>\n",
       "      <td>0</td>\n",
       "      <td>0</td>\n",
       "    </tr>\n",
       "    <tr>\n",
       "      <th>252985</th>\n",
       "      <td>Free Press</td>\n",
       "      <td>940636165937483776</td>\n",
       "      <td>31</td>\n",
       "      <td>2</td>\n",
       "      <td>44</td>\n",
       "      <td>Help us #BreakTheInternet to save #NetNeutrali...</td>\n",
       "      <td>2017-12-12 17:35:12</td>\n",
       "      <td>/freepress/status/940636165937483778</td>\n",
       "      <td>freepress</td>\n",
       "      <td>[#breaktheinternet, #netneutrality]</td>\n",
       "      <td>[http://ow.ly/cskp30hb4wa]</td>\n",
       "      <td>[]</td>\n",
       "      <td>help us to save  check out how you can join in...</td>\n",
       "      <td>0</td>\n",
       "      <td>1</td>\n",
       "      <td>0</td>\n",
       "    </tr>\n",
       "    <tr>\n",
       "      <th>73957</th>\n",
       "      <td>Aden Denahan</td>\n",
       "      <td>937074959192678400</td>\n",
       "      <td>0</td>\n",
       "      <td>0</td>\n",
       "      <td>0</td>\n",
       "      <td>Save Net Neutrality #netneutrality - Sign the ...</td>\n",
       "      <td>2017-12-02 21:44:14</td>\n",
       "      <td>/aadenahan/status/937074959192678404</td>\n",
       "      <td>aadenahan</td>\n",
       "      <td>[]</td>\n",
       "      <td>[http://chn.ge/2ifm865]</td>\n",
       "      <td>[@change]</td>\n",
       "      <td>save net neutrality  sign the petition via</td>\n",
       "      <td>1</td>\n",
       "      <td>0</td>\n",
       "      <td>0</td>\n",
       "    </tr>\n",
       "    <tr>\n",
       "      <th>130934</th>\n",
       "      <td>billperegoy</td>\n",
       "      <td>938460111458242560</td>\n",
       "      <td>0</td>\n",
       "      <td>0</td>\n",
       "      <td>0</td>\n",
       "      <td>TOMORROW: 600+ #NetNeutrality protests across ...</td>\n",
       "      <td>2017-12-06 17:28:20</td>\n",
       "      <td>/billperegoy/status/938460111458242560</td>\n",
       "      <td>billperegoy</td>\n",
       "      <td>[#stopthefcc]</td>\n",
       "      <td>[http://verizonprotests.com, http://battlefort...</td>\n",
       "      <td>[@idltweets]</td>\n",
       "      <td>tomorrow  protests across the us find one near...</td>\n",
       "      <td>1</td>\n",
       "      <td>0</td>\n",
       "      <td>0</td>\n",
       "    </tr>\n",
       "    <tr>\n",
       "      <th>90734</th>\n",
       "      <td>sean</td>\n",
       "      <td>938144715484094464</td>\n",
       "      <td>0</td>\n",
       "      <td>0</td>\n",
       "      <td>0</td>\n",
       "      <td>What\\n\\n if\\n\\n the\\n\\n Internet\\n\\n was\\n\\n s...</td>\n",
       "      <td>2017-12-05 20:35:04</td>\n",
       "      <td>/ungrammed/status/938144715484094468</td>\n",
       "      <td>ungrammed</td>\n",
       "      <td>[]</td>\n",
       "      <td>[https://www.battleforthenet.com]</td>\n",
       "      <td>[]</td>\n",
       "      <td>what if the internet was so slow it loaded one...</td>\n",
       "      <td>1</td>\n",
       "      <td>0</td>\n",
       "      <td>0</td>\n",
       "    </tr>\n",
       "    <tr>\n",
       "      <th>28845</th>\n",
       "      <td>Nadiya</td>\n",
       "      <td>936015537431293952</td>\n",
       "      <td>0</td>\n",
       "      <td>0</td>\n",
       "      <td>0</td>\n",
       "      <td>The latest The Techy Girl Daily! https://paper...</td>\n",
       "      <td>2017-11-29 23:34:29</td>\n",
       "      <td>/Techy_Girl/status/936015537431293952</td>\n",
       "      <td>Techy_Girl</td>\n",
       "      <td>[#protectcpp]</td>\n",
       "      <td>[https://paper.li/techy_girl?edition_id=d75a3e...</td>\n",
       "      <td>[]</td>\n",
       "      <td>the latest the techy girl daily …</td>\n",
       "      <td>0</td>\n",
       "      <td>0</td>\n",
       "      <td>0</td>\n",
       "    </tr>\n",
       "    <tr>\n",
       "      <th>86555</th>\n",
       "      <td>Faithful Internet</td>\n",
       "      <td>937810972265164800</td>\n",
       "      <td>0</td>\n",
       "      <td>0</td>\n",
       "      <td>1</td>\n",
       "      <td>3 Ways to Save #NetNeutrality: http://mailchi....</td>\n",
       "      <td>2017-12-04 22:28:54</td>\n",
       "      <td>/thefaithfulnet/status/937810972265164801</td>\n",
       "      <td>thefaithfulnet</td>\n",
       "      <td>[#netneutrality]</td>\n",
       "      <td>[http://mailchi.mp/844aec474df5/3waystosavenn?...</td>\n",
       "      <td>[]</td>\n",
       "      <td>ways to save  …</td>\n",
       "      <td>0</td>\n",
       "      <td>1</td>\n",
       "      <td>0</td>\n",
       "    </tr>\n",
       "    <tr>\n",
       "      <th>292331</th>\n",
       "      <td>Roger Pagillo</td>\n",
       "      <td>940674120777457664</td>\n",
       "      <td>0</td>\n",
       "      <td>0</td>\n",
       "      <td>0</td>\n",
       "      <td>@Clyburn, I'm a constituent &amp; #netneutrality r...</td>\n",
       "      <td>2017-12-12 20:06:01</td>\n",
       "      <td>/Pagillo/status/940674120777457665</td>\n",
       "      <td>Pagillo</td>\n",
       "      <td>[]</td>\n",
       "      <td>[http://battleforthenet.com]</td>\n",
       "      <td>[]</td>\n",
       "      <td>im a constituent  rules matter to me please op...</td>\n",
       "      <td>1</td>\n",
       "      <td>0</td>\n",
       "      <td>0</td>\n",
       "    </tr>\n",
       "    <tr>\n",
       "      <th>120581</th>\n",
       "      <td>Adel</td>\n",
       "      <td>938458207470739456</td>\n",
       "      <td>0</td>\n",
       "      <td>0</td>\n",
       "      <td>0</td>\n",
       "      <td>TOMORROW: 600+ #NetNeutrality protests across ...</td>\n",
       "      <td>2017-12-06 17:20:47</td>\n",
       "      <td>/adel_sejdinovic/status/938458207470739456</td>\n",
       "      <td>adel_sejdinovic</td>\n",
       "      <td>[#stopthefcc]</td>\n",
       "      <td>[http://verizonprotests.com, http://battlefort...</td>\n",
       "      <td>[@idltweets]</td>\n",
       "      <td>tomorrow  protests across the us find one near...</td>\n",
       "      <td>1</td>\n",
       "      <td>0</td>\n",
       "      <td>0</td>\n",
       "    </tr>\n",
       "  </tbody>\n",
       "</table>\n",
       "</div>"
      ],
      "text/plain": [
       "                                   fullname                  id  likes  \\\n",
       "315789                             flaquito  940983353410498560      0   \n",
       "395124                                David  941078935516909568      0   \n",
       "227589                              khai  👑  940353975462834176      1   \n",
       "157972                         Paul Brinich  938815614780657664      0   \n",
       "295620                      Xipiti Dieudaux  940686495974920192      0   \n",
       "202214                              Skrubzy  939696307198922752      0   \n",
       "111318                                  Van  938155678744662016      1   \n",
       "108420                      Nihilistic Anon  938152214429929472      0   \n",
       "276588                     Σοφή Κουκουβάγια  940655402227781632      0   \n",
       "207597                        Randy Latimer  939895277540044800      0   \n",
       "398715                Sarah-nta Claus 🎅🏻 ❄️  941082289034932224      0   \n",
       "27707                          LMZamora_IMT  936000360535199744      0   \n",
       "376074                         ALA Chapters  941060209971290112      0   \n",
       "344823                              Jillian  941025764866166784      0   \n",
       "315691                     potor porker 143  940983188050120704      0   \n",
       "328098  Dr. TChris the Clout God of the 337  941002611892932608      2   \n",
       "176477                        Jennifer Syma  938833180035026944      0   \n",
       "257402                              R  ❤️ J  940652226774818816      0   \n",
       "199963                        Ryan Williams  939615508390957056      0   \n",
       "143696                          Annie Angst  938556004756627456      0   \n",
       "354813                                 Mark  941037417011826688      0   \n",
       "51307                                   🔪 🌹  937036187046465536      2   \n",
       "322670                          Brad Conroy  940994848068337664     18   \n",
       "74737                          Diane Weaver  937095681726140416      0   \n",
       "345118                           candy cain  941026146992492544      2   \n",
       "304981                              patrick  940725216250122240      0   \n",
       "316287               this bitch empty. YEET  940984219110723584     20   \n",
       "23720             Patricia  #NetNeutrality*  935937435686535168      0   \n",
       "186594                    Faithful Internet  939098521881468928      1   \n",
       "127574                  Arkadiy Deliev  🌐 🐸  938459510418665472      0   \n",
       "192930                   Patrick G. Barkman  939288249834594304      0   \n",
       "285806                          Jay-and-Kos  940656897409118208      0   \n",
       "211468                               Alex 🍒  939927519003803648      0   \n",
       "85765                          Euro Maestro  937791211951280128      2   \n",
       "157075                        sifilismental  938815458857406464      0   \n",
       "87720                                   HOF  938051534285430784      0   \n",
       "315888                             KNDesign  940983523380486144     11   \n",
       "21643                            Dev Turner  935895957924753408      0   \n",
       "236107                                B.  💟  940456127875215360      0   \n",
       "160993                 ForbiddenKnowledgeTV  938816142218551296      1   \n",
       "100217                   Brandon Swearingin  938150650143215616      0   \n",
       "371127                             han rose  941055254317142016      1   \n",
       "252985                           Free Press  940636165937483776     31   \n",
       "73957                          Aden Denahan  937074959192678400      0   \n",
       "130934                          billperegoy  938460111458242560      0   \n",
       "90734                                  sean  938144715484094464      0   \n",
       "28845                                Nadiya  936015537431293952      0   \n",
       "86555                     Faithful Internet  937810972265164800      0   \n",
       "292331                        Roger Pagillo  940674120777457664      0   \n",
       "120581                                 Adel  938458207470739456      0   \n",
       "\n",
       "        replies  retweets                                               text  \\\n",
       "315789        0         0  The @FCC should stand up for the consumers it ...   \n",
       "395124        0         0  #NetNeutrality is key to free expression, inno...   \n",
       "227589        0         1  EVEN IF YOU CAN’T GET THROUGH, CONTINUE TO TEX...   \n",
       "157972        0         0  Nationwide protests happening in 700+ cities t...   \n",
       "295620        0         1  Without #netneutrality, the Internet will be l...   \n",
       "202214        0         0  I haven't seen any posts discussing how much t...   \n",
       "111318        0         0                              DEFEND #NetNeutrality   \n",
       "108420        0         0  The former Verizon lawyer in charge of the FCC...   \n",
       "276588        0         0  This is an Internet emergency. Less than 48 ho...   \n",
       "207597        0         0  Save Net Neutrality #netneutrality - Sign the ...   \n",
       "398715        0         0  Please make this happen.\\nLet’s fight for #Net...   \n",
       "27707         0         0  #NetNeutrality https://twitter.com/tomshardwar...   \n",
       "376074        0         0  Tell Congress Why #Libraries Support Net Neutr...   \n",
       "344823        0         0  .@SenatorTimScott, stop selling out your const...   \n",
       "315691        1         0  I'm going to correct myself here, we will stil...   \n",
       "328098        0         5  how is Twitter still free?\\n\\n#Netneutrality i...   \n",
       "176477        0         0  .@SenKaineOffice Microbusinesses like mine are...   \n",
       "257402        0         2  This is an Internet emergency. Less than 48 ho...   \n",
       "199963        0         0  I support #netneutrality. Join me in fighting ...   \n",
       "143696        0         1  Mark December 14, 2017 as the end of free spee...   \n",
       "354813        0         0  That's great!!!! We can use that cut for our n...   \n",
       "51307         0         0  Idk about y’all but I’m broke & i can’t afford...   \n",
       "322670        1         4  The internet should be part of the public doma...   \n",
       "74737         0         0  Science Friday podcast has enlightening discus...   \n",
       "345118        0         2  You don’t have any reason not to text RESIST t...   \n",
       "304981        0         0  .@CongBillPosey, stop selling out your constit...   \n",
       "316287        2        11  s\\nse\\nsen\\nsend \\nsend n\\nsend nu \\nsend nud\\...   \n",
       "23720         0         0  Nope. We'll have Pence; he's far more evil. He...   \n",
       "186594        0         0  12/12 is a day to ask everyone CALL CONGRESS t...   \n",
       "127574        0         0  TOMORROW: 600+ #NetNeutrality protests across ...   \n",
       "192930        0         0  Coming soon to all of us in the post #NetNeutr...   \n",
       "285806        0         0  This is an Internet emergency. Less than 48 ho...   \n",
       "211468        0         0  #NetNeutrality is not dead yet! Congress can s...   \n",
       "85765         0         1  Next time someone tries to tell you that the i...   \n",
       "157075        0         0  Nationwide protests happening in 700+ cities t...   \n",
       "87720         0         0  Save Net Neutrality #netneutrality - Sign the ...   \n",
       "315888        0         0  #Fascism in America is NOT an option. Please v...   \n",
       "21643         0         0  Hi, @JeffFlake and @SenJohnMcCain.  I’m one of...   \n",
       "236107        0         0  .@RepBeatty, I'm a constituent & #netneutralit...   \n",
       "160993        0         1  Nationwide protests happening in 700+ cities t...   \n",
       "100217        0         0  The former Verizon lawyer in charge of the FCC...   \n",
       "371127        0         0  Save Net Neutrality #netneutrality - Sign the ...   \n",
       "252985        2        44  Help us #BreakTheInternet to save #NetNeutrali...   \n",
       "73957         0         0  Save Net Neutrality #netneutrality - Sign the ...   \n",
       "130934        0         0  TOMORROW: 600+ #NetNeutrality protests across ...   \n",
       "90734         0         0  What\\n\\n if\\n\\n the\\n\\n Internet\\n\\n was\\n\\n s...   \n",
       "28845         0         0  The latest The Techy Girl Daily! https://paper...   \n",
       "86555         0         1  3 Ways to Save #NetNeutrality: http://mailchi....   \n",
       "292331        0         0  @Clyburn, I'm a constituent & #netneutrality r...   \n",
       "120581        0         0  TOMORROW: 600+ #NetNeutrality protests across ...   \n",
       "\n",
       "                 timestamp                                         url  \\\n",
       "315789 2017-12-13 16:34:48         /Khvnsaab/status/940983353410498560   \n",
       "395124 2017-12-13 22:54:37    /ddarlington02/status/941078935516909568   \n",
       "227589 2017-12-11 22:53:53        /_BabyKhai/status/940353975462834178   \n",
       "157972 2017-12-07 17:00:59      /PaulBrinich/status/938815614780657664   \n",
       "295620 2017-12-12 20:55:12        /XipitiPix/status/940686495974920194   \n",
       "202214 2017-12-10 03:20:33        /SkrubzyYT/status/939696307198922753   \n",
       "111318 2017-12-05 21:18:38   /_AsianNextDoor/status/938155678744662016   \n",
       "108420 2017-12-05 21:04:52   /NihilisticAnon/status/938152214429929478   \n",
       "276588 2017-12-12 18:51:39     /WiseTiredOwl/status/940655402227781635   \n",
       "207597 2017-12-10 16:31:11     /LatimerRandy/status/939895277540044800   \n",
       "398715 2017-12-13 23:07:56  /theweirdlobster/status/941082289034932225   \n",
       "27707  2017-11-29 22:34:10     /LMZamora_IMT/status/936000360535199746   \n",
       "376074 2017-12-13 21:40:12          /ALA_CRO/status/941060209971290112   \n",
       "344823 2017-12-13 19:23:20  /JilliYoungMoney/status/941025764866166791   \n",
       "315691 2017-12-13 16:34:09      /stevvenyeun/status/940983188050120704   \n",
       "328098 2017-12-13 17:51:20   /TChrisNasty_HD/status/941002611892932608   \n",
       "176477 2017-12-07 18:10:47  /TheNicheAndNail/status/938833180035026944   \n",
       "257402 2017-12-12 18:39:01     /changeutoday/status/940652226774818816   \n",
       "199963 2017-12-09 21:59:29  /Ryan_Williams63/status/939615508390957058   \n",
       "143696 2017-12-06 23:49:23       /AnnieAngst/status/938556004756627459   \n",
       "354813 2017-12-13 20:09:38         /brack227/status/941037417011826690   \n",
       "51307  2017-12-02 19:10:10           /_tounz/status/937036187046465538   \n",
       "322670 2017-12-13 17:20:29           /2obee1/status/940994848068337664   \n",
       "74737  2017-12-02 23:06:35         /theweav1/status/937095681726140417   \n",
       "345118 2017-12-13 19:24:51      /Briana_Cain/status/941026146992492544   \n",
       "304981 2017-12-12 23:29:04           /Ptullz/status/940725216250122241   \n",
       "316287 2017-12-13 16:38:15   /meetinthehazza/status/940984219110723584   \n",
       "23720  2017-11-29 18:24:08           /perlop/status/935937435686535168   \n",
       "186594 2017-12-08 11:45:09   /thefaithfulnet/status/939098521881468933   \n",
       "127574 2017-12-06 17:25:57   /arkadiy_deliev/status/938459510418665474   \n",
       "192930 2017-12-09 00:19:04        /PGBarkman/status/939288249834594304   \n",
       "285806 2017-12-12 18:57:35   /Jay_And_Kosmos/status/940656897409118210   \n",
       "211468 2017-12-10 18:39:18      /AlexEvalynn/status/939927519003803649   \n",
       "85765  2017-12-04 21:10:22      /euromaestro/status/937791211951280128   \n",
       "157075 2017-12-07 17:00:22    /sifilismental/status/938815458857406465   \n",
       "87720  2017-12-05 14:24:48  /FeliciaSaidWhat/status/938051534285430784   \n",
       "315888 2017-12-13 16:35:29           /KNDmex/status/940983523380486144   \n",
       "21643  2017-11-29 15:39:19       /DevTurner1/status/935895957924753410   \n",
       "236107 2017-12-12 05:39:48       /kiitttyyxo/status/940456127875215360   \n",
       "160993 2017-12-07 17:03:05           /FKTVis/status/938816142218551296   \n",
       "100217 2017-12-05 20:58:39         /Bolomon7/status/938150650143215616   \n",
       "371127 2017-12-13 21:20:31         /hhanrose/status/941055254317142016   \n",
       "252985 2017-12-12 17:35:12        /freepress/status/940636165937483778   \n",
       "73957  2017-12-02 21:44:14        /aadenahan/status/937074959192678404   \n",
       "130934 2017-12-06 17:28:20      /billperegoy/status/938460111458242560   \n",
       "90734  2017-12-05 20:35:04        /ungrammed/status/938144715484094468   \n",
       "28845  2017-11-29 23:34:29       /Techy_Girl/status/936015537431293952   \n",
       "86555  2017-12-04 22:28:54   /thefaithfulnet/status/937810972265164801   \n",
       "292331 2017-12-12 20:06:01          /Pagillo/status/940674120777457665   \n",
       "120581 2017-12-06 17:20:47  /adel_sejdinovic/status/938458207470739456   \n",
       "\n",
       "                   user                                    other_hashtags  \\\n",
       "315789         Khvnsaab                                                []   \n",
       "395124    ddarlington02                                                []   \n",
       "227589        _BabyKhai                                                []   \n",
       "157972      PaulBrinich                     [#stopthefcc, #netneutrality]   \n",
       "295620        XipitiPix                                  [#netneutrality]   \n",
       "202214        SkrubzyYT                                                []   \n",
       "111318   _AsianNextDoor                                                []   \n",
       "108420   NihilisticAnon                                                []   \n",
       "276588     WiseTiredOwl  [#netneutrality, #breaktheinternet, #stopthefcc]   \n",
       "207597     LatimerRandy                                                []   \n",
       "398715  theweirdlobster                                                []   \n",
       "27707      LMZamora_IMT                                                []   \n",
       "376074          ALA_CRO                                      [#libraries]   \n",
       "344823  JilliYoungMoney                                                []   \n",
       "315691      stevvenyeun                                                []   \n",
       "328098   TChrisNasty_HD                                                []   \n",
       "176477  TheNicheAndNail                                  [#netneutrality]   \n",
       "257402     changeutoday  [#netneutrality, #breaktheinternet, #stopthefcc]   \n",
       "199963  Ryan_Williams63                                  [#netneutrality]   \n",
       "143696       AnnieAngst                                                []   \n",
       "354813         brack227                                                []   \n",
       "51307            _tounz                                                []   \n",
       "322670           2obee1                                                []   \n",
       "74737          theweav1                                  [#netneutrality]   \n",
       "345118      Briana_Cain                                                []   \n",
       "304981           Ptullz                                                []   \n",
       "316287   meetinthehazza                                                []   \n",
       "23720            perlop                                                []   \n",
       "186594   thefaithfulnet                                                []   \n",
       "127574   arkadiy_deliev                                     [#stopthefcc]   \n",
       "192930        PGBarkman                                                []   \n",
       "285806   Jay_And_Kosmos  [#netneutrality, #breaktheinternet, #stopthefcc]   \n",
       "211468      AlexEvalynn                  [#stopthefcc, #breaktheinternet]   \n",
       "85765       euromaestro                             [#chaotichoundoompic]   \n",
       "157075    sifilismental                     [#stopthefcc, #netneutrality]   \n",
       "87720   FeliciaSaidWhat                                                []   \n",
       "315888           KNDmex                                        [#fascism]   \n",
       "21643        DevTurner1                              [#savenetneutrality]   \n",
       "236107       kiitttyyxo                                                []   \n",
       "160993           FKTVis                     [#stopthefcc, #netneutrality]   \n",
       "100217         Bolomon7                                                []   \n",
       "371127         hhanrose                                                []   \n",
       "252985        freepress               [#breaktheinternet, #netneutrality]   \n",
       "73957         aadenahan                                                []   \n",
       "130934      billperegoy                                     [#stopthefcc]   \n",
       "90734         ungrammed                                                []   \n",
       "28845        Techy_Girl                                     [#protectcpp]   \n",
       "86555    thefaithfulnet                                  [#netneutrality]   \n",
       "292331          Pagillo                                                []   \n",
       "120581  adel_sejdinovic                                     [#stopthefcc]   \n",
       "\n",
       "                                                    links  \\\n",
       "315789  [https://cards.twitter.com/cards/18ce54j487s/5...   \n",
       "395124  [https://cards.twitter.com/cards/18ce54j487s/5...   \n",
       "227589                                                 []   \n",
       "157972                       [http://verizonprotests.com]   \n",
       "295620                       [http://battleforthenet.com]   \n",
       "202214                                                 []   \n",
       "111318                                                 []   \n",
       "108420                       [http://verizonprotests.com]   \n",
       "276588               [http://breaktheinternetprotest.org]   \n",
       "207597                            [http://chn.ge/2jeiygz]   \n",
       "398715  [https://twitter.com/jacksfilms/status/9409908...   \n",
       "27707   [https://twitter.com/tomshardware/status/93599...   \n",
       "376074                            [http://bit.ly/2blovr1]   \n",
       "344823                       [http://battleforthenet.com]   \n",
       "315691                                                 []   \n",
       "328098                                                 []   \n",
       "176477                                                 []   \n",
       "257402               [http://breaktheinternetprotest.org]   \n",
       "199963                                                 []   \n",
       "143696                                                 []   \n",
       "354813  [https://twitter.com/foxnews/status/9410362455...   \n",
       "51307                                                  []   \n",
       "322670                                                 []   \n",
       "74737   [https://www.sciencefriday.com/episodes/decemb...   \n",
       "345118                                                 []   \n",
       "304981                       [http://battleforthenet.com]   \n",
       "316287                                                 []   \n",
       "23720                                                  []   \n",
       "186594  [http://ow.ly/2unb30h5avi, http://ow.ly/ba6q30...   \n",
       "127574  [http://verizonprotests.com, http://battlefort...   \n",
       "192930  [https://twitter.com/goangelo/status/939279136...   \n",
       "285806               [http://breaktheinternetprotest.org]   \n",
       "211468               [http://breaktheinternetprotest.org]   \n",
       "85765                                                  []   \n",
       "157075                       [http://verizonprotests.com]   \n",
       "87720                             [http://chn.ge/2asbi3j]   \n",
       "315888                                                 []   \n",
       "21643                                                  []   \n",
       "236107                       [http://battleforthenet.com]   \n",
       "160993                       [http://verizonprotests.com]   \n",
       "100217                       [http://verizonprotests.com]   \n",
       "371127                            [http://chn.ge/2iyiwe0]   \n",
       "252985                         [http://ow.ly/cskp30hb4wa]   \n",
       "73957                             [http://chn.ge/2ifm865]   \n",
       "130934  [http://verizonprotests.com, http://battlefort...   \n",
       "90734                   [https://www.battleforthenet.com]   \n",
       "28845   [https://paper.li/techy_girl?edition_id=d75a3e...   \n",
       "86555   [http://mailchi.mp/844aec474df5/3waystosavenn?...   \n",
       "292331                       [http://battleforthenet.com]   \n",
       "120581  [http://verizonprotests.com, http://battlefort...   \n",
       "\n",
       "                                              @s  \\\n",
       "315789                                    [@fcc]   \n",
       "395124                                        []   \n",
       "227589                                        []   \n",
       "157972                              [@idltweets]   \n",
       "295620                                        []   \n",
       "202214                                        []   \n",
       "111318                                        []   \n",
       "108420                                        []   \n",
       "276588                              [@idltweets]   \n",
       "207597                                 [@change]   \n",
       "398715                                        []   \n",
       "27707                                         []   \n",
       "376074                                        []   \n",
       "344823                                        []   \n",
       "315691                                        []   \n",
       "328098                                        []   \n",
       "176477                                        []   \n",
       "257402                              [@idltweets]   \n",
       "199963                                    [@fcc]   \n",
       "143696                                        []   \n",
       "354813                       [@ajitpaifcc, @fcc]   \n",
       "51307                                         []   \n",
       "322670                                        []   \n",
       "74737                                         []   \n",
       "345118                                        []   \n",
       "304981                                        []   \n",
       "316287                                        []   \n",
       "23720                                         []   \n",
       "186594                                        []   \n",
       "127574                              [@idltweets]   \n",
       "192930                                        []   \n",
       "285806                              [@idltweets]   \n",
       "211468                              [@idltweets]   \n",
       "85765                                         []   \n",
       "157075                              [@idltweets]   \n",
       "87720                                [@ukchange]   \n",
       "315888                                        []   \n",
       "21643   [@jeffflake, @ajitpaifcc, @jrosenworcel]   \n",
       "236107                                        []   \n",
       "160993                              [@idltweets]   \n",
       "100217                                        []   \n",
       "371127                                 [@change]   \n",
       "252985                                        []   \n",
       "73957                                  [@change]   \n",
       "130934                              [@idltweets]   \n",
       "90734                                         []   \n",
       "28845                                         []   \n",
       "86555                                         []   \n",
       "292331                                        []   \n",
       "120581                              [@idltweets]   \n",
       "\n",
       "                                             cleaned_text  info_campaign  \\\n",
       "315789  the should stand up for the consumers it repre...              1   \n",
       "395124  is key to free expression innovation  public s...              1   \n",
       "227589  even if you can’t get through continue to text...              0   \n",
       "157972  nationwide protests happening in  cities today...              1   \n",
       "295620  without  the internet will be like cable tv bi...              1   \n",
       "202214  i havent seen any posts discussing how much th...              0   \n",
       "111318                                             defend              1   \n",
       "108420  the former verizon lawyer in charge of the fcc...              1   \n",
       "276588  this is an internet emergency less than hours ...              1   \n",
       "207597         save net neutrality  sign the petition via              1   \n",
       "398715  please make this happenlet’s fight for by the ...              0   \n",
       "27707                                                   …              1   \n",
       "376074  tell congress why support net neutrality forev...              0   \n",
       "344823  stop selling out your constituents oppose s pl...              1   \n",
       "315691  im going to correct myself here we will still ...              0   \n",
       "328098  how is twitter still free is the reason why tw...              0   \n",
       "176477  microbusinesses like mine are able to thrive b...              1   \n",
       "257402  this is an internet emergency less than hours ...              1   \n",
       "199963  i support  join me in fighting back against th...              1   \n",
       "143696           mark december  as the end of free speech              0   \n",
       "354813  thats great we can use that cut for our new in...              0   \n",
       "51307   idk about y’all but i’m broke  i can’t afford ...              0   \n",
       "322670   the internet should be part of the public domain              0   \n",
       "74737   science friday podcast has enlightening discus...              0   \n",
       "345118  you don’t have any reason not to text resist t...              0   \n",
       "304981  stop selling out your constituents oppose s pl...              1   \n",
       "316287  ssesensend send nsend nu send nudsend nude sen...              0   \n",
       "23720   nope well have pence hes far more evil he will...              0   \n",
       "186594     is a day to ask everyone call congress to save              0   \n",
       "127574  tomorrow  protests across the us find one near...              1   \n",
       "192930       coming soon to all of us in the post world …              0   \n",
       "285806  this is an internet emergency less than hours ...              1   \n",
       "211468  is not dead yet congress can still  but only i...              1   \n",
       "85765   next time someone tries to tell you that the i...              0   \n",
       "157075  nationwide protests happening in  cities today...              1   \n",
       "87720          save net neutrality  sign the petition via              1   \n",
       "315888  in america is not an option please vote agains...              0   \n",
       "21643   hi and  i’m one of your constituents and a str...              0   \n",
       "236107  im a constituent  rules matter to me please op...              1   \n",
       "160993  nationwide protests happening in  cities today...              1   \n",
       "100217  the former verizon lawyer in charge of the fcc...              1   \n",
       "371127         save net neutrality  sign the petition via              1   \n",
       "252985  help us to save  check out how you can join in...              0   \n",
       "73957          save net neutrality  sign the petition via              1   \n",
       "130934  tomorrow  protests across the us find one near...              1   \n",
       "90734   what if the internet was so slow it loaded one...              1   \n",
       "28845                   the latest the techy girl daily …              0   \n",
       "86555                                     ways to save  …              0   \n",
       "292331  im a constituent  rules matter to me please op...              1   \n",
       "120581  tomorrow  protests across the us find one near...              1   \n",
       "\n",
       "        original_tweet  pro_repeal  \n",
       "315789               0           0  \n",
       "395124               0           0  \n",
       "227589               1           0  \n",
       "157972               0           0  \n",
       "295620               0           0  \n",
       "202214               1           0  \n",
       "111318               0           0  \n",
       "108420               0           0  \n",
       "276588               0           0  \n",
       "207597               0           0  \n",
       "398715               1           0  \n",
       "27707                0           0  \n",
       "376074               1           0  \n",
       "344823               0           0  \n",
       "315691               1           0  \n",
       "328098               1           0  \n",
       "176477               0           0  \n",
       "257402               0           0  \n",
       "199963               0           0  \n",
       "143696               1           0  \n",
       "354813               1           0  \n",
       "51307                1           0  \n",
       "322670               1           0  \n",
       "74737                1           0  \n",
       "345118               1           0  \n",
       "304981               0           0  \n",
       "316287               1           0  \n",
       "23720                1           0  \n",
       "186594               1           0  \n",
       "127574               0           0  \n",
       "192930               1           0  \n",
       "285806               0           0  \n",
       "211468               0           0  \n",
       "85765                1           0  \n",
       "157075               0           0  \n",
       "87720                0           0  \n",
       "315888               1           0  \n",
       "21643                0           0  \n",
       "236107               0           0  \n",
       "160993               0           0  \n",
       "100217               0           0  \n",
       "371127               0           0  \n",
       "252985               1           0  \n",
       "73957                0           0  \n",
       "130934               0           0  \n",
       "90734                0           0  \n",
       "28845                0           0  \n",
       "86555                1           0  \n",
       "292331               0           0  \n",
       "120581               0           0  "
      ]
     },
     "execution_count": 103,
     "metadata": {},
     "output_type": "execute_result"
    }
   ],
   "source": [
    "mega_df.sample(50)"
   ]
  },
  {
   "cell_type": "code",
   "execution_count": null,
   "metadata": {
    "collapsed": true
   },
   "outputs": [],
   "source": [
    "original_total = mega_df['fullname'].count()\n",
    "new_total = (campaign_tweets_df['fullname'].count()) + (original_tweets_df['fullname'].count()) + \\\n",
    "(repeal_tweets_df['fullname'].count())\n",
    "\n",
    "# This removed a total of 7.72% of my data since I was not confident in how to classify it as an information campaign\n",
    "# or original tweet.\n",
    "print(((original_total - new_total) / original_total) * 100)"
   ]
  },
  {
   "cell_type": "markdown",
   "metadata": {},
   "source": [
    "## Some EDA"
   ]
  },
  {
   "cell_type": "code",
   "execution_count": 111,
   "metadata": {},
   "outputs": [
    {
     "data": {
      "image/png": "[encoded data removed]",
      "text/plain": [
       "<matplotlib.figure.Figure at 0x1a7427fda0>"
      ]
     },
     "metadata": {},
     "output_type": "display_data"
    }
   ],
   "source": [
    "# For my final dataset, what was the breakdown between these three categories?\n",
    "total_tweets = campaign_tweets_df['fullname'].count() + repeal_tweets_df['fullname'].count() + original_tweets_df['fullname'].count()\n",
    "percentages = [str(campaign_tweets_df['fullname'].count()/total_tweets), str(repeal_tweets_df['fullname'].count()/total_tweets), \\\n",
    "         str(original_tweets_df['fullname'].count()/total_tweets)]\n",
    "\n",
    "plt.subplots(figsize=(10,10))\n",
    "plt.rcParams.update({'font.size': 22})\n",
    "plt.axes(aspect='equal')\n",
    "plt.pie([campaign_tweets_df['fullname'].count(), repeal_tweets_df['fullname'].count(), \\\n",
    "         original_tweets_df['fullname'].count()], explode=[.1, .1 , .1], \\\n",
    "        labels=['Campaign Tweets', 'Repeal Tweets', 'Original Tweets'], autopct='%3.2f%%')\n",
    "plt.title('Percent of Tweets in Each Category')\n",
    "plt.rc('xtick', labelsize=16) \n",
    "plt.rc('ytick', labelsize=16) \n",
    "plt.show()"
   ]
  },
  {
   "cell_type": "code",
   "execution_count": 112,
   "metadata": {},
   "outputs": [
    {
     "data": {
      "text/plain": [
       "count    419343.000000\n",
       "mean          4.391949\n",
       "std         304.453924\n",
       "min           0.000000\n",
       "25%           0.000000\n",
       "50%           0.000000\n",
       "75%           0.000000\n",
       "max      165604.000000\n",
       "Name: retweets, dtype: float64"
      ]
     },
     "execution_count": 112,
     "metadata": {},
     "output_type": "execute_result"
    }
   ],
   "source": [
    "mega_df['retweets'].describe()"
   ]
  },
  {
   "cell_type": "code",
   "execution_count": 113,
   "metadata": {
    "collapsed": true
   },
   "outputs": [],
   "source": [
    "# Count of retweets with outliers removed\n",
    "\n",
    "retweets_outliers_rmv = eda.remove_outliers(mega_df, 'retweets')"
   ]
  },
  {
   "cell_type": "code",
   "execution_count": 114,
   "metadata": {},
   "outputs": [
    {
     "data": {
      "image/png": "[encoded data removed]",
      "text/plain": [
       "<matplotlib.figure.Figure at 0x1a77abcb70>"
      ]
     },
     "metadata": {},
     "output_type": "display_data"
    }
   ],
   "source": [
    "ticks = np.linspace(0,1, 11)\n",
    "\n",
    "plt.hist(retweets_outliers_rmv, alpha=.5, bins = retweets_outliers_rmv.max(), normed=True)\n",
    "plt.xlabel('Number of Retweets')\n",
    "plt.ylabel('Percent of Total')\n",
    "plt.yticks(ticks)\n",
    "plt.title('Less than 20% of all Tweets were retweeted')\n",
    "plt.xlim(0,10)\n",
    "plt.show()"
   ]
  },
  {
   "cell_type": "code",
   "execution_count": 115,
   "metadata": {
    "collapsed": true
   },
   "outputs": [],
   "source": [
    "# Count of likes with outliers removed\n",
    "\n",
    "likes_outliers_rmv = eda.remove_outliers(mega_df, 'likes')"
   ]
  },
  {
   "cell_type": "code",
   "execution_count": 116,
   "metadata": {},
   "outputs": [
    {
     "data": {
      "image/png": "[encoded data removed]",
      "text/plain": [
       "<matplotlib.figure.Figure at 0x1a74106ef0>"
      ]
     },
     "metadata": {},
     "output_type": "display_data"
    }
   ],
   "source": [
    "ticks = np.linspace(0,1, 11)\n",
    "\n",
    "plt.hist(likes_outliers_rmv, alpha=.5, bins = likes_outliers_rmv.max(), normed=True)\n",
    "plt.xlabel('Number of Likes')\n",
    "plt.ylabel('Percent of Total')\n",
    "plt.yticks(ticks)\n",
    "plt.title('Less than 30% of all Tweets were liked')\n",
    "plt.xlim(0,10)\n",
    "plt.show()"
   ]
  },
  {
   "cell_type": "code",
   "execution_count": 117,
   "metadata": {
    "collapsed": true
   },
   "outputs": [],
   "source": [
    "# Count of replies with outliers removed\n",
    "\n",
    "replies_outliers_rmv = eda.remove_outliers(mega_df, 'replies')"
   ]
  },
  {
   "cell_type": "code",
   "execution_count": 118,
   "metadata": {},
   "outputs": [
    {
     "data": {
      "image/png": "[encoded data removed]",
      "text/plain": [
       "<matplotlib.figure.Figure at 0x1a77723400>"
      ]
     },
     "metadata": {},
     "output_type": "display_data"
    }
   ],
   "source": [
    "ticks = np.linspace(0,1, 11)\n",
    "\n",
    "plt.hist(replies_outliers_rmv, bins = replies_outliers_rmv.max(), alpha=.5, normed=True)\n",
    "plt.xlabel('Number of Replies')\n",
    "plt.ylabel('Percent of Total')\n",
    "plt.yticks(ticks)\n",
    "plt.title('Less than 10% of all Tweets had replies')\n",
    "plt.xlim(0,10)\n",
    "plt.show()"
   ]
  },
  {
   "cell_type": "markdown",
   "metadata": {},
   "source": [
    "## Time to compare the different categories"
   ]
  },
  {
   "cell_type": "code",
   "execution_count": 119,
   "metadata": {
    "collapsed": true
   },
   "outputs": [],
   "source": [
    "# Original tweets\n",
    "\n",
    "orig_retweets_outliers_rmv = eda.remove_outliers(original_tweets_df, 'retweets')\n",
    "\n",
    "orig_likes_outliers_rmv = eda.remove_outliers(original_tweets_df, 'likes')\n",
    "\n",
    "orig_replies_outliers_rmv = eda.remove_outliers(original_tweets_df, 'replies')"
   ]
  },
  {
   "cell_type": "code",
   "execution_count": 120,
   "metadata": {
    "collapsed": true
   },
   "outputs": [],
   "source": [
    "# Campaign tweets\n",
    "\n",
    "campaign_retweets_outliers_rmv = eda.remove_outliers(campaign_tweets_df, 'retweets')\n",
    "\n",
    "campaign_likes_outliers_rmv = eda.remove_outliers(campaign_tweets_df, 'likes')\n",
    "\n",
    "campaign_replies_outliers_rmv = eda.remove_outliers(campaign_tweets_df, 'replies')"
   ]
  },
  {
   "cell_type": "code",
   "execution_count": 121,
   "metadata": {},
   "outputs": [
    {
     "data": {
      "image/png": "[encoded data removed]",
      "text/plain": [
       "<matplotlib.figure.Figure at 0x1a77262390>"
      ]
     },
     "metadata": {},
     "output_type": "display_data"
    }
   ],
   "source": [
    "ticks = np.linspace(0,1, 11)\n",
    "bins_x = orig_replies_outliers_rmv.max()\n",
    "bins_y = campaign_replies_outliers_rmv.max()\n",
    "\n",
    "x = orig_replies_outliers_rmv\n",
    "y = campaign_replies_outliers_rmv\n",
    "\n",
    "plt.hist(x, alpha=0.5, bins=bins_x, label='Replies to Original Tweets', normed=1)\n",
    "plt.hist(y, alpha=0.5, bins=bins_y, label='Replies to Campaign Tweets', normed=1)\n",
    "plt.yticks(ticks)\n",
    "plt.xlim(0, 15)\n",
    "plt.legend(loc='upper right')\n",
    "plt.title('Very Few Campaign Tweets Get Replies')\n",
    "plt.show()"
   ]
  },
  {
   "cell_type": "markdown",
   "metadata": {},
   "source": [
    "I hypothesize that people can tell what is real and what is a campaign and they are much more likely to engage in organic conversations by replying.\n",
    "# Change y axis to log scale"
   ]
  },
  {
   "cell_type": "code",
   "execution_count": 122,
   "metadata": {},
   "outputs": [
    {
     "name": "stdout",
     "output_type": "stream",
     "text": [
      "Of all original tweets in the data, 13.95% had a reply.\n",
      "Of all campaign tweets in the data, 1.21% had a reply.\n"
     ]
    }
   ],
   "source": [
    "original_replies = (original_tweets_df[original_tweets_df['replies'] != 0]['fullname'].count() / len(original_tweets_df['replies'])) * 100\n",
    "campaign_replies = (campaign_tweets_df[campaign_tweets_df['replies'] != 0]['fullname'].count() / len(campaign_tweets_df['replies'])) * 100\n",
    "\n",
    "print('Of all original tweets in the data, {:0.2f}% had a reply.'.format(original_replies))\n",
    "print('Of all campaign tweets in the data, {:0.2f}% had a reply.'.format(campaign_replies))"
   ]
  },
  {
   "cell_type": "code",
   "execution_count": 123,
   "metadata": {},
   "outputs": [
    {
     "data": {
      "image/png": "[encoded data removed]",
      "text/plain": [
       "<matplotlib.figure.Figure at 0x1a7722f780>"
      ]
     },
     "metadata": {},
     "output_type": "display_data"
    }
   ],
   "source": [
    "ticks = np.linspace(0,1, 11)\n",
    "bins_x = orig_retweets_outliers_rmv.max()\n",
    "bins_y = campaign_retweets_outliers_rmv.max()\n",
    "x = orig_retweets_outliers_rmv\n",
    "y = campaign_retweets_outliers_rmv\n",
    "\n",
    "plt.hist(x, alpha=0.5, bins=bins_x, label='Retweets of Original Tweets', normed=1)\n",
    "plt.hist(y, alpha=0.5, bins=bins_y, label='Retweets of Campaign Tweets', normed=1)\n",
    "plt.yticks(ticks)\n",
    "plt.xlim(0, 15)\n",
    "plt.legend(loc='upper right')\n",
    "plt.title('About A Quarter of Original Tweets Were Retweeted')\n",
    "plt.show()"
   ]
  },
  {
   "cell_type": "code",
   "execution_count": 124,
   "metadata": {},
   "outputs": [
    {
     "name": "stdout",
     "output_type": "stream",
     "text": [
      "Of all original tweets in the data, 32.04% were retweeted.\n",
      "Of all campaign tweets in the data, 10.00% were retweeted.\n"
     ]
    }
   ],
   "source": [
    "original_retweets = (original_tweets_df[original_tweets_df['retweets'] != 0]['fullname'].count() / len(original_tweets_df['retweets'])) * 100\n",
    "campaign_retweets = (campaign_tweets_df[campaign_tweets_df['retweets'] != 0]['fullname'].count() / len(campaign_tweets_df['retweets'])) * 100\n",
    "\n",
    "print('Of all original tweets in the data, {:0.2f}% were retweeted.'.format(original_retweets))\n",
    "print('Of all campaign tweets in the data, {:0.2f}% were retweeted.'.format(campaign_retweets))"
   ]
  },
  {
   "cell_type": "code",
   "execution_count": 125,
   "metadata": {},
   "outputs": [
    {
     "data": {
      "image/png": "[encoded data removed]",
      "text/plain": [
       "<matplotlib.figure.Figure at 0x1a772237b8>"
      ]
     },
     "metadata": {},
     "output_type": "display_data"
    }
   ],
   "source": [
    "ticks = np.linspace(0,1, 11)\n",
    "bins_x = orig_likes_outliers_rmv.max()\n",
    "bins_y = campaign_likes_outliers_rmv.max()\n",
    "x = orig_likes_outliers_rmv\n",
    "y = campaign_likes_outliers_rmv\n",
    "\n",
    "plt.hist(x, alpha=0.5, bins=bins_x, label='Likes of Original Tweets', normed=1)\n",
    "plt.hist(y, alpha=0.5, bins=bins_y, label='Likes of Campaign Tweets', normed=1)\n",
    "plt.yticks(ticks)\n",
    "plt.xlim(0, 15)\n",
    "plt.legend(loc='upper right')\n",
    "plt.title('')\n",
    "plt.show()"
   ]
  },
  {
   "cell_type": "code",
   "execution_count": 126,
   "metadata": {},
   "outputs": [
    {
     "name": "stdout",
     "output_type": "stream",
     "text": [
      "Of all original tweets in the data, 46.90% got likes.\n",
      "Of all campaign tweets in the data, 16.49% got likes.\n"
     ]
    }
   ],
   "source": [
    "original_likes = (original_tweets_df[original_tweets_df['likes'] != 0]['fullname'].count() / len(original_tweets_df['likes'])) * 100\n",
    "campaign_likes = (campaign_tweets_df[campaign_tweets_df['likes'] != 0]['fullname'].count() / len(campaign_tweets_df['likes'])) * 100\n",
    "\n",
    "print('Of all original tweets in the data, {:0.2f}% got likes.'.format(original_likes))\n",
    "print('Of all campaign tweets in the data, {:0.2f}% got likes.'.format(campaign_likes))"
   ]
  },
  {
   "cell_type": "markdown",
   "metadata": {},
   "source": [
    "## Start doing some NLP"
   ]
  },
  {
   "cell_type": "code",
   "execution_count": null,
   "metadata": {
    "collapsed": true
   },
   "outputs": [],
   "source": [
    "import spacy\n",
    "\n",
    "nlp = spacy.load('en_core_web_md')"
   ]
  },
  {
   "cell_type": "code",
   "execution_count": null,
   "metadata": {
    "collapsed": true
   },
   "outputs": [],
   "source": [
    "def get_adj_lemmas(dataframe):\n",
    "    lemma = []\n",
    "    for doc in nlp.pipe(dataframe['cleaned_text'].astype('unicode').values, batch_size=50,\n",
    "                            n_threads=3):\n",
    "        if doc.is_parsed:\n",
    "            lemma.append([n.lemma_ for n in doc if (n.pos_ == 'ADJ') & (n.lemma_ != '-PRON-')])\n",
    "        else:\n",
    "            # We want to make sure that the lists of parsed results have the\n",
    "            # same number of entries of the original Dataframe, so add some blanks in case the parse fails\n",
    "            lemma.append(None)\n",
    "\n",
    "    dataframe['adj_lemmas'] = lemma\n",
    "    return dataframe"
   ]
  },
  {
   "cell_type": "code",
   "execution_count": null,
   "metadata": {
    "collapsed": true
   },
   "outputs": [],
   "source": [
    "mega_df_1 = mega_df[:50000]\n",
    "mega_df_2 = mega_df[50000:100000]\n",
    "mega_df_3 = mega_df[100000:150000]\n",
    "mega_df_4 = mega_df[150000:200000]\n",
    "mega_df_5 = mega_df[200000:250000]\n",
    "mega_df_6 = mega_df[250000:300000]\n",
    "mega_df_7 = mega_df[300000:350000]\n",
    "mega_df_8 = mega_df[350000:400000]\n",
    "mega_df_9 = mega_df[400000:]\n",
    "\n",
    "slice_list = [mega_df_1, mega_df_2, mega_df_3, mega_df_4, mega_df_5, mega_df_6, mega_df_7, mega_df_8, mega_df_9]"
   ]
  },
  {
   "cell_type": "code",
   "execution_count": null,
   "metadata": {
    "collapsed": true
   },
   "outputs": [],
   "source": [
    "# mega_df_1 = get_adj_lemmas(mega_df_1)\n",
    "# mega_df_2 = get_adj_lemmas(mega_df_2)\n",
    "# mega_df_3 = get_adj_lemmas(mega_df_3)\n",
    "# mega_df_4 = get_adj_lemmas(mega_df_4)\n",
    "# mega_df_5 = get_adj_lemmas(mega_df_5)\n",
    "# mega_df_6 = get_adj_lemmas(mega_df_6)\n",
    "# mega_df_7 = get_adj_lemmas(mega_df_7)\n",
    "# mega_df_8 = get_adj_lemmas(mega_df_8)\n",
    "# mega_df_9 = get_adj_lemmas(mega_df_9)\n",
    "\n",
    "# mega_df_final = pd.concat([mega_df_1, mega_df_2, mega_df_3, mega_df_4, mega_df_5, mega_df_6, mega_df_7, mega_df_8, \\\n",
    "#                           mega_df_9], ignore_index=True)"
   ]
  },
  {
   "cell_type": "code",
   "execution_count": null,
   "metadata": {
    "collapsed": true
   },
   "outputs": [],
   "source": [
    "# mega_df_final.to_json('./mega_df_final.json')"
   ]
  },
  {
   "cell_type": "code",
   "execution_count": 128,
   "metadata": {},
   "outputs": [],
   "source": [
    "mega_df_final = pd.read_json('mega_df_final.json')\n",
    "mega_df_final = mega_df_final.sort_index(axis=0)"
   ]
  },
  {
   "cell_type": "markdown",
   "metadata": {},
   "source": [
    "## For each day recorded, what percent of tweets were original vs campaign?"
   ]
  },
  {
   "cell_type": "code",
   "execution_count": 129,
   "metadata": {
    "collapsed": true
   },
   "outputs": [],
   "source": [
    "mega_df_by_date = mega_df_final.set_index(\"timestamp\")\n",
    "mega_df_by_date = mega_df_by_date.resample(\"D\").sum()"
   ]
  },
  {
   "cell_type": "code",
   "execution_count": 137,
   "metadata": {},
   "outputs": [
    {
     "data": {
      "image/png": "[encoded data removed]",
      "text/plain": [
       "<matplotlib.figure.Figure at 0x1ac1481cf8>"
      ]
     },
     "metadata": {},
     "output_type": "display_data"
    }
   ],
   "source": [
    "N = len(mega_df_by_date.index)\n",
    "campaigns = mega_df_by_date['info_campaign']\n",
    "originals = mega_df_by_date['original_tweet']\n",
    "ind = np.arange(N)    # the x locations for the groups\n",
    "width = 0.35       # the width of the bars: can also be len(x) sequence\n",
    "\n",
    "plt.subplots(figsize=(8,8))\n",
    "\n",
    "p1 = plt.bar(ind, campaigns, width, color='#d62728')\n",
    "p2 = plt.bar(ind + width, originals, width)\n",
    "\n",
    "plt.ylabel('Total Tweets')\n",
    "plt.title('Daily Counts of Campaign vs Original Tweets')\n",
    "plt.xticks(ind, (mega_df_by_date.index.date), rotation=90)\n",
    "# plt.yticks(np.arange(0, 81, 10))\n",
    "plt.legend((p1[0], p2[0]), ('Campaign Tweets', 'Original Tweets'))\n",
    "\n",
    "plt.show()"
   ]
  },
  {
   "cell_type": "code",
   "execution_count": 131,
   "metadata": {},
   "outputs": [
    {
     "data": {
      "image/png": "[encoded data removed]",
      "text/plain": [
       "<matplotlib.figure.Figure at 0x1ac14aea20>"
      ]
     },
     "metadata": {},
     "output_type": "display_data"
    }
   ],
   "source": [
    "# Make data\n",
    "data = pd.DataFrame({'Campaign Tweets':mega_df_by_date['info_campaign'], 'Original Tweets':mega_df_by_date['original_tweet']})\n",
    " \n",
    "# We need to transform the data from raw data to percentage (fraction)\n",
    "data_perc = data.divide(data.sum(axis=1), axis=0)\n",
    "\n",
    "N = len(mega_df_by_date.index)\n",
    "ind = np.arange(N)    # the x locations for the groups\n",
    "\n",
    "# Make the plot\n",
    "plt.subplots(figsize=(8,8))\n",
    "\n",
    "plt.stackplot(ind, data_perc['Campaign Tweets'],  data_perc['Original Tweets'], labels=['Campaign','Original'], cmap='Pastel1')\n",
    "plt.legend(loc='upper left')\n",
    "plt.margins(0,0)\n",
    "plt.xticks(ind, (mega_df_by_date.index.date), rotation=90)\n",
    "\n",
    "plt.title('Campaign/Original Tweets as a Fraction of Total by day')\n",
    "plt.show()\n"
   ]
  },
  {
   "cell_type": "markdown",
   "metadata": {},
   "source": [
    "## Look at some adjectives"
   ]
  },
  {
   "cell_type": "code",
   "execution_count": 132,
   "metadata": {
    "collapsed": true
   },
   "outputs": [],
   "source": [
    "update_campaign_tweets_df = mega_df_final[mega_df_final['info_campaign'] == 1].drop_duplicates(subset='text')\n",
    "update_original_tweets_df = mega_df_final[mega_df_final['original_tweet'] == 1]"
   ]
  },
  {
   "cell_type": "code",
   "execution_count": 133,
   "metadata": {
    "collapsed": true
   },
   "outputs": [],
   "source": [
    "from collections import Counter\n",
    "\n",
    "original_adj_counter = Counter()\n",
    "ignore_list = ['net', 'that', 'more', 'many', 'able', 'much', 'which', '“']\n",
    "\n",
    "for adjs in update_original_tweets_df['adj_lemmas']:\n",
    "    if (len(adjs) != 0):\n",
    "        for adj in adjs:\n",
    "            if adj not in ignore_list:\n",
    "                original_adj_counter[adj] += 1"
   ]
  },
  {
   "cell_type": "code",
   "execution_count": 134,
   "metadata": {
    "collapsed": true
   },
   "outputs": [],
   "source": [
    "campaign_adj_counter = Counter()\n",
    "ignore_list = ['net', 'that', 'more', 'many', 'able', 'much', 'which', 'fccs', 'monthsnapchat', 'powerfulinternetproviderslike', 'thiscontact']\n",
    "\n",
    "for adjs in update_campaign_tweets_df['adj_lemmas']:\n",
    "    if (len(adj) != 0):\n",
    "        for adj in adjs:\n",
    "            if adj not in ignore_list:\n",
    "                campaign_adj_counter[adj] += 1"
   ]
  },
  {
   "cell_type": "code",
   "execution_count": 135,
   "metadata": {},
   "outputs": [
    {
     "data": {
      "image/png": "[encoded data removed]",
      "text/plain": [
       "<matplotlib.figure.Figure at 0x1ac1481eb8>"
      ]
     },
     "metadata": {},
     "output_type": "display_data"
    }
   ],
   "source": [
    "counts = dict(campaign_adj_counter.most_common(10))\n",
    "\n",
    "labels, values = zip(*counts.items())\n",
    "\n",
    "# sort your values in descending order\n",
    "indSort = np.argsort(values)[::-1]\n",
    "\n",
    "# rearrange your data\n",
    "labels = np.array(labels)[indSort]\n",
    "values = np.array(values)[indSort]\n",
    "\n",
    "indexes = np.arange(len(labels))\n",
    "\n",
    "bar_width = 0.35\n",
    "\n",
    "plt.subplots(figsize=(8,8))\n",
    "plt.bar(indexes, values, alpha=.5)\n",
    "plt.xticks(rotation=45)\n",
    "\n",
    "# add labels\n",
    "plt.xticks(indexes, labels)\n",
    "plt.title('Most Common Adjectives in Guided Information Campaigns')\n",
    "plt.ylabel('Appearances')\n",
    "plt.xlabel('Word')\n",
    "plt.show()"
   ]
  },
  {
   "cell_type": "code",
   "execution_count": 136,
   "metadata": {},
   "outputs": [
    {
     "data": {
      "image/png": "[encoded data removed]",
      "text/plain": [
       "<matplotlib.figure.Figure at 0x1ac14ecda0>"
      ]
     },
     "metadata": {},
     "output_type": "display_data"
    }
   ],
   "source": [
    "counts = dict(original_adj_counter.most_common(10))\n",
    "\n",
    "labels, values = zip(*counts.items())\n",
    "\n",
    "# sort your values in descending order\n",
    "indSort = np.argsort(values)[::-1]\n",
    "\n",
    "# rearrange your data\n",
    "labels = np.array(labels)[indSort]\n",
    "values = np.array(values)[indSort]\n",
    "\n",
    "indexes = np.arange(len(labels))\n",
    "\n",
    "bar_width = 0.35\n",
    "\n",
    "plt.subplots(figsize=(8,8))\n",
    "plt.bar(indexes, values, alpha=.5)\n",
    "plt.xticks(rotation=45)\n",
    "\n",
    "# add labels\n",
    "plt.xticks(indexes, labels, rotation=45)\n",
    "plt.title('Most Common Adjectives in Original Tweets')\n",
    "plt.ylabel('Appearances')\n",
    "plt.xlabel('Word')\n",
    "plt.show()"
   ]
  },
  {
   "cell_type": "markdown",
   "metadata": {},
   "source": [
    "## Getting prepped to make a force-directed graph of @s\n",
    "#### First, get a set of all @s done\n",
    "#### Find every n=2 permutation of those that show up in tweets done\n",
    "#### Remove dupes done\n",
    "#### Get a count done\n",
    "#### Get them formatted like the d3 graph will need"
   ]
  },
  {
   "cell_type": "code",
   "execution_count": null,
   "metadata": {
    "collapsed": true
   },
   "outputs": [],
   "source": [
    "# Create a list of every 2-item combo of mentions found in tweets in the data.\n",
    "flat_list = eda.combos_of_ats(mega_df_final)\n",
    "\n",
    "# Arrange these into an array where the two mentions are arranged in alphabetical order.\n",
    "alpha_array = eda.alpha_tuples(flat_list)\n",
    "\n",
    "# Put this into a dataframe where the first item in every pair is in column 'source' and the second item is in column\n",
    "# 'target'. Create a column 'count' that has a count of every time each pair showed up in the data.\n",
    "grouped_source_target_df = eda.create_grouped_source_target(alpha_array)"
   ]
  },
  {
   "cell_type": "code",
   "execution_count": null,
   "metadata": {
    "collapsed": true
   },
   "outputs": [],
   "source": [
    "# Restrict this to only pairs that showed up 10 times or more. The graph won't be interpretable otherwise, and this is\n",
    "# a good threshold for determining whether or not accounts were mentioned together frequenlty enough to matter.\n",
    "grouped_source_target_df = grouped_source_target_df[grouped_source_target_df['count'] > 9]"
   ]
  },
  {
   "cell_type": "code",
   "execution_count": null,
   "metadata": {
    "collapsed": true
   },
   "outputs": [],
   "source": [
    "# Create an index of all the unique mentions in the data.\n",
    "unique_ats = pd.Index(grouped_source_target_df['source']\n",
    "                      .append(grouped_source_target_df['target'])\n",
    "                      .reset_index(drop=True).unique())"
   ]
  },
  {
   "cell_type": "code",
   "execution_count": null,
   "metadata": {
    "collapsed": true
   },
   "outputs": [],
   "source": [
    "# Create a list of every edge - a time that two accounts were mentioned in the same tweet.\n",
    "links_list = eda.create_links_list(grouped_source_target_df, unique_ats)\n",
    "\n",
    "# Create a list of every node\n",
    "nodes_list = eda.create_nodes_list(unique_ats)"
   ]
  },
  {
   "cell_type": "code",
   "execution_count": null,
   "metadata": {
    "collapsed": true
   },
   "outputs": [],
   "source": [
    "# Create this as a NetworkX graph object so I can do some community detection\n",
    "G = nx.Graph()\n",
    "\n",
    "# Add nodes to the graph\n",
    "for node in nodes_list:\n",
    "    G.add_node(node['index'], name=node['name'])\n",
    "\n",
    "# Add links to the graph\n",
    "for link in links_list:\n",
    "    G.add_edge(link['source'], link['target'], weight=link['value'])"
   ]
  },
  {
   "cell_type": "code",
   "execution_count": null,
   "metadata": {
    "collapsed": true
   },
   "outputs": [],
   "source": [
    "# Create optimized communities using Louvain modularity\n",
    "communities = community.best_partition(G, partition=None, weight='weight', resolution=1.0, randomize=False)"
   ]
  },
  {
   "cell_type": "code",
   "execution_count": null,
   "metadata": {
    "collapsed": true
   },
   "outputs": [],
   "source": [
    "# Add community numbers to the nodes\n",
    "for idx, group in enumerate(communities.values()):\n",
    "    nodes_list[idx]['group'] = group"
   ]
  },
  {
   "cell_type": "code",
   "execution_count": null,
   "metadata": {
    "collapsed": true
   },
   "outputs": [],
   "source": [
    "json_prep = {\"nodes\":nodes_list, \"links\":links_list}\n",
    "json_dump = json.dumps(json_prep, indent=1, sort_keys=True)\n",
    "\n",
    "filename_out = 'nodes_edges.json'\n",
    "json_out = open(filename_out,'w')\n",
    "json_out.write(json_dump)\n",
    "json_out.close()"
   ]
  },
  {
   "cell_type": "code",
   "execution_count": null,
   "metadata": {
    "collapsed": true
   },
   "outputs": [],
   "source": [
    "bc_dict = nx.betweenness_centrality(G, weight='weight')\n",
    "sorted_bc_tups = sorted(bc_dict.items(), key=operator.itemgetter(1), reverse=True)"
   ]
  },
  {
   "cell_type": "markdown",
   "metadata": {},
   "source": [
    "### Remove highest betweened node and redo the graph to see if other communities come up"
   ]
  },
  {
   "cell_type": "code",
   "execution_count": null,
   "metadata": {
    "collapsed": true
   },
   "outputs": [],
   "source": [
    "# Create a list of every 2-item combo of mentions found in tweets in the data that DO NOT include the node with\n",
    "# highest betweenness centrality ('@ajitpaifcc').\n",
    "\n",
    "flat_list_one_removed = []\n",
    "\n",
    "for item in flat_list:\n",
    "    if nodes_list[sorted_bc_tups[0][0]]['name'] not in item:\n",
    "        flat_list_one_removed.append(item)"
   ]
  },
  {
   "cell_type": "code",
   "execution_count": null,
   "metadata": {
    "collapsed": true
   },
   "outputs": [],
   "source": [
    "# Arrange these into an array where the two mentions are arranged in alphabetical order.\n",
    "alpha_array_one_removed = eda.alpha_tuples(flat_list_one_removed)\n",
    "\n",
    "# Put this into a dataframe where the first item in every pair is in column 'source' and the second item is in column\n",
    "# 'target'. Create a column 'count' that has a count of every time each pair showed up in the data.\n",
    "grouped_source_target_df_one_removed = eda.create_grouped_source_target(alpha_array_one_removed)"
   ]
  },
  {
   "cell_type": "code",
   "execution_count": null,
   "metadata": {
    "collapsed": true
   },
   "outputs": [],
   "source": [
    "grouped_source_target_df_one_removed = grouped_source_target_df_one_removed[grouped_source_target_df_one_removed['count'] > 8]"
   ]
  },
  {
   "cell_type": "code",
   "execution_count": null,
   "metadata": {
    "collapsed": true
   },
   "outputs": [],
   "source": [
    "# Create an index of all the unique mentions in the data.\n",
    "unique_ats_one_removed = pd.Index(grouped_source_target_df_one_removed['source']\n",
    "                      .append(grouped_source_target_df_one_removed['target'])\n",
    "                      .reset_index(drop=True).unique())"
   ]
  },
  {
   "cell_type": "code",
   "execution_count": null,
   "metadata": {
    "collapsed": true
   },
   "outputs": [],
   "source": [
    "# Create a list of every edge - a time that two accounts were mentioned in the same tweet.\n",
    "links_list_one_removed = eda.create_links_list(grouped_source_target_df_one_removed, unique_ats_one_removed)\n",
    "\n",
    "# Create a list of every node\n",
    "nodes_list_one_removed = eda.create_nodes_list(unique_ats_one_removed)"
   ]
  },
  {
   "cell_type": "code",
   "execution_count": null,
   "metadata": {
    "collapsed": true
   },
   "outputs": [],
   "source": [
    "G_one_removed = nx.Graph()"
   ]
  },
  {
   "cell_type": "code",
   "execution_count": null,
   "metadata": {
    "collapsed": true
   },
   "outputs": [],
   "source": [
    "for node in nodes_list_one_removed:\n",
    "    G_one_removed.add_node(node['index'], name=node['name'])"
   ]
  },
  {
   "cell_type": "code",
   "execution_count": null,
   "metadata": {
    "collapsed": true
   },
   "outputs": [],
   "source": [
    "for link in links_list_one_removed:\n",
    "    G_one_removed.add_edge(link['source'], link['target'], weight=link['value'])"
   ]
  },
  {
   "cell_type": "code",
   "execution_count": null,
   "metadata": {
    "collapsed": true
   },
   "outputs": [],
   "source": [
    "communities_one_removed = community.best_partition(G_one_removed, partition=None, weight='weight', resolution=1.0, randomize=False)"
   ]
  },
  {
   "cell_type": "code",
   "execution_count": null,
   "metadata": {
    "collapsed": true
   },
   "outputs": [],
   "source": [
    "for idx, group in enumerate(communities_one_removed.values()):\n",
    "    nodes_list_one_removed[idx]['group'] = group"
   ]
  },
  {
   "cell_type": "code",
   "execution_count": null,
   "metadata": {
    "collapsed": true
   },
   "outputs": [],
   "source": [
    "json_prep_removed = {\"nodes\":nodes_list_one_removed, \"links\":links_list_one_removed}\n",
    "json_dump_removed = json.dumps(json_prep_removed, indent=1, sort_keys=True)\n",
    "\n",
    "filename_out = 'nodes_edges_one_removed.json'\n",
    "json_out = open(filename_out,'w')\n",
    "json_out.write(json_dump_removed)\n",
    "json_out.close()"
   ]
  },
  {
   "cell_type": "markdown",
   "metadata": {},
   "source": [
    "### Remove second highest betweened node and redo the graph to see if other communities come up"
   ]
  },
  {
   "cell_type": "code",
   "execution_count": null,
   "metadata": {
    "collapsed": true
   },
   "outputs": [],
   "source": [
    "# Create a list of every 2-item combo of mentions found in tweets in the data that DO NOT include the two nodes with\n",
    "# highest betweenness centrality ('@ajitpaifcc').\n",
    "\n",
    "flat_list_two_removed = []\n",
    "\n",
    "for item in flat_list:\n",
    "    if (nodes_list[sorted_bc_tups[0][0]]['name'] not in item) & (nodes_list[sorted_bc_tups[1][0]]['name'] not in item):\n",
    "        flat_list_two_removed.append(item)"
   ]
  },
  {
   "cell_type": "code",
   "execution_count": null,
   "metadata": {
    "collapsed": true
   },
   "outputs": [],
   "source": [
    "# Arrange these into an array where the two mentions are arranged in alphabetical order.\n",
    "alpha_array_two_removed = eda.alpha_tuples(flat_list_two_removed)\n",
    "\n",
    "# Put this into a dataframe where the first item in every pair is in column 'source' and the second item is in column\n",
    "# 'target'. Create a column 'count' that has a count of every time each pair showed up in the data.\n",
    "grouped_source_target_df_two_removed = eda.create_grouped_source_target(alpha_array_two_removed)"
   ]
  },
  {
   "cell_type": "code",
   "execution_count": null,
   "metadata": {
    "collapsed": true
   },
   "outputs": [],
   "source": [
    "grouped_source_target_df_two_removed = grouped_source_target_df_two_removed[grouped_source_target_df_two_removed['count'] > 8]"
   ]
  },
  {
   "cell_type": "code",
   "execution_count": null,
   "metadata": {
    "collapsed": true
   },
   "outputs": [],
   "source": [
    "# Create an index of all the unique mentions in the data.\n",
    "unique_ats_two_removed = pd.Index(grouped_source_target_df_two_removed['source']\n",
    "                      .append(grouped_source_target_df_two_removed['target'])\n",
    "                      .reset_index(drop=True).unique())"
   ]
  },
  {
   "cell_type": "code",
   "execution_count": null,
   "metadata": {
    "collapsed": true
   },
   "outputs": [],
   "source": [
    "# Create a list of every edge - a time that two accounts were mentioned in the same tweet.\n",
    "links_list_two_removed = eda.create_links_list(grouped_source_target_df_two_removed, unique_ats_two_removed)\n",
    "\n",
    "# Create a list of every node\n",
    "nodes_list_two_removed = eda.create_nodes_list(unique_ats_two_removed)"
   ]
  },
  {
   "cell_type": "code",
   "execution_count": null,
   "metadata": {
    "collapsed": true
   },
   "outputs": [],
   "source": [
    "G_two_removed = nx.Graph()"
   ]
  },
  {
   "cell_type": "code",
   "execution_count": null,
   "metadata": {
    "collapsed": true
   },
   "outputs": [],
   "source": [
    "for node in nodes_list_two_removed:\n",
    "    G_two_removed.add_node(node['index'], name=node['name'])"
   ]
  },
  {
   "cell_type": "code",
   "execution_count": null,
   "metadata": {
    "collapsed": true
   },
   "outputs": [],
   "source": [
    "for link in links_list_two_removed:\n",
    "    G_two_removed.add_edge(link['source'], link['target'], weight=link['value'])"
   ]
  },
  {
   "cell_type": "code",
   "execution_count": null,
   "metadata": {
    "collapsed": true
   },
   "outputs": [],
   "source": [
    "communities_two_removed = community.best_partition(G_two_removed, partition=None, weight='weight', resolution=1.0, randomize=False)"
   ]
  },
  {
   "cell_type": "code",
   "execution_count": null,
   "metadata": {
    "collapsed": true
   },
   "outputs": [],
   "source": [
    "for idx, group in enumerate(communities_two_removed.values()):\n",
    "    nodes_list_two_removed[idx]['group'] = group"
   ]
  },
  {
   "cell_type": "code",
   "execution_count": null,
   "metadata": {
    "collapsed": true
   },
   "outputs": [],
   "source": [
    "json_prep_2_removed = {\"nodes\":nodes_list_two_removed, \"links\":links_list_two_removed}\n",
    "json_dump_2_removed = json.dumps(json_prep_2_removed, indent=1, sort_keys=True)\n",
    "\n",
    "filename_out = 'nodes_edges_two_removed.json'\n",
    "json_out = open(filename_out,'w')\n",
    "json_out.write(json_dump_2_removed)\n",
    "json_out.close()"
   ]
  },
  {
   "cell_type": "code",
   "execution_count": null,
   "metadata": {
    "collapsed": true
   },
   "outputs": [],
   "source": []
  },
  {
   "cell_type": "code",
   "execution_count": null,
   "metadata": {
    "collapsed": true
   },
   "outputs": [],
   "source": []
  },
  {
   "cell_type": "markdown",
   "metadata": {},
   "source": [
    "Pick a time window (12 hours is probably good) and determine the probabilities on a gamma distro of each user showing up over that period (will need to use Bayesian modeling to update priors). Set a threshold above which I will consider something to be showing up more than expected. When this happens, look at the communities that are being detected."
   ]
  },
  {
   "cell_type": "code",
   "execution_count": 3,
   "metadata": {
    "collapsed": true
   },
   "outputs": [],
   "source": [
    "# Create an array of all unique users that are mentioned in tweets.\n",
    "\n",
    "mentioned_set = set()\n",
    "\n",
    "for item in mega_df_final['@s']:\n",
    "    for name in item:\n",
    "        mentioned_set.add(name)\n",
    "        "
   ]
  },
  {
   "cell_type": "code",
   "execution_count": 4,
   "metadata": {
    "collapsed": true,
    "scrolled": true
   },
   "outputs": [],
   "source": [
    "at_table_list_of_lists = []\n",
    "\n",
    "for idx, item in enumerate(mega_df_final['@s']):\n",
    "    for at in item:\n",
    "        at_table_list_of_lists.append([at, mega_df_final.iloc[idx]['timestamp']])"
   ]
  },
  {
   "cell_type": "code",
   "execution_count": 5,
   "metadata": {
    "collapsed": true
   },
   "outputs": [],
   "source": [
    "headers = ['users', 'timestamp']\n",
    "at_df = pd.DataFrame(at_table_list_of_lists, columns=headers)"
   ]
  },
  {
   "cell_type": "code",
   "execution_count": 34,
   "metadata": {
    "collapsed": true
   },
   "outputs": [],
   "source": [
    "from datetime import date, datetime, timedelta\n",
    "\n",
    "def perdelta(start, end, delta):\n",
    "    curr = start\n",
    "    while curr < end:\n",
    "        yield curr\n",
    "        curr += delta\n",
    "        \n",
    "time_ranges = []        \n",
    "for result in perdelta(datetime(2017, 11, 28, 12, 0, 0), datetime(2017, 12, 15, 12, 0, 0), timedelta(hours=12)):\n",
    "     time_ranges.append(result)"
   ]
  },
  {
   "cell_type": "code",
   "execution_count": 43,
   "metadata": {
    "collapsed": true
   },
   "outputs": [],
   "source": [
    "# for idx, time in enumerate(at_df['timestamp'][:10]):\n",
    "#     if time < time_ranges[1]:\n",
    "#         at_df['end_ts'] = time_ranges[1]\n",
    "\n",
    "slice_1_ats = at_df[at_df['timestamp'] < time_ranges[0]]\n",
    "slice_2_ats = at_df[(at_df['timestamp'] >= time_ranges[0]) & (at_df['timestamp'] < time_ranges[1])]\n",
    "slice_3_ats = at_df[(at_df['timestamp'] >= time_ranges[1]) & (at_df['timestamp'] < time_ranges[2])]\n",
    "slice_4_ats = at_df[(at_df['timestamp'] >= time_ranges[2]) & (at_df['timestamp'] < time_ranges[3])]\n",
    "slice_5_ats = at_df[(at_df['timestamp'] >= time_ranges[3]) & (at_df['timestamp'] < time_ranges[4])]\n",
    "slice_6_ats = at_df[(at_df['timestamp'] >= time_ranges[4]) & (at_df['timestamp'] < time_ranges[5])]\n",
    "slice_7_ats = at_df[(at_df['timestamp'] >= time_ranges[5]) & (at_df['timestamp'] < time_ranges[6])]\n",
    "slice_8_ats = at_df[(at_df['timestamp'] >= time_ranges[6]) & (at_df['timestamp'] < time_ranges[7])]\n",
    "slice_9_ats = at_df[(at_df['timestamp'] >= time_ranges[7]) & (at_df['timestamp'] < time_ranges[8])]\n",
    "slice_10_ats = at_df[(at_df['timestamp'] >= time_ranges[8]) & (at_df['timestamp'] < time_ranges[9])]\n",
    "slice_11_ats = at_df[(at_df['timestamp'] >= time_ranges[9]) & (at_df['timestamp'] < time_ranges[10])]\n",
    "slice_12_ats = at_df[(at_df['timestamp'] >= time_ranges[10]) & (at_df['timestamp'] < time_ranges[11])]\n",
    "slice_13_ats = at_df[(at_df['timestamp'] >= time_ranges[11]) & (at_df['timestamp'] < time_ranges[12])]\n",
    "slice_14_ats = at_df[(at_df['timestamp'] >= time_ranges[12]) & (at_df['timestamp'] < time_ranges[13])]\n",
    "slice_15_ats = at_df[(at_df['timestamp'] >= time_ranges[13]) & (at_df['timestamp'] < time_ranges[14])]\n",
    "slice_16_ats = at_df[(at_df['timestamp'] >= time_ranges[14]) & (at_df['timestamp'] < time_ranges[15])]\n",
    "slice_17_ats = at_df[(at_df['timestamp'] >= time_ranges[15]) & (at_df['timestamp'] < time_ranges[16])]\n",
    "slice_18_ats = at_df[(at_df['timestamp'] >= time_ranges[16]) & (at_df['timestamp'] < time_ranges[17])]\n",
    "slice_19_ats = at_df[(at_df['timestamp'] >= time_ranges[17]) & (at_df['timestamp'] < time_ranges[18])]\n",
    "slice_20_ats = at_df[(at_df['timestamp'] >= time_ranges[18]) & (at_df['timestamp'] < time_ranges[19])]\n",
    "slice_21_ats = at_df[(at_df['timestamp'] >= time_ranges[19]) & (at_df['timestamp'] < time_ranges[20])]\n",
    "slice_22_ats = at_df[(at_df['timestamp'] >= time_ranges[20]) & (at_df['timestamp'] < time_ranges[21])]\n",
    "slice_23_ats = at_df[(at_df['timestamp'] >= time_ranges[21]) & (at_df['timestamp'] < time_ranges[22])]\n",
    "slice_24_ats = at_df[(at_df['timestamp'] >= time_ranges[22]) & (at_df['timestamp'] < time_ranges[23])]\n",
    "slice_25_ats = at_df[(at_df['timestamp'] >= time_ranges[23]) & (at_df['timestamp'] < time_ranges[24])]\n",
    "slice_26_ats = at_df[(at_df['timestamp'] >= time_ranges[24]) & (at_df['timestamp'] < time_ranges[25])]\n",
    "slice_27_ats = at_df[(at_df['timestamp'] >= time_ranges[25]) & (at_df['timestamp'] < time_ranges[26])]\n",
    "slice_28_ats = at_df[(at_df['timestamp'] >= time_ranges[26]) & (at_df['timestamp'] < time_ranges[27])]\n",
    "slice_29_ats = at_df[(at_df['timestamp'] >= time_ranges[27]) & (at_df['timestamp'] < time_ranges[28])]\n",
    "slice_30_ats = at_df[(at_df['timestamp'] >= time_ranges[28]) & (at_df['timestamp'] < time_ranges[29])]\n",
    "slice_31_ats = at_df[(at_df['timestamp'] >= time_ranges[29]) & (at_df['timestamp'] < time_ranges[30])]\n",
    "slice_32_ats = at_df[(at_df['timestamp'] >= time_ranges[30]) & (at_df['timestamp'] < time_ranges[31])]\n",
    "slice_33_ats = at_df[(at_df['timestamp'] >= time_ranges[31]) & (at_df['timestamp'] < time_ranges[32])]\n",
    "slice_34_ats = at_df[(at_df['timestamp'] >= time_ranges[32]) & (at_df['timestamp'] < time_ranges[33])]"
   ]
  },
  {
   "cell_type": "code",
   "execution_count": 69,
   "metadata": {},
   "outputs": [
    {
     "data": {
      "text/plain": [
       "datetime.datetime(2017, 12, 15, 0, 0)"
      ]
     },
     "execution_count": 69,
     "metadata": {},
     "output_type": "execute_result"
    }
   ],
   "source": [
    "time_ranges[33]"
   ]
  },
  {
   "cell_type": "code",
   "execution_count": 70,
   "metadata": {},
   "outputs": [
    {
     "name": "stderr",
     "output_type": "stream",
     "text": [
      "/Users/Katie/anaconda/envs/py36/lib/python3.6/site-packages/ipykernel_launcher.py:1: SettingWithCopyWarning: \n",
      "A value is trying to be set on a copy of a slice from a DataFrame.\n",
      "Try using .loc[row_indexer,col_indexer] = value instead\n",
      "\n",
      "See the caveats in the documentation: http://pandas.pydata.org/pandas-docs/stable/indexing.html#indexing-view-versus-copy\n",
      "  \"\"\"Entry point for launching an IPython kernel.\n",
      "/Users/Katie/anaconda/envs/py36/lib/python3.6/site-packages/ipykernel_launcher.py:2: SettingWithCopyWarning: \n",
      "A value is trying to be set on a copy of a slice from a DataFrame.\n",
      "Try using .loc[row_indexer,col_indexer] = value instead\n",
      "\n",
      "See the caveats in the documentation: http://pandas.pydata.org/pandas-docs/stable/indexing.html#indexing-view-versus-copy\n",
      "  \n",
      "/Users/Katie/anaconda/envs/py36/lib/python3.6/site-packages/ipykernel_launcher.py:3: SettingWithCopyWarning: \n",
      "A value is trying to be set on a copy of a slice from a DataFrame.\n",
      "Try using .loc[row_indexer,col_indexer] = value instead\n",
      "\n",
      "See the caveats in the documentation: http://pandas.pydata.org/pandas-docs/stable/indexing.html#indexing-view-versus-copy\n",
      "  This is separate from the ipykernel package so we can avoid doing imports until\n",
      "/Users/Katie/anaconda/envs/py36/lib/python3.6/site-packages/ipykernel_launcher.py:4: SettingWithCopyWarning: \n",
      "A value is trying to be set on a copy of a slice from a DataFrame.\n",
      "Try using .loc[row_indexer,col_indexer] = value instead\n",
      "\n",
      "See the caveats in the documentation: http://pandas.pydata.org/pandas-docs/stable/indexing.html#indexing-view-versus-copy\n",
      "  after removing the cwd from sys.path.\n",
      "/Users/Katie/anaconda/envs/py36/lib/python3.6/site-packages/ipykernel_launcher.py:5: SettingWithCopyWarning: \n",
      "A value is trying to be set on a copy of a slice from a DataFrame.\n",
      "Try using .loc[row_indexer,col_indexer] = value instead\n",
      "\n",
      "See the caveats in the documentation: http://pandas.pydata.org/pandas-docs/stable/indexing.html#indexing-view-versus-copy\n",
      "  \"\"\"\n",
      "/Users/Katie/anaconda/envs/py36/lib/python3.6/site-packages/ipykernel_launcher.py:6: SettingWithCopyWarning: \n",
      "A value is trying to be set on a copy of a slice from a DataFrame.\n",
      "Try using .loc[row_indexer,col_indexer] = value instead\n",
      "\n",
      "See the caveats in the documentation: http://pandas.pydata.org/pandas-docs/stable/indexing.html#indexing-view-versus-copy\n",
      "  \n",
      "/Users/Katie/anaconda/envs/py36/lib/python3.6/site-packages/ipykernel_launcher.py:7: SettingWithCopyWarning: \n",
      "A value is trying to be set on a copy of a slice from a DataFrame.\n",
      "Try using .loc[row_indexer,col_indexer] = value instead\n",
      "\n",
      "See the caveats in the documentation: http://pandas.pydata.org/pandas-docs/stable/indexing.html#indexing-view-versus-copy\n",
      "  import sys\n",
      "/Users/Katie/anaconda/envs/py36/lib/python3.6/site-packages/ipykernel_launcher.py:8: SettingWithCopyWarning: \n",
      "A value is trying to be set on a copy of a slice from a DataFrame.\n",
      "Try using .loc[row_indexer,col_indexer] = value instead\n",
      "\n",
      "See the caveats in the documentation: http://pandas.pydata.org/pandas-docs/stable/indexing.html#indexing-view-versus-copy\n",
      "  \n",
      "/Users/Katie/anaconda/envs/py36/lib/python3.6/site-packages/ipykernel_launcher.py:9: SettingWithCopyWarning: \n",
      "A value is trying to be set on a copy of a slice from a DataFrame.\n",
      "Try using .loc[row_indexer,col_indexer] = value instead\n",
      "\n",
      "See the caveats in the documentation: http://pandas.pydata.org/pandas-docs/stable/indexing.html#indexing-view-versus-copy\n",
      "  if __name__ == '__main__':\n",
      "/Users/Katie/anaconda/envs/py36/lib/python3.6/site-packages/ipykernel_launcher.py:10: SettingWithCopyWarning: \n",
      "A value is trying to be set on a copy of a slice from a DataFrame.\n",
      "Try using .loc[row_indexer,col_indexer] = value instead\n",
      "\n",
      "See the caveats in the documentation: http://pandas.pydata.org/pandas-docs/stable/indexing.html#indexing-view-versus-copy\n",
      "  # Remove the CWD from sys.path while we load stuff.\n",
      "/Users/Katie/anaconda/envs/py36/lib/python3.6/site-packages/ipykernel_launcher.py:11: SettingWithCopyWarning: \n",
      "A value is trying to be set on a copy of a slice from a DataFrame.\n",
      "Try using .loc[row_indexer,col_indexer] = value instead\n",
      "\n",
      "See the caveats in the documentation: http://pandas.pydata.org/pandas-docs/stable/indexing.html#indexing-view-versus-copy\n",
      "  # This is added back by InteractiveShellApp.init_path()\n",
      "/Users/Katie/anaconda/envs/py36/lib/python3.6/site-packages/ipykernel_launcher.py:12: SettingWithCopyWarning: \n",
      "A value is trying to be set on a copy of a slice from a DataFrame.\n",
      "Try using .loc[row_indexer,col_indexer] = value instead\n",
      "\n",
      "See the caveats in the documentation: http://pandas.pydata.org/pandas-docs/stable/indexing.html#indexing-view-versus-copy\n",
      "  if sys.path[0] == '':\n",
      "/Users/Katie/anaconda/envs/py36/lib/python3.6/site-packages/ipykernel_launcher.py:13: SettingWithCopyWarning: \n",
      "A value is trying to be set on a copy of a slice from a DataFrame.\n",
      "Try using .loc[row_indexer,col_indexer] = value instead\n",
      "\n",
      "See the caveats in the documentation: http://pandas.pydata.org/pandas-docs/stable/indexing.html#indexing-view-versus-copy\n",
      "  del sys.path[0]\n",
      "/Users/Katie/anaconda/envs/py36/lib/python3.6/site-packages/ipykernel_launcher.py:14: SettingWithCopyWarning: \n",
      "A value is trying to be set on a copy of a slice from a DataFrame.\n",
      "Try using .loc[row_indexer,col_indexer] = value instead\n",
      "\n",
      "See the caveats in the documentation: http://pandas.pydata.org/pandas-docs/stable/indexing.html#indexing-view-versus-copy\n",
      "  \n",
      "/Users/Katie/anaconda/envs/py36/lib/python3.6/site-packages/ipykernel_launcher.py:16: SettingWithCopyWarning: \n",
      "A value is trying to be set on a copy of a slice from a DataFrame.\n",
      "Try using .loc[row_indexer,col_indexer] = value instead\n",
      "\n",
      "See the caveats in the documentation: http://pandas.pydata.org/pandas-docs/stable/indexing.html#indexing-view-versus-copy\n",
      "  app.launch_new_instance()\n",
      "/Users/Katie/anaconda/envs/py36/lib/python3.6/site-packages/ipykernel_launcher.py:17: SettingWithCopyWarning: \n",
      "A value is trying to be set on a copy of a slice from a DataFrame.\n",
      "Try using .loc[row_indexer,col_indexer] = value instead\n",
      "\n",
      "See the caveats in the documentation: http://pandas.pydata.org/pandas-docs/stable/indexing.html#indexing-view-versus-copy\n",
      "/Users/Katie/anaconda/envs/py36/lib/python3.6/site-packages/ipykernel_launcher.py:18: SettingWithCopyWarning: \n",
      "A value is trying to be set on a copy of a slice from a DataFrame.\n",
      "Try using .loc[row_indexer,col_indexer] = value instead\n",
      "\n",
      "See the caveats in the documentation: http://pandas.pydata.org/pandas-docs/stable/indexing.html#indexing-view-versus-copy\n",
      "/Users/Katie/anaconda/envs/py36/lib/python3.6/site-packages/ipykernel_launcher.py:19: SettingWithCopyWarning: \n",
      "A value is trying to be set on a copy of a slice from a DataFrame.\n",
      "Try using .loc[row_indexer,col_indexer] = value instead\n",
      "\n",
      "See the caveats in the documentation: http://pandas.pydata.org/pandas-docs/stable/indexing.html#indexing-view-versus-copy\n",
      "/Users/Katie/anaconda/envs/py36/lib/python3.6/site-packages/ipykernel_launcher.py:20: SettingWithCopyWarning: \n",
      "A value is trying to be set on a copy of a slice from a DataFrame.\n",
      "Try using .loc[row_indexer,col_indexer] = value instead\n",
      "\n",
      "See the caveats in the documentation: http://pandas.pydata.org/pandas-docs/stable/indexing.html#indexing-view-versus-copy\n",
      "/Users/Katie/anaconda/envs/py36/lib/python3.6/site-packages/ipykernel_launcher.py:21: SettingWithCopyWarning: \n",
      "A value is trying to be set on a copy of a slice from a DataFrame.\n",
      "Try using .loc[row_indexer,col_indexer] = value instead\n",
      "\n",
      "See the caveats in the documentation: http://pandas.pydata.org/pandas-docs/stable/indexing.html#indexing-view-versus-copy\n",
      "/Users/Katie/anaconda/envs/py36/lib/python3.6/site-packages/ipykernel_launcher.py:22: SettingWithCopyWarning: \n",
      "A value is trying to be set on a copy of a slice from a DataFrame.\n",
      "Try using .loc[row_indexer,col_indexer] = value instead\n",
      "\n",
      "See the caveats in the documentation: http://pandas.pydata.org/pandas-docs/stable/indexing.html#indexing-view-versus-copy\n",
      "/Users/Katie/anaconda/envs/py36/lib/python3.6/site-packages/ipykernel_launcher.py:23: SettingWithCopyWarning: \n",
      "A value is trying to be set on a copy of a slice from a DataFrame.\n",
      "Try using .loc[row_indexer,col_indexer] = value instead\n",
      "\n",
      "See the caveats in the documentation: http://pandas.pydata.org/pandas-docs/stable/indexing.html#indexing-view-versus-copy\n",
      "/Users/Katie/anaconda/envs/py36/lib/python3.6/site-packages/ipykernel_launcher.py:24: SettingWithCopyWarning: \n",
      "A value is trying to be set on a copy of a slice from a DataFrame.\n",
      "Try using .loc[row_indexer,col_indexer] = value instead\n",
      "\n",
      "See the caveats in the documentation: http://pandas.pydata.org/pandas-docs/stable/indexing.html#indexing-view-versus-copy\n",
      "/Users/Katie/anaconda/envs/py36/lib/python3.6/site-packages/ipykernel_launcher.py:25: SettingWithCopyWarning: \n",
      "A value is trying to be set on a copy of a slice from a DataFrame.\n",
      "Try using .loc[row_indexer,col_indexer] = value instead\n",
      "\n",
      "See the caveats in the documentation: http://pandas.pydata.org/pandas-docs/stable/indexing.html#indexing-view-versus-copy\n"
     ]
    },
    {
     "name": "stderr",
     "output_type": "stream",
     "text": [
      "/Users/Katie/anaconda/envs/py36/lib/python3.6/site-packages/ipykernel_launcher.py:26: SettingWithCopyWarning: \n",
      "A value is trying to be set on a copy of a slice from a DataFrame.\n",
      "Try using .loc[row_indexer,col_indexer] = value instead\n",
      "\n",
      "See the caveats in the documentation: http://pandas.pydata.org/pandas-docs/stable/indexing.html#indexing-view-versus-copy\n",
      "/Users/Katie/anaconda/envs/py36/lib/python3.6/site-packages/ipykernel_launcher.py:27: SettingWithCopyWarning: \n",
      "A value is trying to be set on a copy of a slice from a DataFrame.\n",
      "Try using .loc[row_indexer,col_indexer] = value instead\n",
      "\n",
      "See the caveats in the documentation: http://pandas.pydata.org/pandas-docs/stable/indexing.html#indexing-view-versus-copy\n",
      "/Users/Katie/anaconda/envs/py36/lib/python3.6/site-packages/ipykernel_launcher.py:28: SettingWithCopyWarning: \n",
      "A value is trying to be set on a copy of a slice from a DataFrame.\n",
      "Try using .loc[row_indexer,col_indexer] = value instead\n",
      "\n",
      "See the caveats in the documentation: http://pandas.pydata.org/pandas-docs/stable/indexing.html#indexing-view-versus-copy\n",
      "/Users/Katie/anaconda/envs/py36/lib/python3.6/site-packages/ipykernel_launcher.py:29: SettingWithCopyWarning: \n",
      "A value is trying to be set on a copy of a slice from a DataFrame.\n",
      "Try using .loc[row_indexer,col_indexer] = value instead\n",
      "\n",
      "See the caveats in the documentation: http://pandas.pydata.org/pandas-docs/stable/indexing.html#indexing-view-versus-copy\n",
      "/Users/Katie/anaconda/envs/py36/lib/python3.6/site-packages/ipykernel_launcher.py:30: SettingWithCopyWarning: \n",
      "A value is trying to be set on a copy of a slice from a DataFrame.\n",
      "Try using .loc[row_indexer,col_indexer] = value instead\n",
      "\n",
      "See the caveats in the documentation: http://pandas.pydata.org/pandas-docs/stable/indexing.html#indexing-view-versus-copy\n",
      "/Users/Katie/anaconda/envs/py36/lib/python3.6/site-packages/ipykernel_launcher.py:32: SettingWithCopyWarning: \n",
      "A value is trying to be set on a copy of a slice from a DataFrame.\n",
      "Try using .loc[row_indexer,col_indexer] = value instead\n",
      "\n",
      "See the caveats in the documentation: http://pandas.pydata.org/pandas-docs/stable/indexing.html#indexing-view-versus-copy\n",
      "/Users/Katie/anaconda/envs/py36/lib/python3.6/site-packages/ipykernel_launcher.py:34: SettingWithCopyWarning: \n",
      "A value is trying to be set on a copy of a slice from a DataFrame.\n",
      "Try using .loc[row_indexer,col_indexer] = value instead\n",
      "\n",
      "See the caveats in the documentation: http://pandas.pydata.org/pandas-docs/stable/indexing.html#indexing-view-versus-copy\n"
     ]
    }
   ],
   "source": [
    "slice_1_ats['end_ts'] = time_ranges[0]\n",
    "slice_2_ats['end_ts'] = time_ranges[1]\n",
    "slice_3_ats['end_ts'] = time_ranges[2]\n",
    "slice_4_ats['end_ts'] = time_ranges[3]\n",
    "slice_5_ats['end_ts'] = time_ranges[4]\n",
    "slice_6_ats['end_ts'] = time_ranges[5]\n",
    "slice_7_ats['end_ts'] = time_ranges[6]\n",
    "slice_8_ats['end_ts'] = time_ranges[7]\n",
    "slice_9_ats['end_ts'] = time_ranges[8]\n",
    "slice_10_ats['end_ts'] = time_ranges[9]\n",
    "slice_11_ats['end_ts'] = time_ranges[10]\n",
    "slice_12_ats['end_ts'] = time_ranges[11]\n",
    "slice_13_ats['end_ts'] = time_ranges[12]\n",
    "slice_14_ats['end_ts'] = time_ranges[13]\n",
    "slice_15_ats['end_ts'] = time_ranges[14]\n",
    "slice_16_ats['end_ts'] = time_ranges[15]\n",
    "slice_17_ats['end_ts'] = time_ranges[16]\n",
    "slice_18_ats['end_ts'] = time_ranges[17]\n",
    "slice_19_ats['end_ts'] = time_ranges[18]\n",
    "slice_20_ats['end_ts'] = time_ranges[19]\n",
    "slice_21_ats['end_ts'] = time_ranges[20]\n",
    "slice_22_ats['end_ts'] = time_ranges[21]\n",
    "slice_23_ats['end_ts'] = time_ranges[22]\n",
    "slice_24_ats['end_ts'] = time_ranges[23]\n",
    "slice_25_ats['end_ts'] = time_ranges[24]\n",
    "slice_26_ats['end_ts'] = time_ranges[25]\n",
    "slice_27_ats['end_ts'] = time_ranges[26]\n",
    "slice_28_ats['end_ts'] = time_ranges[27]\n",
    "slice_29_ats['end_ts'] = time_ranges[28]\n",
    "slice_30_ats['end_ts'] = time_ranges[29]\n",
    "slice_31_ats['end_ts'] = time_ranges[30]\n",
    "slice_32_ats['end_ts'] = time_ranges[31]\n",
    "slice_33_ats['end_ts'] = time_ranges[32]\n",
    "slice_34_ats['end_ts'] = time_ranges[33]"
   ]
  },
  {
   "cell_type": "code",
   "execution_count": 73,
   "metadata": {
    "collapsed": true
   },
   "outputs": [],
   "source": [
    "grouped_at_df = pd.concat([slice_1_ats, slice_2_ats, slice_3_ats, slice_4_ats, slice_5_ats, slice_6_ats, slice_7_ats,\\\n",
    "                          slice_8_ats, slice_9_ats, slice_10_ats, slice_11_ats, slice_12_ats, slice_13_ats, slice_14_ats,\\\n",
    "                          slice_15_ats, slice_16_ats, slice_17_ats, slice_18_ats, slice_19_ats, slice_20_ats, slice_21_ats,\\\n",
    "                          slice_22_ats, slice_23_ats, slice_24_ats, slice_25_ats, slice_26_ats, slice_27_ats, slice_28_ats,\\\n",
    "                          slice_29_ats, slice_30_ats, slice_31_ats, slice_32_ats, slice_33_ats, slice_34_ats])"
   ]
  },
  {
   "cell_type": "code",
   "execution_count": 76,
   "metadata": {},
   "outputs": [
    {
     "data": {
      "text/plain": [
       "array(['2017-11-28T12:00:00.000000000', '2017-11-29T00:00:00.000000000',\n",
       "       '2017-11-29T12:00:00.000000000', '2017-11-30T00:00:00.000000000',\n",
       "       '2017-11-30T12:00:00.000000000', '2017-12-01T00:00:00.000000000',\n",
       "       '2017-12-01T12:00:00.000000000', '2017-12-02T00:00:00.000000000',\n",
       "       '2017-12-02T12:00:00.000000000', '2017-12-03T00:00:00.000000000',\n",
       "       '2017-12-03T12:00:00.000000000', '2017-12-04T00:00:00.000000000',\n",
       "       '2017-12-04T12:00:00.000000000', '2017-12-05T00:00:00.000000000',\n",
       "       '2017-12-06T00:00:00.000000000', '2017-12-06T12:00:00.000000000',\n",
       "       '2017-12-07T00:00:00.000000000', '2017-12-07T12:00:00.000000000',\n",
       "       '2017-12-08T00:00:00.000000000', '2017-12-08T12:00:00.000000000',\n",
       "       '2017-12-09T00:00:00.000000000', '2017-12-09T12:00:00.000000000',\n",
       "       '2017-12-10T00:00:00.000000000', '2017-12-10T12:00:00.000000000',\n",
       "       '2017-12-11T00:00:00.000000000', '2017-12-11T12:00:00.000000000',\n",
       "       '2017-12-12T00:00:00.000000000', '2017-12-12T12:00:00.000000000',\n",
       "       '2017-12-13T00:00:00.000000000', '2017-12-14T00:00:00.000000000',\n",
       "       '2017-12-15T00:00:00.000000000'], dtype='datetime64[ns]')"
      ]
     },
     "execution_count": 76,
     "metadata": {},
     "output_type": "execute_result"
    }
   ],
   "source": [
    "grouped_at_df['end_ts'].unique()\n",
    "\n"
   ]
  },
  {
   "cell_type": "code",
   "execution_count": 82,
   "metadata": {},
   "outputs": [
    {
     "data": {
      "text/html": [
       "<div>\n",
       "<style>\n",
       "    .dataframe thead tr:only-child th {\n",
       "        text-align: right;\n",
       "    }\n",
       "\n",
       "    .dataframe thead th {\n",
       "        text-align: left;\n",
       "    }\n",
       "\n",
       "    .dataframe tbody tr th {\n",
       "        vertical-align: top;\n",
       "    }\n",
       "</style>\n",
       "<table border=\"1\" class=\"dataframe\">\n",
       "  <thead>\n",
       "    <tr>\n",
       "      <th></th>\n",
       "      <th></th>\n",
       "      <th>timestamp</th>\n",
       "    </tr>\n",
       "    <tr>\n",
       "      <th></th>\n",
       "      <th></th>\n",
       "      <th>count</th>\n",
       "    </tr>\n",
       "    <tr>\n",
       "      <th>end_ts</th>\n",
       "      <th>users</th>\n",
       "      <th></th>\n",
       "    </tr>\n",
       "  </thead>\n",
       "  <tbody>\n",
       "    <tr>\n",
       "      <th rowspan=\"30\" valign=\"top\">2017-11-28 12:00:00</th>\n",
       "      <th>@4chan</th>\n",
       "      <td>1</td>\n",
       "    </tr>\n",
       "    <tr>\n",
       "      <th>@7879881122</th>\n",
       "      <td>1</td>\n",
       "    </tr>\n",
       "    <tr>\n",
       "      <th>@7im</th>\n",
       "      <td>1</td>\n",
       "    </tr>\n",
       "    <tr>\n",
       "      <th>@_cberger_</th>\n",
       "      <td>1</td>\n",
       "    </tr>\n",
       "    <tr>\n",
       "      <th>@abc</th>\n",
       "      <td>2</td>\n",
       "    </tr>\n",
       "    <tr>\n",
       "      <th>@abpmajhatv</th>\n",
       "      <td>1</td>\n",
       "    </tr>\n",
       "    <tr>\n",
       "      <th>@ac360</th>\n",
       "      <td>1</td>\n",
       "    </tr>\n",
       "    <tr>\n",
       "      <th>@aclu</th>\n",
       "      <td>6</td>\n",
       "    </tr>\n",
       "    <tr>\n",
       "      <th>@adityakalra</th>\n",
       "      <td>1</td>\n",
       "    </tr>\n",
       "    <tr>\n",
       "      <th>@afrotribuneco</th>\n",
       "      <td>1</td>\n",
       "    </tr>\n",
       "    <tr>\n",
       "      <th>@aftunion</th>\n",
       "      <td>1</td>\n",
       "    </tr>\n",
       "    <tr>\n",
       "      <th>@agschneiderman</th>\n",
       "      <td>2</td>\n",
       "    </tr>\n",
       "    <tr>\n",
       "      <th>@airbnb</th>\n",
       "      <td>1</td>\n",
       "    </tr>\n",
       "    <tr>\n",
       "      <th>@airtel_presence</th>\n",
       "      <td>7</td>\n",
       "    </tr>\n",
       "    <tr>\n",
       "      <th>@airtelindia</th>\n",
       "      <td>2</td>\n",
       "    </tr>\n",
       "    <tr>\n",
       "      <th>@aitcofficial</th>\n",
       "      <td>1</td>\n",
       "    </tr>\n",
       "    <tr>\n",
       "      <th>@ajiolife</th>\n",
       "      <td>1</td>\n",
       "    </tr>\n",
       "    <tr>\n",
       "      <th>@ajitpai</th>\n",
       "      <td>2</td>\n",
       "    </tr>\n",
       "    <tr>\n",
       "      <th>@ajitpaifcc</th>\n",
       "      <td>376</td>\n",
       "    </tr>\n",
       "    <tr>\n",
       "      <th>@ajplus</th>\n",
       "      <td>1</td>\n",
       "    </tr>\n",
       "    <tr>\n",
       "      <th>@aksharpathak</th>\n",
       "      <td>1</td>\n",
       "    </tr>\n",
       "    <tr>\n",
       "      <th>@akshaykumar</th>\n",
       "      <td>1</td>\n",
       "    </tr>\n",
       "    <tr>\n",
       "      <th>@alalibrary</th>\n",
       "      <td>1</td>\n",
       "    </tr>\n",
       "    <tr>\n",
       "      <th>@alysonstoner</th>\n",
       "      <td>1</td>\n",
       "    </tr>\n",
       "    <tr>\n",
       "      <th>@amandaseales</th>\n",
       "      <td>2</td>\n",
       "    </tr>\n",
       "    <tr>\n",
       "      <th>@amazon</th>\n",
       "      <td>7</td>\n",
       "    </tr>\n",
       "    <tr>\n",
       "      <th>@ambertamblyn</th>\n",
       "      <td>1</td>\n",
       "    </tr>\n",
       "    <tr>\n",
       "      <th>@amchamhk</th>\n",
       "      <td>1</td>\n",
       "    </tr>\n",
       "    <tr>\n",
       "      <th>@amitshah</th>\n",
       "      <td>1</td>\n",
       "    </tr>\n",
       "    <tr>\n",
       "      <th>@amol_kulkarni1</th>\n",
       "      <td>1</td>\n",
       "    </tr>\n",
       "    <tr>\n",
       "      <th>...</th>\n",
       "      <th>...</th>\n",
       "      <td>...</td>\n",
       "    </tr>\n",
       "    <tr>\n",
       "      <th rowspan=\"30\" valign=\"top\">2017-12-15 00:00:00</th>\n",
       "      <th>@twittersafety</th>\n",
       "      <td>1</td>\n",
       "    </tr>\n",
       "    <tr>\n",
       "      <th>@txag</th>\n",
       "      <td>3</td>\n",
       "    </tr>\n",
       "    <tr>\n",
       "      <th>@usasenate</th>\n",
       "      <td>1</td>\n",
       "    </tr>\n",
       "    <tr>\n",
       "      <th>@usbtsarmy</th>\n",
       "      <td>1</td>\n",
       "    </tr>\n",
       "    <tr>\n",
       "      <th>@usrealitycheck</th>\n",
       "      <td>1</td>\n",
       "    </tr>\n",
       "    <tr>\n",
       "      <th>@verge</th>\n",
       "      <td>2</td>\n",
       "    </tr>\n",
       "    <tr>\n",
       "      <th>@verizon</th>\n",
       "      <td>20</td>\n",
       "    </tr>\n",
       "    <tr>\n",
       "      <th>@vh1</th>\n",
       "      <td>1</td>\n",
       "    </tr>\n",
       "    <tr>\n",
       "      <th>@vicxoralt</th>\n",
       "      <td>1</td>\n",
       "    </tr>\n",
       "    <tr>\n",
       "      <th>@virginiafoxx</th>\n",
       "      <td>1</td>\n",
       "    </tr>\n",
       "    <tr>\n",
       "      <th>@vonage</th>\n",
       "      <td>1</td>\n",
       "    </tr>\n",
       "    <tr>\n",
       "      <th>@votejakechapman</th>\n",
       "      <td>1</td>\n",
       "    </tr>\n",
       "    <tr>\n",
       "      <th>@washingtonpost</th>\n",
       "      <td>2</td>\n",
       "    </tr>\n",
       "    <tr>\n",
       "      <th>@wdtn</th>\n",
       "      <td>1</td>\n",
       "    </tr>\n",
       "    <tr>\n",
       "      <th>@wdtnmarkallan</th>\n",
       "      <td>1</td>\n",
       "    </tr>\n",
       "    <tr>\n",
       "      <th>@wellsvillecsd</th>\n",
       "      <td>1</td>\n",
       "    </tr>\n",
       "    <tr>\n",
       "      <th>@whitehouse</th>\n",
       "      <td>3</td>\n",
       "    </tr>\n",
       "    <tr>\n",
       "      <th>@whoopigoldberg</th>\n",
       "      <td>1</td>\n",
       "    </tr>\n",
       "    <tr>\n",
       "      <th>@windows</th>\n",
       "      <td>1</td>\n",
       "    </tr>\n",
       "    <tr>\n",
       "      <th>@wired</th>\n",
       "      <td>1</td>\n",
       "    </tr>\n",
       "    <tr>\n",
       "      <th>@wsj</th>\n",
       "      <td>1</td>\n",
       "    </tr>\n",
       "    <tr>\n",
       "      <th>@xataka</th>\n",
       "      <td>1</td>\n",
       "    </tr>\n",
       "    <tr>\n",
       "      <th>@xfinity</th>\n",
       "      <td>1</td>\n",
       "    </tr>\n",
       "    <tr>\n",
       "      <th>@xterra1_</th>\n",
       "      <td>1</td>\n",
       "    </tr>\n",
       "    <tr>\n",
       "      <th>@yahoo</th>\n",
       "      <td>1</td>\n",
       "    </tr>\n",
       "    <tr>\n",
       "      <th>@youranoncentral</th>\n",
       "      <td>1</td>\n",
       "    </tr>\n",
       "    <tr>\n",
       "      <th>@youranonnews</th>\n",
       "      <td>1</td>\n",
       "    </tr>\n",
       "    <tr>\n",
       "      <th>@yourdnrec</th>\n",
       "      <td>1</td>\n",
       "    </tr>\n",
       "    <tr>\n",
       "      <th>@youtube</th>\n",
       "      <td>12</td>\n",
       "    </tr>\n",
       "    <tr>\n",
       "      <th>@zachhaller</th>\n",
       "      <td>1</td>\n",
       "    </tr>\n",
       "  </tbody>\n",
       "</table>\n",
       "<p>21898 rows × 1 columns</p>\n",
       "</div>"
      ],
      "text/plain": [
       "                                     timestamp\n",
       "                                         count\n",
       "end_ts              users                     \n",
       "2017-11-28 12:00:00 @4chan                   1\n",
       "                    @7879881122              1\n",
       "                    @7im                     1\n",
       "                    @_cberger_               1\n",
       "                    @abc                     2\n",
       "                    @abpmajhatv              1\n",
       "                    @ac360                   1\n",
       "                    @aclu                    6\n",
       "                    @adityakalra             1\n",
       "                    @afrotribuneco           1\n",
       "                    @aftunion                1\n",
       "                    @agschneiderman          2\n",
       "                    @airbnb                  1\n",
       "                    @airtel_presence         7\n",
       "                    @airtelindia             2\n",
       "                    @aitcofficial            1\n",
       "                    @ajiolife                1\n",
       "                    @ajitpai                 2\n",
       "                    @ajitpaifcc            376\n",
       "                    @ajplus                  1\n",
       "                    @aksharpathak            1\n",
       "                    @akshaykumar             1\n",
       "                    @alalibrary              1\n",
       "                    @alysonstoner            1\n",
       "                    @amandaseales            2\n",
       "                    @amazon                  7\n",
       "                    @ambertamblyn            1\n",
       "                    @amchamhk                1\n",
       "                    @amitshah                1\n",
       "                    @amol_kulkarni1          1\n",
       "...                                        ...\n",
       "2017-12-15 00:00:00 @twittersafety           1\n",
       "                    @txag                    3\n",
       "                    @usasenate               1\n",
       "                    @usbtsarmy               1\n",
       "                    @usrealitycheck          1\n",
       "                    @verge                   2\n",
       "                    @verizon                20\n",
       "                    @vh1                     1\n",
       "                    @vicxoralt               1\n",
       "                    @virginiafoxx            1\n",
       "                    @vonage                  1\n",
       "                    @votejakechapman         1\n",
       "                    @washingtonpost          2\n",
       "                    @wdtn                    1\n",
       "                    @wdtnmarkallan           1\n",
       "                    @wellsvillecsd           1\n",
       "                    @whitehouse              3\n",
       "                    @whoopigoldberg          1\n",
       "                    @windows                 1\n",
       "                    @wired                   1\n",
       "                    @wsj                     1\n",
       "                    @xataka                  1\n",
       "                    @xfinity                 1\n",
       "                    @xterra1_                1\n",
       "                    @yahoo                   1\n",
       "                    @youranoncentral         1\n",
       "                    @youranonnews            1\n",
       "                    @yourdnrec               1\n",
       "                    @youtube                12\n",
       "                    @zachhaller              1\n",
       "\n",
       "[21898 rows x 1 columns]"
      ]
     },
     "execution_count": 82,
     "metadata": {},
     "output_type": "execute_result"
    }
   ],
   "source": [
    "grouped_at_df.groupby(['end_ts', 'users']).agg(['count'])"
   ]
  },
  {
   "cell_type": "code",
   "execution_count": null,
   "metadata": {
    "collapsed": true
   },
   "outputs": [],
   "source": []
  },
  {
   "cell_type": "code",
   "execution_count": null,
   "metadata": {
    "collapsed": true
   },
   "outputs": [],
   "source": []
  },
  {
   "cell_type": "code",
   "execution_count": null,
   "metadata": {
    "collapsed": true
   },
   "outputs": [],
   "source": [
    "at_dataframe = pd.DataFrame(at_table_array, columns=['user','timestamp'])\n",
    "grouped_at_df = at_dataframe.copy()"
   ]
  },
  {
   "cell_type": "code",
   "execution_count": null,
   "metadata": {
    "collapsed": true
   },
   "outputs": [],
   "source": [
    "grouped_at_df"
   ]
  },
  {
   "cell_type": "code",
   "execution_count": null,
   "metadata": {
    "collapsed": true
   },
   "outputs": [],
   "source": [
    "day_1_am_df = at_dataframe[(at_dataframe['timestamp'] > '2017-11-28 00:00:01') & (at_dataframe['timestamp'] < '2017-11-28 12:00:00')]\n",
    "day_1_pm_df = mega_df_12h_slice.loc['2017-11-28 12:00:01':'2017-11-29 00:00:00']\n",
    "day_2_am_df = mega_df_12h_slice.loc['2017-11-29 00:00:01':'2017-11-29 12:00:00']\n",
    "day_2_pm_df = mega_df_12h_slice.loc['2017-11-29 12:00:01':'2017-11-30 00:00:00']\n",
    "day_3_am_df = mega_df_12h_slice.loc['2017-11-30 00:00:01':'2017-11-30 12:00:00']\n",
    "day_3_pm_df = mega_df_12h_slice.loc['2017-11-30 12:00:01':'2017-12-01 00:00:00']\n",
    "day_4_am_df = mega_df_12h_slice.loc['2017-12-01 00:00:01':'2017-12-01 12:00:00']\n",
    "day_4_pm_df = mega_df_12h_slice.loc['2017-12-01 12:00:01':'2017-12-02 00:00:00']\n",
    "day_5_am_df = mega_df_12h_slice.loc['2017-12-02 00:00:01':'2017-12-02 12:00:00']\n",
    "day_5_pm_df = mega_df_12h_slice.loc['2017-12-02 12:00:01':'2017-12-03 00:00:00']\n",
    "day_6_am_df = mega_df_12h_slice.loc['2017-12-03 00:00:01':'2017-12-03 12:00:00']\n",
    "day_6_pm_df = mega_df_12h_slice.loc['2017-12-03 12:00:01':'2017-12-04 00:00:00']\n",
    "day_7_am_df = mega_df_12h_slice.loc['2017-12-04 00:00:01':'2017-12-04 12:00:00']\n",
    "day_7_pm_df = mega_df_12h_slice.loc['2017-12-04 12:00:01':'2017-12-05 00:00:00']\n",
    "day_8_am_df = mega_df_12h_slice.loc['2017-12-05 00:00:01':'2017-12-05 12:00:00']\n",
    "day_8_pm_df = mega_df_12h_slice.loc['2017-12-05 12:00:01':'2017-12-06 00:00:00']\n",
    "day_9_am_df = mega_df_12h_slice.loc['2017-12-06 00:00:01':'2017-12-06 12:00:00']\n",
    "day_9_pm_df = mega_df_12h_slice.loc['2017-12-06 12:00:01':'2017-12-07 00:00:00']\n",
    "day_10_am_df = mega_df_12h_slice.loc['2017-12-07 00:00:01':'2017-12-07 12:00:00']\n",
    "day_10_pm_df = mega_df_12h_slice.loc['2017-12-07 12:00:01':'2017-12-08 00:00:00']\n",
    "day_11_am_df = mega_df_12h_slice.loc['2017-12-08 00:00:01':'2017-12-08 12:00:00']\n",
    "day_11_pm_df = mega_df_12h_slice.loc['2017-12-08 12:00:01':'2017-12-09 00:00:00']\n",
    "day_12_am_df = mega_df_12h_slice.loc['2017-12-09 00:00:01':'2017-12-09 12:00:00']\n",
    "day_12_pm_df = mega_df_12h_slice.loc['2017-12-09 12:00:01':'2017-12-10 00:00:00']\n",
    "day_13_am_df = mega_df_12h_slice.loc['2017-12-10 00:00:01':'2017-12-10 12:00:00']\n",
    "day_13_pm_df = mega_df_12h_slice.loc['2017-12-10 12:00:01':'2017-12-11 00:00:00']\n",
    "day_14_am_df = mega_df_12h_slice.loc['2017-12-11 00:00:01':'2017-12-11 12:00:00']\n",
    "day_14_pm_df = mega_df_12h_slice.loc['2017-12-11 12:00:01':'2017-12-12 00:00:00']\n",
    "day_15_am_df = mega_df_12h_slice.loc['2017-12-12 00:00:01':'2017-12-12 12:00:00']\n",
    "day_15_pm_df = mega_df_12h_slice.loc['2017-12-12 12:00:01':'2017-12-13 00:00:00']\n",
    "day_16_am_df = mega_df_12h_slice.loc['2017-12-13 00:00:01':'2017-12-13 12:00:00']\n",
    "day_16_pm_df = mega_df_12h_slice.loc['2017-12-13 12:00:01':'2017-12-14 00:00:00']\n",
    "day_17_am_df = mega_df_12h_slice.loc['2017-12-14 00:00:01':'2017-12-14 12:00:00']\n",
    "day_17_pm_df = mega_df_12h_slice.loc['2017-12-14 12:00:01':'2017-12-15 00:00:00']"
   ]
  },
  {
   "cell_type": "code",
   "execution_count": null,
   "metadata": {
    "collapsed": true
   },
   "outputs": [],
   "source": [
    "count_of_at_tweets = 0\n",
    "for item in mega_df_final['@s']:\n",
    "    if len(item) != 0:\n",
    "        count_of_at_tweets += len(item)\n",
    "        \n",
    "count_of_at_tweets"
   ]
  },
  {
   "cell_type": "code",
   "execution_count": null,
   "metadata": {
    "collapsed": true
   },
   "outputs": [],
   "source": [
    "# Dataframe with each person who was mentioned and the timestamp that it happened (every single mention)\n",
    "\n",
    "at_dataframe = pd.DataFrame(np.zeros((count_of_at_tweets, 2)), columns=['user', 'timestamp'])"
   ]
  },
  {
   "cell_type": "code",
   "execution_count": null,
   "metadata": {
    "collapsed": true
   },
   "outputs": [],
   "source": [
    "for idx, at in enumerate(mega_df_final['@s'][:20]):\n",
    "    if len(at) != 0:\n",
    "        for item in at:\n",
    "            at_dataframe.iloc[i]['user'] = item\n",
    "            at_dataframe.iloc[i]['timestamp'] = mega_df_final.iloc[idx]['timestamp']\n",
    "            i += 1"
   ]
  },
  {
   "cell_type": "code",
   "execution_count": null,
   "metadata": {
    "collapsed": true
   },
   "outputs": [],
   "source": [
    "at_dataframe"
   ]
  },
  {
   "cell_type": "code",
   "execution_count": null,
   "metadata": {
    "collapsed": true
   },
   "outputs": [],
   "source": [
    "for idx, user in enumerate(at_dataframe['user']):\n",
    "    at_dataframe.iloc[idx]['total_ats'] = Counter[user]\n",
    "    at_dataframe.iloc[user]['timestamp'] = "
   ]
  },
  {
   "cell_type": "code",
   "execution_count": null,
   "metadata": {
    "collapsed": true
   },
   "outputs": [],
   "source": [
    "mega_df_final"
   ]
  },
  {
   "cell_type": "code",
   "execution_count": null,
   "metadata": {
    "collapsed": true
   },
   "outputs": [],
   "source": []
  },
  {
   "cell_type": "code",
   "execution_count": null,
   "metadata": {
    "collapsed": true
   },
   "outputs": [],
   "source": []
  },
  {
   "cell_type": "code",
   "execution_count": null,
   "metadata": {
    "collapsed": true
   },
   "outputs": [],
   "source": []
  },
  {
   "cell_type": "code",
   "execution_count": null,
   "metadata": {
    "collapsed": true
   },
   "outputs": [],
   "source": [
    "## Slice the data up into 12 hour windows"
   ]
  },
  {
   "cell_type": "code",
   "execution_count": null,
   "metadata": {
    "collapsed": true
   },
   "outputs": [],
   "source": []
  },
  {
   "cell_type": "code",
   "execution_count": null,
   "metadata": {
    "collapsed": true
   },
   "outputs": [],
   "source": [
    "# Create a copy of the main dataframe. Figure out how many total days there are. Make the timestamp the index so these\n",
    "\n",
    "mega_df_12h_slice = mega_df_final\n",
    "num_days = len(mega_df_12h_slice['timestamp'].dt.day.unique())\n",
    "mega_df_12h_slice = mega_df_12h_slice.set_index(['timestamp'])"
   ]
  },
  {
   "cell_type": "code",
   "execution_count": null,
   "metadata": {
    "collapsed": true
   },
   "outputs": [],
   "source": []
  },
  {
   "cell_type": "code",
   "execution_count": null,
   "metadata": {
    "collapsed": true
   },
   "outputs": [],
   "source": [
    "# ...but not too easily. Slice the dataframe into 12 hour windows manually.\n",
    "\n",
    "day_1_am_df = mega_df_12h_slice.loc['2017-11-28 00:00:01':'2017-11-28 12:00:00']\n",
    "day_1_pm_df = mega_df_12h_slice.loc['2017-11-28 12:00:01':'2017-11-29 00:00:00']\n",
    "day_2_am_df = mega_df_12h_slice.loc['2017-11-29 00:00:01':'2017-11-29 12:00:00']\n",
    "day_2_pm_df = mega_df_12h_slice.loc['2017-11-29 12:00:01':'2017-11-30 00:00:00']\n",
    "day_3_am_df = mega_df_12h_slice.loc['2017-11-30 00:00:01':'2017-11-30 12:00:00']\n",
    "day_3_pm_df = mega_df_12h_slice.loc['2017-11-30 12:00:01':'2017-12-01 00:00:00']\n",
    "day_4_am_df = mega_df_12h_slice.loc['2017-12-01 00:00:01':'2017-12-01 12:00:00']\n",
    "day_4_pm_df = mega_df_12h_slice.loc['2017-12-01 12:00:01':'2017-12-02 00:00:00']\n",
    "day_5_am_df = mega_df_12h_slice.loc['2017-12-02 00:00:01':'2017-12-02 12:00:00']\n",
    "day_5_pm_df = mega_df_12h_slice.loc['2017-12-02 12:00:01':'2017-12-03 00:00:00']\n",
    "day_6_am_df = mega_df_12h_slice.loc['2017-12-03 00:00:01':'2017-12-03 12:00:00']\n",
    "day_6_pm_df = mega_df_12h_slice.loc['2017-12-03 12:00:01':'2017-12-04 00:00:00']\n",
    "day_7_am_df = mega_df_12h_slice.loc['2017-12-04 00:00:01':'2017-12-04 12:00:00']\n",
    "day_7_pm_df = mega_df_12h_slice.loc['2017-12-04 12:00:01':'2017-12-05 00:00:00']\n",
    "day_8_am_df = mega_df_12h_slice.loc['2017-12-05 00:00:01':'2017-12-05 12:00:00']\n",
    "day_8_pm_df = mega_df_12h_slice.loc['2017-12-05 12:00:01':'2017-12-06 00:00:00']\n",
    "day_9_am_df = mega_df_12h_slice.loc['2017-12-06 00:00:01':'2017-12-06 12:00:00']\n",
    "day_9_pm_df = mega_df_12h_slice.loc['2017-12-06 12:00:01':'2017-12-07 00:00:00']\n",
    "day_10_am_df = mega_df_12h_slice.loc['2017-12-07 00:00:01':'2017-12-07 12:00:00']\n",
    "day_10_pm_df = mega_df_12h_slice.loc['2017-12-07 12:00:01':'2017-12-08 00:00:00']\n",
    "day_11_am_df = mega_df_12h_slice.loc['2017-12-08 00:00:01':'2017-12-08 12:00:00']\n",
    "day_11_pm_df = mega_df_12h_slice.loc['2017-12-08 12:00:01':'2017-12-09 00:00:00']\n",
    "day_12_am_df = mega_df_12h_slice.loc['2017-12-09 00:00:01':'2017-12-09 12:00:00']\n",
    "day_12_pm_df = mega_df_12h_slice.loc['2017-12-09 12:00:01':'2017-12-10 00:00:00']\n",
    "day_13_am_df = mega_df_12h_slice.loc['2017-12-10 00:00:01':'2017-12-10 12:00:00']\n",
    "day_13_pm_df = mega_df_12h_slice.loc['2017-12-10 12:00:01':'2017-12-11 00:00:00']\n",
    "day_14_am_df = mega_df_12h_slice.loc['2017-12-11 00:00:01':'2017-12-11 12:00:00']\n",
    "day_14_pm_df = mega_df_12h_slice.loc['2017-12-11 12:00:01':'2017-12-12 00:00:00']\n",
    "day_15_am_df = mega_df_12h_slice.loc['2017-12-12 00:00:01':'2017-12-12 12:00:00']\n",
    "day_15_pm_df = mega_df_12h_slice.loc['2017-12-12 12:00:01':'2017-12-13 00:00:00']\n",
    "day_16_am_df = mega_df_12h_slice.loc['2017-12-13 00:00:01':'2017-12-13 12:00:00']\n",
    "day_16_pm_df = mega_df_12h_slice.loc['2017-12-13 12:00:01':'2017-12-14 00:00:00']\n",
    "day_17_am_df = mega_df_12h_slice.loc['2017-12-14 00:00:01':'2017-12-14 12:00:00']\n",
    "day_17_pm_df = mega_df_12h_slice.loc['2017-12-14 12:00:01':'2017-12-15 00:00:00']"
   ]
  },
  {
   "cell_type": "code",
   "execution_count": null,
   "metadata": {
    "collapsed": true
   },
   "outputs": [],
   "source": [
    "# Confirming that this contains the same number of entries total as the original dataframe.\n",
    "\n",
    "print(len(day_1_am_df['user']) + len(day_1_pm_df['user']) + len(day_2_am_df['user']) + len(day_2_pm_df['user']) \\\n",
    "+ len(day_3_am_df['user']) + len(day_3_pm_df['user']) + len(day_4_am_df['user']) + len(day_4_pm_df['user'])\\\n",
    "+ len(day_5_am_df['user']) + len(day_5_pm_df['user']) + len(day_6_am_df['user']) + len(day_6_pm_df['user'])\\\n",
    "+ len(day_7_am_df['user']) + len(day_7_pm_df['user']) + len(day_8_am_df['user']) + len(day_8_pm_df['user'])\\\n",
    "+ len(day_9_am_df['user']) + len(day_9_pm_df['user']) + len(day_10_am_df['user']) + len(day_10_pm_df['user'])\\\n",
    "+ len(day_11_am_df['user']) + len(day_11_pm_df['user']) + len(day_12_am_df['user']) + len(day_12_pm_df['user'])\\\n",
    "+ len(day_13_am_df['user']) + len(day_13_pm_df['user']) + len(day_14_am_df['user']) + len(day_14_pm_df['user'])\\\n",
    "+ len(day_15_am_df['user']) + len(day_15_pm_df['user']) + len(day_16_am_df['user']) + len(day_16_pm_df['user'])\\\n",
    "+ len(day_17_am_df['user']) + len(day_17_pm_df['user']))\n",
    "\n",
    "print(len(mega_df_final['user']))"
   ]
  },
  {
   "cell_type": "code",
   "execution_count": null,
   "metadata": {
    "collapsed": true
   },
   "outputs": [],
   "source": [
    "# Create an array of all unique users that are mentioned in tweets.\n",
    "\n",
    "mentioned_set = set()\n",
    "\n",
    "for item in mega_df_final['@s']:\n",
    "    for name in item:\n",
    "        mentioned_set.add(name)\n",
    "        \n",
    "mentioned_array = np.array(list(mentioned_set))"
   ]
  },
  {
   "cell_type": "code",
   "execution_count": null,
   "metadata": {
    "collapsed": true
   },
   "outputs": [],
   "source": [
    "# Use the above array to create a dataframe of all unique users who are mentioned in tweets with a 'frequency' column\n",
    "# to be filled in with the probability each user will be mentioned in any randomly selected tweet.\n",
    "\n",
    "user_mention_freq_df = pd.DataFrame(mentioned_array, columns=['user'])\n",
    "user_mention_freq_df['prob_of_appearing'] = pd.Series(np.zeros((len(mentioned_set), )))"
   ]
  },
  {
   "cell_type": "code",
   "execution_count": null,
   "metadata": {
    "collapsed": true
   },
   "outputs": [],
   "source": [
    "# Create a counter dictionary that tells us how many times every unique user was @d in a tweet.\n",
    "\n",
    "at_counter = Counter()\n",
    "\n",
    "for at in mega_df_final['@s']:\n",
    "    for item in at:\n",
    "        at_counter[item] += 1"
   ]
  },
  {
   "cell_type": "code",
   "execution_count": null,
   "metadata": {
    "collapsed": true
   },
   "outputs": [],
   "source": [
    "# Fill in the 'prob_of_appearing' column.\n",
    "\n",
    "total_tweets = mega_df_final['text'].count()\n",
    "\n",
    "for i, user in enumerate(user_mention_freq_df['user']):\n",
    "    user_mention_freq_df.at[i, 'prob_of_appearing'] = (at_counter[user] / total_tweets)"
   ]
  },
  {
   "cell_type": "code",
   "execution_count": null,
   "metadata": {
    "collapsed": true
   },
   "outputs": [],
   "source": [
    "# Create a 'prob_12h_slice' column that has this value for each user (which will become lambda).\n",
    "\n",
    "user_mention_freq_df['prob_12h_slice'] = user_mention_freq_df['prob_of_appearing'] / (num_days / (1/2))"
   ]
  },
  {
   "cell_type": "code",
   "execution_count": null,
   "metadata": {
    "collapsed": true
   },
   "outputs": [],
   "source": []
  },
  {
   "cell_type": "code",
   "execution_count": null,
   "metadata": {
    "collapsed": true
   },
   "outputs": [],
   "source": [
    "slice_df_list = [day_1_am_df\n",
    "day_1_pm_df, day_2_am_df, day_2_pm_df, day_3_am_df, day_3_pm_df, day_4_am_df, day_4_pm_df,\\\n",
    "day_5_am_df, day_5_pm_df, day_6_am_df, day_6_pm_df, day_7_am_df, day_7_pm_df, day_8_am_df, day_8_pm_df, day_9_am_df,\\\n",
    "day_9_pm_df, day_10_am_df, day_10_pm_df, day_11_am_df, day_11_pm_df, day_12_am_df, day_12_pm_df, day_13_am_df,\\\n",
    "day_13_pm_df, day_14_am_df, day_14_pm_df, day_15_am_df, day_15_pm_df, day_16_am_df, day_16_pm_df, day_17_am_df, day_17_pm_df]"
   ]
  },
  {
   "cell_type": "code",
   "execution_count": null,
   "metadata": {
    "collapsed": true
   },
   "outputs": [],
   "source": [
    "for "
   ]
  },
  {
   "cell_type": "code",
   "execution_count": null,
   "metadata": {
    "collapsed": true
   },
   "outputs": [],
   "source": [
    "list_of_at_counters = []\n",
    "\n",
    "for slice_df in slice_df_list:\n",
    "    at_counter = Counter()\n",
    "    for at in slice_df['@s']:\n",
    "        for item in at:\n",
    "            at_counter[item] += 1\n",
    "    list_of_at_counters.append(at_counter)\n",
    "    \n",
    "len(list_of_at_counters)"
   ]
  },
  {
   "cell_type": "code",
   "execution_count": null,
   "metadata": {
    "collapsed": true
   },
   "outputs": [],
   "source": [
    "for name in slice_df_list:\n",
    "    print(str(name.))"
   ]
  },
  {
   "cell_type": "code",
   "execution_count": null,
   "metadata": {
    "collapsed": true
   },
   "outputs": [],
   "source": [
    "slice_df_list_text = [str(df)]"
   ]
  },
  {
   "cell_type": "code",
   "execution_count": null,
   "metadata": {
    "collapsed": true
   },
   "outputs": [],
   "source": [
    "# Correct poisson format: 2 = k, .1 = lambda\n",
    "\n",
    "scipy.poisson.pmf(2, .1)"
   ]
  },
  {
   "cell_type": "code",
   "execution_count": null,
   "metadata": {
    "collapsed": true
   },
   "outputs": [],
   "source": [
    "new_columns = ['day_1_am_ats', 'day_1_am_ats_prob', 'day_1_pm_ats', 'day_1_pm_ats_prob',\\\n",
    "'day_2_am_ats', 'day_2_am_ats_prob', 'day_2_pm_ats', 'day_2_pm_ats_prob', 'day_3_am_ats', 'day_3_am_ats_prob', 'day_3_pm_ats',\\\n",
    "'day_3_pm_ats_prob', 'day_4_am_ats', 'day_4_am_ats_prob', 'day_4_pm_ats', 'day_4_pm_ats_prob', 'day_5_am_ats', 'day_5_am_ats_prob',\\\n",
    "'day_5_pm_ats', 'day_5_pm_ats_prob', 'day_6_am_ats', 'day_6_am_ats_prob', 'day_6_pm_ats', 'day_6_pm_ats_prob', 'day_7_am_ats',\\\n",
    "'day_7_am_ats_prob', 'day_7_pm_ats', 'day_7_pm_ats_prob', 'day_8_am_ats', 'day_8_am_ats_prob', 'day_8_pm_ats', 'day_8_pm_ats_prob',\\\n",
    "'day_9_am_ats', 'day_9_am_ats_prob', 'day_9_pm_ats', 'day_9_pm_ats_prob', 'day_10_am_ats', 'day_10_am_ats_prob',\\\n",
    "'day_10_pm_ats', 'day_10_pm_ats_prob', 'day_11_am_ats', 'day_11_am_ats_prob', 'day_11_pm_ats', 'day_11_pm_ats_prob',\\\n",
    "'day_12_am_ats', 'day_12_am_ats_prob', 'day_12_pm_ats', 'day_12_pm_ats_prob', 'day_13_am_ats', 'day_13_am_ats_prob',\\\n",
    "'day_13_pm_ats', 'day_13_pm_ats_prob', 'day_14_am_ats', 'day_14_am_ats_prob', 'day_14_pm_ats', 'day_14_pm_ats_prob',\\\n",
    "'day_15_am_ats', 'day_15_am_ats_prob', 'day_15_pm_ats', 'day_15_pm_ats_prob', 'day_16_am_ats', 'day_16_am_ats_prob',\\\n",
    "'day_16_pm_ats', 'day_16_pm_ats_prob', 'day_17_am_ats', 'day_17_am_ats_prob', 'day_17_pm_ats', 'day_17_pm_ats_prob']"
   ]
  },
  {
   "cell_type": "code",
   "execution_count": null,
   "metadata": {
    "collapsed": true
   },
   "outputs": [],
   "source": []
  },
  {
   "cell_type": "code",
   "execution_count": null,
   "metadata": {
    "collapsed": true
   },
   "outputs": [],
   "source": [
    "for name in new_columns:\n",
    "    user_mention_freq_df[name] = 0.0"
   ]
  },
  {
   "cell_type": "code",
   "execution_count": null,
   "metadata": {
    "collapsed": true
   },
   "outputs": [],
   "source": [
    "for idx, user in enumerate(user_mention_freq_df['user']):\n",
    "#     at_counter = Counter()\n",
    "#     for at in mega_df_final['@s']:\n",
    "#         for item in at:\n",
    "#             at_counter[item] += 1\n",
    "    for column in user_mention_freq_df.columns[3:71:2]:\n",
    "        user_mention_freq_df.iloc[idx][column] = 0"
   ]
  },
  {
   "cell_type": "code",
   "execution_count": null,
   "metadata": {
    "collapsed": true
   },
   "outputs": [],
   "source": [
    "day_1_am_df\n",
    "day_1_pm_df\n",
    "day_2_am_df\n",
    "day_2_pm_df\n",
    "day_3_am_df\n",
    "day_3_pm_df\n",
    "day_4_am_df\n",
    "day_4_pm_df\n",
    "day_5_am_df\n",
    "day_5_pm_df\n",
    "day_6_am_df\n",
    "day_6_pm_df\n",
    "day_7_am_df\n",
    "day_7_pm_df\n",
    "day_8_am_df\n",
    "day_8_pm_df\n",
    "day_9_am_df\n",
    "day_9_pm_df\n",
    "day_10_am_df\n",
    "day_10_pm_df\n",
    "day_11_am_df\n",
    "day_11_pm_df\n",
    "day_12_am_df\n",
    "day_12_pm_df\n",
    "day_13_am_df\n",
    "day_13_pm_df\n",
    "day_14_am_df\n",
    "day_14_pm_df\n",
    "day_15_am_df\n",
    "day_15_pm_df\n",
    "day_16_am_df\n",
    "day_16_pm_df\n",
    "day_17_am_df\n",
    "day_17_pm_df"
   ]
  }
 ],
 "metadata": {
  "kernelspec": {
   "display_name": "Python 3",
   "language": "python",
   "name": "python3"
  },
  "language_info": {
   "codemirror_mode": {
    "name": "ipython",
    "version": 3
   },
   "file_extension": ".py",
   "mimetype": "text/x-python",
   "name": "python",
   "nbconvert_exporter": "python",
   "pygments_lexer": "ipython3",
   "version": "3.6.3"
  }
 },
 "nbformat": 4,
 "nbformat_minor": 2
}
