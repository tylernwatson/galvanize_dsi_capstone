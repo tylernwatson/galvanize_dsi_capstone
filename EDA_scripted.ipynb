{
 "cells": [
  {
   "cell_type": "markdown",
   "metadata": {},
   "source": [
    "# WHAT ARE WE YELLING ABOUT?"
   ]
  },
  {
   "cell_type": "markdown",
   "metadata": {},
   "source": [
    "# Import Data"
   ]
  },
  {
   "cell_type": "code",
   "execution_count": 90,
   "metadata": {},
   "outputs": [
    {
     "name": "stdout",
     "output_type": "stream",
     "text": [
      "The autoreload extension is already loaded. To reload it, use:\n",
      "  %reload_ext autoreload\n"
     ]
    }
   ],
   "source": [
    "import community\n",
    "import operator\n",
    "import networkx as nx\n",
    "import pandas as pd\n",
    "import numpy as np\n",
    "import matplotlib.pyplot as plt\n",
    "import seaborn as sns\n",
    "import EDA as eda\n",
    "import json\n",
    "import scipy.stats as scipy\n",
    "\n",
    "sns.set(color_codes = True)\n",
    "\n",
    "%matplotlib inline\n",
    "%load_ext autoreload\n",
    "%autoreload 2"
   ]
  },
  {
   "cell_type": "code",
   "execution_count": null,
   "metadata": {
    "collapsed": true
   },
   "outputs": [],
   "source": [
    "mega_df = eda.import_files()"
   ]
  },
  {
   "cell_type": "code",
   "execution_count": null,
   "metadata": {},
   "outputs": [],
   "source": [
    "mega_df.describe()"
   ]
  },
  {
   "cell_type": "markdown",
   "metadata": {},
   "source": [
    "# Data Cleaning"
   ]
  },
  {
   "cell_type": "code",
   "execution_count": null,
   "metadata": {
    "collapsed": true
   },
   "outputs": [],
   "source": [
    "# This creates new columns for hashtags (other than #netneutrality), links, and mentions in the tweet data.\n",
    "# It also creates a field for text without links since the same tweets with slightly different URLs keep\n",
    "# coming up.\n",
    "\n",
    "mega_df[\"other_hashtags\"] = mega_df[\"text\"].apply(eda.get_hashtags)\n",
    "mega_df[\"links\"] = mega_df[\"text\"].apply(eda.get_links)\n",
    "mega_df[\"@s\"] = mega_df[\"text\"].apply(eda.get_mentions)\n",
    "mega_df['cleaned_text'] = mega_df['text'].apply(eda.clean_text)"
   ]
  },
  {
   "cell_type": "code",
   "execution_count": null,
   "metadata": {},
   "outputs": [],
   "source": [
    "d = {'text': ['oh wow @tyler sucks', '@!$ is that', 'hey@234tjeld fuk', '@', \"suck @fcc's dick\"]}\n",
    "test_df = pd.DataFrame(data=d)\n",
    "test_df"
   ]
  },
  {
   "cell_type": "code",
   "execution_count": null,
   "metadata": {},
   "outputs": [],
   "source": [
    "test_df[\"@s\"] = test_df[\"text\"].apply(eda.get_mentions)\n",
    "test_df"
   ]
  },
  {
   "cell_type": "markdown",
   "metadata": {},
   "source": [
    "## Identifying guided information campaigns"
   ]
  },
  {
   "cell_type": "code",
   "execution_count": null,
   "metadata": {
    "collapsed": true
   },
   "outputs": [],
   "source": [
    "# Create Counter that will tally up the number of times text appears in tweets\n",
    "\n",
    "tweet_text_dict = eda.tweet_text_dict_fn(mega_df)"
   ]
  },
  {
   "cell_type": "code",
   "execution_count": null,
   "metadata": {
    "collapsed": true
   },
   "outputs": [],
   "source": [
    "campaign_tweet_set = eda.create_campaign_tweet_set(tweet_text_dict)\n",
    "original_tweet_set = eda.create_original_tweet_set(tweet_text_dict)"
   ]
  },
  {
   "cell_type": "code",
   "execution_count": null,
   "metadata": {
    "collapsed": true
   },
   "outputs": [],
   "source": [
    "def info_campaign(text):\n",
    "    if text in campaign_tweet_set:\n",
    "        return 1\n",
    "    else:\n",
    "        return 0"
   ]
  },
  {
   "cell_type": "code",
   "execution_count": null,
   "metadata": {
    "collapsed": true
   },
   "outputs": [],
   "source": [
    "def original_tweet(text):\n",
    "    if text in original_tweet_set:\n",
    "        return 1\n",
    "    else:\n",
    "        return 0"
   ]
  },
  {
   "cell_type": "code",
   "execution_count": null,
   "metadata": {
    "collapsed": true
   },
   "outputs": [],
   "source": [
    "# Create new columns using above functions\n",
    "\n",
    "mega_df['info_campaign'] = mega_df['cleaned_text'].apply(info_campaign)\n",
    "mega_df['original_tweet'] = mega_df['cleaned_text'].apply(original_tweet)"
   ]
  },
  {
   "cell_type": "markdown",
   "metadata": {},
   "source": [
    "## Get to work seeing if there are any tweets in here that appear to be pro-repeal of net neutrality"
   ]
  },
  {
   "cell_type": "code",
   "execution_count": null,
   "metadata": {
    "collapsed": true
   },
   "outputs": [],
   "source": [
    "# Function to be used in apply - labels tweets that appear to be pro-repeal of net neutrality\n",
    "\n",
    "mega_df['pro_repeal'] = mega_df['other_hashtags'].apply(eda.negative_tweet_grab)"
   ]
  },
  {
   "cell_type": "code",
   "execution_count": null,
   "metadata": {
    "collapsed": true
   },
   "outputs": [],
   "source": [
    "# Create array of usernames that were classified as 'pro-repeal'\n",
    "\n",
    "pro_repeal_users = mega_df['user'][mega_df['pro_repeal'] == 1]\n",
    "pro_repeal_users_unique = mega_df['user'][mega_df['pro_repeal'] == 1].unique()"
   ]
  },
  {
   "cell_type": "markdown",
   "metadata": {},
   "source": [
    "## Ok, now let's split the data into 3 categories:\n",
    "### * Guided information campaign tweets\n",
    "### * Original tweets (only showed up one time)\n",
    "### * Tweets that appear to be pro-repeal of net neutrality that still used #netneutrality "
   ]
  },
  {
   "cell_type": "code",
   "execution_count": null,
   "metadata": {
    "collapsed": true
   },
   "outputs": [],
   "source": [
    "campaign_tweets_df = mega_df[(mega_df['info_campaign'] == 1)]\n",
    "original_tweets_df = mega_df[(mega_df['original_tweet'] == 1) & (mega_df['pro_repeal'] == 0)]\n",
    "\n",
    "# All of the tweets in this category are determined to be original - there were not any that were classified as \\\n",
    "# pro-repeal and part of an information campaign. The total number of pro-repeal tweets is low.\n",
    "repeal_tweets_df = mega_df[(mega_df['pro_repeal'] == 1) & (mega_df['original_tweet'] == 1)]"
   ]
  },
  {
   "cell_type": "code",
   "execution_count": null,
   "metadata": {
    "collapsed": true
   },
   "outputs": [],
   "source": [
    "original_total = mega_df['fullname'].count()\n",
    "new_total = (campaign_tweets_df['fullname'].count()) + (original_tweets_df['fullname'].count()) + \\\n",
    "(repeal_tweets_df['fullname'].count())\n",
    "\n",
    "# This removed a total of 7.72% of my data since I was not confident in how to classify it as an information campaign\n",
    "# or original tweet.\n",
    "print(((original_total - new_total) / original_total) * 100)"
   ]
  },
  {
   "cell_type": "markdown",
   "metadata": {},
   "source": [
    "## Some EDA"
   ]
  },
  {
   "cell_type": "code",
   "execution_count": null,
   "metadata": {
    "collapsed": true
   },
   "outputs": [],
   "source": [
    "# For my final dataset, what was the breakdown between these three categories?\n",
    "total_tweets = campaign_tweets_df['fullname'].count() + repeal_tweets_df['fullname'].count() + original_tweets_df['fullname'].count()\n",
    "percentages = [str(campaign_tweets_df['fullname'].count()/total_tweets), str(repeal_tweets_df['fullname'].count()/total_tweets), \\\n",
    "         str(original_tweets_df['fullname'].count()/total_tweets)]\n",
    "\n",
    "plt.axes(aspect='equal')\n",
    "plt.pie([campaign_tweets_df['fullname'].count(), repeal_tweets_df['fullname'].count(), \\\n",
    "         original_tweets_df['fullname'].count()], explode=[.1, .1 , .1], \\\n",
    "        labels=['Campaign Tweets', 'Repeal Tweets', 'Original Tweets'], autopct='%3.2f%%')\n",
    "plt.title('Percent of Tweets in Each Category')\n",
    "plt.show()"
   ]
  },
  {
   "cell_type": "code",
   "execution_count": null,
   "metadata": {
    "collapsed": true
   },
   "outputs": [],
   "source": [
    "mega_df['retweets'].describe()"
   ]
  },
  {
   "cell_type": "code",
   "execution_count": null,
   "metadata": {
    "collapsed": true
   },
   "outputs": [],
   "source": [
    "# Count of retweets with outliers removed\n",
    "\n",
    "retweets_outliers_rmv = eda.remove_outliers(mega_df, 'retweets')"
   ]
  },
  {
   "cell_type": "code",
   "execution_count": null,
   "metadata": {
    "collapsed": true
   },
   "outputs": [],
   "source": [
    "ticks = np.linspace(0,1, 11)\n",
    "\n",
    "plt.hist(retweets_outliers_rmv, alpha=.5, bins = retweets_outliers_rmv.max(), normed=True)\n",
    "plt.xlabel('Number of Retweets')\n",
    "plt.ylabel('Percent of Total')\n",
    "plt.yticks(ticks)\n",
    "plt.title('Less than 20% of all Tweets were retweeted')\n",
    "plt.xlim(0,10)\n",
    "plt.show()"
   ]
  },
  {
   "cell_type": "code",
   "execution_count": null,
   "metadata": {
    "collapsed": true
   },
   "outputs": [],
   "source": [
    "# Count of likes with outliers removed\n",
    "\n",
    "likes_outliers_rmv = eda.remove_outliers(mega_df, 'likes')"
   ]
  },
  {
   "cell_type": "code",
   "execution_count": null,
   "metadata": {
    "collapsed": true
   },
   "outputs": [],
   "source": [
    "ticks = np.linspace(0,1, 11)\n",
    "\n",
    "plt.hist(likes_outliers_rmv, alpha=.5, bins = likes_outliers_rmv.max(), normed=True)\n",
    "plt.xlabel('Number of Likes')\n",
    "plt.ylabel('Percent of Total')\n",
    "plt.yticks(ticks)\n",
    "plt.title('Less than 30% of all Tweets were liked')\n",
    "plt.xlim(0,10)\n",
    "plt.show()"
   ]
  },
  {
   "cell_type": "code",
   "execution_count": null,
   "metadata": {
    "collapsed": true
   },
   "outputs": [],
   "source": [
    "# Count of replies with outliers removed\n",
    "\n",
    "replies_outliers_rmv = eda.remove_outliers(mega_df, 'replies')"
   ]
  },
  {
   "cell_type": "code",
   "execution_count": null,
   "metadata": {
    "collapsed": true
   },
   "outputs": [],
   "source": [
    "ticks = np.linspace(0,1, 11)\n",
    "\n",
    "plt.hist(replies_outliers_rmv, bins = replies_outliers_rmv.max(), alpha=.5, normed=True)\n",
    "plt.xlabel('Number of Replies')\n",
    "plt.ylabel('Percent of Total')\n",
    "plt.yticks(ticks)\n",
    "plt.title('Less than 10% of all Tweets had replies')\n",
    "plt.xlim(0,10)\n",
    "plt.show()"
   ]
  },
  {
   "cell_type": "markdown",
   "metadata": {},
   "source": [
    "## Time to compare the different categories"
   ]
  },
  {
   "cell_type": "code",
   "execution_count": null,
   "metadata": {
    "collapsed": true
   },
   "outputs": [],
   "source": [
    "# Original tweets\n",
    "\n",
    "orig_retweets_outliers_rmv = eda.remove_outliers(original_tweets_df, 'retweets')\n",
    "\n",
    "orig_likes_outliers_rmv = eda.remove_outliers(original_tweets_df, 'likes')\n",
    "\n",
    "orig_replies_outliers_rmv = eda.remove_outliers(original_tweets_df, 'replies')"
   ]
  },
  {
   "cell_type": "code",
   "execution_count": null,
   "metadata": {
    "collapsed": true
   },
   "outputs": [],
   "source": [
    "# Campaign tweets\n",
    "\n",
    "campaign_retweets_outliers_rmv = eda.remove_outliers(campaign_tweets_df, 'retweets')\n",
    "\n",
    "campaign_likes_outliers_rmv = eda.remove_outliers(campaign_tweets_df, 'likes')\n",
    "\n",
    "campaign_replies_outliers_rmv = eda.remove_outliers(campaign_tweets_df, 'replies')"
   ]
  },
  {
   "cell_type": "code",
   "execution_count": null,
   "metadata": {
    "collapsed": true
   },
   "outputs": [],
   "source": [
    "ticks = np.linspace(0,1, 11)\n",
    "bins_x = orig_replies_outliers_rmv.max()\n",
    "bins_y = campaign_replies_outliers_rmv.max()\n",
    "\n",
    "x = orig_replies_outliers_rmv\n",
    "y = campaign_replies_outliers_rmv\n",
    "\n",
    "plt.hist(x, alpha=0.5, bins=bins_x, label='Replies to Original Tweets', normed=1)\n",
    "plt.hist(y, alpha=0.5, bins=bins_y, label='Replies to Campaign Tweets', normed=1)\n",
    "plt.yticks(ticks)\n",
    "plt.xlim(0, 15)\n",
    "plt.legend(loc='upper right')\n",
    "plt.title('Very Few Campaign Tweets Get Replies')\n",
    "plt.show()"
   ]
  },
  {
   "cell_type": "markdown",
   "metadata": {},
   "source": [
    "I hypothesize that people can tell what is real and what is a campaign and they are much more likely to engage in organic conversations by replying.\n",
    "# Change y axis to log scale"
   ]
  },
  {
   "cell_type": "code",
   "execution_count": null,
   "metadata": {
    "collapsed": true
   },
   "outputs": [],
   "source": [
    "original_replies = (original_tweets_df[original_tweets_df['replies'] != 0]['fullname'].count() / len(original_tweets_df['replies'])) * 100\n",
    "campaign_replies = (campaign_tweets_df[campaign_tweets_df['replies'] != 0]['fullname'].count() / len(campaign_tweets_df['replies'])) * 100\n",
    "\n",
    "print('Of all original tweets in the data, {:0.2f}% had a reply.'.format(original_replies))\n",
    "print('Of all campaign tweets in the data, {:0.2f}% had a reply.'.format(campaign_replies))"
   ]
  },
  {
   "cell_type": "code",
   "execution_count": null,
   "metadata": {
    "collapsed": true
   },
   "outputs": [],
   "source": [
    "ticks = np.linspace(0,1, 11)\n",
    "bins_x = orig_retweets_outliers_rmv.max()\n",
    "bins_y = campaign_retweets_outliers_rmv.max()\n",
    "x = orig_retweets_outliers_rmv\n",
    "y = campaign_retweets_outliers_rmv\n",
    "\n",
    "plt.hist(x, alpha=0.5, bins=bins_x, label='Retweets of Original Tweets', normed=1)\n",
    "plt.hist(y, alpha=0.5, bins=bins_y, label='Retweets of Campaign Tweets', normed=1)\n",
    "plt.yticks(ticks)\n",
    "plt.xlim(0, 15)\n",
    "plt.legend(loc='upper right')\n",
    "plt.title('About A Quarter of Original Tweets Were Retweeted')\n",
    "plt.show()"
   ]
  },
  {
   "cell_type": "code",
   "execution_count": null,
   "metadata": {
    "collapsed": true
   },
   "outputs": [],
   "source": [
    "original_retweets = (original_tweets_df[original_tweets_df['retweets'] != 0]['fullname'].count() / len(original_tweets_df['retweets'])) * 100\n",
    "campaign_retweets = (campaign_tweets_df[campaign_tweets_df['retweets'] != 0]['fullname'].count() / len(campaign_tweets_df['retweets'])) * 100\n",
    "\n",
    "print('Of all original tweets in the data, {:0.2f}% were retweeted.'.format(original_retweets))\n",
    "print('Of all campaign tweets in the data, {:0.2f}% were retweeted.'.format(campaign_retweets))"
   ]
  },
  {
   "cell_type": "code",
   "execution_count": null,
   "metadata": {
    "collapsed": true
   },
   "outputs": [],
   "source": [
    "ticks = np.linspace(0,1, 11)\n",
    "bins_x = orig_likes_outliers_rmv.max()\n",
    "bins_y = campaign_likes_outliers_rmv.max()\n",
    "x = orig_likes_outliers_rmv\n",
    "y = campaign_likes_outliers_rmv\n",
    "\n",
    "plt.hist(x, alpha=0.5, bins=bins_x, label='Likes of Original Tweets', normed=1)\n",
    "plt.hist(y, alpha=0.5, bins=bins_y, label='Likes of Campaign Tweets', normed=1)\n",
    "plt.yticks(ticks)\n",
    "plt.xlim(0, 15)\n",
    "plt.legend(loc='upper right')\n",
    "plt.title('')\n",
    "plt.show()"
   ]
  },
  {
   "cell_type": "code",
   "execution_count": null,
   "metadata": {
    "collapsed": true
   },
   "outputs": [],
   "source": [
    "original_likes = (original_tweets_df[original_tweets_df['likes'] != 0]['fullname'].count() / len(original_tweets_df['likes'])) * 100\n",
    "campaign_likes = (campaign_tweets_df[campaign_tweets_df['likes'] != 0]['fullname'].count() / len(campaign_tweets_df['likes'])) * 100\n",
    "\n",
    "print('Of all original tweets in the data, {:0.2f}% got likes.'.format(original_likes))\n",
    "print('Of all campaign tweets in the data, {:0.2f}% got likes.'.format(campaign_likes))"
   ]
  },
  {
   "cell_type": "markdown",
   "metadata": {},
   "source": [
    "## Start doing some NLP"
   ]
  },
  {
   "cell_type": "code",
   "execution_count": null,
   "metadata": {
    "collapsed": true
   },
   "outputs": [],
   "source": [
    "import spacy\n",
    "\n",
    "nlp = spacy.load('en_core_web_md')"
   ]
  },
  {
   "cell_type": "code",
   "execution_count": null,
   "metadata": {
    "collapsed": true
   },
   "outputs": [],
   "source": [
    "def get_adj_lemmas(dataframe):\n",
    "    lemma = []\n",
    "    for doc in nlp.pipe(dataframe['cleaned_text'].astype('unicode').values, batch_size=50,\n",
    "                            n_threads=3):\n",
    "        if doc.is_parsed:\n",
    "            lemma.append([n.lemma_ for n in doc if (n.pos_ == 'ADJ') & (n.lemma_ != '-PRON-')])\n",
    "        else:\n",
    "            # We want to make sure that the lists of parsed results have the\n",
    "            # same number of entries of the original Dataframe, so add some blanks in case the parse fails\n",
    "            lemma.append(None)\n",
    "\n",
    "    dataframe['adj_lemmas'] = lemma\n",
    "    return dataframe"
   ]
  },
  {
   "cell_type": "code",
   "execution_count": null,
   "metadata": {
    "collapsed": true
   },
   "outputs": [],
   "source": [
    "mega_df_1 = mega_df[:50000]\n",
    "mega_df_2 = mega_df[50000:100000]\n",
    "mega_df_3 = mega_df[100000:150000]\n",
    "mega_df_4 = mega_df[150000:200000]\n",
    "mega_df_5 = mega_df[200000:250000]\n",
    "mega_df_6 = mega_df[250000:300000]\n",
    "mega_df_7 = mega_df[300000:350000]\n",
    "mega_df_8 = mega_df[350000:400000]\n",
    "mega_df_9 = mega_df[400000:]\n",
    "\n",
    "slice_list = [mega_df_1, mega_df_2, mega_df_3, mega_df_4, mega_df_5, mega_df_6, mega_df_7, mega_df_8, mega_df_9]"
   ]
  },
  {
   "cell_type": "code",
   "execution_count": null,
   "metadata": {
    "collapsed": true
   },
   "outputs": [],
   "source": [
    "# mega_df_1 = get_adj_lemmas(mega_df_1)\n",
    "# mega_df_2 = get_adj_lemmas(mega_df_2)\n",
    "# mega_df_3 = get_adj_lemmas(mega_df_3)\n",
    "# mega_df_4 = get_adj_lemmas(mega_df_4)\n",
    "# mega_df_5 = get_adj_lemmas(mega_df_5)\n",
    "# mega_df_6 = get_adj_lemmas(mega_df_6)\n",
    "# mega_df_7 = get_adj_lemmas(mega_df_7)\n",
    "# mega_df_8 = get_adj_lemmas(mega_df_8)\n",
    "# mega_df_9 = get_adj_lemmas(mega_df_9)\n",
    "\n",
    "# mega_df_final = pd.concat([mega_df_1, mega_df_2, mega_df_3, mega_df_4, mega_df_5, mega_df_6, mega_df_7, mega_df_8, \\\n",
    "#                           mega_df_9], ignore_index=True)"
   ]
  },
  {
   "cell_type": "code",
   "execution_count": null,
   "metadata": {
    "collapsed": true
   },
   "outputs": [],
   "source": [
    "# mega_df_final.to_json('./mega_df_final.json')"
   ]
  },
  {
   "cell_type": "code",
   "execution_count": 6,
   "metadata": {},
   "outputs": [],
   "source": [
    "mega_df_final = pd.read_json('data/mega_df_final.json')\n",
    "mega_df_final = mega_df_final.sort_index(axis=0)"
   ]
  },
  {
   "cell_type": "markdown",
   "metadata": {},
   "source": [
    "## For each day recorded, what percent of tweets were original vs campaign?"
   ]
  },
  {
   "cell_type": "code",
   "execution_count": null,
   "metadata": {
    "collapsed": true
   },
   "outputs": [],
   "source": [
    "mega_df_by_date = mega_df_final.set_index(\"timestamp\")\n",
    "mega_df_by_date = mega_df_by_date.resample(\"D\").sum()"
   ]
  },
  {
   "cell_type": "code",
   "execution_count": null,
   "metadata": {},
   "outputs": [],
   "source": [
    "N = len(mega_df_by_date.index)\n",
    "campaigns = mega_df_by_date['info_campaign']\n",
    "originals = mega_df_by_date['original_tweet']\n",
    "ind = np.arange(N)    # the x locations for the groups\n",
    "width = 0.35       # the width of the bars: can also be len(x) sequence\n",
    "\n",
    "plt.subplots(figsize=(8,8))\n",
    "\n",
    "p1 = plt.bar(ind, campaigns, width, color='#d62728')\n",
    "p2 = plt.bar(ind + width, originals, width)\n",
    "\n",
    "plt.ylabel('Total Tweets')\n",
    "plt.title('Daily Counts of Campaign vs Original Tweets')\n",
    "plt.xticks(ind, (mega_df_by_date.index.date), rotation=90)\n",
    "# plt.yticks(np.arange(0, 81, 10))\n",
    "plt.legend((p1[0], p2[0]), ('Campaign Tweets', 'Original Tweets'))\n",
    "\n",
    "plt.show()"
   ]
  },
  {
   "cell_type": "code",
   "execution_count": null,
   "metadata": {},
   "outputs": [],
   "source": [
    "# Make data\n",
    "data = pd.DataFrame({'Campaign Tweets':mega_df_by_date['info_campaign'], 'Original Tweets':mega_df_by_date['original_tweet']})\n",
    " \n",
    "# We need to transform the data from raw data to percentage (fraction)\n",
    "data_perc = data.divide(data.sum(axis=1), axis=0)\n",
    "\n",
    "N = len(mega_df_by_date.index)\n",
    "ind = np.arange(N)    # the x locations for the groups\n",
    "\n",
    "# Make the plot\n",
    "plt.subplots(figsize=(8,8))\n",
    "\n",
    "plt.stackplot(ind, data_perc['Campaign Tweets'],  data_perc['Original Tweets'], labels=['Campaign','Original'], cmap='Pastel1')\n",
    "plt.legend(loc='upper left')\n",
    "plt.margins(0,0)\n",
    "plt.xticks(ind, (mega_df_by_date.index.date), rotation=90)\n",
    "\n",
    "plt.title('Campaign/Original Tweets as a Fraction of Total by day')\n",
    "plt.show()\n"
   ]
  },
  {
   "cell_type": "markdown",
   "metadata": {},
   "source": [
    "## Look at some adjectives"
   ]
  },
  {
   "cell_type": "code",
   "execution_count": null,
   "metadata": {
    "collapsed": true
   },
   "outputs": [],
   "source": [
    "update_campaign_tweets_df = mega_df_final[mega_df_final['info_campaign'] == 1].drop_duplicates(subset='text')\n",
    "update_original_tweets_df = mega_df_final[mega_df_final['original_tweet'] == 1]"
   ]
  },
  {
   "cell_type": "code",
   "execution_count": null,
   "metadata": {
    "collapsed": true
   },
   "outputs": [],
   "source": [
    "from collections import Counter\n",
    "\n",
    "original_adj_counter = Counter()\n",
    "ignore_list = ['net', 'that', 'more', 'many', 'able', 'much', 'which', '“']\n",
    "\n",
    "for adjs in update_original_tweets_df['adj_lemmas']:\n",
    "    if (len(adjs) != 0):\n",
    "        for adj in adjs:\n",
    "            if adj not in ignore_list:\n",
    "                original_adj_counter[adj] += 1"
   ]
  },
  {
   "cell_type": "code",
   "execution_count": null,
   "metadata": {
    "collapsed": true
   },
   "outputs": [],
   "source": [
    "campaign_adj_counter = Counter()\n",
    "ignore_list = ['net', 'that', 'more', 'many', 'able', 'much', 'which', 'fccs', 'monthsnapchat', 'powerfulinternetproviderslike', 'thiscontact']\n",
    "\n",
    "for adjs in update_campaign_tweets_df['adj_lemmas']:\n",
    "    if (len(adj) != 0):\n",
    "        for adj in adjs:\n",
    "            if adj not in ignore_list:\n",
    "                campaign_adj_counter[adj] += 1"
   ]
  },
  {
   "cell_type": "code",
   "execution_count": null,
   "metadata": {},
   "outputs": [],
   "source": [
    "counts = dict(campaign_adj_counter.most_common(10))\n",
    "\n",
    "labels, values = zip(*counts.items())\n",
    "\n",
    "# sort your values in descending order\n",
    "indSort = np.argsort(values)[::-1]\n",
    "\n",
    "# rearrange your data\n",
    "labels = np.array(labels)[indSort]\n",
    "values = np.array(values)[indSort]\n",
    "\n",
    "indexes = np.arange(len(labels))\n",
    "\n",
    "bar_width = 0.35\n",
    "\n",
    "plt.subplots(figsize=(8,8))\n",
    "plt.bar(indexes, values, alpha=.5)\n",
    "plt.xticks(rotation=45)\n",
    "\n",
    "# add labels\n",
    "plt.xticks(indexes, labels)\n",
    "plt.title('Most Common Adjectives in Guided Information Campaigns')\n",
    "plt.ylabel('Appearances')\n",
    "plt.xlabel('Word')\n",
    "plt.show()"
   ]
  },
  {
   "cell_type": "code",
   "execution_count": null,
   "metadata": {},
   "outputs": [],
   "source": [
    "counts = dict(original_adj_counter.most_common(10))\n",
    "\n",
    "labels, values = zip(*counts.items())\n",
    "\n",
    "# sort your values in descending order\n",
    "indSort = np.argsort(values)[::-1]\n",
    "\n",
    "# rearrange your data\n",
    "labels = np.array(labels)[indSort]\n",
    "values = np.array(values)[indSort]\n",
    "\n",
    "indexes = np.arange(len(labels))\n",
    "\n",
    "bar_width = 0.35\n",
    "\n",
    "plt.subplots(figsize=(8,8))\n",
    "plt.bar(indexes, values, alpha=.5)\n",
    "plt.xticks(rotation=45)\n",
    "\n",
    "# add labels\n",
    "plt.xticks(indexes, labels, rotation=45)\n",
    "plt.title('Most Common Adjectives in Original Tweets')\n",
    "plt.ylabel('Appearances')\n",
    "plt.xlabel('Word')\n",
    "plt.show()"
   ]
  },
  {
   "cell_type": "markdown",
   "metadata": {},
   "source": [
    "## Getting prepped to make a force-directed graph of @s\n",
    "#### First, get a set of all @s done\n",
    "#### Find every n=2 permutation of those that show up in tweets done\n",
    "#### Remove dupes done\n",
    "#### Get a count done\n",
    "#### Get them formatted like the d3 graph will need"
   ]
  },
  {
   "cell_type": "code",
   "execution_count": null,
   "metadata": {
    "collapsed": true
   },
   "outputs": [],
   "source": [
    "# Create a list of every 2-item combo of mentions found in tweets in the data.\n",
    "flat_list = eda.combos_of_ats(mega_df_final)\n",
    "\n",
    "# Arrange these into an array where the two mentions are arranged in alphabetical order.\n",
    "alpha_array = eda.alpha_tuples(flat_list)\n",
    "\n",
    "# Put this into a dataframe where the first item in every pair is in column 'source' and the second item is in column\n",
    "# 'target'. Create a column 'count' that has a count of every time each pair showed up in the data.\n",
    "grouped_source_target_df = eda.create_grouped_source_target(alpha_array)"
   ]
  },
  {
   "cell_type": "code",
   "execution_count": null,
   "metadata": {},
   "outputs": [],
   "source": [
    "# Restrict this to only pairs that showed up 10 times or more. The graph won't be interpretable otherwise, and this is\n",
    "# a good threshold for determining whether or not accounts were mentioned together frequenlty enough to matter.\n",
    "grouped_source_target_df = grouped_source_target_df[grouped_source_target_df['count'] > 9]"
   ]
  },
  {
   "cell_type": "code",
   "execution_count": null,
   "metadata": {
    "collapsed": true
   },
   "outputs": [],
   "source": [
    "# Create an index of all the unique mentions in the data.\n",
    "unique_ats = pd.Index(grouped_source_target_df['source']\n",
    "                      .append(grouped_source_target_df['target'])\n",
    "                      .reset_index(drop=True).unique())"
   ]
  },
  {
   "cell_type": "code",
   "execution_count": null,
   "metadata": {
    "collapsed": true
   },
   "outputs": [],
   "source": [
    "# Create a list of every edge - a time that two accounts were mentioned in the same tweet.\n",
    "links_list = eda.create_links_list(grouped_source_target_df, unique_ats)\n",
    "\n",
    "# Create a list of every node\n",
    "nodes_list = eda.create_nodes_list(unique_ats)"
   ]
  },
  {
   "cell_type": "code",
   "execution_count": null,
   "metadata": {
    "collapsed": true
   },
   "outputs": [],
   "source": [
    "# Create this as a NetworkX graph object so I can do some community detection\n",
    "G = nx.Graph()\n",
    "\n",
    "# Add nodes to the graph\n",
    "for node in nodes_list:\n",
    "    G.add_node(node['index'], name=node['name'])\n",
    "\n",
    "# Add links to the graph\n",
    "for link in links_list:\n",
    "    G.add_edge(link['source'], link['target'], weight=link['value'])"
   ]
  },
  {
   "cell_type": "code",
   "execution_count": null,
   "metadata": {},
   "outputs": [],
   "source": [
    "# Create optimized communities using Louvain modularity\n",
    "communities = community.best_partition(G, partition=None, weight='weight', resolution=1.0, randomize=False)"
   ]
  },
  {
   "cell_type": "code",
   "execution_count": null,
   "metadata": {},
   "outputs": [],
   "source": [
    "# Add community numbers to the nodes\n",
    "for idx, group in enumerate(communities.values()):\n",
    "    nodes_list[idx]['group'] = group"
   ]
  },
  {
   "cell_type": "code",
   "execution_count": null,
   "metadata": {
    "collapsed": true
   },
   "outputs": [],
   "source": [
    "json_prep = {\"nodes\":nodes_list, \"links\":links_list}\n",
    "json_dump = json.dumps(json_prep, indent=1, sort_keys=True)\n",
    "\n",
    "filename_out = 'nodes_edges.json'\n",
    "json_out = open(filename_out,'w')\n",
    "json_out.write(json_dump)\n",
    "json_out.close()"
   ]
  },
  {
   "cell_type": "code",
   "execution_count": null,
   "metadata": {},
   "outputs": [],
   "source": [
    "bc_dict = nx.betweenness_centrality(G, weight='weight')\n",
    "sorted_bc_tups = sorted(bc_dict.items(), key=operator.itemgetter(1), reverse=True)"
   ]
  },
  {
   "cell_type": "markdown",
   "metadata": {},
   "source": [
    "### Remove highest betweened node and redo the graph to see if other communities come up"
   ]
  },
  {
   "cell_type": "code",
   "execution_count": null,
   "metadata": {},
   "outputs": [],
   "source": [
    "# Create a list of every 2-item combo of mentions found in tweets in the data that DO NOT include the node with\n",
    "# highest betweenness centrality ('@ajitpaifcc').\n",
    "\n",
    "flat_list_one_removed = []\n",
    "\n",
    "for item in flat_list:\n",
    "    if nodes_list[sorted_bc_tups[0][0]]['name'] not in item:\n",
    "        flat_list_one_removed.append(item)"
   ]
  },
  {
   "cell_type": "code",
   "execution_count": null,
   "metadata": {},
   "outputs": [],
   "source": [
    "# Arrange these into an array where the two mentions are arranged in alphabetical order.\n",
    "alpha_array_one_removed = eda.alpha_tuples(flat_list_one_removed)\n",
    "\n",
    "# Put this into a dataframe where the first item in every pair is in column 'source' and the second item is in column\n",
    "# 'target'. Create a column 'count' that has a count of every time each pair showed up in the data.\n",
    "grouped_source_target_df_one_removed = eda.create_grouped_source_target(alpha_array_one_removed)"
   ]
  },
  {
   "cell_type": "code",
   "execution_count": null,
   "metadata": {
    "collapsed": true
   },
   "outputs": [],
   "source": [
    "grouped_source_target_df_one_removed = grouped_source_target_df_one_removed[grouped_source_target_df_one_removed['count'] > 8]"
   ]
  },
  {
   "cell_type": "code",
   "execution_count": null,
   "metadata": {
    "collapsed": true
   },
   "outputs": [],
   "source": [
    "# Create an index of all the unique mentions in the data.\n",
    "unique_ats_one_removed = pd.Index(grouped_source_target_df_one_removed['source']\n",
    "                      .append(grouped_source_target_df_one_removed['target'])\n",
    "                      .reset_index(drop=True).unique())"
   ]
  },
  {
   "cell_type": "code",
   "execution_count": null,
   "metadata": {
    "collapsed": true
   },
   "outputs": [],
   "source": [
    "# Create a list of every edge - a time that two accounts were mentioned in the same tweet.\n",
    "links_list_one_removed = eda.create_links_list(grouped_source_target_df_one_removed, unique_ats_one_removed)\n",
    "\n",
    "# Create a list of every node\n",
    "nodes_list_one_removed = eda.create_nodes_list(unique_ats_one_removed)"
   ]
  },
  {
   "cell_type": "code",
   "execution_count": null,
   "metadata": {
    "collapsed": true
   },
   "outputs": [],
   "source": [
    "G_one_removed = nx.Graph()"
   ]
  },
  {
   "cell_type": "code",
   "execution_count": null,
   "metadata": {
    "collapsed": true
   },
   "outputs": [],
   "source": [
    "for node in nodes_list_one_removed:\n",
    "    G_one_removed.add_node(node['index'], name=node['name'])"
   ]
  },
  {
   "cell_type": "code",
   "execution_count": null,
   "metadata": {
    "collapsed": true
   },
   "outputs": [],
   "source": [
    "for link in links_list_one_removed:\n",
    "    G_one_removed.add_edge(link['source'], link['target'], weight=link['value'])"
   ]
  },
  {
   "cell_type": "code",
   "execution_count": null,
   "metadata": {
    "collapsed": true
   },
   "outputs": [],
   "source": [
    "communities_one_removed = community.best_partition(G_one_removed, partition=None, weight='weight', resolution=1.0, randomize=False)"
   ]
  },
  {
   "cell_type": "code",
   "execution_count": null,
   "metadata": {},
   "outputs": [],
   "source": [
    "for idx, group in enumerate(communities_one_removed.values()):\n",
    "    nodes_list_one_removed[idx]['group'] = group"
   ]
  },
  {
   "cell_type": "code",
   "execution_count": null,
   "metadata": {
    "collapsed": true
   },
   "outputs": [],
   "source": [
    "json_prep_removed = {\"nodes\":nodes_list_one_removed, \"links\":links_list_one_removed}\n",
    "json_dump_removed = json.dumps(json_prep_removed, indent=1, sort_keys=True)\n",
    "\n",
    "filename_out = 'nodes_edges_one_removed.json'\n",
    "json_out = open(filename_out,'w')\n",
    "json_out.write(json_dump_removed)\n",
    "json_out.close()"
   ]
  },
  {
   "cell_type": "markdown",
   "metadata": {},
   "source": [
    "### Remove second highest betweened node and redo the graph to see if other communities come up"
   ]
  },
  {
   "cell_type": "code",
   "execution_count": null,
   "metadata": {
    "collapsed": true
   },
   "outputs": [],
   "source": [
    "# Create a list of every 2-item combo of mentions found in tweets in the data that DO NOT include the two nodes with\n",
    "# highest betweenness centrality ('@ajitpaifcc').\n",
    "\n",
    "flat_list_two_removed = []\n",
    "\n",
    "for item in flat_list:\n",
    "    if (nodes_list[sorted_bc_tups[0][0]]['name'] not in item) & (nodes_list[sorted_bc_tups[1][0]]['name'] not in item):\n",
    "        flat_list_two_removed.append(item)"
   ]
  },
  {
   "cell_type": "code",
   "execution_count": null,
   "metadata": {
    "collapsed": true
   },
   "outputs": [],
   "source": [
    "# Arrange these into an array where the two mentions are arranged in alphabetical order.\n",
    "alpha_array_two_removed = eda.alpha_tuples(flat_list_two_removed)\n",
    "\n",
    "# Put this into a dataframe where the first item in every pair is in column 'source' and the second item is in column\n",
    "# 'target'. Create a column 'count' that has a count of every time each pair showed up in the data.\n",
    "grouped_source_target_df_two_removed = eda.create_grouped_source_target(alpha_array_two_removed)"
   ]
  },
  {
   "cell_type": "code",
   "execution_count": null,
   "metadata": {
    "collapsed": true
   },
   "outputs": [],
   "source": [
    "grouped_source_target_df_two_removed = grouped_source_target_df_two_removed[grouped_source_target_df_two_removed['count'] > 8]"
   ]
  },
  {
   "cell_type": "code",
   "execution_count": null,
   "metadata": {
    "collapsed": true
   },
   "outputs": [],
   "source": [
    "# Create an index of all the unique mentions in the data.\n",
    "unique_ats_two_removed = pd.Index(grouped_source_target_df_two_removed['source']\n",
    "                      .append(grouped_source_target_df_two_removed['target'])\n",
    "                      .reset_index(drop=True).unique())"
   ]
  },
  {
   "cell_type": "code",
   "execution_count": null,
   "metadata": {
    "collapsed": true
   },
   "outputs": [],
   "source": [
    "# Create a list of every edge - a time that two accounts were mentioned in the same tweet.\n",
    "links_list_two_removed = eda.create_links_list(grouped_source_target_df_two_removed, unique_ats_two_removed)\n",
    "\n",
    "# Create a list of every node\n",
    "nodes_list_two_removed = eda.create_nodes_list(unique_ats_two_removed)"
   ]
  },
  {
   "cell_type": "code",
   "execution_count": null,
   "metadata": {
    "collapsed": true
   },
   "outputs": [],
   "source": [
    "G_two_removed = nx.Graph()"
   ]
  },
  {
   "cell_type": "code",
   "execution_count": null,
   "metadata": {
    "collapsed": true
   },
   "outputs": [],
   "source": [
    "for node in nodes_list_two_removed:\n",
    "    G_two_removed.add_node(node['index'], name=node['name'])"
   ]
  },
  {
   "cell_type": "code",
   "execution_count": null,
   "metadata": {
    "collapsed": true
   },
   "outputs": [],
   "source": [
    "for link in links_list_two_removed:\n",
    "    G_two_removed.add_edge(link['source'], link['target'], weight=link['value'])"
   ]
  },
  {
   "cell_type": "code",
   "execution_count": null,
   "metadata": {
    "collapsed": true
   },
   "outputs": [],
   "source": [
    "communities_two_removed = community.best_partition(G_two_removed, partition=None, weight='weight', resolution=1.0, randomize=False)"
   ]
  },
  {
   "cell_type": "code",
   "execution_count": null,
   "metadata": {
    "collapsed": true
   },
   "outputs": [],
   "source": [
    "for idx, group in enumerate(communities_two_removed.values()):\n",
    "    nodes_list_two_removed[idx]['group'] = group"
   ]
  },
  {
   "cell_type": "code",
   "execution_count": null,
   "metadata": {
    "collapsed": true
   },
   "outputs": [],
   "source": [
    "json_prep_2_removed = {\"nodes\":nodes_list_two_removed, \"links\":links_list_two_removed}\n",
    "json_dump_2_removed = json.dumps(json_prep_2_removed, indent=1, sort_keys=True)\n",
    "\n",
    "filename_out = 'nodes_edges_two_removed.json'\n",
    "json_out = open(filename_out,'w')\n",
    "json_out.write(json_dump_2_removed)\n",
    "json_out.close()"
   ]
  },
  {
   "cell_type": "code",
   "execution_count": null,
   "metadata": {
    "collapsed": true
   },
   "outputs": [],
   "source": []
  },
  {
   "cell_type": "code",
   "execution_count": null,
   "metadata": {
    "collapsed": true
   },
   "outputs": [],
   "source": []
  },
  {
   "cell_type": "markdown",
   "metadata": {},
   "source": [
    "Pick a time window (12 hours is probably good) and determine the probabilities on a gamma distro of each user showing up over that period (will need to use Bayesian modeling to update priors). Set a threshold above which I will consider something to be showing up more than expected. When this happens, look at the communities that are being detected."
   ]
  },
  {
   "cell_type": "code",
   "execution_count": null,
   "metadata": {
    "collapsed": true
   },
   "outputs": [],
   "source": [
    "## Slice the data up into 12 hour windows"
   ]
  },
  {
   "cell_type": "code",
   "execution_count": null,
   "metadata": {},
   "outputs": [],
   "source": [
    "mega_df_12h_slice = mega_df_final"
   ]
  },
  {
   "cell_type": "code",
   "execution_count": null,
   "metadata": {},
   "outputs": [],
   "source": [
    "mega_df_12h_slice['timestamp'].head()"
   ]
  },
  {
   "cell_type": "code",
   "execution_count": null,
   "metadata": {},
   "outputs": [],
   "source": [
    "mega_df_12h_slice = mega_df_final\n",
    "num_days = len(mega_df_12h_slice['timestamp'].dt.day.unique())"
   ]
  },
  {
   "cell_type": "code",
   "execution_count": null,
   "metadata": {},
   "outputs": [],
   "source": [
    "mega_df_12h_slice = mega_df_12h_slice.set_index(['timestamp'])"
   ]
  },
  {
   "cell_type": "code",
   "execution_count": null,
   "metadata": {},
   "outputs": [],
   "source": [
    "for x in range(num_days):\n",
    "    print(x)"
   ]
  },
  {
   "cell_type": "code",
   "execution_count": null,
   "metadata": {},
   "outputs": [],
   "source": [
    "day_1_am_df = mega_df_12h_slice.loc['2017-11-28 00:00:01':'2017-11-28 12:00:00']\n",
    "day_1_pm_df = mega_df_12h_slice.loc['2017-11-28 12:00:01':'2017-11-29 00:00:00']\n",
    "day_2_am_df = mega_df_12h_slice.loc['2017-11-29 00:00:01':'2017-11-30 00:00:00']"
   ]
  },
  {
   "cell_type": "code",
   "execution_count": null,
   "metadata": {},
   "outputs": [],
   "source": [
    "len(day_1_am_df['user'].unique())"
   ]
  },
  {
   "cell_type": "code",
   "execution_count": null,
   "metadata": {},
   "outputs": [],
   "source": [
    "len(day_1_pm_df['user'].unique())"
   ]
  },
  {
   "cell_type": "code",
   "execution_count": null,
   "metadata": {},
   "outputs": [],
   "source": [
    "len(day_2_am_df['user'].unique())"
   ]
  },
  {
   "cell_type": "code",
   "execution_count": null,
   "metadata": {},
   "outputs": [],
   "source": [
    "len(mega_df_final['user'].unique())"
   ]
  },
  {
   "cell_type": "code",
   "execution_count": 7,
   "metadata": {},
   "outputs": [],
   "source": [
    "mentioned_set = set()\n",
    "\n",
    "for item in mega_df_final['@s']:\n",
    "    for name in item:\n",
    "        mentioned_set.add(name)\n",
    "        \n",
    "mentioned_array = np.array(list(mentioned_set))"
   ]
  },
  {
   "cell_type": "code",
   "execution_count": 25,
   "metadata": {},
   "outputs": [],
   "source": [
    "user_mention_freq_df = pd.DataFrame(mentioned_array, columns=['user'])\n",
    "user_mention_freq_df['frequency'] = pd.Series(np.zeros((len(mentioned_set), )))"
   ]
  },
  {
   "cell_type": "code",
   "execution_count": null,
   "metadata": {
    "scrolled": true
   },
   "outputs": [],
   "source": [
    "user_mention_freq_df"
   ]
  },
  {
   "cell_type": "code",
   "execution_count": null,
   "metadata": {
    "scrolled": true
   },
   "outputs": [],
   "source": [
    "# mega_df_final[mega_df_final['@s'].str.contains('@vice')]\n",
    "# mega_df_final[mega_df_final[any(\"@vice\" in s for s in mega_df_final['@s'])]]\n",
    "# mega_df_final['@s'].values\n",
    "# mega_df_final..str.contains('fcc')"
   ]
  },
  {
   "cell_type": "code",
   "execution_count": 9,
   "metadata": {},
   "outputs": [],
   "source": [
    "test_df = mega_df_final[:100]"
   ]
  },
  {
   "cell_type": "code",
   "execution_count": null,
   "metadata": {},
   "outputs": [],
   "source": [
    "test_df = test_df.rename(index=str, columns={\"@s\": \"ats\"})"
   ]
  },
  {
   "cell_type": "code",
   "execution_count": 45,
   "metadata": {},
   "outputs": [
    {
     "name": "stdout",
     "output_type": "stream",
     "text": [
      "228264\n",
      "9731\n",
      "Counter({'@idltweets': 96787, '@change': 36361, '@fcc': 26900, '@ajitpaifcc': 11949, '@freepress': 3607, '@credomobile': 1385, '@ukchange': 1179, '@realdonaldtrump': 1153, '@comcast': 1132, '@verizon': 1121, '@youtube': 1008, '@brendancarrfcc': 713, '@cdnchange': 627, '@senatemajldr': 521, '@mikeofcc': 518, '@speakerryan': 498, '@gop': 491, '@mclyburnfcc': 441, '@att': 406, '@jrosenworcel': 382, '@twitter': 370, '@alyssa_milano': 291, '@google': 261, '@potus': 255, '@changeaus': 237, '@senjohnmccain': 232, '@senategop': 227, '@fightfortheftr': 227, '@trai': 219, '@marcorubio': 217, '@reddit': 216, '@repmikecoffman': 212, '@netflix': 203, '@housegop': 195, '@eff': 191, '@jeffflake': 189, '@moveon': 182, '@agschneiderman': 179, '@senatorcollins': 179, '@senatedems': 174, '@cnn': 174, '@sengillibrand': 170, '@facebook': 170, '@johncornyn': 166, '@senbobcorker': 165, '@senfeinstein': 162, '@senatorburr': 162, '@verge': 156, '@senschumer': 154, '@amazon': 152, '@c0nvey': 140, '@kamalaharris': 137, '@tedcruz': 137, '@foxnews': 135, '@changepilipinas': 131, '@substratumnet': 130, '@wired': 128, '@jerrymoran': 127, '@msnbc': 126, '@resistbot': 123, '@senwarren': 122, '@sentoomey': 120, '@lisamurkowski': 114, '@iamjohnoliver': 113, '@stevedaines': 113, '@barackobama': 112, '@housedemocrats': 112, '@ftc': 112, '@changeorglatino': 111, '@battleforthenet': 110, '@proplr': 107, '@senatorfischer': 106, '@senronjohnson': 104, '@senmikelee': 104, '@maddow': 102, '@changeger': 102, '@senthomtillis': 102, '@senbennetco': 101, '@senrobportman': 100, '@sensanders': 96, '@tmobile': 95, '@change_es': 95, '@changefrance': 94, '@comcastcares': 93, '@senkamalaharris': 93, '@sencorygardner': 91, '@nytimes': 91, '@senatorlankford': 91, '@change_mex': 91, '@senatordurbin': 90, '@aclu': 89, '@getspectrum': 88, '@senbillnelson': 87, '@senbobcasey': 84, '@markruffalo': 84, '@royblunt': 81, '@repgregwalden': 81, '@humanistreport': 79, '@tomwheelerfcc': 78, '@thedemocrats': 78, '@changeitalia': 77, '@botresist': 75, '@senduckworth': 75, '@ronwyden': 73, '@abc': 73, '@barnacules': 73, '@marshablackburn': 71, '@sentedcruz': 70, '@senmarkey': 70, '@timberners_lee': 70, '@change_br': 69, '@peoplefor': 68, '@lindseygrahamsc': 67, '@arstechnica': 67, '@apple': 67, '@motherboard': 66, '@techcrunch': 65, '@amyklobuchar': 65, '@nancypelosi': 64, '@gizmodo': 64, '@mashable': 62, '@markwarner': 62, '@sengarypeters': 62, '@mozilla': 61, '@xfinity': 60, '@timkaine': 60, '@clairecmc': 60, '@pornhub': 59, '@nbc': 58, '@senatortimscott': 58, '@replancenj7': 58, '@repadamschiff': 58, '@lastweektonight': 57, '@cher': 57, '@sendavidperdue': 57, '@ajitpai': 56, '@voicesofk12': 55, '@washingtonpost': 54, '@senalexander': 54, '@senpatroberts': 53, '@senfranken': 53, '@senjeffmerkley': 53, '@repseanmaloney': 53, '@sarahkendzior': 52, '@ppi': 52, '@markiplier': 52, '@dnc': 52, '@sensherrodbrown': 51, '@jack_septic_eye': 51, '@ask_spectrum': 50, '@joyannreid': 50, '@randpaul': 50, '@pattymurray': 50, '@johnlegere': 49, '@senatorisakson': 49, '@npr': 49, '@gdouglasjones': 49, '@tumblr': 48, '@changeorgar': 48, '@bell': 48, '@senatormenendez': 47, '@demandprogress': 47, '@nbcnews': 46, '@sen_joemanchin': 46, '@jack': 46, '@jimmy_dore': 45, '@coxcomm': 45, '@changeorg_india': 45, '@etsy': 45, '@changeorg_id': 45, '@senjohnthune': 45, '@chuckgrassley': 44, '@senatorcantwell': 44, '@cnet': 43, '@microsoft': 43, '@engadget': 42, '@whitehouse': 42, '@phillyd': 41, '@gigibsohn': 41, '@github': 41, '@usatoday': 40, '@mediajustice': 40, '@nathanleamerfcc': 40, '@twitch': 39, '@sprint': 39, '@ebay': 39, '@repdonbacon': 39, '@repscotttaylor': 39, '@repjohnkatko': 39, '@sentoddyoung': 39, '@angryjoeshow': 37, '@usrepmikedoyle': 37, '@centurylink': 36, '@cbsnews': 36, '@senatortester': 36, '@reptomemmer': 36, '@corybooker': 36, '@wsj': 35, '@jefffortenberry': 35, '@senstabenow': 35, '@benthompson': 35, '@alfranken': 35, '@lawrence': 34, '@discordapp': 34, '@pewdiepie': 34, '@scotttaylorva': 34, '@repjasonlewis': 34, '@funder': 33, '@senbooker': 33, '@georgetakei': 33, '@fbi': 33, '@flotus': 33, '@tomemmer': 33, '@senatorbaldwin': 32, '@wikipedia': 32, '@democracynow': 32, '@berniesanders': 31, '@sencapito': 31, '@leecamp': 31, '@publicknowledge': 31, '@vzwsupport': 31, '@sai': 31, '@orrinhatch': 31, '@rssharma3': 31, '@elonmusk': 31, '@darrellissa': 31, '@billcassidy': 31, '@sendonnelly': 31, '@bettymccollum04': 31, '@alalibrary': 30, '@attcares': 30, '@techdirt': 30, '@cathymcmorris': 30, '@forbes': 30, '@repcomstock': 30, '@jeffk_bangmos': 30, '@nextgenamerica': 30, '@cbs': 29, '@senorrinhatch': 29, '@repdandonovan': 29, '@thehill': 29, '@verizonsupport': 29, '@joerogan': 29, '@repfredupton': 29, '@superwuster': 29, '@davereichert': 29, '@congressdotgov': 29, '@tedlieu': 29, '@womensmarch': 28, '@chrisvanhollen': 28, '@sensasse': 28, '@repsires': 28, '@chrislhayes': 28, '@repmialove': 27, '@shanedawson': 27, '@senblumenthal': 27, '@indivisibleteam': 27, '@matpatgt': 27, '@senatorhassan': 27, '@senjohnkennedy': 26, '@ourrevolution': 26, '@gigibsohnfcc': 26, '@stevewoz': 26, '@zdnet': 26, '@boblatta': 26, '@mikecrapo': 26, '@1a': 26, '@rickypdillon': 26, '@potustweet': 26, '@jbrodkin': 25, '@hulu': 25, '@gianforte': 25, '@chrismurphyct': 25, '@senjoniernst': 25, '@rbreich': 25, '@govinslee': 24, '@rsi': 24, '@jiminhofe': 24, '@repjoewilson': 24, '@johnboozman': 24, '@bobcorker': 24, '@slate': 24, '@bostonglobe': 24, '@jacksfilms': 24, '@medium': 23, '@senatorcardin': 23, '@steveknight25': 23, '@snapchat': 23, '@futurism': 23, '@reperikpaulsen': 23, '@tinapelkeyfcc': 23, '@realalexjones': 22, '@yahoo': 22, '@rsprasad': 22, '@rephultgren': 22, '@hillaryclinton': 22, '@tulsipress': 22, '@roslynlayton': 22, '@instagram': 22, '@senjackreed': 22, '@spotify': 22, '@culturejedi': 22, '@twittersupport': 22, '@justinamash': 22, '@repbarbaralee': 22, '@rollingstone': 22, '@bkindivisible': 22, '@repkevinyoder': 21, '@justintrudeau': 21, '@cenkuygur': 21, '@repedroyce': 21, '@haroldfeld': 21, '@thomtillis': 21, '@repmeehan': 21, '@robwittman': 21, '@robreiner': 21, '@rokhanna': 21, '@michaeloreilly': 21, '@sruhle': 21, '@reptommacarthur': 21, '@inoreader': 21, '@fortunemagazine': 21, '@curtisut': 21, '@senrubiopress': 21, '@semafortexas': 21, '@venturebeat': 20, '@vp': 20, '@tewheels': 20, '@sendeanheller': 20, '@centurylinkhelp': 20, '@bensasse': 20, '@stephenathome': 20, '@usreprodney': 20, '@billmoyers': 20, '@repjoebarton': 20, '@hyperrts': 20, '@keithellison': 20, '@reppaulmitchell': 20, '@rephuizenga': 20, '@changeorgrus': 20, '@patreon': 20, '@congbillposey': 20, '@fsfthinktank': 20, '@bts_twt': 20, '@centurylinkne': 19, '@nixxin': 19, '@repstevechabot': 19, '@repdavetrott': 19, '@stratechery': 19, '@sentomcotton': 19, '@tgowdysc': 19, '@justicedems': 19, '@repjackbergman': 19, '@backchnnl': 19, '@pewresearch': 19, '@senatorrisch': 19, '@repmikebishop': 19, '@huffpostbiz': 19, '@repmullin': 18, '@billgates': 18, '@make5calls': 18, '@jeffbezos': 18, '@purevpn': 18, '@martech_today': 18, '@gushurwitz': 18, '@mcuban': 18, '@replahood': 18, '@reptenney': 18, '@repmaxinewaters': 18, '@ronjohnsonwi': 18, '@recode': 18, '@replobiondo': 18, '@variety': 18, '@repbilljohnson': 18, '@repmimiwalters': 18, '@chuckschumer': 18, '@joenbc': 18, '@kencalvert': 18, '@repchrisstewart': 18, '@repmoolenaar': 18, '@repbetoorourke': 18, '@reprobbishop': 18, '@senatorwicker': 18, '@phillywerise': 18, '@repdennisross': 18, '@repdlamborn': 17, '@comcastbusiness': 17, '@kylekulinski': 17, '@repkinzinger': 17, '@repmcclintock': 17, '@thenextweb': 17, '@robportman': 17, '@jeffykao': 17, '@openmediaorg': 17, '@tuckercarlson': 17, '@repbrianfitz': 17, '@reppaultonko': 17, '@cbsnlive': 17, '@stevekingia': 17, '@teapainusa': 17, '@channelawesome': 17, '@vicenews': 17, '@repnewhouse': 17, '@senangusking': 17, '@rodneydavis': 17, '@futuretensenow': 16, '@senatortomudall': 16, '@ea': 16, '@caseyneistat': 16, '@benshapiro': 16, '@repchriscollins': 16, '@senwhitehouse': 16, '@reptipton': 16, '@repgrothman': 16, '@ronplacone': 16, '@firefox': 16, '@morningmika': 16, '@twitchsharer': 16, '@congressmangt': 16, '@alivelshi': 16, '@herrerabeutler': 16, '@verizonnews': 16, '@huffpostpol': 16, '@chairmanpowell': 16, '@hartonc15': 16, '@repmcsally': 16, '@repchrissmith': 16, '@rep_hunter': 16, '@indiepundit': 16, '@hamillhimself': 16, '@repcummings': 16, '@graysondolan': 16, '@latimes': 15, '@hardballchris': 15, '@repryancostello': 15, '@officeofrg': 15, '@vimeo': 15, '@senjohnbarrasso': 15, '@repdavejoyce': 15, '@tulsigabbard': 15, '@repschrader': 15, '@senatorleahy': 15, '@mediamobilizing': 15, '@repkenbuck': 15, '@maddowblog': 15, '@repgarretgraves': 15, '@repswalwell': 15, '@fmanjoo': 15, '@eggerton': 15, '@replamalfa': 15, '@repscottpeters': 15, '@frankpallone': 15, '@repwalberg': 15, '@dnr_crew': 15, '@repshimkus': 15, '@scifri': 15, '@senthadcochran': 15, '@repandyharrismd': 15, '@vernbuchanan': 15, '@repmiketurner': 15, '@usrepkeating': 15, '@quepasaboricua': 14, '@repjbridenstine': 14, '@justinbieber': 14, '@drdurnford': 14, '@martinheinrich': 14, '@reptedlieu': 14, '@tomcoleok04': 14, '@profdaniellyons': 14, '@mmasnick': 14, '@qz': 14, '@aei': 14, '@verizonfios': 14, '@johnthune': 14, '@repchuck': 14, '@betoorourke': 14, '@mccaskilloffice': 14, '@replarrybucshon': 14, '@colorofchange': 14, '@freepressaction': 14, '@presssec': 14, '@gkbutterfield': 14, '@mtnmd': 14, '@amjoyshow': 14, '@repricklarsen': 14, '@reptrey': 14, '@repjeffdenham': 14, '@mooresenate': 14, '@housecommerce': 14, '@repgallagher': 14, '@reesespbcups': 14, '@repsanfordsc': 14, '@repjohnlewis': 14, '@denverpost': 14, '@pattoomey': 14, '@gopleader': 14, '@snowden': 14, '@indivisibleil': 14, '@grahamblog': 14, '@sendansullivan': 14, '@vgcerf': 14, '@ethandolan': 14, '@boogie2988': 13, '@phillycam': 13, '@repclayhiggins': 13, '@repmccaul': 13, '@wikileaks': 13, '@youranonnews': 13, '@repjoekennedy': 13, '@democraticags': 13, '@theyoungturks': 13, '@manojsinhabjp': 13, '@dot_india': 13, '@nfl': 13, '@accessnow': 13, '@tstruble': 13, '@johnnyisakson': 13, '@internetarchive': 13, '@lessig': 13, '@webfoundation': 13, '@susanwbrooks': 13, '@nygovcuomo': 13, '@replynnjenkins': 13, '@nicolledwallace': 13, '@dailycaller': 13, '@breitbartnews': 13, '@newamerica': 13, '@repjimbanks': 13, '@fastcompany': 13, '@juliabrownley26': 13, '@truthout': 13, '@senshelby': 13, '@taranaburke': 13, '@repjayapal': 13, '@leolaporte': 13, '@repjohnfaso': 13, '@repstevestivers': 13, '@nick_offerman': 13, '@judgecarter': 13, '@reploubarletta': 13, '@spencerkarter': 13, '@teenvogue': 13, '@maximebernier': 13, '@repholding': 13, '@defiantnet': 13, '@markamodeinv2': 12, '@tingftw': 12, '@fightfor15': 12, '@lifehacker': 12, '@stevescalise': 12, '@rushlimbaugh': 12, '@ivankatrump': 12, '@businessinsider': 12, '@evan_greer': 12, '@todayshow': 12, '@tim_cook': 12, '@twxcorp': 12, '@laurenduca': 12, '@donaldjtrumpjr': 12, '@raul_labrador': 12, '@jaketapper': 12, '@theverge': 12, '@abcnews': 12, '@donttrythis': 12, '@repdavidyoung': 12, '@repscottperry': 12, '@guardian': 12, '@popresistance': 12, '@laurenjauregui': 12, '@cnnpolitics': 12, '@scrawford': 12, '@repgoodlatte': 12, '@devinnunes': 12, '@dailydot': 12, '@scrowder': 12, '@oti': 12, '@nprpolitics': 12, '@repdankildee': 12, '@co_rapunzel4': 12, '@cherokeesher2': 12, '@repmgriffith': 12, '@senatorenzi': 12, '@patrickmchenry': 12, '@twitchraid': 12, '@realtimblack': 12, '@joniernst': 12, '@mcconnellpress': 12, '@chicagotribune': 12, '@repjeffduncan': 12, '@politico': 12, '@daviddobrik': 12, '@jakepaul': 12, '@davidgewirtz': 12, '@theonion': 12, '@hqtrivia': 12, '@thecurrentcbc': 12, '@viapopulicom': 12, '@psa_sitch': 12, '@jrepodcast': 12, '@repfranklucas': 11, '@huffpostblog': 11, '@crtceng': 11, '@cnnbrk': 11, '@potus44': 11, '@redactedtonight': 11, '@repbost': 11, '@dog_rates': 11, '@tomsteyer': 11, '@vodafonein': 11, '@huffpost': 11, '@toddrokita': 11, '@buyvpnservice': 11, '@voxdotcom': 11, '@mohlhausenftc': 11, '@repmarkwalker': 11, '@kumailn': 11, '@dailysignal': 11, '@repjohnlarson': 11, '@repannwagner': 11, '@repdianadegette': 11, '@netneutrality': 11, '@kimkardashian': 11, '@garyvee': 11, '@paulhardware': 11, '@repstefanik': 11, '@repdianeblack': 11, '@repmarkmeadows': 11, '@indivisiblechi': 11, '@toddyoungin': 11, '@relay_rts': 11, '@repseanduffy': 11, '@repwalorski': 11, '@cspan': 11, '@gdthor1': 11, '@repabraham': 11, '@repdavebrat': 11, '@ytretweets': 11, '@benton_fdn': 11, '@mishacollins': 11, '@kycomer': 11, '@reprodblum': 11, '@hughhewitt': 11, '@repdonbeyer': 11, '@lamarsmithtx21': 11, '@repgusbilirakis': 11, '@kenengelhart': 11, '@ridder_co': 11, '@sejorg': 11, '@repkevinbrady': 11, '@techreview': 11, '@theintercept': 10, '@steam_games': 10, '@ussenate': 10, '@ninaturner': 10, '@time': 10, '@arimelber': 10, '@repthomasmassie': 10, '@keemstar': 10, '@reprichmond': 10, '@keitholbermann': 10, '@narendramodi': 10, '@senatefloor': 10, '@bradsherman': 10, '@playstation': 10, '@wilw': 10, '@airtel_presence': 10, '@airtelindia': 10, '@petersuderman': 10, '@nasa': 10, '@bskorup': 10, '@mattfwood': 10, '@seanhannity': 10, '@keithrothfus': 10, '@repbrady': 10, '@reprokhanna': 10, '@edmarketbrief': 10, '@repadriansmith': 10, '@ltribe': 10, '@disney': 10, '@dana_flo': 10, '@petesessions': 10, '@repbenraylujan': 10, '@jimpressoffice': 10, '@repjimrenacci': 10, '@repjimcooper': 10, '@famertr': 10, '@reprwilliams': 10, '@bpolitics': 10, '@repgregorymeeks': 10, '@dearauntcrabby': 10, '@repdavidvaladao': 10, '@desjarlaistn04': 10, '@cbsnewyork': 10, '@repfrenchhill': 10, '@repdennyheck': 10, '@repannaeshoo': 10, '@amazinmikey': 10, '@repevanjenkins': 10, '@theellenshow': 10, '@repteddeutch': 10, '@dloesch': 10, '@congmikesimpson': 10, '@repdelbene': 10, '@senatorshaheen': 10, '@donaldnorcross': 10, '@repmikequigley': 10, '@taylorswift13': 10, '@reptomgraves': 10, '@cia': 10, '@reprobwoodall': 10, '@shoutgamers': 10, '@michaelcburgess': 10, '@rsingel': 10, '@detroitnews': 10, '@natobserver': 10, '@nhmc': 10, '@rogers': 10, '@repbradwenstrup': 10, '@repbobgibbs': 10, '@edmarkey': 10, '@b_fung': 10, '@replawrence': 10, '@veronica': 10, '@repdavideprice': 10, '@senkaineoffice': 10, '@srichard': 10, '@virginiafoxx': 10, '@stabenow': 10, '@reprussell': 9, '@outline': 9, '@doctorow': 9, '@voces_milwaukee': 9, '@fair_wisconsin': 9, '@thedemcoalition': 9, '@charter': 9, '@comcastimpact': 9, '@replujangrisham': 9, '@nowthisnews': 9, '@reuters': 9, '@jerrybrowngov': 9, '@pns_news': 9, '@senatorheitkamp': 9, '@senjohnhoeven': 9, '@torproject': 9, '@repmattgaetz': 9, '@vzwnow': 9, '@wow_way': 9, '@jacksonleetx18': 9, '@reptomgarrett': 9, '@repblumenauer': 9, '@jim_jordan': 9, '@reppeterdefazio': 9, '@krassenstein': 9, '@countable': 9, '@repadamsmith': 9, '@repjuanvargas': 9, '@ustelecom': 9, '@repandybarr': 9, '@repjohnduncanjr': 9, '@ap': 9, '@replukemesser': 9, '@thom_hartmann': 9, '@peterroskam': 9, '@congressmanruiz': 9, '@corygardner': 9, '@daveloebsack': 9, '@caitoz': 9, '@googlechrome': 9, '@repalexmooney': 9, '@repblainepress': 9, '@repsamgraves': 9, '@reppeteolson': 9, '@repbuddycarter': 9, '@repleezeldin': 9, '@repstevepearce': 9, '@ceciliakang': 9, '@tomperez': 9, '@senmajldr': 9, '@repmckinley': 9, '@intgovforum': 9, '@chriscoons': 9, '@steve_media': 9, '@engineorg': 9, '@repdonyoung': 9, '@shawinfo': 9, '@theedcollab': 9, '@carmenscurato': 9, '@x_net_': 9, '@tmorello': 9, '@cpc_hq': 9, '@communitynets': 9, '@aejmc': 9, '@pattiberi': 9, '@reppittenger': 9, '@reptedbudd': 9, '@repkaygranger': 9, '@dailyyonder': 9, '@repjohndelaney': 9, '@reptommarino': 9, '@fightbackbr': 9, '@rec54': 9, '@mollywood': 9, '@jeffsessions': 8, '@jeffmerkley': 8, '@jeffreyatucker': 8, '@navdeepsbains': 8, '@bassnectar': 8, '@whartonknows': 8, '@coxhelp': 8, '@prisonplanet': 8, '@sencortezmasto': 8, '@reckless': 8, '@indianexpress': 8, '@ytcreators': 8, '@nickgillespie': 8, '@kmanguward': 8, '@edkrassen': 8, '@alternet': 8, '@protectaxpayers': 8, '@eminem': 8, '@sorianotech': 8, '@gracenapolitano': 8, '@thedailybeast': 8, '@roslehtinen': 8, '@rubinreport': 8, '@amy_siskind': 8, '@chrisevans': 8, '@cwaunion': 8, '@repjohnyarmuth': 8, '@repwalterjones': 8, '@repsusandavis': 8, '@mgeist': 8, '@kickstarter': 8, '@reptimryan': 8, '@internetassn': 8, '@millennial_dems': 8, '@reppeteking': 8, '@optimum': 8, '@verizonpolicy': 8, '@frontiercorp': 8, '@jimmykimmel': 8, '@globetechlab': 8, '@repbillshuster': 8, '@repdwightevans': 8, '@un': 8, '@ibatcpp': 8, '@drnealdunnfl2': 8, '@klintron': 8, '@sethabramson': 8, '@andersoncooper': 8, '@elizabethforma': 8, '@repmarkpocan': 8, '@karenhandel': 8, '@sonic': 8, '@repkarenbass': 8, '@badassteachersa': 8, '@congpalazzo': 8, '@senatorrounds': 8, '@rwpusa': 8, '@bitcoin': 8, '@tomcottonar': 8, '@imgur': 8, '@jasoninthehouse': 8, '@repbillflores': 8, '@senatorcarper': 8, '@charternewsroom': 8, '@danarohrabacher': 8, '@reprickallen': 8, '@starwars': 8, '@call_me_dutch': 8, '@usreplong': 8, '@reprooney': 8, '@catherinefornv': 8, '@supstreamers': 8, '@repdebdingell': 8, '@mikekellypa': 8, '@mimiwaltersca': 8, '@aclu_mass': 8, '@sunfoundation': 8, '@repdinatitus': 8, '@nardotrealtor': 8, '@repalgreen': 8, '@maziehirono': 8, '@arianagrande': 8, '@farenthold': 8, '@reparrington': 8, '@rephensarling': 8, '@chooselovetoday': 8, '@lpticarc': 8, '@billpascrell': 8, '@reeveskd': 8, '@repadams': 8, '@4agamers': 8, '@reploudermilk': 8, '@wikimedia': 8, '@repsarbanes': 8, '@catherinepaiz': 8, '@austinmcbroom': 8, '@loganpaul': 8, '@repjaredpolis': 8, '@reppoliquin': 8, '@replloyddoggett': 8, '@maxinewaters': 8, '@reprichardneal': 8, '@tinfoilhatcast': 8, '@tekwendell': 8, '@computerworld': 8, '@getorgbk': 8, '@si4change': 8, '@grantmcgalliard': 8, '@danielhowell': 8, '@amazingphil': 8, '@jenna_marbles': 7, '@economictimes': 7, '@patroberts': 7, '@bt_vt': 7, '@googlefiber': 7, '@getongab': 7, '@donlemon': 7, '@markwarnerva': 7, '@realdonad_trump': 7, '@commondreams': 7, '@uofmaryland': 7, '@drphilroe': 7, '@repandybiggsaz': 7, '@rajeev_mp': 7, '@comicdavesmith': 7, '@backlon': 7, '@teamyoutube': 7, '@etnowlive': 7, '@stevekovach': 7, '@bittorrent': 7, '@mkbhd': 7, '@thenation': 7, '@onpointradio': 7, '@repcurbelo': 7, '@mariodb': 7, '@reptedyoho': 7, '@rephankjohnson': 7, '@reptomreed': 7, '@youtubegaming': 7, '@vidme': 7, '@repbeatty': 7, '@repkihuen': 7, '@oprah': 7, '@tmcsweenyftc': 7, '@wendys': 7, '@jonlovett': 7, '@mariacantwell': 7, '@repraskin': 7, '@nitalowey': 7, '@thejusticedept': 7, '@hbo': 7, '@jacekmaterna': 7, '@tprsource': 7, '@projectfi': 7, '@reprickcrawford': 7, '@repmikejohnson': 7, '@rihanna': 7, '@ddlovato': 7, '@roosterteeth': 7, '@repbrendanboyle': 7, '@vice': 7, '@thetunnelbear': 7, '@louiseslaughter': 7, '@inversedotcom': 7, '@reedhastings': 7, '@usrepkcastor': 7, '@erictrump': 7, '@h3h3productions': 7, '@votevets': 7, '@jperlow': 7, '@janschakowsky': 7, '@twitchonline': 7, '@thebeatwithari': 7, '@barbs73': 7, '@iste': 7, '@reprichhudson': 7, '@drift0r': 7, '@repkevincramer': 7, '@repmobrooks': 7, '@repwesterman': 7, '@jackbergman_mi1': 7, '@proudresister': 7, '@infowars': 7, '@repbobbyrush': 7, '@cinemassacre': 7, '@afactschicago': 7, '@miserablelib': 7, '@digitalocean': 7, '@nightrts': 7, '@repyvetteclarke': 7, '@housefloor': 7, '@tullman': 7, '@repdonaldpayne': 7, '@repbonnie': 7, '@duckduckgo': 7, '@aol': 7, '@repjoshg': 7, '@marty_walsh': 7, '@reptimwalz': 7, '@monitor_sur': 7, '@rt_com': 7, '@rep_stevewomack': 7, '@amandapalmer': 7, '@lizakoshy': 7, '@billnye': 7, '@ladygaga': 7, '@cbsla': 7, '@famesfeed': 7, '@rosadelauro': 7, '@repesty': 7, '@repstephmurphy': 7, '@evangelinelilly': 7, '@holochain': 7, '@joeygraceffa': 7, '@clyburn': 7, '@reptomrice': 7, '@spj_tweets': 7, '@repgutierrez': 7, '@es_indivisible': 7, '@kendallraeonyt': 7, '@nxthompson': 7, '@naacp': 7, '@reprutherfordfl': 7, '@scottrogowsky': 7, '@repdavidrouzer': 7, '@mcdowelltweet': 7, '@majorityfm': 7, '@repmikerogersal': 7, '@thejuicemedia': 7, '@retweet_twitch': 7, '@thegabbieshow': 7, '@corinnakopf': 7, '@overridepro': 6, '@cnbc': 6, '@jontester': 6, '@gregformontana': 6, '@foxtv': 6, '@timewarner': 6, '@soundcloud': 6, '@jeffcliff': 6, '@susanwojcicki': 6, '@brianschatz': 6, '@reliancejio': 6, '@hackernoon': 6, '@wgbhnews': 6, '@cendemtech': 6, '@_dialogueindia': 6, '@citizensfedup': 6, '@trai_ohd': 6, '@sierraclub': 6, '@bereceuropaeu': 6, '@bkcharvard': 6, '@rcnconnects': 6, '@therealdvorak': 6, '@techwireasia': 6, '@neiltyson': 6, '@ceidotorg': 6, '@jimlangevin': 6, '@mercnews': 6, '@morning_joe': 6, '@judgetedpoe': 6, '@sensusancollins': 6, '@rosie': 6, '@internetfreedom': 6, '@margarethmcgill': 6, '@repbonamici': 6, '@okcupid': 6, '@repgwenmoore': 6, '@warrendavidson': 6, '@media519': 6, '@repohalleran': 6, '@jaredpolis': 6, '@gerryconnolly': 6, '@dailykos': 6, '@nbcnightlynews': 6, '@repdrewferguson': 6, '@tytnetwork': 6, '@repcharliedent': 6, '@repcarbajal': 6, '@repjerrynadler': 6, '@repmaloney': 6, '@repmceachin': 6, '@austinscottga08': 6, '@sethmacfarlane': 6, '@perlmutations': 6, '@congculberson': 6, '@cbcnews': 6, '@otherjoe_ajs': 6, '@mitchellreports': 6, '@truefactsstated': 6, '@brianstelter': 6, '@luishestres': 6, '@npratc': 6, '@repbera': 6, '@morningconsult': 6, '@timkarr': 6, '@seattletimes': 6, '@repderekkilmer': 6, '@nsagov': 6, '@oversightdems': 6, '@cbs6albany': 6, '@cspanwj': 6, '@joetalkshow': 6, '@julianassange': 6, '@pinterest': 6, '@gigastacey': 6, '@repsinema': 6, '@repbrianbabin': 6, '@n_economides': 6, '@carbonite': 6, '@genjustice': 6, '@muninetworks': 6, '@broadband4us': 6, '@indivisible_or': 6, '@changetr': 6, '@repjasonsmith': 6, '@rephartzler': 6, '@thedailyshow': 6, '@congressmanraja': 6, '@gettinnoticedmo': 6, '@therealezway': 6, '@maxfaxthehat': 6, '@repkathleenrice': 6, '@repdougcollins': 6, '@jonfavs': 6, '@reptrentfranks': 6, '@newyorker': 6, '@repbrianmast': 6, '@alexisohanian': 6, '@repbillfoster': 6, '@katrinanation': 6, '@peoplepower': 6, '@sjvn': 6, '@reprubengallego': 6, '@skillupyt': 6, '@semyondukach': 6, '@repraulgrijalva': 6, '@opensecretsdc': 6, '@greggharper': 6, '@conawaytx11': 6, '@crankgameplays': 6, '@flgovscott': 6, '@preetbharara': 6, '@kastkom': 6, '@chelliepingree': 6, '@deray': 6, '@repbyrne': 6, '@usasenate': 6, '@canadaland': 6, '@newmodeinc': 6, '@selenagomez': 6, '@senatorstrange': 6, '@iisuperwomanii': 6, '@dangerousmiriam': 6, '@lilbthebasedgod': 6, '@miablove': 6, '@fgcu': 6, '@ona': 6, '@repdavidkustoff': 6, '@repkenmarchant': 6, '@repronkind': 6, '@twrling': 6, '@repanthonybrown': 6, '@podsavetheppl': 6, '@provlib': 6, '@yesmag': 6, '@robert_aderholt': 6, '@jodyarose': 6, '@mhsali': 6, '@sarahbird': 6, '@repmartharoby': 6, '@repjustinamash': 6, '@moz': 6, '@timoreilly': 6, '@samspressshop': 6, '@rnrnebraska': 6, '@debfischerne': 6, '@twitchsharing': 6, '@twitchretweetr': 6, '@xbox': 6, '@congressmanhice': 6, '@lin_manuel': 6, '@thetakeaway': 6, '@ajstream': 6, '@upvoted': 6, '@whiphoyer': 6, '@inhofepress': 6, '@harvardbiz': 6, '@reptrentkelly': 6, '@marksanford': 5, '@repespaillat': 5, '@7im': 5, '@zaidjilani': 5, '@melaniejoly': 5, '@gregabbott_tx': 5, '@noh8campaign': 5, '@airbnb': 5, '@telus': 5, '@anncoulter': 5, '@twit': 5, '@cnni': 5, '@redbubble': 5, '@therock': 5, '@deanheller': 5, '@repjackyrosen': 5, '@futurepaul': 5, '@jhaletweets': 5, '@tmobilehelp': 5, '@globeandmail': 5, '@uscongress': 5, '@tidal': 5, '@scoopit': 5, '@idea_cares': 5, '@nytimestech': 5, '@diydrones': 5, '@oldmanebro': 5, '@ebrointheam': 5, '@dvm360': 5, '@the_navc': 5, '@vettechs': 5, '@aahahealthypet': 5, '@avmavets': 5, '@cbstweet': 5, '@blizzard_ent': 5, '@iheartradio': 5, '@arcep': 5, '@tomashbrooknpr': 5, '@joaquincastrotx': 5, '@repdavid': 5, '@sivavaid': 5, '@brianmastfl': 5, '@networkworld': 5, '@dallasnews': 5, '@joinlincoln': 5, '@itunespodcast': 5, '@rob_sheridan': 5, '@usccb': 5, '@dane': 5, '@abc22fox45': 5, '@thr': 5, '@skynz': 5, '@repcohen': 5, '@kylegriffin1': 5, '@repgonzalez': 5, '@repdarrensoto': 5, '@maxkeiser': 5, '@kyliejenner': 5, '@adamschiffca': 5, '@windstream': 5, '@tytpolitics': 5, '@reason': 5, '@cernovich': 5, '@theregister': 5, '@nydiavelazquez': 5, '@repbrianhiggins': 5, '@crewcrew': 5, '@inc': 5, '@repmcnerney': 5, '@_michaelbrooks': 5, '@matthewberryfcc': 5, '@tshields3': 5, '@reptoddyoung': 5, '@repandrecarson': 5, '@twitchtvgaming': 5, '@ordoj': 5, '@robpegoraro': 5, '@hagoodmanauthor': 5, '@penamerican': 5, '@fftf': 5, '@tribelaw': 5, '@educationdive': 5, '@funnyordie': 5, '@repcardenas': 5, '@reploucorrea': 5, '@repthompson': 5, '@repjudychu': 5, '@repsandylevin': 5, '@nintendoamerica': 5, '@rt_america': 5, '@mikebishopmi': 5, '@digitaltrends': 5, '@dcexaminer': 5, '@troma_team': 5, '@j_policastro': 5, '@repjenniffer': 5, '@motherjones': 5, '@otrscentral': 5, '@dalyxmanvx1': 5, '@senrandpaui': 5, '@applemusic': 5, '@twitchyteam': 5, '@jamesgattuso': 5, '@twitchshare': 5, '@usuariosdigital': 5, '@teamcalvert': 5, '@bbcworld': 5, '@flyrts': 5, '@whitneymeers': 5, '@lacyclaymo1': 5, '@repcleaver': 5, '@usrepricknolan': 5, '@cloudflare': 5, '@mcspocky': 5, '@mmeyerdc': 5, '@ossia': 5, '@roybluntmo': 5, '@cordypatrick': 5, '@algore': 5, '@samseder': 5, '@oh5forgalbraith': 5, '@anneschwieger': 5, '@smerconish': 5, '@kiraofsuburbia': 5, '@repcuellar': 5, '@anonyops': 5, '@business': 5, '@jahimes': 5, '@repdannydavis': 5, '@jrosenworcelbefore': 5, '@cbc': 5, '@viceimpact': 5, '@zazzle': 5, '@spectrumentus': 5, '@matthardybrand': 5, '@imnotscottysire': 5, '@jasonnash': 5, '@shareaholic': 5, '@thesmii7y': 5, '@ryland_adams': 5, '@deedra2018': 5, '@rolandsmartin': 5, '@cre8tioncrochet': 5, '@senbookeroffice': 5, '@cah': 5, '@brandnew535': 5, '@flippable_org': 5, '@repmarktakano': 5, '@josephatorres': 5, '@repmarshall': 5, '@stanfordcis': 5, '@bv': 5, '@bandcamp': 5, '@kingjames': 5, '@usrepgarypalmer': 5, '@repdesantis': 5, '@tyleroakley': 5, '@seattlecto': 5, '@replouiegohmert': 5, '@txrandy14': 5, '@repratcliffe': 5, '@sonic_hedgehog': 5, '@palmerreport': 5, '@orange': 5, '@minniemelange': 5, '@tanamongeau': 5, '@michaelwinship': 5, '@mediaaction': 5, '@zentronix': 5, '@repsmucker': 5, '@policy': 5, '@carpoolvote': 5, '@866ourvote': 5, '@voteriders': 5, '@vramatters': 5, '@usprogressives': 5, '@repspeier': 5, '@cedricrichmond': 5, '@kahlenbarry': 5, '@eschoolnews': 5, '@exjon': 5, '@alphabet': 5, '@nypl': 5, '@byp_100': 5, '@mariaworthen': 5, '@nacol': 5, '@agpambondi': 5, '@espaillatny': 4, '@corbettreport': 4, '@comcastpolicy': 4, '@cfpb': 4, '@ac360': 4, '@bbcnews': 4, '@epa': 4, '@jimmyfallon': 4, '@jennycohn1': 4, '@detcommtech': 4, '@rosenfeldmedia': 4, '@wsjopinion': 4, '@timcast': 4, '@realjameswoods': 4, '@anonymouspress': 4, '@anonops': 4, '@repgracemeng': 4, '@larrydownes': 4, '@therealrtu': 4, '@rhymestyle': 4, '@teamfourstar': 4, '@zendaya': 4, '@maletruthsayer': 4, '@djiglobal': 4, '@djiforums': 4, '@thatdroneshow': 4, '@kellyannepolls': 4, '@mickmulvaneyomb': 4, '@samsungmobile': 4, '@allindiabakchod': 4, '@popupprotests': 4, '@smithsonianmag': 4, '@repwebster': 4, '@chelseahandler': 4, '@rtrgmbh': 4, '@350': 4, '@public_citizen': 4, '@danrayburn': 4, '@scottbvs': 4, '@cgtnofficial': 4, '@civicmit': 4, '@betsydevosed': 4, '@king5seattle': 4, '@rogerson': 4, '@senflakestaff': 4, '@edengrad': 4, '@nicholas_merten': 4, '@bemeapp': 4, '@letamericavote': 4, '@pranavdixit': 4, '@dandonovan_ny': 4, '@trevornoah': 4, '@janlandy': 4, '@bishopcoyne': 4, '@prilkit': 4, '@ringoffireradio': 4, '@pattonoswalt': 4, '@kimdotcom': 4, '@nbcsports': 4, '@johnfugelsang': 4, '@legaltech_news': 4, '@askfrontier': 4, '@pbs': 4, '@kawmpy': 4, '@repcicilline': 4, '@soundbroker': 4, '@repmarcykaptur': 4, '@cnnmoney': 4, '@redtraccoon': 4, '@thinkprogress': 4, '@repperlmutter': 4, '@eid100_ru': 4, '@jackposobiec': 4, '@digilyfe1': 4, '@amazonvideo': 4, '@usnews': 4, '@spectrum': 4, '@leezeldin': 4, '@repjeffries': 4, '@miniladdd': 4, '@gamegrumps': 4, '@nbcsnl': 4, '@sprintcare': 4, '@change_jp': 4, '@hrw': 4, '@raz0rfist': 4, '@umich': 4, '@4apeoplesparty': 4, '@collinpeterson': 4, '@repvisclosky': 4, '@brianlehrer': 4, '@gmail': 4, '@skype': 4, '@utsa': 4, '@weartv': 4, '@sarmorris': 4, '@brookebcnn': 4, '@hughesnet': 4, '@fscarmy': 4, '@tim_canova': 4, '@twittermoments': 4, '@reppeteaguilar': 4, '@reppaulcook': 4, '@thinkingcappod': 4, '@walmart': 4, '@hardball': 4, '@libertyconserv': 4, '@repjohnconyers': 4, '@cbsdenver': 4, '@dellcam': 4, '@davidsirota': 4, '@btctn': 4, '@dejiridoo': 4, '@savemain_st': 4, '@kauilapele': 4, '@anoncontent': 4, '@impakterdotcom': 4, '@chancetherapper': 4, '@jeremycorbyn': 4, '@conservatives': 4, '@wnyc': 4, '@govtechnews': 4, '@pannlewis44': 4, '@lloydkaufman': 4, '@fdrlst': 4, '@jilleduffy': 4, '@johncusack': 4, '@suddenlink': 4, '@comey': 4, '@anthonybrownmd4': 4, '@fedsoc': 4, '@netnobody': 4, '@duty2warn': 4, '@joncoopertweets': 4, '@bhun1984': 4, '@eventbrite': 4, '@theblaze': 4, '@stevecase': 4, '@sxmurbanview': 4, '@zephyrteachout': 4, '@attbusiness': 4, '@mannymua733': 4, '@directv': 4, '@juliensolomita': 4, '@elijahdaniel': 4, '@soledadobrien': 4, '@shawhelp': 4, '@twitchgameshare': 4, '@repkristinoem': 4, '@peterthiel': 4, '@globalrevlive': 4, '@vancityreynolds': 4, '@peters4michigan': 4, '@steverussellrep': 4, '@repanniekuster': 4, '@bbc': 4, '@genflynn': 4, '@benuretsky': 4, '@hothardware': 4, '@dianeblacktn': 4, '@repjoecrowley': 4, '@repeliotengel': 4, '@wowcare': 4, '@yongyea': 4, '@ezraklein': 4, '@agbecerra': 4, '@nypost': 4, '@markherringva': 4, '@barbaracomstock': 4, '@douglamalfa': 4, '@espn': 4, '@drjillstein': 4, '@onthemedia': 4, '@newshour': 4, '@dorismatsui': 4, '@ycombinator': 4, '@18millionrising': 4, '@senbrianschatz': 4, '@mattgaetz': 4, '@cfcmedialab': 4, '@nature_art_ed': 4, '@inteloperator': 4, '@beyonce': 4, '@repjoecourtney': 4, '@amy4thepeople': 4, '@roseanndemoro': 4, '@defcon': 4, '@alienrts': 4, '@repgenegreen': 4, '@la_ser': 4, '@vodafone_de': 4, '@davidjusto_': 4, '@internetsociety': 4, '@digitalliberty': 4, '@repdesaulnier': 4, '@nysenate': 4, '@urjournalists': 4, '@nytimeses': 4, '@goblackfoot': 4, '@protectournet': 4, '@congboyle': 4, '@cineplexmovies': 4, '@repdavidscott': 4, '@amazonhelp': 4, '@freedomofpress': 4, '@kateblackdc': 4, '@chronicle': 4, '@risepdx': 4, '@asbcouncil': 4, '@katyperry': 4, '@_jackcorrigan': 4, '@incompas': 4, '@jejohnson322': 4, '@artbrock': 4, '@jaycstanley': 4, '@ronaldlnewman': 4, '@knimsger': 4, '@buell003': 4, '@replipinski': 4, '@verified': 4, '@mmpadellan': 4, '@cnsnews': 4, '@roblox': 4, '@mounir': 4, '@bwestbrookaz8': 4, '@againstme': 4, '@downtownboys': 4, '@zane': 4, '@midcontinent': 4, '@cuseas': 4, '@liberal_party': 4, '@thoughtworks': 4, '@mjamme': 4, '@paulajean2018': 4, '@brendancarr': 4, '@sundarpichai': 4, '@repgaramendi': 4, '@judgejudy': 4, '@mcmoynihan': 4, '@billboard': 4, '@repebj': 4, '@accrochet': 4, '@applesupport': 4, '@hurdonthehill': 4, '@repdwstweets': 4, '@columbia': 4, '@cleanza': 4, '@kaleighrogers': 4, '@nateflicks': 4, '@fiverr': 4, '@repzoelofgren': 4, '@bahamamama53': 4, '@indivisiblefrr': 4, '@lisa4congress': 4, '@nctaitv': 4, '@peacock4ca42': 4, '@rogermarshallmd': 4, '@davemarble': 4, '@golocalprov': 4, '@fn_techcouncil': 4, '@walkerslegacy': 4, '@blumenauermedia': 4, '@larryhogan': 4, '@readyplayerone': 4, '@nra': 4, '@housedems': 4, '@tarastrong': 4, '@diegoscotti': 4, '@galvanize': 4, '@thecompanyman': 4, '@johnolivermp': 4, '@jimmydoreshow': 4, '@williegeist': 4, '@peterwelch': 4, '@bellworksnj': 4, '@rnc': 4, '@repveasey': 4, '@roqosinc': 4, '@shanetews': 4, '@berinszoka': 4, '@congressdish': 4, '@isoc_belgrade': 4, '@oliviasolon': 4, '@marissarmoss': 4, '@wkamaubell': 4, '@theroot': 4, '@rephalrogers': 4, '@repterrisewell': 4, '@ihs4tech': 4, '@fionamorgan': 4, '@mikeoriellyfcc': 4, '@hakimbe': 4, '@popular': 4, '@joshgottheimer': 4, '@jamesvgrimaldi': 4, '@repmarciafudge': 4, '@benniegthompson': 4, '@replizcheney': 4, '@repronestes': 4, '@oif': 4, '@mhealthintel': 4, '@maxarvid': 4, '@thenerdcity': 4, '@tinaflintsmith': 4, '@liampayne': 4, '@louis_tomlinson': 4, '@ronestesks': 4, '@thereaibanksy': 4, '@katiecouric': 4, '@swopista': 4, '@susandpatrick': 4, '@peta2': 4, '@schuetteonduty': 4, '@foxnewspolitics': 3, '@za1divar': 3, '@annaleclaire': 3, '@marioi7463': 3, '@johnfrombton': 3, '@friendly_rebel': 3, '@heatherpeno': 3, '@senwyden_gspp': 3, '@uverse': 3, '@linustech': 3, '@halsinger': 3, '@4chan': 3, '@foxandfriends': 3, '@nbcuniversal': 3, '@fredwilson': 3, '@schneiderman': 3, '@ohdems': 3, '@oatmeal': 3, '@pagmenzies': 3, '@mathewi': 3, '@jessehirsh': 3, '@theview': 3, '@somegadgetguy': 3, '@jengolbeck': 3, '@cbsthismorning': 3, '@lb_tharealist': 3, '@nikiinthehouse': 3, '@uproxx': 3, '@lanipator': 3, '@elizabethwarren': 3, '@diannefeinstein': 3, '@hardwick': 3, '@iamcardib': 3, '@goi_meity': 3, '@anakasparian': 3, '@hardikpatel_': 3, '@thunderclapit': 3, '@rajeevdubey': 3, '@prosaicview': 3, '@the_living_way': 3, '@pmoindia': 3, '@incindia': 3, '@pbrpod': 3, '@lemondefr': 3, '@pewinternet': 3, '@visitgreecegr': 3, '@bjp4india': 3, '@iamaiforum': 3, '@sony': 3, '@nintendo': 3, '@warrenbuffett': 3, '@chriscuomo': 3, '@telcoseth': 3, '@sethmeyers': 3, '@ralphnortham': 3, '@mediageek': 3, '@wendyndavis': 3, '@laquadrature': 3, '@roamingmil': 3, '@jbsay': 3, '@timewarnercable': 3, '@virginmedia': 3, '@mediacomsupport': 3, '@common': 3, '@cultofdusty': 3, '@fiscalnote': 3, '@windows': 3, '@aflcio': 3, '@pressherald': 3, '@davebratva7th': 3, '@progvoice': 3, '@chucknascar': 3, '@beinlibertarian': 3, '@groupon': 3, '@adweek': 3, '@miketurneroh': 3, '@jaredkushner': 3, '@edanclay': 3, '@iamsambee': 3, '@thelastword': 3, '@fullfrontalsamb': 3, '@colbertlateshow': 3, '@occupydemocrats': 3, '@dfaaction': 3, '@guardianus': 3, '@davidmuir': 3, '@directvnow': 3, '@sorola': 3, '@propublica': 3, '@johnkennedyla': 3, '@dish': 3, '@seanlawson': 3, '@pcgamer': 3, '@flwrpwr1969': 3, '@udaytonlaw': 3, '@niemanlab': 3, '@biz': 3, '@debramessing': 3, '@bittrexexchange': 3, '@socialhack': 3, '@dnrrts': 3, '@yahoofinance': 3, '@statedept': 3, '@jonathantaplin': 3, '@ericholder': 3, '@eddotse': 3, '@repgosar': 3, '@angerbeard1': 3, '@nytimescc': 3, '@repcartwright': 3, '@ilsr': 3, '@jss98rock': 3, '@leodicaprio': 3, '@robertdowneyjr': 3, '@wdet': 3, '@shendersonfreep': 3, '@wsu_com': 3, '@waynestatecfpca': 3, '@waynestatenews': 3, '@batchelorshow': 3, '@dineshdsouza': 3, '@ambaonadventure': 3, '@harikondabolu': 3, '@dandc': 3, '@bentarnoff': 3, '@funhausteam': 3, '@qzindia': 3, '@chippickering': 3, '@renato_mariotti': 3, '@danay': 3, '@brasilmagic': 3, '@ronpaul': 3, '@repjimcosta': 3, '@antimedia': 3, '@noraegordon': 3, '@fortune': 3, '@oracle': 3, '@katyturnbc': 3, '@david_redl': 3, '@digiceljamaica': 3, '@xychelsea': 3, '@abcpolitics': 3, '@havocgaming_yt': 3, '@ifunnychef': 3, '@laurakbrehm': 3, '@miguelgamino': 3, '@halo': 3, '@nerdist': 3, '@wwe': 3, '@civilrights': 3, '@stormiejenny': 3, '@slpng_giants': 3, '@louiswes': 3, '@sunilbajpai': 3, '@billspadea': 3, '@birdsgetstarted': 3, '@randirhodes': 3, '@symonedsanders': 3, '@harry4bh': 3, '@louhaigh': 3, '@paulblomfieldmp': 3, '@gillfurnissmp': 3, '@number10gov': 3, '@uklabour': 3, '@issielapowsky': 3, '@chartergov': 3, '@collectiveevol': 3, '@never_martha': 3, '@mooncatadams': 3, '@jspalter': 3, '@gauravlaroia': 3, '@abcnetwork': 3, '@iretweetyoutube': 3, '@captainslog2017': 3, '@blacknerd': 3, '@linkara19': 3, '@wellsfargo': 3, '@frankpasquale': 3, '@cp2austin': 3, '@jptrib1': 3, '@impeach_d_trump': 3, '@mthightechjobs': 3, '@cagovernment': 3, '@senmarcorubio': 3, '@andyberke': 3, '@scottpeterssd': 3, '@hollowpoiint': 3, '@kor3ayn': 3, '@sssniperwolf': 3, '@shannoncoulter': 3, '@gofundme': 3, '@siriusxm': 3, '@sarahksilverman': 3, '@csydelko': 3, '@kjoerwin': 3, '@tedyoho': 3, '@aroneisenberg': 3, '@vivaldibrowser': 3, '@jonsvt': 3, '@repwilson': 3, '@jasongagnon': 3, '@brettfrischmann': 3, '@jordanbpeterson': 3, '@independent': 3, '@workingfamilies': 3, '@bshq': 3, '@ajaromano': 3, '@attpublicpolicy': 3, '@yahoonews': 3, '@senatecommerce': 3, '@repjimmypanetta': 3, '@realtonybradley': 3, '@perduesenate': 3, '@iraflatow': 3, '@reploisfrankel': 3, '@atarstechnica': 3, '@codepink': 3, '@xbarrylevine': 3, '@jimrisch': 3, '@oregonian': 3, '@digiphile': 3, '@bjrottinghaus': 3, '@profjkaiyer': 3, '@mrscottmeyer': 3, '@wiredbusiness': 3, '@lalignedefree': 3, '@claudiatenney': 3, '@twittersafety': 3, '@digitalmusicnws': 3, '@teamusa': 3, '@machalagh': 3, '@proviewsusa': 3, '@gma': 3, '@azarijahromi': 3, '@telefonica': 3, '@mmflint': 3, '@benjaminpdixon': 3, '@didthatoffendyo': 3, '@exselocompany': 3, '@scotus': 3, '@christianmkb': 3, '@barman_rlm': 3, '@repmcgovern': 3, '@boingboing': 3, '@rephanabusa': 3, '@judicialwatch': 3, '@ipandetec': 3, '@aljazeera': 3, '@benwikler': 3, '@senalfrank': 3, '@zentaoprincess': 3, '@matt_dominguez': 3, '@heidibetts': 3, '@superwritermom': 3, '@margmizu': 3, '@jennymilchman': 3, '@edsheeran': 3, '@chairmanoffcc': 3, '@crookedmedia': 3, '@playoverwatch': 3, '@lost_pause_': 3, '@hyperrt': 3, '@gamerretweeters': 3, '@gamerrter': 3, '@substratum': 3, '@edweekscavanagh': 3, '@mactxpress': 3, '@vste': 3, '@ananavarro': 3, '@jamilahlemieux': 3, '@waltshaub': 3, '@fsf': 3, '@truthfactorycat': 3, '@googleplay': 3, '@themagdalenrose': 3, '@vbi': 3, '@small_streamers': 3, '@hairycodemonkey': 3, '@ansip_eu': 3, '@pyrocynicalvevo': 3, '@tammybaldwin': 3, '@nhl': 3, '@nytopinion': 3, '@bryanalexander': 3, '@vanschewick': 3, '@cgpgrey': 3, '@digclt': 3, '@repkhandel': 3, '@lisamg07': 3, '@technology': 3, '@wikimediapolicy': 3, '@celeste_pewter': 3, '@janaya_khan': 3, '@bencardinformd': 3, '@patagonia': 3, '@twitterdc': 3, '@exponentfm': 3, '@nyjets': 3, '@warriors': 3, '@dwmnews_na': 3, '@dries': 3, '@roseresists214': 3, '@fastcodesign': 3, '@verizonwireless': 3, '@bloomberglaw': 3, '@hrc': 3, '@onwardsearch': 3, '@djkimball': 3, '@teamsheaporter': 3, '@occuworld': 3, '@katg4': 3, '@repstephenlynch': 3, '@fccajitpai': 3, '@smosh': 3, '@mattyglesias': 3, '@matt___nelson': 3, '@sourceforge': 3, '@troylus_true': 3, '@alyxmxe': 3, '@stopthefcc': 3, '@jeffreestar': 3, '@keiserreport': 3, '@kaepernick7': 3, '@nikidemar': 3, '@kristinziemke': 3, '@edbaig': 3, '@partitopirata': 3, '@xboxsupport': 3, '@axios': 3, '@gramatik': 3, '@mmtconline': 3, '@willmhowes': 3, '@bangordailynews': 3, '@wgcu': 3, '@ckoopman': 3, '@todderic_': 3, '@ashleyjudd': 3, '@phoneyourrep': 3, '@talibkweli': 3, '@washtimes': 3, '@brennentaylor': 3, '@adrianlovett': 3, '@govchrissununu': 3, '@loufoglia': 3, '@nickdawson': 3, '@disvisibility': 3, '@shicooks': 3, '@jonsallet': 3, '@elvisduranshow': 3, '@momsrising': 3, '@halsey': 3, '@nickiminaj': 3, '@chaseoliver68': 3, '@underscorevc': 3, '@live_raise': 3, '@rapid7': 3, '@lukemesserin': 3, '@joshledore': 3, '@snhu': 3, '@trumpimpeachmnt': 3, '@w55unicorn': 3, '@kidcasteel': 3, '@daenerysresists': 3, '@topherspiro': 3, '@trumpdictionary': 3, '@repfilemonvela': 3, '@uber': 3, '@applepodcasts': 3, '@jesuschuygar': 3, '@ee_columbiaseas': 3, '@columbiacompsci': 3, '@dsi_columbia': 3, '@chrispappasnh': 3, '@valariekaur': 3, '@mediacomglobal': 3, '@mirobtv': 3, '@repcharliecrist': 3, '@ladyseashell07': 3, '@usapower2people': 3, '@vthepr': 3, '@steveblum': 3, '@repschneider': 3, '@_jonperri': 3, '@sheeyahshee': 3, '@indivchi_south': 3, '@jeffdenham': 3, '@vodafone_es': 3, '@piya': 3, '@forwardwflynn': 3, '@unluckych': 3, '@michakaufman': 3, '@theemilyjackson': 3, '@spectramesh': 3, '@rosenjeffrey': 3, '@amazonecho': 3, '@aaronnewcomb': 3, '@notaxation': 3, '@zacharygraves': 3, '@fcc_group': 3, '@jccaylen': 3, '@kianlawley': 3, '@mcrofficial': 3, '@crunchyroll': 3, '@level1techs': 3, '@po_st': 3, '@scottpetersonvz': 3, '@bloombergtv': 3, '@washingtonsrc': 3, '@grooveace': 3, '@authorsguild': 3, '@kellyasingleton': 3, '@brettgreene': 3, '@future_of_music': 3, '@robbishoput': 3, '@rickandmorty': 3, '@southpark': 3, '@hunnicoutcasts': 3, '@repsheaporter': 3, '@seattleitdept': 3, '@freememeskids': 3, '@andrewscheer': 3, '@jolingkent': 3, '@lauraskitchen': 3, '@espnnba': 3, '@virginmobileusa': 3, '@diddy': 3, '@avilarenata': 3, '@magicscrumpy': 3, '@ksiolajidebt': 3, '@replindasanchez': 3, '@rephastingsfl': 3, '@williamshatner': 3, '@huffpostimpact': 3, '@dropbox': 3, '@snap': 3, '@lukasz_x2': 3, '@reprohrabacher': 3, '@mitchellbaker': 3, '@twitchtvonline': 3, '@epb_chattanooga': 3, '@greenpartyus': 3, '@repcheri': 3, '@suntimes': 3, '@abc7chicago': 3, '@nbcchicago': 3, '@twitch_rt': 3, '@paulvixie': 3, '@bonusly': 3, '@markfarrellsf': 3, '@repsteveknight': 3, '@whammyabreu': 3, '@starbucks': 3, '@sovrnholdings': 3, '@heidiheitkamp': 3, '@indivisible_bk': 3, '@gerardway': 3, '@aly_taylor1': 3, '@ggreenwald': 3, '@repguthrie': 3, '@lindasarsour': 3, '@crisalexjimenez': 3, '@unitedwedream': 3, '@oitp': 3, '@chrissyteigen': 3, '@mikeshinoda': 3, '@meghanmccain': 3, '@repbrochester': 3, '@psawers': 3, '@dickdurbin': 3, '@wordpressdotcom': 3, '@energycommerce': 3, '@farmlogs': 3, '@havaschi': 3, '@mcdonalds': 3, '@cashmusic': 3, '@motormouthmedia': 3, '@motormouthpr': 3, '@alticeb2b_usa': 3, '@repmikecapuano': 3, '@eleanornorton': 3, '@repkclark': 3, '@judywoodruff': 3, '@repcapuano': 3, '@davyjonesrj': 3, '@massago': 3, '@dsenfloor': 3, '@niallofficial': 3, '@vermontedition': 3, '@kexp': 3, '@roycoopernc': 3, '@jackj': 3, '@baileemadison': 3, '@alexmlange': 3, '@tresgatostv': 3, '@brisownworld': 3, '@snobbyrobot': 3, '@chrismichelle13': 3, '@brandingbrandi': 3, '@prettymuch': 3, '@troyesivan': 3, '@geekwire': 3, '@ohioag': 3, '@txag': 3, '@newjerseyag': 3, '@johnkasich': 3, '@aftunion': 2, '@cox': 2, '@ditsylilg': 2, '@toddeherman': 2, '@esotericentityy': 2, '@drsapin': 2, '@amandaseales': 2, '@watchinghawks': 2, '@atandt': 2, '@kevinhart4real': 2, '@davechappelle': 2, '@brendanbordelon': 2, '@foldingathome': 2, '@cnn10': 2, '@ngenradio': 2, '@comcstspotlight': 2, '@comcastcareers': 2, '@fairmediawatch': 2, '@paleosteno': 2, '@thecagerattler': 2, '@lukewearechange': 2, '@dolandark': 2, '@xfinitymobile': 2, '@asathiaseelan': 2, '@nationofchange': 2, '@hford2': 2, '@officialmcafee': 2, '@realdtrump2k16': 2, '@aitcofficial': 2, '@connectcoai': 2, '@quizderek': 2, '@pandajay': 2, '@loksabhatv': 2, '@manukaushik': 2, '@mamataofficial': 2, '@srohitlfc': 2, '@udaimehta': 2, '@leamakhoul': 2, '@mobikwik': 2, '@rajabrar_inc': 2, '@tamiltechoffici': 2, '@scottsantens': 2, '@laurastylez': 2, '@greatnonprofits': 2, '@thewire_in': 2, '@rashtrapatibhvn': 2, '@wireditalia': 2, '@shafpatel': 2, '@israelingreece': 2, '@janhit': 2, '@christmarsden': 2, '@savannahguthrie': 2, '@mlauer': 2, '@aeitech': 2, '@lesterholtnbc': 2, '@hot97': 2, '@corpcounsel': 2, '@moneycontrolcom': 2, '@cpimspeak': 2, '@chandrarsrikant': 2, '@christopherterr': 2, '@wcco': 2, '@shadbase': 2, '@beingsalmankhan': 2, '@nasscom': 2, '@retailwire': 2, '@stitcher': 2, '@wearesinclair': 2, '@huffposttech': 2, '@wdtn': 2, '@crtchearings': 2, '@thetanmay': 2, '@medianama': 2, '@kamleshpanchota': 2, '@udte_prinde': 2, '@micheal_ray_': 2, '@leghadinesh': 2, '@jk_rowling': 2, '@watchmixer': 2, '@terrymcauliffe': 2, '@redditindia': 2, '@mssarahpaulson': 2, '@andrestaltz': 2, '@natlcouncilnps': 2, '@blackbaud': 2, '@actiondekalbco': 2, '@ariannahuff': 2, '@komonews': 2, '@kiro7seattle': 2, '@mirskaya': 2, '@jobboarddoctor': 2, '@idgcn': 2, '@kvue': 2, '@atpfm': 2, '@scroll_in': 2, '@sfdirewolf': 2, '@cableone': 2, '@aprilaser': 2, '@corydoctorow': 2, '@tayzonday': 2, '@michaeloreillyfcc': 2, '@windley': 2, '@susanbrooksin': 2, '@the74': 2, '@cmcrp1': 2, '@freedomworks': 2, '@hbogo': 2, '@amazonprimenow': 2, '@morse4america': 2, '@cityofvabeach': 2, '@equifax': 2, '@nytvideo': 2, '@qdteinstein': 2, '@vwpickard': 2, '@jacobinmag': 2, '@ala_wo': 2, '@andrewholnessjm': 2, '@yourstoryco': 2, '@pbsnewshour': 2, '@llbean': 2, '@journalsentinel': 2, '@crunchbase': 2, '@danhoranofm': 2, '@ticbeat': 2, '@twitterdev': 2, '@fccdotgov': 2, '@richzeoli': 2, '@reuterstech': 2, '@commentiquette': 2, '@governordeal': 2, '@upworthy': 2, '@brendancarrfc': 2, '@steeleandungar': 2, '@jgilliam': 2, '@latenightseth': 2, '@will_bunch': 2, '@fcclink': 2, '@npmjs': 2, '@wolfblitzer': 2, '@altcybercommand': 2, '@tedstew': 2, '@sxmpotus': 2, '@mtvnews': 2, '@volokhc': 2, '@orinkerr': 2, '@brianhartfcc': 2, '@jeopardy': 2, '@kurz_gesagt': 2, '@redban': 2, '@govhawaii': 2, '@burnie': 2, '@nidhi': 2, '@newsconsole': 2, '@mindyfinn': 2, '@stopthecap': 2, '@bungie': 2, '@gothalion': 2, '@alliancecm': 2, '@ironstache': 2, '@kylepauthor': 2, '@katiepavlich': 2, '@tomshillue': 2, '@darksecretplace': 2, '@taxmarch': 2, '@muyskerm': 2, '@senatormikelee': 2, '@thomas1774paine': 2, '@mattwelch': 2, '@kmele': 2, '@wethefifth': 2, '@mikesfox45now': 2, '@indivisible_kc': 2, '@indivisible_lfk': 2, '@efffalcon': 2, '@duncantrussell': 2, '@buzzfeednews': 2, '@maxthedrag': 2, '@mrdapperton': 2, '@hoodiedemon': 2, '@sophiabush': 2, '@tomfriedman': 2, '@whoismrrobot': 2, '@lpnational': 2, '@paytm': 2, '@repjoseserrano': 2, '@vijayshekhar': 2, '@charliecrist': 2, '@netexplosure': 2, '@yashar': 2, '@juanof9': 2, '@11thhour': 2, '@samstein': 2, '@changeorg': 2, '@humorlessqueers': 2, '@mikearildbrown': 2, '@xrayfm': 2, '@will_ppi': 2, '@shareblue': 2, '@android': 2, '@wildiebear': 2, '@theweek': 2, '@shoe0nhead': 2, '@stefanmolyneux': 2, '@traecrowder': 2, '@alantudyk': 2, '@vik__sahay': 2, '@rationalwiki': 2, '@tesla': 2, '@ndtvindia': 2, '@koch_industries': 2, '@matthewsekol': 2, '@itvnewz': 2, '@ingrahamangle': 2, '@marcusparks': 2, '@arkansasonline': 2, '@davidduchovny': 2, '@dhsgov': 2, '@latestanonnews': 2, '@nycd16indivis': 2, '@_digitalindia': 2, '@beep': 2, '@wunc': 2, '@fredlucaswh': 2, '@barstoolbigcat': 2, '@thiojoe': 2, '@johnberman': 2, '@sinclairmedia': 2, '@microsoftedge': 2, '@carmenyulincruz': 2, '@newyorktimes110': 2, '@leonardjfrench': 2, '@repschakowsky': 2, '@lamaralexander': 2, '@eastdakota': 2, '@watchdogorg': 2, '@3l3v3nth': 2, '@ambermhealy': 2, '@alancross': 2, '@nascar': 2, '@lonilove': 2, '@sirlarr': 2, '@johnhendel': 2, '@vodafoneuk': 2, '@lominerodlp': 2, '@markburnetttv': 2, '@realdailywire': 2, '@lauramoy': 2, '@watha': 2, '@lplive': 2, '@all100senators': 2, '@jgfortwayne': 2, '@showtime': 2, '@legitcongress': 2, '@assembla': 2, '@howstuffworks': 2, '@newsweek': 2, '@boostmobile': 2, '@ibdinvestors': 2, '@olganyc1211': 2, '@senatedemocrats': 2, '@totmblog': 2, '@shaunking': 2, '@hootsuite': 2, '@cricketnation': 2, '@adndotcom': 2, '@nafcu': 2, '@drudge': 2, '@iamnadiastyles': 2, '@alexchancexxx': 2, '@themercedesxxx': 2, '@nbcsportssoccer': 2, '@premierleague': 2, '@politicsk12': 2, '@caitlinzemma': 2, '@cmclymer': 2, '@donpezet': 2, '@peter_itprotv': 2, '@gopwhip': 2, '@repbarragan': 2, '@reproybalallard': 2, '@wfla': 2, '@grav3yardgirl': 2, '@ap4liberty': 2, '@tonydanza': 2, '@jason_stapleton': 2, '@stephmillershow': 2, '@kalpenn': 2, '@wcsh6': 2, '@jlentnews': 2, '@chucktodd': 2, '@gordonramsay': 2, '@colorlines': 2, '@chiefpat': 2, '@molt_yt': 2, '@ifunny': 2, '@vzwsmallbiz': 2, '@stabenowpress': 2, '@annayvettemusic': 2, '@robgassermusic': 2, '@clashroyale': 2, '@geekandsundry': 2, '@computer_phile': 2, '@gpny': 2, '@bannerite': 2, '@lisambrandt': 2, '@mrkeneastwood': 2, '@newday': 2, '@teachthought': 2, '@victoraiyang': 2, '@gvtc_com': 2, '@___almano': 2, '@amplifirenews_': 2, '@tuckmagazine': 2, '@sebgorka': 2, '@brave': 2, '@frankiekcos': 2, '@chancellordcos': 2, '@tuesdaystoomey': 2, '@the_unsilent_': 2, '@alphaomegasin': 2, '@us_fda': 2, '@smashinsecurity': 2, '@bricartsmedia': 2, '@markiplier8394': 2, '@jackaboy1398': 2, '@nbcpolitics': 2, '@shepnewsteam': 2, '@danielle_sheer': 2, '@publichealth': 2, '@natcoundis': 2, '@jeffreyguterman': 2, '@legionindc': 2, '@davhq': 2, '@vanewmexico': 2, '@nmauditor': 2, '@nmpbs': 2, '@michaelcoleman': 2, '@bcolemanvawb': 2, '@nikkiwentling': 2, '@johnsonjakep': 2, '@greta': 2, '@regrann': 2, '@changepolitics': 2, '@themediainst': 2, '@comcastventures': 2, '@comcastorswwa': 2, '@groundedreason': 2, '@repralphnorman': 2, '@talniv': 2, '@thecw': 2, '@interactionorg': 2, '@iheart': 2, '@clarkhoward': 2, '@goldenfox17': 2, '@kimkomando': 2, '@congressorg': 2, '@kelleyoreglia': 2, '@ajsadelrith': 2, '@sylvestreledru': 2, '@mozilla_fr': 2, '@vaigraff': 2, '@france24': 2, '@gameattackteam': 2, '@machaizelli': 2, '@yihyun_jeong': 2, '@indio_radio': 2, '@chrisloesch': 2, '@bosnerdley': 2, '@swoozyqyah': 2, '@unpersuaded112': 2, '@itsnicethat': 2, '@schun': 2, '@salon': 2, '@fccnice': 2, '@filthyfrank': 2, '@jason2cd': 2, '@kjzzphoenix': 2, '@avengers': 2, '@fbiwfo': 2, '@newyorkfbi': 2, '@csmonitor': 2, '@beecoz3001': 2, '@banditrandom': 2, '@spotifycares': 2, '@deanofcomedy': 2, '@jayfonsecapr': 2, '@normative': 2, '@austinnotduncan': 2, '@matthewstoller': 2, '@mctvohio': 2, '@officialafrogum': 2, '@callofduty': 2, '@faze_rain': 2, '@repallawsonjr': 2, '@ign': 2, '@lilypichu': 2, '@idaorg': 2, '@conanobrien': 2, '@zeitgeistbabe': 2, '@dynorts': 2, '@xataka': 2, '@senjefffake': 2, '@sethgreen': 2, '@theccdbr': 2, '@feeonline': 2, '@neintara': 2, '@sling': 2, '@steam_support': 2, '@alisonforca': 2, '@poptartsus': 2, '@la_crystal': 2, '@billybaldwin': 2, '@iamfonda': 2, '@icann': 2, '@opendemocracy': 2, '@mikeoghia': 2, '@bitchute': 2, '@scottmgreer': 2, '@setda': 2, '@tedwheeler': 2, '@wapo': 2, '@gadsaad': 2, '@salmansima': 2, '@popcrave': 2, '@mobiwm': 2, '@ssrn': 2, '@schneidermaria': 2, '@loubarletta': 2, '@manchesterup': 2, '@kansascitystar': 2, '@destroyillusion': 2, '@flipgrid': 2, '@votemarsha': 2, '@johnmccain': 2, '@bt_uk': 2, '@thetrichordist': 2, '@kristinoem': 2, '@jcstearns': 2, '@ctia': 2, '@jussieucall': 2, '@gingerbanks1': 2, '@ericschneiderman': 2, '@billhuizenga': 2, '@slackhq': 2, '@demsocialists': 2, '@ppact': 2, '@grubhub': 2, '@refindcom': 2, '@shekarnara': 2, '@thewlp': 2, '@syracusedotcom': 2, '@indowntownpdx': 2, '@tgiovanetti': 2, '@blakereid': 2, '@politicususa': 2, '@stopcorpabuse': 2, '@xplodingunicorn': 2, '@adobe': 2, '@abc15': 2, '@cherlynnlow': 2, '@maxwellwise': 2, '@whsvnews': 2, '@johnfasony': 2, '@allinwithchris': 2, '@moonstorm5000': 2, '@normajtorres': 2, '@healthranger': 2, '@jamesgunn': 2, '@gmwatch': 2, '@radionz': 2, '@peta_de_aztlan': 2, '@eastarwars': 2, '@therealjfod': 2, '@jillwinebanks': 2, '@majornelson': 2, '@sfgate': 2, '@nordvpn': 2, '@mega64': 2, '@hannahcranston': 2, '@peteolson': 2, '@totalbiscuit': 2, '@jamievernon': 2, '@gormanseamus': 2, '@touchbyam': 2, '@jakesherman': 2, '@hughhewittshow': 2, '@heritage': 2, '@economixcomix': 2, '@silerabbit': 2, '@awscloud': 2, '@oldermusicgeek': 2, '@johnpodesta': 2, '@snipy': 2, '@freespeechtv': 2, '@davecullencf': 2, '@roguerts': 2, '@sojourners': 2, '@offkiltershow': 2, '@nikocsfb': 2, '@azcentral': 2, '@magiceightbal': 2, '@globetech': 2, '@d3thd3al3r87': 2, '@exploreplanets': 2, '@katyanderson': 2, '@mikesimpson4id': 2, '@miamiherald': 2, '@optimumhelp': 2, '@sagaftra': 2, '@hawleymo': 2, '@pokediger1': 2, '@landonsn': 2, '@samandcolby': 2, '@bignik': 2, '@changec': 2, '@d_degea': 2, '@socialradiopa': 2, '@bbcbreaking': 2, '@jenbriney': 2, '@hercampus': 2, '@agowa': 2, '@themarysue': 2, '@abramcookson': 2, '@akidearest': 2, '@reprezentradio': 2, '@gorillaz': 2, '@icegov': 2, '@sundancefest': 2, '@officialcbc': 2, '@tariqnasheed': 2, '@netneutrality__': 2, '@barry_corindia': 2, '@badboyem': 2, '@ytpromoter4u': 2, '@web__116': 2, '@jaidenanimation': 2, '@fedex': 2, '@jdtabish': 2, '@chaosupdates': 2, '@alissa_ashleyy': 2, '@yesmagazine': 2, '@kesharose': 2, '@adamkinzinger': 2, '@dayrts_': 2, '@wolfieraps': 2, '@estabexiles': 2, '@ramikawach': 2, '@knightfdn': 2, '@emrata': 2, '@netflixes': 2, '@olsonpressshop': 2, '@commoncause': 2, '@twcable': 2, '@screwattack': 2, '@karen_paul': 2, '@jamilahking': 2, '@shoutgrt': 2, '@jackieaina': 2, '@billmaher': 2, '@thatgirlsalina': 2, '@marctayer': 2, '@streamersshout': 2, '@bambuser': 2, '@cippic': 2, '@nadiawhitexxx': 2, '@nyustern': 2, '@hubbucket': 2, '@mediamorphis': 2, '@bramabramson': 2, '@maxmagius': 2, '@jaybone5150': 2, '@baronvandam': 2, '@pramilajayapal': 2, '@patricepinkfile': 2, '@xbiz': 2, '@sciencestudioyt': 2, '@w03_': 2, '@activision': 2, '@julienchieze': 2, '@joshuatopolsky': 2, '@tommjohnsonjr': 2, '@thealtfcc': 2, '@s_c_': 2, '@podcastgoat87': 2, '@mlb': 2, '@nba': 2, '@eclectablog': 2, '@lolgop': 2, '@richardaepstein': 2, '@southjoseph': 2, '@datadeeva': 2, '@digitaldemoc': 2, '@data4democracy': 2, '@bestoftheleft': 2, '@gilpress': 2, '@neowinfeed': 2, '@abc7': 2, '@michelleinbklyn': 2, '@nascarpro2': 2, '@realamericans': 2, '@lavabit_support': 2, '@protonmail': 2, '@joecourtneyct': 2, '@drewcurtis': 2, '@dianefeinstein': 2, '@tarbel': 2, '@lmatsakis': 2, '@toddrokitain': 2, '@yarashahidi': 2, '@lyricoldrap': 2, '@prhdocs': 2, '@acogaction': 2, '@thebridgework': 2, '@womenshightech': 2, '@wloon': 2, '@light_reading': 2, '@cagop': 2, '@jamiejbartlett': 2, '@smlbizmajority': 2, '@sbacil': 2, '@collegehumor': 2, '@juliedabrusin': 2, '@gloriasteinem': 2, '@sfmoca': 2, '@jlo': 2, '@blockstack': 2, '@bdomenech': 2, '@lwc': 2, '@interocc': 2, '@emilyslist': 2, '@karlbode': 2, '@ibogost': 2, '@glassdoor': 2, '@corriere': 2, '@oann': 2, '@primevideo': 2, '@shondalandtv': 2, '@vonage': 2, '@dcwebfest': 2, '@gloriatristani': 2, '@lexual__': 2, '@funimation': 2, '@heidirosie': 2, '@stevelohr': 2, '@action6thdistil': 2, '@denverwestword': 2, '@myccitweets': 2, '@valaafshar': 2, '@publici': 2, '@fitzprov': 2, '@abacus_next': 2, '@zippy314': 2, '@fccif': 2, '@ninuxorg': 2, '@bigthink': 2, '@cliffpotts': 2, '@mariecountryman': 2, '@mittromney': 2, '@freespeechmtsu': 2, '@leonardlancenj7': 2, '@davidkustoff': 2, '@pradomedia': 2, '@acuconservative': 2, '@mac_clem': 2, '@neeratanden': 2, '@huffingtonpost': 2, '@thetweetofgod': 2, '@adamschiff': 2, '@portantino': 2, '@ttylgrande': 2, '@indystar': 2, '@nicklucchesi': 2, '@mirandasings': 2, '@occupysd': 2, '@llawlor': 2, '@suzi_q2': 2, '@uppity1': 2, '@rousseau_ist': 2, '@punkboyinsf': 2, '@jason_koebler': 2, '@jeremysarachan': 2, '@theswitch': 2, '@_alexhirsch': 2, '@depechemode': 2, '@ccoalition': 2, '@freedommobile': 2, '@bretbaier': 2, '@annahorford': 2, '@misterpreda': 2, '@savagejerky': 2, '@repkeithellison': 2, '@kris_sacrebleu': 2, '@katebrownforor': 2, '@acm': 2, '@greggstebben': 2, '@arianaworldupd2': 2, '@gabcake': 2, '@spacebunss': 2, '@rosemcgowan': 2, '@tvotshow': 2, '@simplestreamuk': 2, '@sarahkliff': 2, '@indivisiblenj5': 2, '@ourrevolutionnj': 2, '@4taxfairness': 2, '@hankgreen': 2, '@daz_black': 2, '@podcastvsstate': 2, '@reprobinkelly': 2, '@mmmagtim': 2, '@heathhussar': 2, '@usgao': 2, '@cira001': 2, '@frontporchforum': 2, '@vanessamerrell': 2, '@veronicamerrell': 2, '@merrelltwins': 2, '@thepaulmerrell': 2, '@realbradgarrett': 2, '@xterra1_': 2, '@davidcicilline': 2, '@hellolifewtf': 2, '@colbybrock': 2, '@eltoncastee': 2, '@itscoreyscherer': 2, '@samgolbach': 2, '@deeshaw': 2, '@openmedia': 2, '@remhq': 2, '@exede': 2, '@jeffspolitics': 2, '@virgin': 2, '@ophcourse': 2, '@sbc111': 2, '@skyserves': 2, '@riseandresistny': 2, '@joelembiid': 2, '@robinsoncole': 2, '@piperperabo': 2, '@whiteoutmashups': 2, '@oliviaresists': 2, '@3ric_s74nl3y': 2, '@thekarmanetwork': 2, '@poppy': 2, '@amazonfiretv': 2, '@ajitpaiofficial': 2, '@tjmshow': 2, '@iamsteveharvey': 2, '@danlev': 2, '@dhof': 2, '@vanossgaming': 2, '@idubbbz': 2, '@johniadarola': 2, '@lilaaron911': 2, '@thegreatkhalid': 2, '@michelleobama': 2, '@news4dc': 2, '@zaranyzerak': 2, '@ny_indivisible': 2, '@hubshowpod': 2, '@natgeo': 2, '@skepticsguide': 2, '@texastribune': 2, '@jessewelle': 2, '@nathanfromcincy': 2, '@blackmirror': 2, '@ryanradia': 2, '@mbgtweets': 2, '@heartlandinst': 2, '@houstonchron': 2, '@bayanita89': 2, '@anonymous': 2, '@socialgood': 2, '@evanmengstrom': 2, '@ifla': 2, '@freianahser': 2, '@everyone': 2, '@kslcom': 2, '@aftermillennial': 2, '@blmchi': 2, '@theatlantic': 2, '@brucepoliquin': 2, '@amywebb': 2, '@jeffbealsny19': 2, '@socialmediahq': 2, '@collegedemsil': 2, '@indivisiville': 2, '@hardlightpro': 2, '@goober5000': 2, '@the_one_e': 2, '@robertsspaceind': 2, '@kofiadomelah': 2, '@jfh': 2, '@reddit_ama': 2, '@itunes': 2, '@padddyylol': 2, '@dalm_lipbalm': 2, '@vtattorneygen': 2, '@expedia': 2, '@priceline': 2, '@marymo2017': 2, '@patronlisa': 2, '@rowdycprod': 2, '@schauvel': 2, '@satoshilite': 2, '@10tv': 2, '@joecianflone': 2, '@darthsquig': 2, '@spacekatgal': 2, '@kcrg': 2, '@shakeshack': 2, '@idlenomore4': 2, '@sangamondsa': 2, '@phillybusiness': 2, '@joshinspires': 2, '@bobbyscott': 2, '@p91fun': 2, '@andyblack': 2, '@treesicleteam': 2, '@thegameawards': 2, '@indivismadison': 2, '@citysanleandro': 2, '@nassereledroos': 2, '@aclu_norcal': 2, '@bolt4gcare': 2, '@mayorjenny': 2, '@alasdairwilkins': 2, '@okbabyyt': 2, '@itsnikkib': 2, '@energymau5freak': 2, '@saturdayrewind': 2, '@bobsheaux': 2, '@ajam': 2, '@jeffeisenach': 2, '@carnegieindia': 2, '@karenhunter': 2, '@promethease': 2, '@vikrumaiyer': 2, '@lambdalegal': 2, '@uc_artsci': 2, '@journalismuc': 2, '@samsungus': 2, '@compucorps': 2, '@iscanada1': 2, '@guillequero': 2, '@ericschmidt': 2, '@euromaestro': 2, '@rodblum': 2, '@osopepatrisse': 2, '@techpolicyinst': 2, '@blackstone': 2, '@nexteraenergyr': 2, '@capitalgroupco': 2, '@arizonatile': 2, '@breckannielsen': 2, '@allthingscomedy': 2, '@laughable': 2, '@tomrooney': 2, '@aarp': 2, '@americanenough': 2, '@lsarsour': 2, '@myrwu': 2, '@ammori': 2, '@govsandoval': 2, '@karaswisher': 2, '@financialpost': 2, '@beaudrypaul': 2, '@wmot_rootsradio': 2, '@chavighurst': 2, '@senatorjackreed': 2, '@megynkelly': 2, '@utaustin': 2, '@alfrewoodard': 2, '@futuretensenows': 2, '@justinebateman': 2, '@benmangan': 2, '@verizondeals': 2, '@entrepreneur': 2, '@fara1': 2, '@merrittlbliss': 2, '@scottcharlston': 2, '@heidiflato': 2, '@notaaroncraig': 2, '@mikemurphypr': 2, '@mirajoleigh': 2, '@officialnaac': 2, '@therealdonald_': 2, '@einsteinmed': 2, '@movistararg': 2, '@thisdoesnotcomp': 2, '@acluofalaska': 2, '@cbcns': 2, '@statemaryland': 2, '@cbsmiami': 2, '@piratenpartei': 2, '@fordfoundation': 2, '@meddemfund': 2, '@rep_tom_garrett': 2, '@bigbabydram': 2, '@officegovethics': 2, '@ufcfightpass': 2, '@ussupremecourt': 2, '@sendategop': 2, '@thegoodgodabove': 2, '@techinsider': 2, '@cupcakke_rapper': 2, '@nitot': 2, '@teksyndicate': 2, '@mark_meer': 2, '@electcrowe': 2, '@yankees': 2, '@stephenfry': 2, '@k_fsociety': 2, '@wasendemocrats': 2, '@buythisplatform': 2, '@frankjamespopep': 2, '@fjpopper': 2, '@_magicalcraft_': 2, '@trump': 2, '@antonejohnson': 2, '@grassleypress': 2, '@hiddenfigures': 2, '@fallout': 2, '@istartmonday': 2, '@bspodnetwork': 2, '@the2019seniors': 2, '@cardboardcoryco': 2, '@commoncauseco': 2, '@gremmyslife': 2, '@wildchild69': 2, '@lukeanglindoor': 2, '@rosenchildep': 2, '@rosenchildind': 2, '@cherylshuman': 2, '@jm_bauer': 2, '@rogerjstonejr': 2, '@williamlegate': 2, '@nationalpost': 2, '@jshieber': 2, '@shawnmendes': 2, '@riverdalecs': 2, '@i_teach_ict': 2, '@123pow': 2, '@edxonline': 2, '@newyorkerradio': 2, '@davejoyceoh14': 2, '@jimcramer': 2, '@reporterherald': 2, '@suzieswimcoach': 2, '@dino4dino': 2, '@kovacs4congress': 2, '@joangreeneaz': 2, '@electgarrick': 2, '@carasantamaria': 2, '@crtc': 2, '@orange_france': 2, '@tonyclementcpc': 2, '@rrjdean': 2, '@orlightbrigade': 2, '@senate': 2, '@grantcardone': 2, '@packybrennan': 2, '@dbrand': 2, '@anchorfree': 2, '@thinkerdamous': 2, '@thatkevinsmith': 2, '@techpolicypdcst': 2, '@savinthebees': 2, '@christendtweets': 2, '@desiperkins': 2, '@lustrelux': 2, '@thefcc': 2, '@alnewsnetwork': 2, '@cnnnewsroom': 2, '@cbseveningnews': 2, '@consumerpal': 2, '@jstor_daily': 2, '@njslmarychute': 2, '@mspackyetti': 2, '@samswey': 2, '@tworivertech': 2, '@jimhightower': 2, '@fiercehealth': 2, '@thomassanders': 2, '@cdrnys': 2, '@brewster_kahle': 2, '@kens5': 2, '@davidkharbour': 2, '@uriyya': 2, '@joan_e': 2, '@naretevduorp': 2, '@yescalifornia': 2, '@vote_cnp': 2, '@lizaldermannyt': 2, '@amietsang': 2, '@socialsecurity': 2, '@medicaregov': 2, '@roguepotusstaff': 2, '@w3c': 2, '@standingrockst': 2, '@anchorfreedavid': 2, '@wordpress': 2, '@uccmediajustice': 2, '@rchakras': 2, '@bettybowers': 2, '@jerichobrown': 2, '@maggyw519': 2, '@colleenb123': 2, '@americantelemed': 2, '@lutherstrange': 2, '@helianthus77': 2, '@bheater': 2, '@evanselinger': 2, '@ibbakapricing': 2, '@nyuentrepreneur': 2, '@netneutralityyy': 2, '@sadejtate': 2, '@alyissaleiane': 2, '@_daniellemarrie': 2, '@william_alday': 2, '@aniyanicolee': 2, '@kalani_martin': 2, '@daliahhhxxx': 2, '@drivebytruckers': 2, '@martinshkerli': 2, '@diamondandsilk': 2, '@paultonko': 2, '@slashdot': 2, '@itsjhalt': 2, '@tvietor08': 2, '@podsaveamerica': 2, '@ubisoft': 2, '@cloudflareapps': 2, '@bear_retweets': 2, '@secondlife': 2, '@alexernst': 2, '@mpower_change': 2, '@commondefense': 2, '@pressfreedom': 2, '@rcfp': 2, '@progressvoice': 2, '@gaiaonline': 2, '@bing': 2, '@awestruckvox': 2, '@aliciagarza': 2, '@iansherr': 2, '@safiyajn': 2, '@nyccomedycellar': 2, '@ordinaryfaces': 2, '@sidalpha': 2, '@etcshow': 2, '@50409': 2, '@deutschetelekom': 2, '@ajitpaifdfcc': 2, '@thecodingexprs': 2, '@mdreporter': 2, '@matt_vandyke': 2, '@carelessretweet': 2, '@chrisstigall': 2, '@k_jeanpierre': 2, '@bootedblog': 2, '@scottforflorida': 2, '@nathanieldwhite': 2, '@carolyntackett': 2, '@wto': 2, '@apt613': 2, '@action2getherus': 2, '@iagovernor': 2, '@washingtech': 2, '@f_mb': 2, '@freep': 2, '@cbusindivisible': 2, '@oh3voters': 2, '@jayinslee': 2, '@pcmag': 2, '@douglamborncd5': 2, '@michaelmcgee': 2, '@jonkerlin': 2, '@iamakademiks': 2, '@everylibrary': 2, '@netoficial': 2, '@foursquare': 2, '@liluzivert': 2, '@nyt': 2, '@maggie_hassan': 2, '@reshmasaujani': 2, '@congressedits': 2, '@donjbacon': 2, '@linuxfoundation': 2, '@dwstweets': 2, '@usatopinion': 2, '@sjnews': 2, '@aclualabama': 2, '@thekuhnerreport': 2, '@wrko680': 2, '@hughesnetaz': 2, '@bpb_de': 2, '@hiig_berlin': 2, '@sengop': 2, '@annabellelee417': 2, '@cspanradio': 2, '@1800broadview': 2, '@sedidlake': 2, '@kellyblaus': 2, '@bikerglen': 2, '@teamtrump': 2, '@clewandowski_': 2, '@scottsands': 2, '@ajitpairfcc': 2, '@cmtmosqueda': 2, '@dias_siete': 2, '@skullvop': 2, '@alertlogic': 2, '@techspective': 2, '@govmarkdayton': 2, '@luisgutierrez': 2, '@congressmanbost': 2, '@marketplace': 2, '@thatsweaterkid': 2, '@davidlaz': 2, '@thenci': 2, '@sanfordbishop': 2, '@repdevinnunes': 2, '@repjimmygomez': 2, '@repamata': 2, '@cxifanes': 2, '@texasgov': 2, '@cincybell': 2, '@saneprogressive': 2, '@claudia_stauber': 2, '@tiberipress': 2, '@shailenewoodley': 2, '@kimreynoldsia': 2, '@rollplanes__': 2, '@kdtrey5': 2, '@charliebakerma': 2, '@theiconicdoctor': 2, '@amashoffice': 2, '@quartzatwork': 2, '@nailogical': 2, '@frankiero': 2, '@petewentz': 2, '@lebatardshow': 2, '@pantsuitnation': 2, '@federalnewscast': 2, '@carloslcurbelo': 2, '@marketplacetech': 2, '@governortomwolf': 2, '@govherbert': 2, '@therealryanhiga': 2, '@ajitpie': 2, '@lee_in_iowa': 2, '@trevormoran': 2, '@undefined': 2, '@buzzfeed': 2, '@team10official': 2, '@carlyincontro': 2, '@mikeeofcc': 2, '@queenslibrary': 2, '@garrettjohnson': 2, '@aginnt': 2, '@bobfergusonag': 2, '@_d_a_n_i_e_l__b': 2, '@57kazqz6uyiq2p2': 2, '@stanfordlaw': 2, '@ifixit': 2, '@the_real_editor': 2, '@alissaviolet': 2, '@rainierconnect': 2, '@_aphmau_': 2, '@harry_styles': 2, '@nicksnightclub': 2, '@jmalchow': 2, '@netsocialreview': 2, '@womensmediacntr': 2, '@deannecuellar': 2, '@andrearussett': 2, '@maggielindemann': 2, '@itsbobbymares': 2, '@iamcreesummer': 2, '@portpodcast': 2, '@stevedaine': 2, '@megatjp': 2, '@jarpad': 2, '@rhettandlink': 2, '@jamesthompsonks': 2, '@brentwelder': 2, '@cathymyerswi': 2, '@geraghtyvl': 2, '@senjudiciary': 2, '@garyszatkowski': 2, '@geoffreyfowler': 2, '@lisamadigan': 2, '@kianandjc': 2, '@bridgetcarey': 2, '@chcfnews': 2, '@johnny_marrero': 2, '@juliakato': 2, '@jmelleb711': 2, '@slicknickshady': 2, '@z_frostwire': 2, '@sharperpnffan': 2, '@littlehoss16j': 2, '@ll35official': 2, '@realegdaily': 2, '@radarconnects': 2, '@theodd1sout': 2, '@mrbeastyt': 2, '@ofa': 2, '@wbjonline': 2, '@joneidson': 2, '@nikolastrange1': 2, '@survivetheark': 2, '@adamlaxalt': 2, '@turnbullmalcolm': 2, '@generalbrnovich': 2, '@augdrob': 2, '@agjepsen': 2, '@isoc_lac': 2, '@chipsahoy': 1, '@oreo': 1, '@stephenamell': 1, '@defense_league': 1, '@rweingarten': 1, '@minalh': 1, '@tummler10': 1, '@vzfoundation': 1, '@gephi': 1, '@nodecraft': 1, '@imjusthelen': 1, '@sketchpads19': 1, '@presssecsanders': 1, '@raiderob67': 1, '@kabugela': 1, '@jpbarlow': 1, '@cartoonmovement': 1, '@tails_live': 1, '@trumptaxscam': 1, '@mssharpton2u': 1, '@edweekcomm': 1, '@ushouse': 1, '@stevetdent': 1, '@dankennedy_nu': 1, '@channel_online': 1, '@cdelpretewect': 1, '@fgc_theo': 1, '@centraltexasbbb': 1, '@bigmouth': 1, '@imlivert': 1, '@rsg_retweet': 1, '@blueridgetv': 1, '@chaostar13': 1, '@reneefsmith': 1, '@barrettfoa': 1, '@barnacles': 1, '@ajplus': 1, '@sigma_mindset': 1, '@citi': 1, '@bankofamerica': 1, '@chase': 1, '@kucoincom': 1, '@cosscrypto': 1, '@nytimesbusiness': 1, '@nationalpta': 1, '@neatoday': 1, '@j4j_usa': 1, '@dell': 1, '@spicer4congress': 1, '@theweeklywhat': 1, '@tucows': 1, '@eriecountydems': 1, '@ohdemchairs': 1, '@governorbullock': 1, '@boscitycouncil': 1, '@govabbott': 1, '@tabethawatching': 1, '@tyrelwatching': 1, '@chrisdelia': 1, '@danieltosh': 1, '@rockisland_sji': 1, '@hulu_support': 1, '@rk3dblast': 1, '@incarta95': 1, '@trashgh0st': 1, '@iaconvapordaddy': 1, '@jeffsangwan': 1, '@scaramucci': 1, '@lanternsbuzz': 1, '@livemint': 1, '@teamtrace': 1, '@cnnpr': 1, '@janayealfred': 1, '@dianefrancis1': 1, '@keloerikat': 1, '@kelodans': 1, '@kelocasey': 1, '@markturc': 1, '@ambertamblyn': 1, '@dapeaple': 1, '@podbeancom': 1, '@benjaminbherold': 1, '@marciasekhose': 1, '@keepthelogic301': 1, '@dramaalert': 1, '@nationalcenter': 1, '@thelucky7smokes': 1, '@mamacat2u': 1, '@kboo': 1, '@charterspectrum': 1, '@iphone4veriz': 1, '@congressdotgov_': 1, '@salaratrizadeh': 1, '@guidolombardius': 1, '@capt_amarinder': 1, '@iyc': 1, '@ani': 1, '@slingerr': 1, '@kfdmnews': 1, '@queenieg2017': 1, '@robbiedeezle': 1, '@msstephabdullah': 1, '@tiatherealmccoy': 1, '@nyy_ka': 1, '@ravenonthill': 1, '@geeksaresexy': 1, '@danharmon': 1, '@wattpad': 1, '@royalroadl': 1, '@victoria4texas': 1, '@helaineolen': 1, '@cameronmoulene': 1, '@alysonstoner': 1, '@schmoogin': 1, '@kiransa_': 1, '@kaiserneko': 1, '@hbi2k': 1, '@masterwuggles': 1, '@czbacklash': 1, '@candybazaar': 1, '@hideo_kojima_en': 1, '@sfmusictech': 1, '@officeofrsp': 1, '@toonzone': 1, '@kerrykelvas': 1, '@northwesternu': 1, '@youtubetv': 1, '@sweetiebatch': 1, '@ashmittejkumar': 1, '@cnbctv18news': 1, '@darrell_clarke': 1, '@councilmankj': 1, '@councilwomanbrb': 1, '@helengymatlarge': 1, '@mariaqsanchez': 1, '@portablerockart': 1, '@harshastv': 1, '@dugalira': 1, '@cads_haw': 1, '@inf_haw_hh': 1, '@timesofindia': 1, '@govpressoffice': 1, '@mlkhattar': 1, '@toibusiness': 1, '@etikawnetwork': 1, '@ndtv': 1, '@onlineitguru': 1, '@honor': 1, '@china': 1, '@abpmajhatv': 1, '@jagratishukla29': 1, '@sureshchavhanke': 1, '@rajatsharmalive': 1, '@tulsidasbhoite': 1, '@bombaytimes': 1, '@avoiceforallga': 1, '@anuragbatrayo': 1, '@nawalahuja': 1, '@sarahmgellar': 1, '@ronendrasingh': 1, '@iamatiwari_': 1, '@indivismarin': 1, '@netindian': 1, '@egbertowillies': 1, '@manujosephsan': 1, '@ajiolife': 1, '@flagsofhonour': 1, '@bhuvankrishna': 1, '@secretarymeity': 1, '@maheshuppal': 1, '@mr_ankit_pingle': 1, '@amol_kulkarni1': 1, '@snarayan1990': 1, '@ghuman_parveer': 1, '@psm_cuts': 1, '@cutsccier': 1, '@bc_cuts': 1, '@gcheriyan': 1, '@cutscart': 1, '@cutscitee': 1, '@susarcasm': 1, '@matthieist': 1, '@bsnlcorporate': 1, '@salmannizami_': 1, '@kilafateh': 1, '@telecompaper': 1, '@youtubefanfest': 1, '@redmiindia': 1, '@miindiasupport': 1, '@tamilnadu': 1, '@olacabs': 1, '@bhash': 1, '@practo': 1, '@shashanknd': 1, '@7879881122': 1, '@malavtweets': 1, '@phonepe_': 1, '@berning_media': 1, '@twitterindia': 1, '@dna': 1, '@ss_suryawanshi': 1, '@modiledubega': 1, '@mpchalia': 1, '@sachinpilot': 1, '@fastmetrics1': 1, '@aksharpathak': 1, '@thanthitv': 1, '@pttvonlinenews': 1, '@news7tamil': 1, '@thewiremagazine': 1, '@rahulabhatia': 1, '@adityakalra': 1, '@shaktawatsonal': 1, '@akshaykumar': 1, '@amitshah': 1, '@bcci': 1, '@financialxpress': 1, '@khqa': 1, '@ianuragthakur': 1, '@amchamhk': 1, '@steventurous': 1, '@franciliens': 1, '@planethipaa': 1, '@hipaanews': 1, '@priyankac19': 1, '@afrotribuneco': 1, '@shriya1109': 1, '@xiaomi': 1, '@samsungmobilein': 1, '@xiaomiindia': 1, '@boohacksandtips': 1, '@techsatire': 1, '@shanikulture': 1, '@leasteinacker': 1, '@_cberger_': 1, '@usatodaymoney': 1, '@experian_us': 1, '@mtnlofficial': 1, '@mybroadband': 1, '@timesnow': 1, '@dhruv_rathee': 1, '@mirrornow': 1, '@nationwideradio': 1, '@dennisbroox': 1, '@kalilahrey': 1, '@marciaforbes': 1, '@ingridriley': 1, '@stacwil': 1, '@mamachell': 1, '@halsalldoug': 1, '@uttlebuttle': 1, '@youthkiawaaz': 1, '@anshul_tewari': 1, '@delhiyuva': 1, '@delhiyouthcong': 1, '@delhiyouthforum': 1, '@our_da': 1, '@celtics': 1, '@harvard': 1, '@makecaligreat': 1, '@berriojo1': 1, '@saket29suman': 1, '@badbunnypr': 1, '@nbcphiladelphia': 1, '@umusicindia': 1, '@ashokgehlot51': 1, '@incgujarat': 1, '@incrajasthan': 1, '@officeofpoonamm': 1, '@bjp4gujarat': 1, '@ssumitbansal': 1, '@sussexunipress': 1, '@channel4news': 1, '@channel4': 1, '@bbciplayer': 1, '@armchairpseph': 1, '@amz360': 1, '@mobilebergfex': 1, '@s_n_i': 1, '@squawkcnbc': 1, '@comcas': 1, '@michaelmoore': 1, '@lexology': 1, '@biuk_tech': 1, '@yugpurushg': 1, '@babu_bhaiyaa': 1, '@shuklapinku': 1, '@wynkmusic': 1, '@sarahmillican75': 1, '@imgungunuprari': 1, '@menakadoshi': 1, '@rafi_sahab': 1, '@rafiletzter': 1, '@kalhan': 1, '@politicallynuts': 1, '@sb_thejedi': 1, '@boloco': 1, '@ajitpai_fcc': 1, '@ianthebush': 1, '@bjp4bengal': 1, '@incbengal': 1, '@karthikb351': 1, '@jackerhack': 1, '@mises': 1, '@sbikh': 1, '@nasscomnet': 1, '@tame_wildcard': 1, '@loresjoberg': 1, '@dassaji': 1, '@manojsinhabjpand': 1, '@realjoecronin': 1, '@jeepersmedia': 1, '@uidai': 1, '@ajthat': 1, '@theoalee': 1, '@huffpostcontrib': 1, '@pubschoolops': 1, '@kfan': 1, '@paulcharchian': 1, '@theathleticmin': 1, '@seth_ferzo': 1, '@aj_ferzo': 1, '@justinabrahms': 1, '@bamnecessary': 1, '@larivagloria': 1, '@tedrall': 1, '@donaldtrump': 1, '@heckprivacy': 1, '@maytallevi1': 1, '@stnsvn': 1, '@wcax': 1, '@changesave': 1, '@caragerber': 1, '@ecgrim': 1, '@greenheroninfo': 1, '@drshlafer': 1, '@danawanzer': 1, '@nickrhart': 1, '@weratedogs': 1, '@netneutralityca': 1, '@carcinogensda': 1, '@everydayecocide': 1, '@350mass': 1, '@masssierraclub': 1, '@insideclimate': 1, '@desmogblog': 1, '@counterpunch': 1, '@richardbspencer': 1, '@tomferry': 1, '@zillow': 1, '@homesmartegr': 1, '@stevekornacki': 1, '@btogs2718': 1, '@stellaofcourse': 1, '@dingel_ken': 1, '@petersinger': 1, '@carlazuzcnn': 1, '@scene': 1, '@3r1ng': 1, '@narendramodi_in': 1, '@drgpradhan': 1, '@__mynf': 1, '@dentcoin': 1, '@piedpiper': 1, '@givingtues': 1, '@billmeyershow': 1, '@drj_policy': 1, '@nfib': 1, '@icguild': 1, '@alycelmiller': 1, '@cpmmath': 1, '@divvypic': 1, '@realpa': 1, '@prosyndicate': 1, '@hlntv': 1, '@parentofsam1': 1, '@nikkiboura': 1, '@benthelooney': 1, '@misendems': 1, '@shalltakecare': 1, '@ma_nonprofitnet': 1, '@nasahqphoto': 1, '@nasa_technology': 1, '@nasaearthdata': 1, '@launchdfw': 1, '@brookingsinst': 1, '@cparissi': 1, '@gerardofloresr': 1, '@eleconomista': 1, '@joebrummer': 1, '@cinemaven': 1, '@rob_reid': 1, '@shereenbhan': 1, '@startrekcbs': 1, '@thewavesoftech': 1, '@hiltzikm': 1, '@trumpcuck': 1, '@benningtonshow': 1, '@mazumdartarun': 1, '@nicholsuprising': 1, '@urbanmediatoday': 1, '@leinwand': 1, '@sirravishkumar': 1, '@bbcnewsmarathi': 1, '@nottsoserious': 1, '@brettharned': 1, '@ageofzac': 1, '@oldwonk': 1, '@bungerkcbs': 1, '@kcbsnews': 1, '@hardnews': 1, '@thisismetis': 1, '@itexpo': 1, '@nf_reece': 1, '@chriscrocker': 1, '@davidbegnaud': 1, '@jysexton': 1, '@gharv': 1, '@markdeklin': 1, '@votebrevard': 1, '@rockthevote': 1, '@visithouston': 1, '@visitorlando': 1, '@cradygg': 1, '@betofortexas': 1, '@knetfr': 1, '@btlradionews': 1, '@givelively': 1, '@media_cloud': 1, '@mariannaelvira': 1, '@neww_life': 1, '@squareparis': 1, '@roundtowertech': 1, '@angiemiles': 1, '@metronewscanada': 1, '@leslie': 1, '@profnordlund': 1, '@mkblyth': 1, '@kris6news': 1, '@resurgent': 1, '@bateson2018': 1, '@electroza2018': 1, '@newstalk780koh': 1, '@ajittpaifcc': 1, '@womanresistornc': 1, '@fema': 1, '@robertbluey': 1, '@hypebot': 1, '@burningman': 1, '@pantherrts': 1, '@classcraftgame': 1, '@asavagenation': 1, '@telbru_bn': 1, '@eddiehold': 1, '@polycount': 1, '@mimatweet': 1, '@flixxo': 1, '@alyssanewcomb': 1, '@newtownpl': 1, '@wncn': 1, '@circa': 1, '@bobgoodlatte6': 1, '@silverblade_uk': 1, '@kalenjordan': 1, '@raineyreitman': 1, '@robbiethefire': 1, '@electvswanson': 1, '@mitdistrict': 1, '@piratenpartij': 1, '@newyorktimesghs': 1, '@amneeson': 1, '@nastynastyvet': 1, '@ericnull': 1, '@sarahbellumd': 1, '@aravosis': 1, '@defenseone': 1, '@the_dailywire': 1, '@barronsonline': 1, '@baltbizonline': 1, '@crunchbasenews': 1, '@founder': 1, '@indivisiblemn03': 1, '@steveearle': 1, '@madmaxgame': 1, '@poho': 1, '@calebhawk': 1, '@jothamist': 1, '@jimmydore': 1, '@limbaugh': 1, '@fccproposes': 1, '@rittermsl': 1, '@mrdeltoric': 1, '@jhanks4u': 1, '@sedenanlar': 1, '@orcon': 1, '@mhg620': 1, '@dictgovph': 1, '@thatoneguy2440': 1, '@seamanreal': 1, '@stevedoocy': 1, '@bigbangtheory': 1, '@kasimreed': 1, '@romankluka': 1, '@johndvillasenor': 1, '@arlostuff': 1, '@chadtronic': 1, '@acracebest': 1, '@saberspark': 1, '@blackgryph0n': 1, '@tobyturner': 1, '@littlefairygir1': 1, '@mielfr': 1, '@midnightlutz': 1, '@leharfri': 1, '@analograven': 1, '@gravity_piglet': 1, '@tecno3dmons': 1, '@journalstarnews': 1, '@infoyoyow': 1, '@digicelgroup': 1, '@callfire': 1, '@twistartups': 1, '@bostonvc': 1, '@matrixpartners': 1, '@zirtual': 1, '@nationbuilder': 1, '@coganspoerry': 1, '@patfoster698': 1, '@damityanet': 1, '@marleythirteen': 1, '@ppersnickety': 1, '@ragtag_team': 1, '@jnm0201': 1, '@scottpresler': 1, '@realomarnavarro': 1, '@jimlibertarian': 1, '@judgejeanine': 1, '@scottbaio': 1, '@resistanceparty': 1, '@resistidiocracy': 1, '@libamericaorg': 1, '@momsdemand': 1, '@demawakening': 1, '@tpm': 1, '@wgu': 1, '@krclradio': 1, '@janbansema0': 1, '@lisamurkowskii': 1, '@jonronson': 1, '@univisionnews': 1, '@iliacalderon': 1, '@bet': 1, '@netneu': 1, '@oath': 1, '@whateyethynk': 1, '@2spicypodcast': 1, '@them': 1, '@michaelreeves08': 1, '@justinvendetta': 1, '@peterschiff': 1, '@morriganaudio': 1, '@aussiebenasmr': 1, '@greaterboston': 1, '@scvwa': 1, '@rajendrasdesai1': 1, '@mkvenu1': 1, '@shekhargupta': 1, '@kurup62': 1, '@samarjeet_n': 1, '@ram_guha': 1, '@svaradarajan': 1, '@prameshjain12': 1, '@bdutt': 1, '@drudgereportusa': 1, '@taxrobbery': 1, '@zeitchikwapo': 1, '@hivoltage': 1, '@pinboard': 1, '@arielariel': 1, '@insidesourcesdc': 1, '@robtravels': 1, '@googlefacts': 1, '@eriqgardner': 1, '@methodman': 1, '@therealredman': 1, '@mj_coren': 1, '@naval': 1, '@pmarca': 1, '@deej_bng': 1, '@professorbroman': 1, '@kevinxvision': 1, '@cyrushabib': 1, '@heforshe': 1, '@haileesteinfeld': 1, '@logic301': 1, '@valweise': 1, '@seancunnion': 1, '@kellenblaze': 1, '@marygkosta': 1, '@vijtable': 1, '@v_loview': 1, '@thatxguy12': 1, '@_aloknath': 1, '@chris_caliendo': 1, '@mikemassey5': 1, '@rudderboris': 1, '@andreacapere': 1, '@technicallyphl': 1, '@saifwasim7': 1, '@craigipedia': 1, '@gopsenmajority': 1, '@daviddifranco': 1, '@obese_to_beast': 1, '@6foot4honda': 1, '@dougdemuro': 1, '@adamferrara': 1, '@ericdjuly': 1, '@pitchwerks': 1, '@god': 1, '@godfreyforoh16': 1, '@jehmu': 1, '@richardafowler': 1, '@ronburr': 1, '@m_weatherly': 1, '@amnestyusa': 1, '@mallorylocklear': 1, '@acatnamedmo': 1, '@iceddarkroast': 1, '@erikestrada': 1, '@chips_gifs': 1, '@tonycrynight': 1, '@phantomsavage': 1, '@worldcryptonet': 1, '@charmchawm': 1, '@l_kevinmatthews': 1, '@reginatgoodwin': 1, '@nikkihaley': 1, '@gingergibson': 1, '@_shaunm': 1, '@dcnorg': 1, '@texasaft': 1, '@askplaystation': 1, '@senatorfifield': 1, '@corybernardi': 1, '@janemoss08': 1, '@charlie_carver': 1, '@bradwenstrup': 1, '@rickungar': 1, '@michaelsteele': 1, '@iamshubhamhota': 1, '@davedtc': 1, '@joshmalina': 1, '@whitfordbradley': 1, '@cherofficiai': 1, '@srbachchan': 1, '@anupampkher': 1, '@nodejs': 1, '@v8js': 1, '@jessekblum': 1, '@swami_63': 1, '@transform_ind': 1, '@aclu_wa': 1, '@yvetteclarke': 1, '@samjohnsontx3': 1, '@vihartvihart': 1, '@lorerunner': 1, '@americamag': 1, '@uscellular': 1, '@tdibridgette': 1, '@cfbplayoff': 1, '@williammilne13': 1, '@kharyp': 1, '@ecmjsm': 1, '@yeropinion': 1, '@princessbravato': 1, '@owillis': 1, '@thelastrefuge2': 1, '@jimmy_wales': 1, '@drrimmer': 1, '@2nurfm': 1, '@qutlaw': 1, '@latenighthalo': 1, '@atlblog': 1, '@vimhomeless': 1, '@wet_wasabi': 1, '@jackbalkin': 1, '@bsindia': 1, '@thesterlingberg': 1, '@cagsil': 1, '@michaelmandel': 1, '@justinawayne': 1, '@robertbockel': 1, '@melindagates': 1, '@undergrumpcast': 1, '@simonstalenhag': 1, '@bombsfall': 1, '@matthewsantoro': 1, '@jakebaldino': 1, '@redpilltweets': 1, '@cmxsupport': 1, '@donibobes': 1, '@rgaminecraft': 1, '@legendary_rts': 1, '@thespeedyrts': 1, '@rexrts': 1, '@sofizzleyo23': 1, '@adam_k_levin': 1, '@dunkin0510': 1, '@maciejaygaming': 1, '@deadlyangel945': 1, '@blkdog7': 1, '@coastalmichelle': 1, '@official_minkit': 1, '@momo_obrien': 1, '@stevendaines': 1, '@socaltelevision': 1, '@sargonthird': 1, '@armouredskeptic': 1, '@buntyking': 1, '@realkraut': 1, '@chrisrgun': 1, '@amazingatheist': 1, '@scott_krinsky': 1, '@ctcwired': 1, '@iamai': 1, '@green_footballs': 1, '@thegfcc': 1, '@rajneesh350': 1, '@shankarsubbhu': 1, '@onetheorem': 1, '@emirofkekistan': 1, '@joshshapiropa': 1, '@spacex': 1, '@thesuniljain': 1, '@a_guillem': 1, '@iamjericho': 1, '@kaushikmoitra': 1, '@9gag': 1, '@lusinedigitale': 1, '@bi_italia': 1, '@h3h3sub': 1, '@theh3podcast': 1, '@madhumachi': 1, '@huttontendler': 1, '@janta': 1, '@krafty': 1, '@jacobkleinman': 1, '@indiatoday': 1, '@businessline': 1, '@tonylgardner': 1, '@amchameu': 1, '@repubblica': 1, '@ohmwrecker': 1, '@momomischief': 1, '@ponibutts': 1, '@kangaroozoo1': 1, '@death0nwingz': 1, '@kendrickhaven': 1, '@zannethx': 1, '@sattelizergames': 1, '@scotgov': 1, '@benzevenbergen': 1, '@tapas_app': 1, '@indiamixer': 1, '@fantasticradioo': 1, '@dhanrajcc': 1, '@sundayguardian': 1, '@md_nalapat': 1, '@swamy39': 1, '@mikebarnicle': 1, '@lesbianman69': 1, '@sterlingkbrown': 1, '@shentel': 1, '@bostonprowriter': 1, '@chascitypaper': 1, '@safimichael': 1, '@bammhavoc': 1, '@indiviswstchr': 1, '@repsmucke': 1, '@googlewallet': 1, '@scleland': 1, '@realdoanldtramp': 1, '@lynnwoodtoday': 1, '@starchydish': 1, '@lastmomstanding': 1, '@goodgodabove': 1, '@teamsters': 1, '@rural': 1, '@sarbetter': 1, '@iointeractive': 1, '@jonahhill': 1, '@margotrobbie': 1, '@genemarks': 1, '@tomilahren': 1, '@preciousdavi': 1, '@piersmorgan': 1, '@gameovergreggy': 1, '@11kartikey': 1, '@veronicaguidry': 1, '@blavity': 1, '@brightlifemedia': 1, '@allmanreport': 1, '@mjahanna': 1, '@jade_tbf': 1, '@wiedenkennedy': 1, '@drnicoleman': 1, '@bethnfowler': 1, '@lavarbigballer': 1, '@splc': 1, '@kfcbarstool': 1, '@beyondthemyth': 1, '@abbymartin': 1, '@ianharvie': 1, '@clareangelyn': 1, '@crowdfunding': 1, '@eleventymatt': 1, '@eleventyrock': 1, '@philanthropy': 1, '@alienparadoxinc': 1, '@jboorstin': 1, '@fawfulfan': 1, '@wcstigernation': 1, '@wyconews': 1, '@democratandchronicle': 1, '@katywnewton': 1, '@theagood': 1, '@mattwsneed': 1, '@dorrissa_esq': 1, '@anandaleeke': 1, '@davidapritchar2': 1, '@moneyish': 1, '@twiitter': 1, '@vprkinzel': 1, '@realkrauswife': 1, '@lauravitt0': 1, '@lindseystirling': 1, '@thedrum': 1, '@cjammet': 1, '@scottrsinger': 1, '@nyla_ssl': 1, '@rossowesq': 1, '@radiosurvivor': 1, '@aamers': 1, '@museumcn': 1, '@museweb': 1, '@floribamashore': 1, '@democrats': 1, '@cuna': 1, '@cu_times': 1, '@cuinsight': 1, '@dukesanford': 1, '@nick_carnes_': 1, '@artbymuir': 1, '@redpillblack': 1, '@joniturnerlaw': 1, '@giants': 1, '@repostapp': 1, '@zalinki': 1, '@jessamyn': 1, '@diegoleuco': 1, '@flaviapittella': 1, '@martintetaz': 1, '@rbarbano': 1, '@mattlauer': 1, '@lesliejonesweb': 1, '@adamkovic': 1, '@fbr': 1, '@politicopro': 1, '@ktlamorningnews': 1, '@startupindia': 1, '@udaytonitexperts': 1, '@skilltd': 1, '@lclarkwhio': 1, '@atlantechonline': 1, '@gap': 1, '@rick_city': 1, '@googledevs': 1, '@openrightsgroup': 1, '@hiawathabray': 1, '@in_camden': 1, '@rfwwhitlock': 1, '@nadinecarr1': 1, '@wane15': 1, '@caseynewton': 1, '@bruce_croxon': 1, '@denelledixon': 1, '@combast': 1, '@hbonow': 1, '@viber': 1, '@signalmessenger': 1, '@rambobiggs': 1, '@usfreedomarmy': 1, '@waitbutwhy': 1, '@econclubny': 1, '@ksparksack': 1, '@hipcinema': 1, '@mestrich': 1, '@motherboardfr': 1, '@brooks_riess': 1, '@dwightevanspa': 1, '@dbloom451': 1, '@umainelawdean': 1, '@umainelaw': 1, '@theaals': 1, '@abayld': 1, '@wltaskforce': 1, '@theorlandojones': 1, '@verizonwire': 1, '@pab_pk': 1, '@rachelwolbers': 1, '@llnw': 1, '@rvawonk': 1, '@h_combs': 1, '@selmablair': 1, '@asmshirleyweber': 1, '@benhueso': 1, '@barbaraarnwine': 1, '@ajaipai': 1, '@nyheterna': 1, '@jobbiejimmies': 1, '@jumpcrewco': 1, '@phlbizjournal': 1, '@dmregister': 1, '@santafereporter': 1, '@pandoramusic': 1, '@storyfit': 1, '@avik': 1, '@wgctweet': 1, '@murrayswanby': 1, '@asus': 1, '@cujournal': 1, '@chicagobulls': 1, '@consumerreports': 1, '@argusleader': 1, '@laurenonthehill': 1, '@nelsongranados': 1, '@consciousmoves': 1, '@movimentosano': 1, '@wigmore_welsh': 1, '@authorkimberley': 1, '@alissakmclean': 1, '@transgenderu': 1, '@fightfirtheftr': 1, '@truthequalsfact': 1, '@pajjr2016': 1, '@rpsensenbrenner': 1, '@georgetowncbpp': 1, '@therealnebris': 1, '@sexworkreshub': 1, '@daniellismore': 1, '@uwf': 1, '@profstevekeen': 1, '@chetreo': 1, '@macfound': 1, '@makeupdaddy': 1, '@wjbc': 1, '@marketingdive': 1, '@abcactionnews': 1, '@usedgov': 1, '@bn9': 1, '@fox13news': 1, '@nicolesandler': 1, '@brentcorrigan': 1, '@emrosenberg': 1, '@gunnelswarren': 1, '@mauricehinchey': 1, '@james_tarskyn': 1, '@unesco': 1, '@xstrangeluvx': 1, '@sfcn': 1, '@lorsenal': 1, '@thejunoro': 1, '@trickfreee': 1, '@benbernanke': 1, '@houseintelcomm': 1, '@michaelehayden': 1, '@cnbcclosingbell': 1, '@jonfortt': 1, '@morgangriffith': 1, '@nikkymill': 1, '@sara_ann_marie': 1, '@meyerweb': 1, '@frangeladuo': 1, '@tegna': 1, '@ccmcast': 1, '@pizzahut': 1, '@ameliavaldes': 1, '@sarahpalinusa': 1, '@scottbeibin': 1, '@drdrmc': 1, '@droppedframes': 1, '@itmejp': 1, '@greatdismal': 1, '@sggrc': 1, '@trumpwatchwbai': 1, '@tiffkhsu': 1, '@gritlaura': 1, '@changeo': 1, '@fccand': 1, '@justinbrookman': 1, '@alt_fedemployee': 1, '@facethenation': 1, '@faanews': 1, '@rcketman': 1, '@1791l': 1, '@freedomevpn': 1, '@itseclihpse': 1, '@nickatnyteyt': 1, '@sambrodey': 1, '@clashofclans': 1, '@nycmayorsoffice': 1, '@josuedvelasquez': 1, '@pantheonmmo': 1, '@teamhooman': 1, '@realbillshark': 1, '@ismashfizzle': 1, '@_mealsonwheels': 1, '@csba_now': 1, '@diehlforsenate': 1, '@demhousereps': 1, '@chrisdanielshow': 1, '@asamblea_mn': 1, '@nodapl': 1, '@native_newsnet': 1, '@agkarlracine': 1, '@namecheap': 1, '@newsmax': 1, '@toithomas': 1, '@stevelemme': 1, '@mollyjongfast': 1, '@coinfomo': 1, '@brittanyventi': 1, '@digitaldutta': 1, '@hindureporter': 1, '@shuvankr': 1, '@ignaciowenley': 1, '@lcareers': 1, '@bsanews': 1, '@heyitsnickiee': 1, '@dagoodshit': 1, '@delicategames': 1, '@moonlightbellaa': 1, '@moonlghtlucifer': 1, '@smolbeanlani': 1, '@cjbk': 1, '@floridademocrats': 1, '@clickonthisshow': 1, '@govphilscott': 1, '@githubcommunity': 1, '@sebastianbach': 1, '@bybuckygleason': 1, '@buffalobills': 1, '@buffalosabres': 1, '@socialnewscorp': 1, '@gollancz': 1, '@tealdit': 1, '@nj_league': 1, '@optus': 1, '@telstra': 1, '@nbn_australia': 1, '@kmov': 1, '@manisha_bot': 1, '@mrkempnz': 1, '@drgaryhughes': 1, '@shiftparadigm': 1, '@bsomaia': 1, '@altecremedy': 1, '@carrnum': 1, '@premiersamedi': 1, '@une_brique': 1, '@credico2016': 1, '@chrislynnhedges': 1, '@nicedonaidtrump': 1, '@jackieannec': 1, '@linamkhan': 1, '@bigindiangyasi': 1, '@jon_prosser': 1, '@microsoftny': 1, '@weworkny': 1, '@tpupo': 1, '@judgejohncarter': 1, '@johnwferguson': 1, '@americancable': 1, '@telussupport': 1, '@telusbusiness': 1, '@craigseasholes': 1, '@meopt': 1, '@sams1stdaughter': 1, '@atlanticbbinc': 1, '@freedomstream01': 1, '@justaguycalledv': 1, '@evelineip': 1, '@jbruehl': 1, '@d1gi': 1, '@hashtagroundup': 1, '@brandunion': 1, '@sambecker': 1, '@elenasanfi': 1, '@demartin': 1, '@politonews': 1, '@nexacenter': 1, '@eisonmn': 1, '@hhfoundation': 1, '@michaelturk': 1, '@csoonline': 1, '@jawiin': 1, '@ashleyvrobinson': 1, '@ghlpodcast': 1, '@briannelson59': 1, '@bobmadden1': 1, '@jebhensarling': 1, '@scrippsnews': 1, '@rick00979': 1, '@michelejawando': 1, '@geraldorivera': 1, '@benfoxrubin': 1, '@rogerwcheng': 1, '@theccr': 1, '@haymarketbooks': 1, '@lisemcclendon': 1, '@fair_standards': 1, '@starwarsea': 1, '@destinythegame': 1, '@triketora': 1, '@ossolalex': 1, '@thepitnyc': 1, '@gaudyglitch': 1, '@cbspolitics': 1, '@carmilevy': 1, '@imanthonyrogers': 1, '@sharemylesson': 1, '@cityofphoenixaz': 1, '@radsandy': 1, '@vaca_space': 1, '@girlsreallyrule': 1, '@c40cities': 1, '@rebeccawatson': 1, '@robbysoave': 1, '@syskpodcast': 1, '@themodstate': 1, '@policypodcasts': 1, '@muellertime': 1, '@krgv': 1, '@drwolf4potus': 1, '@changef': 1, '@usa_network': 1, '@trutv': 1, '@sfweekly': 1, '@official_pia': 1, '@nojitter': 1, '@bigballerbrand': 1, '@thefellashippod': 1, '@indivisibleal': 1, '@target': 1, '@equestriadaily': 1, '@dougdawson_ccg': 1, '@reppeterking': 1, '@casscabletv': 1, '@dailywire': 1, '@protectcare': 1, '@bass_network': 1, '@disneyxd': 1, '@offiecegovethics': 1, '@commnexis': 1, '@coryb': 1, '@gailaslater': 1, '@freedomhousedc': 1, '@asb_yt': 1, '@unbbcom': 1, '@jonahfreedman': 1, '@anneryman': 1, '@yvonnewingett': 1, '@meganrcassidy': 1, '@brennagoth': 1, '@teddy_tags': 1, '@soorresistance': 1, '@daphnehk': 1, '@bstulberg': 1, '@smidgenite': 1, '@geegeeakili': 1, '@jonnydk16': 1, '@churchofsatan': 1, '@junedog22': 1, '@senricardolara': 1, '@alec_states': 1, '@liz_cheney': 1, '@aopa': 1, '@tomhaines29': 1, '@eaa': 1, '@nbaa': 1, '@aviationacramer': 1, '@nataaero': 1, '@heliassoc': 1, '@gamanufacturers': 1, '@washdems': 1, '@multibriefs': 1, '@boburnham': 1, '@madelineluth': 1, '@pressenterprise': 1, '@wolfpachq': 1, '@mgranville1': 1, '@lisbeth2u': 1, '@paulmorristim': 1, '@thekevinallison': 1, '@carlfranzen': 1, '@musictectonics': 1, '@jeffhorseman': 1, '@rivcoyoungdems': 1, '@marawilson': 1, '@dlscord': 1, '@dalydose': 1, '@hellotorch': 1, '@estately': 1, '@billdaley': 1, '@nprfreshair': 1, '@marianaa_alfaro': 1, '@mashablebusiness': 1, '@aviators84': 1, '@suffolkpta': 1, '@albertocostamp': 1, '@realpoliticfact': 1, '@kpfa': 1, '@mrrobotquotes': 1, '@avengersacademy': 1, '@infinitywarfans': 1, '@550ktrs': 1, '@sdut': 1, '@_kaspencer': 1, '@avenueqmusical': 1, '@indivisiblesso': 1, '@cp24': 1, '@rcdewinter': 1, '@mediashiftorg': 1, '@ellisonreport': 1, '@ronaldnewman': 1, '@audible_com': 1, '@haroldm49845860': 1, '@damonbethea1': 1, '@719_82': 1, '@cmoe20': 1, '@bbb_us': 1, '@yardrepshrtfuse': 1, '@clirdlf': 1, '@virgiltexas': 1, '@scooterstation': 1, '@cafbear': 1, '@ilpost': 1, '@danielmiessler': 1, '@tailosivetech': 1, '@shellypalmer': 1, '@utuberetweeter': 1, '@khnews': 1, '@telesurtv': 1, '@themrmobile': 1, '@detroitborg': 1, '@platformcoop': 1, '@ntnsndr': 1, '@trebors': 1, '@rushkoff': 1, '@zeynep': 1, '@rustyrockets': 1, '@tomarnold': 1, '@afrogumofficiai': 1, '@omgitzbirdman': 1, '@fazeapex': 1, '@omgitsalia': 1, '@sxmprogress': 1, '@lindsay_mck': 1, '@nebraskadems': 1, '@janekleeb': 1, '@creativersegame': 1, '@pbskids': 1, '@siobhan__fagan': 1, '@indivisiblewi03': 1, '@indivisibletosa': 1, '@midtownny': 1, '@sabin24': 1, '@arthura_p': 1, '@download_unlock': 1, '@katya_zamo': 1, '@trixiemattel': 1, '@rexfut': 1, '@byronbernstein': 1, '@dangledoo69': 1, '@lol_tyler1': 1, '@imaqtpielol': 1, '@riotphreak': 1, '@realiceposeidon': 1, '@lilbumblebear': 1, '@uscbo': 1, '@quadthegodd': 1, '@poro_sniper': 1, '@policeboxblues': 1, '@bellaangelwilks': 1, '@drdisrespect': 1, '@thevincerusso': 1, '@filmindependent': 1, '@eoblivion96': 1, '@getonblitter': 1, '@hingers': 1, '@mddhosting': 1, '@gtt214': 1, '@the_dank_kave': 1, '@onwnews': 1, '@fdlreporter': 1, '@gracejohnson018': 1, '@cheribustos': 1, '@lvdvoo': 1, '@invw': 1, '@gtmetrix': 1, '@pingdom': 1, '@marshablckburn': 1, '@free_our_net': 1, '@democratspac': 1, '@lorelilee18346': 1, '@matthewrubano': 1, '@tgirlpromo1': 1, '@illest365': 1, '@elitetscams': 1, '@transgirlz': 1, '@williamosirian': 1, '@hungchimichanga': 1, '@unsolved': 1, '@jonschnepp': 1, '@thejimmydoreshow': 1, '@americanvos': 1, '@jineklive': 1, '@jeroenpauw': 1, '@wierdduk': 1, '@robertreich': 1, '@markhughesfilms': 1, '@murrelldan': 1, '@videotron': 1, '@syncroalliance': 1, '@jason56787': 1, '@epicgurl1414': 1, '@rhubertoh': 1, '@flake0987': 1, '@horustg': 1, '@donnorcross4nj': 1, '@thatninthedge': 1, '@deadline': 1, '@dxnaeshhh': 1, '@helpmeimdonnie': 1, '@becomingdatasci': 1, '@hoursegop': 1, '@sethrogen': 1, '@kcet': 1, '@nash12': 1, '@goddessondemand': 1, '@oaklandprivacy': 1, '@effaustin': 1, '@ef_georgia': 1, '@rethinklinknyc': 1, '@csuefa': 1, '@usadpa': 1, '@paloaltoweekly': 1, '@paloaltontwks': 1, '@androidpolice': 1, '@rdr0b11': 1, '@ronandunnevzw': 1, '@alinaselyukh': 1, '@maximilian_': 1, '@academia': 1, '@ericbolling': 1, '@danaperino': 1, '@wvanofferen': 1, '@chuckfleischman': 1, '@gihyosd': 1, '@yakumoizuru': 1, '@tobsoya': 1, '@askspectrum': 1, '@jsonmez': 1, '@janicemin': 1, '@saikatd': 1, '@drajaykumar_ias': 1, '@deepkalra': 1, '@nandannilekani': 1, '@thinkinga_loud': 1, '@sesametweet3': 1, '@margaretmolloy': 1, '@patentlyo': 1, '@q13fox': 1, '@theamgreatness': 1, '@laweekly': 1, '@gotenna': 1, '@davidkarp': 1, '@senafitz': 1, '@mrgreene1977': 1, '@ipvanish': 1, '@verizonprotests': 1, '@viranchdamani': 1, '@proximus': 1, '@jaybeebosley': 1, '@kyloinmn': 1, '@viacom18': 1, '@sudhanshu_vats': 1, '@barcindia': 1, '@nexus': 1, '@dippgoi': 1, '@dailycardinal': 1, '@aroondeep': 1, '@ameracadpeds': 1, '@iamjonoliver': 1, '@spideywil921': 1, '@brianmcwilliams': 1, '@blogfromspace': 1, '@joshsteimle': 1, '@criscarter80': 1, '@wiscdems': 1, '@mib_india': 1, '@pib_india': 1, '@indivisibleny24': 1, '@robertharding': 1, '@thefearmerchant': 1, '@maximevatteble': 1, '@daxnair': 1, '@nationnewspaper': 1, '@solarinmass': 1, '@algolia': 1, '@ezekielcode': 1, '@ellenleigh3': 1, '@cyberthompson': 1, '@gbock77': 1, '@lindseygraham': 1, '@maydayusa': 1, '@ke_watson': 1, '@uva': 1, '@argop': 1, '@theoklahoman': 1, '@reaumemike': 1, '@uarklibraries': 1, '@barnesdavidl': 1, '@anthonyfurey': 1, '@foxsports': 1, '@martechadvisor': 1, '@yaeloss': 1, '@imdb': 1, '@visitportugal': 1, '@ooma': 1, '@thecasacollect': 1, '@mrbrendancox': 1, '@agdailymedia': 1, '@kmbc': 1, '@baiters_co': 1, '@lurkforcetv': 1, '@ajit_paifcc': 1, '@repdlambornstop': 1, '@1lucabelli': 1, '@thestreet': 1, '@rosenfornevada': 1, '@reperikpaulson': 1, '@galecengage': 1, '@abdopublishing': 1, '@abc_clio': 1, '@bencjacobs': 1, '@sam_cribbs': 1, '@jammiewf': 1, '@dotgop': 1, '@gopchairwoman': 1, '@foxnewsalert': 1, '@mtv': 1, '@cmt': 1, '@duckdynastyae': 1, '@owntv': 1, '@googlenews': 1, '@hurricanedebs': 1, '@joshbaumgard': 1, '@willandgrace': 1, '@riteshagar': 1, '@zorooms': 1, '@viciousbabushka': 1, '@whirledps': 1, '@lisaga': 1, '@catfanatic9': 1, '@njterrie': 1, '@mpplvt': 1, '@marilynt4': 1, '@jonjusth': 1, '@not45th': 1, '@pmorris153': 1, '@milesjreed': 1, '@13newsnow': 1, '@paw': 1, '@ignvideogames': 1, '@mcdmatt': 1, '@georgetowncpt': 1, '@ajenglish': 1, '@andykroll': 1, '@adamconover': 1, '@miseryxchord': 1, '@newageamazon': 1, '@gopsenfinance': 1, '@erdmanncd2': 1, '@johnoliver': 1, '@replyall': 1, '@senatorlee_cmc': 1, '@amullionaire': 1, '@fdncenter': 1, '@danthorn_': 1, '@wvns59news': 1, '@wowk13news': 1, '@wvtonight': 1, '@wearehcl': 1, '@ashleyrgold': 1, '@sunsentinel': 1, '@ucla': 1, '@grivlin': 1, '@sethhanlon': 1, '@umairh': 1, '@iammikemuse': 1, '@annashijayde': 1, '@makincryptocash': 1, '@jayztwocents': 1, '@bitwitkyle': 1, '@jdharrington': 1, '@reppetekingbought': 1, '@gopiscomplicit': 1, '@smallbusiness': 1, '@wmn4srvl': 1, '@naral': 1, '@ofcom': 1, '@ajitpaicc': 1, '@jontalton': 1, '@juaneclark': 1, '@grindr': 1, '@bastiaan007': 1, '@theroundtablers': 1, '@coonrapidsgov': 1, '@ajitpaifccis': 1, '@dattosdestiny': 1, '@ray_makowski': 1, '@rpsdc': 1, '@mycivicworkout': 1, '@donkroah': 1, '@mcc_rantoul': 1, '@megnmilligan': 1, '@itsdanbull': 1, '@cityofboston': 1, '@cityofjacksonmi': 1, '@ranttnews': 1, '@vpn_fastest': 1, '@repgregwaldenwhy': 1, '@kgojason': 1, '@fradice': 1, '@dsearls': 1, '@elisac': 1, '@denispombriant': 1, '@stevegillmor': 1, '@glendalenp': 1, '@doctornthehouse': 1, '@soledadobrienthis': 1, '@misloan2': 1, '@alaskacomm': 1, '@gciak': 1, '@mckenna_whipple': 1, '@hornetstories': 1, '@ptous': 1, '@realtimers': 1, '@mbtwebsite': 1, '@migov': 1, '@visitmusiccity': 1, '@hawaiifootball': 1, '@colts': 1, '@louisvillemayor': 1, '@rsoper72': 1, '@marthamcsally': 1, '@senjohnmcain': 1, '@tjoosten': 1, '@earactingi': 1, '@mekquirik': 1, '@omgno2trump': 1, '@pubattlegrounds': 1, '@janzforcongress': 1, '@forumnewssvc': 1, '@brd_dispatch': 1, '@fredbcampbelljr': 1, '@dslreports': 1, '@petercoffin': 1, '@pogoblog': 1, '@realgollumtrump': 1, '@alfredschulz': 1, '@reasonpodcast': 1, '@standupwithpete': 1, '@cnetnews': 1, '@trendlib': 1, '@lauramonteverdi': 1, '@atripalone': 1, '@drshow': 1, '@winknews': 1, '@simplehabitapp': 1, '@elforesto': 1, '@sengraham2016': 1, '@lazorvideos': 1, '@humans2podcast': 1, '@namenode5': 1, '@techonomy': 1, '@palmdalecity': 1, '@california': 1, '@demcoalition': 1, '@activist360': 1, '@resistanceuntd': 1, '@chrisweihert322': 1, '@hollandcooke': 1, '@csaillant2': 1, '@what_007': 1, '@floschaub': 1, '@spirilis': 1, '@justinyahoudy': 1, '@gavin7231': 1, '@organiclivefood': 1, '@dylantsnyder': 1, '@noobde': 1, '@ssnyder1835': 1, '@lsuper_': 1, '@uncagedgamez': 1, '@sxmpolitics': 1, '@bubbakoos001': 1, '@cmalcheski': 1, '@zxxz114': 1, '@cupofsunlight': 1, '@naturalnews': 1, '@adevotedyogi': 1, '@drvandanashiva': 1, '@garyruskin': 1, '@commarts': 1, '@global_alliance': 1, '@aiforumnz': 1, '@lizcheney': 1, '@ssf_berf_defm': 1, '@ecowatch': 1, '@organicconsumer': 1, '@foodandwater': 1, '@justlabelit': 1, '@womenfortrump': 1, '@ps_vue': 1, '@agentsofshield': 1, '@rosannapansino': 1, '@sierraclubwi': 1, '@nataliesmcgill': 1, '@matthewmercer': 1, '@chrisperkinsdnd': 1, '@wibw': 1, '@shigerunews': 1, '@katcapps': 1, '@librarynicole': 1, '@techdeals_16': 1, '@theateamgc': 1, '@glinner': 1, '@franciawisnewsk': 1, '@11a': 1, '@kodatrey99': 1, '@spectraheliotic': 1, '@chuck_connex': 1, '@thenoth': 1, '@inthetankpod': 1, '@ipi': 1, '@justfabonline': 1, '@flakeforsenate': 1, '@neogearneon': 1, '@sirevivor': 1, '@ivydoomkitty': 1, '@nep_neps': 1, '@waypoint': 1, '@markcuban45': 1, '@davidhstevens': 1, '@nattbibliotek': 1, '@benebergquist': 1, '@bakeeyfilms': 1, '@accioaiden': 1, '@nestletollhouse': 1, '@thegameseekers': 1, '@spd': 1, '@dielinke': 1, '@csu': 1, '@fdp': 1, '@afd': 1, '@cdu': 1, '@die_gruenen': 1, '@bnetza': 1, '@nwtls': 1, '@moneyinpolitics': 1, '@deathbattle': 1, '@rupaulsdragrace': 1, '@govgaryjohnson': 1, '@nando_acosta_': 1, '@senbookerofc': 1, '@kornacki': 1, '@hopeseck': 1, '@stegnersaurus': 1, '@aslavitt': 1, '@elevenpaths': 1, '@scrapebrokers': 1, '@sarakhoudary': 1, '@bdcool187': 1, '@ryankhurana': 1, '@donnafedwards': 1, '@factcheckdotorg': 1, '@savenetneutrality': 1, '@marcelloecm': 1, '@federalreserve': 1, '@claudiatenneyny': 1, '@credoaction': 1, '@mikko': 1, '@fccto': 1, '@photoshopcafe': 1, '@midnight': 1, '@summerbrennan': 1, '@profbriancox': 1, '@thejimcornette': 1, '@cloudexpo': 1, '@thingsexpo': 1, '@truthdig': 1, '@flbats': 1, '@joelrrenner': 1, '@thattechshop': 1, '@themurdershow': 1, '@theashenluca': 1, '@the_mumbles_': 1, '@ncommentarys': 1, '@colteastwood': 1, '@tigerstylegg': 1, '@lady_fox_fire': 1, '@_lilmonsterjojo': 1, '@senatic_rts': 1, '@sean_martin': 1, '@acekrish': 1, '@tampapd': 1, '@hollyseeliger': 1, '@peterbrack': 1, '@aimeemann': 1, '@passportctrlsho': 1, '@commonsharing': 1, '@tjcoxcongress': 1, '@wifisfuneral': 1, '@vsluhatel': 1, '@meducate': 1, '@clairegiangrave': 1, '@sinbadbad': 1, '@mddems': 1, '@thejonbaconblog': 1, '@socialmedia2day': 1, '@edmundmcmillen': 1, '@tech411show': 1, '@toddmoore': 1, '@oscarradio': 1, '@smwat': 1, '@novapbs': 1, '@getcryptoinfo': 1, '@femfreq': 1, '@planogr_am': 1, '@senatenj': 1, '@njassemblygop': 1, '@njgop': 1, '@chrisj_lewis': 1, '@secretaryzinke': 1, '@nad1880': 1, '@butchotter': 1, '@reistbot': 1, '@denbizjournal': 1, '@sjdailystar': 1, '@cfo': 1, '@cwtvd': 1, '@theburiedlife': 1, '@propagandhi': 1, '@dnewsopinion': 1, '@tacobell': 1, '@heysarahsweeney': 1, '@stephenking': 1, '@pastebin': 1, '@stevensalzberg': 1, '@tofuugaming': 1, '@kreekcraft': 1, '@cinnamontoastk': 1, '@vmforcd10': 1, '@stempartners': 1, '@tinkermakertoys': 1, '@99designs': 1, '@automattic': 1, '@sneakymoba': 1, '@muthafungho': 1, '@treygowdy': 1, '@kunalkamra88': 1, '@maytham956': 1, '@thequint': 1, '@telesurenglish': 1, '@samsvisuals': 1, '@ssg_incon': 1, '@riflegaming': 1, '@gernaderjake': 1, '@davidlevitz': 1, '@platoonprincess': 1, '@globalcleveland': 1, '@joecimperman': 1, '@jklein05': 1, '@hre3news': 1, '@jav2': 1, '@estremerajose': 1, '@younglatinontwk': 1, '@spaganclev': 1, '@jenicec': 1, '@neohcc': 1, '@jackpc1': 1, '@tsmcnair': 1, '@gilligantimothy': 1, '@heatherwest': 1, '@hobbylobby': 1, '@hcmuhlenberg': 1, '@usao_or': 1, '@hsgp': 1, '@barbaracorcoran': 1, '@lorigreiner': 1, '@kevinolearytv': 1, '@robertherjavec': 1, '@groupanon': 1, '@radiopanama': 1, '@alexneuman': 1, '@publiodegracia': 1, '@supernovia': 1, '@metrocastmd': 1, '@smoothestknight': 1, '@allawsonjr': 1, '@breezy_935': 1, '@retro_surge': 1, '@nostalgiclemon': 1, '@npritsbeenamin': 1, '@wamu885': 1, '@99freemind': 1, '@georgiafrann': 1, '@nbcsvu': 1, '@purduesenate': 1, '@mediacomcable': 1, '@tromadance': 1, '@missmyrtle2': 1, '@lauragwashere': 1, '@grassoseba1': 1, '@tiffylady1129': 1, '@wafflerdave': 1, '@webpass': 1, '@ahgibby': 1, '@wagingnv': 1, '@falconlady7': 1, '@streamspectrum': 1, '@cosmocanyonteam': 1, '@drneildunnfl2': 1, '@dmcgreggr': 1, '@makada': 1, '@roran_stehl': 1, '@susansarandon': 1, '@stanfritz': 1, '@drumarjohnson': 1, '@drboycewatkins1': 1, '@indeed': 1, '@spawnwavemedia': 1, '@mandacollins': 1, '@farrahrochon': 1, '@khoeprich': 1, '@bookbitch': 1, '@daily_chronicle': 1, '@achievementhunt': 1, '@ryanthetwit': 1, '@rawstory': 1, '@thejtshow': 1, '@smallyoutube': 1, '@youtbrsnow': 1, '@memphisbotanic': 1, '@samesmail': 1, '@proflafferty': 1, '@web__112': 1, '@tonyfelice': 1, '@vegan_mum': 1, '@sarahsmith2018': 1, '@mckaelnhart': 1, '@jaydensmith32': 1, '@kestrahart': 1, '@thephillyvoice': 1, '@phillyinquirer': 1, '@jaltoid': 1, '@jackmasseywelsh': 1, '@ups': 1, '@mpwru': 1, '@citjourno': 1, '@uwbadgers': 1, '@stevemotley': 1, '@pwnallthethings': 1, '@snlupdate': 1, '@ronaldklain': 1, '@davidcorndc': 1, '@amedtv': 1, '@milestheskylord': 1, '@kindasad_twig': 1, '@altice': 1, '@darkmatter2525': 1, '@soulfullyariana': 1, '@cassidyhrush': 1, '@apocalypto_12': 1, '@redeyeradionet': 1, '@garyredeye1': 1, '@ericharley': 1, '@ocasio2018': 1, '@scubamysteve': 1, '@cloudfront': 1, '@beerrocksex2': 1, '@0ing0b0ing0': 1, '@sentaifive': 1, '@rank10ygo': 1, '@minds': 1, '@tmartn': 1, '@borderlands': 1, '@cosmonautcrisis': 1, '@shiyameyl': 1, '@davidparody': 1, '@tam_cu': 1, '@81rambler': 1, '@sauceyapp': 1, '@dcclothesline': 1, '@retweetdnr': 1, '@masterofrts': 1, '@switchrts': 1, '@lemonde_pol': 1, '@hispaniccaucus': 1, '@cbcpac': 1, '@breakfastclubam': 1, '@cthagod': 1, '@isoc_nextgen': 1, '@dgccrf': 1, '@slatefr': 1, '@kingthelonious': 1, '@cosn': 1, '@keithkrueger': 1, '@aasahq': 1, '@noellerson': 1, '@new2017world': 1, '@groovecitylady': 1, '@boomphilly': 1, '@nat_bad': 1, '@girlstreamers': 1, '@loretahur': 1, '@ttoboyle': 1, '@coppsm': 1, '@mikeypei': 1, '@team_mitch': 1, '@bryanschatz': 1, '@seedrcoil': 1, '@pokemongoapp': 1, '@pokemon': 1, '@dhowell': 1, '@ajc': 1, '@savannahnow': 1, '@markymetry': 1, '@imbak10': 1, '@twulibrary': 1, '@btvjoan': 1, '@wamasoniv': 1, '@stevegarfield': 1, '@adjitpaifcc': 1, '@netblazr': 1, '@marcforpa': 1, '@steveschmidtses': 1, '@halfatlanta': 1, '@tessathompson_x': 1, '@ibjiyongi': 1, '@filmfatale_nyc': 1, '@nicknbeauty': 1, '@ephrata': 1, '@edclendaniel': 1, '@malistkiss': 1, '@lordebarrington': 1, '@imani_ayana': 1, '@raydalio': 1, '@jonahnro': 1, '@madblackthot': 1, '@aliciafiasco_': 1, '@themarxistjesus': 1, '@blackmajiik': 1, '@raquel_savage': 1, '@kwnkunta': 1, '@reallesstroud': 1, '@barryeisler': 1, '@hoodcuiture': 1, '@katheartwell': 1, '@johnboyega': 1, '@fareedzakaria': 1, '@aquamarching': 1, '@afroxicanx': 1, '@queersocialism': 1, '@jayohaye': 1, '@sankofabrown': 1, '@tililaae': 1, '@anthoknees': 1, '@breezybee97': 1, '@asiachloebrown': 1, '@randaaimour': 1, '@mangomonopoly': 1, '@zellieimani': 1, '@limericking': 1, '@devindra': 1, '@franciscolwhite': 1, '@rrrrnessa': 1, '@mspoonauer': 1, '@thatxxv': 1, '@blakedontcrack': 1, '@kxyonn': 1, '@brownandbella': 1, '@simonefiasco': 1, '@nayyirahwaheed': 1, '@safyhallanfarah': 1, '@thegreaternaima': 1, '@marvel': 1, '@nogopno': 1, '@gogo': 1, '@proseb4bros': 1, '@ch': 1, '@jameslthompson': 1, '@rt_theknow': 1, '@grindheadjim': 1, '@sparkcbc': 1, '@austin_wold': 1, '@piratepartyca': 1, '@pollyapplequeen': 1, '@woley217': 1, '@sara_talley88': 1, '@senfraser': 1, '@judychucampaign': 1, '@forbestech': 1, '@playboy': 1, '@streamer_house': 1, '@ava': 1, '@delafro_': 1, '@vademocrats': 1, '@pgdems': 1, '@kwzombi': 1, '@shadowworldfilm': 1, '@scholten4iowa': 1, '@arze': 1, '@franklanguage': 1, '@benklass': 1, '@canadapiac': 1, '@lyssamoo': 1, '@jfmezei': 1, '@finckensteink': 1, '@peternowak': 1, '@anjakaradeglija': 1, '@gregobr': 1, '@jacobglick': 1, '@howardknopf': 1, '@pavlawich': 1, '@lemistergabe': 1, '@thundertazzy416': 1, '@specter_prime7': 1, '@bjallmon': 1, '@sswing': 1, '@dnwiebe': 1, '@choosewild': 1, '@duanesasher': 1, '@imalloutofgin': 1, '@_alaestor': 1, '@johnpavlovitz': 1, '@therickydavila': 1, '@dailyliberal1': 1, '@indiasporaforum': 1, '@james_mackler': 1, '@putinrf_eng': 1, '@awipod': 1, '@rantwithant': 1, '@whoisgrod': 1, '@modelmajorityp': 1, '@bawiedrich': 1, '@thedadbeards': 1, '@theirishfor': 1, '@stopfundinghate': 1, '@steelcase': 1, '@cheezz': 1, '@kincaid323': 1, '@kroq': 1, '@brickyorchid8': 1, '@theactionnet': 1, '@jumptherework': 1, '@lionessmom76': 1, '@thephunkyjedi': 1, '@tytinvestigates': 1, '@blizzardcs': 1, '@anendtosuicide': 1, '@divyaspandana': 1, '@inctamilnadu': 1, '@chandruthiru': 1, '@avxry': 1, '@noahj456': 1, '@jrzyjoepiscopo': 1, '@frankmorano': 1, '@willgilbert1': 1, '@luchimagot': 1, '@haddymo': 1, '@kelseyhabig': 1, '@keithreeves': 1, '@russdibello': 1, '@nerdyaesthetics': 1, '@quinta': 1, '@mara_mucci': 1, '@adrianagalgano': 1, '@serena_gennaro': 1, '@gmfiorentini': 1, '@aimeepicchi': 1, '@netatende': 1, '@vivoemrede': 1, '@hrbrmstr': 1, '@unlnews': 1, '@amicushq': 1, '@whitmanwalker': 1, '@pacadmv': 1, '@tredd91': 1, '@psychictwins': 1, '@calldrdave': 1, '@robport': 1, '@chatlanis': 1, '@weathercheckco': 1, '@mschlapp': 1, '@markadairlawyer': 1, '@mhclawyers': 1, '@kevinjburnsii': 1, '@hiddenforcespod': 1, '@coveringdelta': 1, '@hashgraph': 1, '@swirlds': 1, '@p51interactive': 1, '@dsmeu': 1, '@erinburnett': 1, '@0xstarcat': 1, '@hiattb': 1, '@iammerveilleuse': 1, '@katerixoxo': 1, '@adriennebailon': 1, '@therealdaytime': 1, '@heidigautschi': 1, '@characterdotorg': 1, '@theraycenter': 1, '@nchispaniccc': 1, '@immanentfields': 1, '@melaniesmuses': 1, '@elespectador': 1, '@regleichty': 1, '@get2church': 1, '@unitedchurch': 1, '@ncccusa': 1, '@isnahq': 1, '@riseagainst': 1, '@fc': 1, '@bostonbackbay': 1, '@bostonguardian': 1, '@mapcmetroboston': 1, '@progressivemass': 1, '@joshzakim': 1, '@flipthe14': 1, '@httweets': 1, '@yashwantraj': 1, '@harincontractor': 1, '@chazeevee': 1, '@politicalislam': 1, '@dopegirlfresh': 1, '@thomas_drake1': 1, '@jesselynradack': 1, '@upstartinbound': 1, '@adrianmacnair': 1, '@south_bendin': 1, '@petebuttigieg': 1, '@wndu': 1, '@dmashak': 1, '@dovetailbrewchi': 1, '@denton_dave': 1, '@lauraromiao': 1, '@indivisibleofaz': 1, '@deyblxk': 1, '@sanderslongllp': 1, '@eelcobvr': 1, '@deanbaquet': 1, '@kateharding': 1, '@umobile': 1, '@megaprivacy': 1, '@studiomdhr': 1, '@wsbtv': 1, '@fox5atlanta': 1, '@mvpschool': 1, '@joeysalads': 1, '@theqnow': 1, '@featherbangs': 1, '@shanselman': 1, '@ajitpai_goa': 1, '@rebatebus': 1, '@trevorjones71': 1, '@chuckaikens': 1, '@abtsilence': 1, '@canvashost': 1, '@dictionarycom': 1, '@sts9': 1, '@fitjoynutrition': 1, '@tigerfitnesscom': 1, '@bodybuildingcom': 1, '@goetzit1': 1, '@githubeng': 1, '@tarmerding2': 1, '@nakedsecurity': 1, '@technology_ns': 1, '@prestheodore': 1, '@shinytoygun': 1, '@sonicnet': 1, '@thecrimson': 1, '@harvardhbs': 1, '@missoulacurrent': 1, '@martinkidston': 1, '@chaseftb': 1, '@abadawn': 1, '@stevenrenderos': 1, '@campusantifnet': 1, '@repschraderblocking': 1, '@seattlecentral': 1, '@cheapskatesnwrk': 1, '@thesullivan': 1, '@dviyer': 1, '@anirvan': 1, '@aseemrshukla': 1, '@personalliberty': 1, '@natjarv': 1, '@tommcclintock': 1, '@starry_kosmik': 1, '@insidetowers': 1, '@outsidemagazine': 1, '@rei': 1, '@senangus': 1, '@collinfoxley': 1, '@zcleighto': 1, '@darthhuber': 1, '@repgregwaldenblocking': 1, '@mozhacks': 1, '@postmetrogirl': 1, '@mkandel': 1, '@strawbrerie': 1, '@itsgoodcents': 1, '@syriatime': 1, '@wriseup': 1, '@arikos': 1, '@msnbcrachel': 1, '@jenniferhoffman': 1, '@deadpoolmovie': 1, '@wizardwandering': 1, '@ap_politics': 1, '@seattlepi': 1, '@wiishu': 1, '@jazzie8542': 1, '@ukradio1': 1, '@realdonanldtrump': 1, '@cristiano': 1, '@jtimberlake': 1, '@unm': 1, '@abqjournalwatch': 1, '@abq_news': 1, '@britneyspears': 1, '@shakira': 1, '@hathaway': 1, '@chloebennet4': 1, '@maggieq': 1, '@androidauth': 1, '@pdxjourno': 1, '@essential': 1, '@bridget_pjm': 1, '@robert_hiltz': 1, '@technewsworld': 1, '@hathwaybrdband': 1, '@notgayjared': 1, '@bobbyh214': 1, '@lupash7': 1, '@curlycoyne': 1, '@bckesso': 1, '@natgat2014': 1, '@occuevolve_ows': 1, '@jkfilms': 1, '@_samjolee': 1, '@tates5a': 1, '@latinos4bernie': 1, '@babetteboliek': 1, '@indivisibletn': 1, '@kojoshow': 1, '@brendencarrfcc': 1, '@frankturner': 1, '@paysonroundup': 1, '@dawnlambros': 1, '@startrecycling': 1, '@linkedineditors': 1, '@birgittaj': 1, '@rnrmississippi': 1, '@rnrnewyork': 1, '@quinnipiacpoll': 1, '@nyer4thedonald': 1, '@rocstar135': 1, '@jeffmyers01': 1, '@cbcvancouver': 1, '@springfieldnl': 1, '@mccallforall': 1, '@techhive': 1, '@libn': 1, '@wamcnews': 1, '@wgme': 1, '@wmtwtv': 1, '@neuroghetto': 1, '@citizenproxy': 1, '@maureenkelsey': 1, '@citizenkochfilm': 1, '@mericanglasnost': 1, '@avantgame': 1, '@khanoisseur': 1, '@reaganbattalion': 1, '@catoletters': 1, '@johnmarkhend': 1, '@westall_sarahw': 1, '@nompelis': 1, '@andrewgillum': 1, '@hinduamerican': 1, '@aaupresses': 1, '@philmurphynj': 1, '@ctvnews': 1, '@prysmiangroup': 1, '@chardcastlendp': 1, '@wdlcwindsor': 1, '@twtpgh': 1, '@simondenyer': 1, '@sacbiz': 1, '@ziytex': 1, '@indivisibledpge': 1, '@dailywildcat': 1, '@brianewinkler': 1, '@senatorkaine': 1, '@fec_derenberger': 1, '@kathieallenmd': 1, '@actdottv': 1, '@tomforutah': 1, '@votedarlene': 1, '@maplights': 1, '@disruptvshow': 1, '@rwang0': 1, '@abcworldnews': 1, '@bahnhofab': 1, '@watchdogsgame': 1, '@paulkirby7': 1, '@tedataca': 1, '@jimballer': 1, '@matthewlasar': 1, '@makejdm': 1, '@davesnews': 1, '@amy_schatz': 1, '@prebreach': 1, '@newshourextra': 1, '@lanceroberts': 1, '@weprotestthings': 1, '@apogeejournal': 1, '@rianeeisler': 1, '@harperone': 1, '@fox': 1, '@physicianwomen': 1, '@pasenatorguy': 1, '@nationalgrange': 1, '@coinmarketcap': 1, '@jessevondoom': 1, '@dupuisj': 1, '@mikebranc': 1, '@jimandsamshow': 1, '@akwesasnetv': 1, '@parkskmbz': 1, '@radiodana': 1, '@leung__wendy': 1, '@matthewjosef': 1, '@backstoryradio': 1, '@__gonfreecs': 1, '@worldtruthtv': 1, '@blogliberally': 1, '@cringely': 1, '@gdad1': 1, '@lilith2u': 1, '@___abcdennis': 1, '@csulb': 1, '@clumberkim': 1, '@mercatus': 1, '@monkeybrainsnet': 1, '@bp_america': 1, '@westmdfiber': 1, '@nextdoor': 1, '@societygim': 1, '@realdeancain': 1, '@gophawaii': 1, '@the_cui': 1, '@prometheusradio': 1, '@prowrestlingts': 1, '@youngbucksmerch': 1, '@muckrock': 1, '@rsfiber': 1, '@benbsinger': 1, '@screwattackchad': 1, '@senatorjohnthune': 1, '@scmagazine': 1, '@masontheeditgod': 1, '@newsprovidence': 1, '@audioboom': 1, '@jamespurefoy': 1, '@vodafone': 1, '@tyfilley_tv': 1, '@wplglocal10': 1, '@yousufbegg': 1, '@barbershoppunk': 1, '@matteroffacttv': 1, '@abemarquez': 1, '@sway': 1, '@makelovenotporn': 1, '@donnabrazile': 1, '@robbymook': 1, '@onetoughnerd': 1, '@onlybutera': 1, '@dog_feelings': 1, '@buterasullivan': 1, '@pinkravenroth': 1, '@realityshaken': 1, '@catwomanresists': 1, '@harrypottermage': 1, '@louderwcrowder': 1, '@herestokesha': 1, '@fox59': 1, '@fuckyouajitpai': 1, '@lisarein': 1, '@alisonkent': 1, '@stefluvztv': 1, '@rgay': 1, '@meeshculi': 1, '@ruthhill74': 1, '@daniel_deceder': 1, '@peoplespartync': 1, '@ractack': 1, '@francisjeffrey7': 1, '@youranonrevolt': 1, '@nadinbrzezinski': 1, '@deeshanger': 1, '@usdol': 1, '@secretaryacosta': 1, '@thefinebros': 1, '@millenpolitics': 1, '@erinverbatim': 1, '@cmj': 1, '@walnutcreekgov': 1, '@hermioneishere': 1, '@nzstuff': 1, '@ohgeeflowers': 1, '@thecloudiest': 1, '@santamonicalibr': 1, '@originalfunko': 1, '@pressfortruth': 1, '@oui_lisaa': 1, '@wa8dzp': 1, '@thebonfiresxm': 1, '@secupp': 1, '@evandawson': 1, '@mmackmedia': 1, '@macsjfc': 1, '@wxxinews': 1, '@mdiplomacyworld': 1, '@fifthcolumnnews': 1, '@newlovefordua': 1, '@elvisthealientv': 1, '@genocidalpony': 1, '@20thcenturyfox': 1, '@netflixnswill': 1, '@captainsparklez': 1, '@eyeonthepitch': 1, '@shapemiami': 1, '@phantomstrider': 1, '@apjitpaifcc': 1, '@cbseveneingnews': 1, '@scottpelley': 1, '@melmoy': 1, '@johnrobertsfox': 1, '@mindykaling': 1, '@henrylovesyou': 1, '@benkissel': 1, '@laura88lee': 1, '@nikita_dragun': 1, '@gvtech': 1, '@hotkeyoftheday': 1, '@drewmikepodcast': 1, '@ftrf': 1, '@originlbookgirl': 1, '@boa': 1, '@creators4ubi': 1, '@thebradblog': 1, '@ralphnader': 1, '@thelfshow': 1, '@quizlet': 1, '@sifydotcom': 1, '@boredpanda': 1, '@get_flanked': 1, '@marksman': 1, '@matimi0': 1, '@neroscinema': 1, '@omgitsbirdman': 1, '@levelcapgaming': 1, '@macygrayslife': 1, '@jackfrags': 1, '@prestigeiskey': 1, '@bdobbinsftw': 1, '@professorkhai': 1, '@this': 1, '@ibmwatson': 1, '@ancientaliens': 1, '@foofighters': 1, '@jamaicagleaner': 1, '@sweetadelinevt': 1, '@kate_gilliford': 1, '@ft': 1, '@kialohq': 1, '@sz': 1, '@omcibr': 1, '@internetlegal': 1, '@atviassist': 1, '@treyarch': 1, '@infinityward': 1, '@sega': 1, '@nursevictoria11': 1, '@tseinfo': 1, '@greedyforlove24': 1, '@greedyfortori': 1, '@tastytrade': 1, '@jimbealljr': 1, '@jcasap': 1, '@chrislehmann': 1, '@bobfarrace': 1, '@nassp': 1, '@ipa_jason': 1, '@npolyak': 1, '@msmagiera': 1, '@deelanier': 1, '@wtam1100': 1, '@grcollegiate': 1, '@david4florida': 1, '@610wtvnnews': 1, '@adamfox45now': 1, '@whiotv': 1, '@namecoin': 1, '@611coin': 1, '@kumd': 1, '@tippi_hedren': 1, '@bryanlunduke': 1, '@nycgov': 1, '@laurapidcockmp': 1, '@sallydeal4': 1, '@h8socialmedia97': 1, '@lanacion': 1, '@mikeo': 1, '@the_iic': 1, '@cityofwilm': 1, '@njsierraclub': 1, '@uufaithactionnj': 1, '@cunitarian': 1, '@uuridgewood': 1, '@indivisiblennj': 1, '@350nj': 1, '@njpeaceaction': 1, '@tuba_lyon': 1, '@pogue': 1, '@lupevaldez': 1, '@universalpics': 1, '@theday': 1, '@snopes': 1, '@davidmihm': 1, '@localhound': 1, '@wdvmtv': 1, '@carljackmiller': 1, '@politiken': 1, '@carlsbergfondet': 1, '@mers0274': 1, '@jamarketer1': 1, '@cody': 1, '@alexysgabrielle': 1, '@gabrielconte': 1, '@jessconte': 1, '@threeuk': 1, '@hitconsultant': 1, '@collinskey': 1, '@devankey': 1, '@ux_dash': 1, '@mlsif': 1, '@bramtyjuliette': 1, '@drstevengreer': 1, '@hak5': 1, '@changel': 1, '@repmikerogers': 1, '@lilytomlin': 1, '@ohnoshetwitnt': 1, '@bebeneuwirth': 1, '@theshadyfacts': 1, '@alphasenseinc': 1, '@iwlrutgers': 1, '@raithelightning': 1, '@infindox': 1, '@casinocity': 1, '@gamingfloor': 1, '@cdcnewswire': 1, '@pokeradvocacy': 1, '@openmarkets': 1, '@stephenledrew': 1, '@amirad': 1, '@jasoncwarner': 1, '@oliverbcampbell': 1, '@professorf': 1, '@daddy_warpig': 1, '@algiersmusic': 1, '@thegrahamnash': 1, '@incubusband': 1, '@theglitchmob': 1, '@bendomenech': 1, '@agsocial1': 1, '@seth': 1, '@phobiadaprophet': 1, '@cactusmoonshine': 1, '@damianwyldes': 1, '@promarket_org': 1, '@teampelosi': 1, '@tracysoneill': 1, '@toiopinion': 1, '@wheezywaiter': 1, '@mseliamaria': 1, '@bcubedcast': 1, '@sewiread': 1, '@ourpowerpodcast': 1, '@cbcwindsor': 1, '@journeydan': 1, '@tingcville': 1, '@cvillenewscom': 1, '@aaron_doh': 1, '@drdavidduke': 1, '@livescience': 1, '@weatherchannel': 1, '@eurohumph': 1, '@melissacwalker': 1, '@forumone': 1, '@ravina1k': 1, '@mikeofccbrendan': 1, '@laurenoneil': 1, '@vangsness': 1, '@si1very': 1, '@joshaer': 1, '@tingsandpoint': 1, '@aclu_nh': 1, '@micollegedems': 1, '@ksoosiouxfalls': 1, '@adobefireworks': 1, '@krakenio': 1, '@optimushq': 1, '@imagify': 1, '@wpmudev': 1, '@skynews': 1, '@fund3capital': 1, '@i_am_wildcat': 1, '@adamfederman': 1, '@canaldelcongres': 1, '@senadomexicano': 1, '@chumeltorres': 1, '@durden': 1, '@mrebola': 1, '@therealjoeya': 1, '@clayandmilk': 1, '@gonnashockthem': 1, '@skitzoplays': 1, '@bearpunch': 1, '@epatientdave': 1, '@epatientfinder': 1, '@bowlofnerdles': 1, '@scarletthellion': 1, '@lizlooples': 1, '@askmanny': 1, '@mysugr': 1, '@scottjohnson': 1, '@diatribenews': 1, '@diabetesdaily': 1, '@dimamix': 1, '@wellstonedems': 1, '@peraltacolleges': 1, '@laney_college': 1, '@davekaval': 1, '@athletics': 1, '@cincinnatizoo': 1, '@nsbaadvocate': 1, '@atauctnr1': 1, '@tberner_md': 1, '@sstrumello': 1, '@joltdude': 1, '@diabetessocmed': 1, '@flipsistersus': 1, '@breemakesart': 1, '@elissastein': 1, '@almosteducate': 1, '@homtweethom': 1, '@lotsofbunnies': 1, '@vfxswagg': 1, '@mchastain81': 1, '@diabetesmine': 1, '@djtechtools': 1, '@strange_animals': 1, '@bangtanbabe7': 1, '@gettingnoticedmo': 1, '@jeff__benjamin': 1, '@uncivilshow': 1, '@powergirl_2017': 1, '@slythseeker2017': 1, '@cherylhoney5thw': 1, '@chillyresist': 1, '@romanticskeptc': 1, '@telecoms': 1, '@kyrieirving': 1, '@reptimmurphy': 1, '@maggie_reardon': 1, '@wesley_jordan': 1, '@shaw': 1, '@cineplex': 1, '@mtarieindvsble': 1, '@wonkette': 1, '@linusgsebastian': 1, '@thegardiannews': 1, '@gch': 1, '@virustotal': 1, '@generalstrike17': 1, '@tvonetv': 1, '@iti_techtweets': 1, '@demonseed69': 1, '@xojillianjanson': 1, '@jurassicworld': 1, '@thetomska': 1, '@dscc': 1, '@stopbigmoney': 1, '@fairvote': 1, '@ezlusztig': 1, '@jai_mm_y': 1, '@toledolibrary': 1, '@lenihoppenworth': 1, '@myxphilippines': 1, '@chilliepenguin': 1, '@sigfox': 1, '@loraalliance': 1, '@htc': 1, '@senalfranken': 1, '@realdonadtrump': 1, '@riotwomennn': 1, '@stellarorg': 1, '@mmfa': 1, '@evidencepolicy': 1, '@patientcentric': 1, '@ssundee': 1, '@mrcrainer': 1, '@h2odelirious': 1, '@danmjakes': 1, '@criticalandroid': 1, '@princetatted': 1, '@cashnastygaming': 1, '@brattreformer': 1, '@br_sprecher': 1, '@repmarkamodei': 1, '@avast_antivirus': 1, '@rosenbergradio': 1, '@appletv': 1, '@philagainstwar': 1, '@rawbeautykristi': 1, '@lovelyti': 1, '@villanicedric': 1, '@da4pups': 1, '@netnanny': 1, '@askpiranhapete': 1, '@philipdaycom': 1, '@vino301wine': 1, '@kurthschneider': 1, '@bluelobsternets': 1, '@galgadot': 1, '@benaffleck': 1, '@grantgust': 1, '@candicekp': 1, '@tha_los': 1, '@thedarknolan': 1, '@nomikikonst': 1, '@prideofgypsies': 1, '@niykeeheaton': 1, '@mileycyrus': 1, '@g_eazy': 1, '@nickhurduk': 1, '@borisjohnson': 1, '@charlieputh': 1, '@anselelgort': 1, '@thechainsmokers': 1, '@shinee': 1, '@henmo24': 1, '@mlpsilverquill': 1, '@megabeatman': 1, '@joshscorcher': 1, '@lightning_bliss': 1, '@viga': 1, '@optibotimus': 1, '@boazari': 1, '@bocaflatline': 1, '@churchofpopreal': 1, '@mikeparent': 1, '@rhondaabrams': 1, '@louisville': 1, '@moogfest': 1, '@retweet_all18': 1, '@klustout': 1, '@bpshow': 1, '@peterogburn': 1, '@jbensondc': 1, '@gpwa': 1, '@affpowerarik': 1, '@icasa_org': 1, '@dtpsza': 1, '@mmkubayingubane': 1, '@vtengineering': 1, '@thebertshow': 1, '@oconnell_ellen': 1, '@cristianlanng': 1, '@mygdal': 1, '@aahlers': 1, '@mikkelsvane': 1, '@hulthin': 1, '@soerensandfeld': 1, '@steamworldsfair': 1, '@ep_trade': 1, '@aldegroup': 1, '@riotgames': 1, '@marcmerrill': 1, '@riotmorello': 1, '@crashpalace': 1, '@nantucketgrrl': 1, '@jchurchradio': 1, '@w1selabs': 1, '@summit1g': 1, '@gaming_gambino': 1, '@clydelewis': 1, '@realjillyg': 1, '@promotehorror': 1, '@bnoobcsgo': 1, '@virginia_tech': 1, '@bethsinni21': 1, '@brownbarrie': 1, '@washpost': 1, '@wisdems': 1, '@ucrafter': 1, '@delaware_ohio': 1, '@columbusgov': 1, '@geoffkeighley': 1, '@vickihartzler': 1, '@captscfaa': 1, '@regg_22': 1, '@itspladd': 1, '@geekremix': 1, '@geekremixalot': 1, '@momqueen95': 1, '@mirepcoffmanco': 1, '@kevinyoder': 1, '@iss_research': 1, '@quxlvstheworld': 1, '@1011_news': 1, '@sherrodbrown': 1, '@wumlradio': 1, '@lrixford': 1, '@riseupnet': 1, '@pns_co': 1, '@jim_harper': 1, '@sanctumboston': 1, '@fairmount_lab': 1, '@digdep': 1, '@dean_gaga': 1, '@dma_usa': 1, '@zillarage': 1, '@kimeragaming': 1, '@tristanblaze1': 1, '@vanessawcheese': 1, '@sethmoulton': 1, '@sledgehs': 1, '@witshouston': 1, '@vixinman': 1, '@elpais_tec': 1, '@epcomworldagrees': 1, '@rebeccavallas': 1, '@nmc_tc': 1, '@protestchicago7': 1, '@ukgovscotland': 1, '@bucks_edu': 1, '@myfox8': 1, '@wfmy': 1, '@julie_luck': 1, '@acc': 1, '@wxii': 1, '@jarredwxii': 1, '@newsandrecord': 1, '@hpenterprise': 1, '@hpepaul': 1, '@hpemegan': 1, '@specnewstriad': 1, '@cablelabs': 1, '@uw': 1, '@uwischoollib': 1, '@lynnwoodlib': 1, '@edmondslibrary': 1, '@stanwoodlibrary': 1, '@snoislemariner': 1, '@snoisleoak': 1, '@camanolibrary': 1, '@marysvillelibr': 1, '@ajitpaifcci': 1, '@everettherald': 1, '@socialsolutions': 1, '@luckypierre': 1, '@paige933': 1, '@loudwire': 1, '@phillyweekly': 1, '@wethepostcard': 1, '@iainmacwhirter': 1, '@robmacleansport': 1, '@johnastoehr': 1, '@flickr': 1, '@sittercity': 1, '@linknyc': 1, '@dangillmor': 1, '@georgeprof': 1, '@biladyy': 1, '@cugradseas': 1, '@myfoxdfw': 1, '@local4news': 1, '@wxyzdetroit': 1, '@chelseagov_ma': 1, '@chronopinion': 1, '@moonsinger13': 1, '@openbazaar': 1, '@spenceroverton': 1, '@somethingpress': 1, '@drtvlotz': 1, '@ksl5tv': 1, '@levisu': 1, '@patrickctoomey': 1, '@tomasrivas': 1, '@mjimed': 1, '@mariamrom': 1, '@vanityfair': 1, '@wgxanews': 1, '@swingleft': 1, '@davidlboyle': 1, '@brigida__santos': 1, '@kieranroy': 1, '@chrissununu': 1, '@jeanneshaheen': 1, '@mlamons1': 1, '@jodiontheweb': 1, '@ijnet': 1, '@matthewlc17': 1, '@verizongreen': 1, '@cayden': 1, '@larry2_0': 1, '@revevandolive': 1, '@wjb8': 1, '@sr_simone': 1, '@smashleyness': 1, '@snckpck': 1, '@unlincoln': 1, '@urbanophile': 1, '@cityjournal': 1, '@eaglefly124': 1, '@ianbrowncc': 1, '@chris_j_walker': 1, '@solcontingency': 1, '@descentuground': 1, '@starcitizenbase': 1, '@randomspacefact': 1, '@cosmicevolution': 1, '@elakdawalla': 1, '@planrad': 1, '@ceprdc': 1, '@eff29': 1, '@lacyclaymo': 1, '@kofiadomeleh': 1, '@xmission': 1, '@kofiademola': 1, '@doitboston': 1, '@meanstreetsoma': 1, '@jenluvsreviews': 1, '@petermonn': 1, '@wheelerprogress': 1, '@bisnow': 1, '@hseas': 1, '@anupamcinema': 1, '@hastingsforil': 1, '@ibooks': 1, '@timkainewill': 1, '@foxdierox2': 1, '@voqal': 1, '@byu_is': 1, '@drmeservy': 1, '@ivsy95': 1, '@jaydenman44': 1, '@csillabubu': 1, '@saiyin40': 1, '@kalebo_o': 1, '@krem2': 1, '@shroudofavatar': 1, '@portalarium': 1, '@richardgarriott': 1, '@spooki_rubi': 1, '@willssmith': 1, '@rethinkrobotics': 1, '@kayak': 1, '@hotelsdotcom': 1, '@trumphotels': 1, '@returnofkings': 1, '@pacificbiznews': 1, '@wvgazettemail': 1, '@cstribune': 1, '@syracuse1848': 1, '@mayorminersyr': 1, '@wobhighstreet': 1, '@mfceoyeager': 1, '@andrebconte': 1, '@6abc': 1, '@heathermross': 1, '@housejuddems': 1, '@housebudgetdemscall': 1, '@ncacensorship': 1, '@abc4utah': 1, '@viztorhugo': 1, '@anatoliaclub': 1, '@cbr': 1, '@playfurcinema': 1, '@themjknight': 1, '@zmanbrianzane': 1, '@orlandosentinel': 1, '@efflive': 1, '@starledger': 1, '@njdotcom': 1, '@ny1': 1, '@fluffyguy': 1, '@dotmacro': 1, '@themeatlygames': 1, '@houstonsnewnews': 1, '@nbc4i': 1, '@fox28columbus': 1, '@wsyx6': 1, '@nextradioapp': 1, '@asheville': 1, '@kctv5': 1, '@judashman': 1, '@sen_warrenma': 1, '@guatemalia': 1, '@ibrakegamer1990': 1, '@marcoarubiorblx': 1, '@wildearth': 1, '@theparallax': 1, '@ivyhill210': 1, '@r3dmx': 1, '@tomreedcongress': 1, '@cm_geib': 1, '@mikestucka': 1, '@iowapublicradio': 1, '@yourfavdeafguy': 1, '@hilton': 1, '@margatebookie': 1, '@quarterhouse_uk': 1, '@karenpitchford': 1, '@indmysticvalley': 1, '@ourrevmalden': 1, '@nate_cohn': 1, '@actionillinois1': 1, '@hongpong': 1, '@meraconnects': 1, '@danielschuman': 1, '@deutscheshausny': 1, '@hs_fresenius': 1, '@uas7_ny': 1, '@uniallianz': 1, '@cameronabadi': 1, '@lizforindiana': 1, '@veronicamolli': 1, '@weaponizedkeys': 1, '@actontaxreform': 1, '@markpocan': 1, '@dougmcvicar': 1, '@whatsuptucson': 1, '@modpizza': 1, '@govmalloyoffice': 1, '@dwancherry': 1, '@kkellynf': 1, '@aurelieyetman': 1, '@hannahsassaman': 1, '@repkellycassidy': 1, '@repdavis': 1, '@drinfosec': 1, '@thecalebf': 1, '@lumpenradio': 1, '@socialistalt': 1, '@fortnitegame': 1, '@mayorcutter': 1, '@_tbatalla': 1, '@deadbybhvr': 1, '@elizabethsmart_': 1, '@francieml': 1, '@dsg0110': 1, '@hartfordcourant': 1, '@news4buffalo': 1, '@our_depression': 1, '@greytfriend': 1, '@starfargamer': 1, '@shuxclams': 1, '@stepin2possible': 1, '@lornanogmo': 1, '@krkhaber': 1, '@ffc': 1, '@lioneldjordan': 1, '@kesq': 1, '@koreanpeacela': 1, '@rantasmo': 1, '@ahluss': 1, '@wikitrribune': 1, '@whohd': 1, '@aemarling': 1, '@dncwomen': 1, '@fakedansavage': 1, '@nytimesworld': 1, '@conquerpcos': 1, '@afrovii': 1, '@cut33ssay': 1, '@ofacontracosta': 1, '@indivisiblecccc': 1, '@twwcoco': 1, '@sengilibrand': 1, '@khoa_nguyen': 1, '@thefaithfulnet': 1, '@jung_sisyphus_': 1, '@carlargila': 1, '@brentspiner': 1, '@myskyupdates': 1, '@macsrcs': 1, '@idgconnect': 1, '@askthemppf': 1, '@crypticalley': 1, '@samsanders': 1, '@jodyavirgan': 1, '@pocketsotfuture': 1, '@ajaitpaifcc': 1, '@jasonritter': 1, '@maddowb': 1, '@meechonmars': 1, '@penguins': 1, '@nvidia': 1, '@mayoroflasvegas': 1, '@newstreanor': 1, '@cracked': 1, '@wishshopping': 1, '@lindseyvonn': 1, '@alejadlsantos': 1, '@celescolorado': 1, '@adriaral': 1, '@suzimiya': 1, '@huxi': 1, '@tekniikkatalous': 1, '@_yewon_': 1, '@ktla': 1, '@geninnovate': 1, '@robthewonderful': 1, '@amspectator': 1, '@filippo_alex': 1, '@ajamubaraka': 1, '@davidkennedy17': 1, '@mhealyrae': 1, '@nwci': 1, '@mitpress': 1, '@antisystemik': 1, '@vasilis_tag': 1, '@alicekeeler': 1, '@mhebern': 1, '@jeffwelchmod': 1, '@mrpiercey': 1, '@tophermueller': 1, '@techcoachjuarez': 1, '@nerdalerttyt': 1, '@zembla': 1, '@doveshighlight': 1, '@seledicted': 1, '@dualipa': 1, '@focusondiva': 1, '@silentcircle': 1, '@lookgoodright': 1, '@mooniightdoll': 1, '@butera_ave': 1, '@preddieftw': 1, '@dailyhampgaz': 1, '@senatorrobhogg': 1, '@try2feel': 1, '@iamahmedkhalifa': 1, '@spockresists': 1, '@djamery': 1, '@antigopactivist': 1, '@jeffblevinsphd': 1, '@fox19': 1, '@directvnowhelp': 1, '@monitornews': 1, '@addoilcomics': 1, '@justinhendrix': 1, '@onfreespeech': 1, '@repdebsingell1': 1, '@glacierhub': 1, '@versvs': 1, '@jacintodavila': 1, '@sfdcgeek': 1, '@pschiller': 1, '@cue': 1, '@angelaahrendts': 1, '@quisharose': 1, '@cvspharmacy': 1, '@aetna': 1, '@satyanadella': 1, '@britandco': 1, '@searchnconvert': 1, '@kcome': 1, '@mikefung': 1, '@liucheng2b': 1, '@huffpostrelig': 1, '@pinomaglio': 1, '@andyrosebrook': 1, '@yahooent': 1, '@wabi_tv5': 1, '@amir_anasr': 1, '@shanarchism': 1, '@julianavdlee': 1, '@kate_blackley': 1, '@cjsettles': 1, '@digitalposteu': 1, '@republican': 1, '@uspirates': 1, '@bjork': 1, '@csmyers111': 1, '@seanlahman': 1, '@edcircuit': 1, '@zoraida_': 1, '@jorgeperezmarti': 1, '@ieeenetpolicy': 1, '@laniar': 1, '@americangenius': 1, '@neoprankster': 1, '@uwedev': 1, '@subnautica': 1, '@flayra': 1, '@davidkaye6': 1, '@rizzo_tv': 1, '@kittyplays': 1, '@athenaatv': 1, '@findablecarpet': 1, '@streamlabshq': 1, '@obsproject': 1, '@jeff_freitas': 1, '@raybakermedia': 1, '@webdotcom': 1, '@pgradio_humber': 1, '@medialivelab': 1, '@ainsworthandy': 1, '@frpc_frpc': 1, '@beacanada': 1, '@rtdna_canada': 1, '@cbcradio': 1, '@metronashville': 1, '@aarpadvocates': 1, '@suika1015': 1, '@mehrtarar': 1, '@rondinellysm': 1, '@clarafavilla': 1, '@publicpolicyumb': 1, '@thenflboycott': 1, '@convocomedy': 1, '@revmsg': 1, '@caforprogress': 1, '@thomasmassieky': 1, '@mjeedzd': 1, '@ka_22w': 1, '@free356cew': 1, '@confindustriafi': 1, '@cimmino_a': 1, '@fareleuropaxpd': 1, '@drmflowers': 1, '@kbzeese': 1, '@jjhorgan': 1, '@planetsari': 1, '@6hamfam': 1, '@itworldca': 1, '@wispanews': 1, '@gostocks32': 1, '@dejahofficial': 1, '@memphisflyer': 1, '@asu': 1, '@marissatomei': 1, '@heatherunruh': 1, '@knowtheconsumer': 1, '@koinnews': 1, '@cnil': 1, '@agundaokeyo': 1, '@friendslikeus10': 1, '@jhhill': 1, '@westfaironline': 1, '@realdonaldtrunp': 1, '@vzwkarens': 1, '@nhs_technology': 1, '@mayerhawthorne': 1, '@burvill_martin': 1, '@tonypalmeri': 1, '@my3screens': 1, '@jacksondevious': 1, '@rwu_spj': 1, '@smwjournalism': 1, '@fnjacobs': 1, '@imstevemigs': 1, '@ericpaulleue': 1, '@anarchymunroe': 1, '@bspcorleto': 1, '@boingo': 1, '@globelamp': 1, '@ruleyork': 1, '@mattataca': 1, '@openuark': 1, '@ivancnn': 1, '@gershomg': 1, '@starryinternet': 1, '@deptofdefense': 1, '@ajmount': 1, '@dpreview': 1, '@fpcomment': 1, '@tubefilter': 1, '@vidcon': 1, '@streamys': 1, '@thisainthell': 1, '@ihnatko': 1, '@johnshopkins': 1, '@crm': 1, '@danrather': 1, '@thelewisblack': 1, '@peta': 1, '@billprady': 1, '@rushtheband': 1, '@brazzers': 1, '@xvideoscom': 1, '@bangbrosdotcom': 1, '@nuancebro': 1, '@theannotation': 1, '@indigojourney': 1, '@alexaliautaud': 1, '@carccanada': 1, '@joseluisalmanza': 1, '@cesosaco': 1, '@realtoraction': 1, '@sharminultraa': 1, '@appalachianpowe': 1, '@buzzflash': 1, '@nintyprime': 1, '@faxzero': 1, '@reginacalvaria': 1, '@adamjohnsonnyc': 1, '@grlpowrchat': 1, '@hp': 1, '@realmikesmith': 1, '@humberdigcomm': 1, '@marwilliamson': 1, '@crustdaddies': 1, '@poppyharlowcnn': 1, '@katebolduan': 1, '@johnkingcnn': 1, '@kotaku': 1, '@fusiontv': 1, '@ronburgundy2018': 1, '@bobgatt': 1, '@frandtower': 1, '@huffpostent': 1, '@hmonarch': 1, '@mark_goldberg': 1, '@kmc1ntosh': 1, '@luke4tech': 1, '@chattanooga_gov': 1, '@sarahcoull00': 1, '@republic': 1, '@rupasubramanya': 1, '@2toesup': 1, '@moms4corybooker': 1, '@kuow': 1, '@50cent': 1, '@robinblackmma': 1, '@johnramdeen': 1, '@fitetv': 1, '@invictafights': 1, '@mcjuggernuggets': 1, '@claroargentina': 1, '@personalar': 1, '@thiagosactiontv': 1, '@socialblade': 1, '@due': 1, '@forbestechcncl': 1, '@thetylt': 1, '@bloggoneit': 1, '@stranger_things': 1, '@davidvkimball': 1, '@krcr7': 1, '@actionnewsnow': 1, '@lolitsalec': 1, '@siliconvalhbo': 1, '@nottjmiller': 1, '@ccdpoa': 1, '@davastewart': 1, '@therealkimj': 1, '@iampaigej': 1, '@rizatisserand': 1, '@nporadio1': 1, '@rachelbagby': 1, '@joannanelsonphd': 1, '@dranitasanchez': 1, '@leilanib1': 1, '@joannerand': 1, '@eostonestreet': 1, '@madeleine': 1, '@atrainentertain': 1, '@kchenoweth111': 1, '@ellenbachmeyer': 1, '@xliveconindustry': 1, '@nikoplaysgames': 1, '@joelgoldstein75': 1, '@indivisiblenwfl': 1, '@destinflnews': 1, '@aldotcom': 1, '@mikefarb1': 1, '@20committee': 1, '@sebastianx': 1, '@binarybits': 1, '@elijahwood': 1, '@thegoverment': 1, '@adamschiffcaca': 1, '@fictionpress': 1, '@omnomdomz': 1, '@swooz1e': 1, '@unboxtherapy': 1, '@brianpotra': 1, '@brofresco': 1, '@sveninmotion': 1, '@_adamm': 1, '@im4ch3t3': 1, '@ibrahimsamander': 1, '@teamsecret': 1, '@lisadawley': 1, '@usfarmreport': 1, '@twistedprime': 1, '@sarahintampa': 1, '@better_action': 1, '@indivisibleil1': 1, '@indivisibleil3': 1, '@ildemocrats': 1, '@citizenactionil': 1, '@indivissosubchi': 1, '@blackvoltege': 1, '@sam5199816': 1, '@_swiss_cakes': 1, '@rsbnetwork': 1, '@chang': 1, '@mydelmarvanow': 1, '@saaadmalikk': 1, '@pfizer': 1, '@dianeravitch': 1, '@ericgarland': 1, '@couragecampaign': 1, '@nasdaq': 1, '@inputforcolor': 1, '@makova_': 1, '@chescorc': 1, '@david_hardstaff': 1, '@jesuplibrary': 1, '@brandonsugly': 1, '@bigredtomato': 1, '@vortex5674': 1, '@repgerrypollet': 1, '@dsfrockt': 1, '@heyheyesj': 1, '@flakphoto': 1, '@bootkik': 1, '@vevo': 1, '@crazykeshafans': 1, '@nickdeganifcc': 1, '@brianefallon': 1, '@realkevinconroy': 1, '@chrismalmo': 1, '@mjskok': 1, '@1stnations': 1, '@seventhgen': 1, '@ienearth': 1, '@un_women': 1, '@globalgoals17': 1, '@unfccc': 1, '@cbdnews': 1, '@unep': 1, '@thegef': 1, '@curtw': 1, '@lynseyaddario': 1, '@dana_balter': 1, '@catloverplayer': 1, '@matthewcarr14': 1, '@giancarlo818': 1, '@demgovs': 1, '@univision': 1, '@fiercetelecom': 1, '@fiercecable': 1, '@mikepriceinla': 1, '@twhitford': 1, '@jonterrasi': 1, '@ccdbrorg': 1, '@normeisen': 1, '@nilc_org': 1, '@jacobsginger': 1, '@cluevc': 1, '@aaiusa': 1, '@mycleveragency': 1, '@prageru': 1, '@themrturtle07': 1, '@ringer': 1, '@shoshannah7': 1, '@rickysnecklace': 1, '@mbauwens': 1, '@breakingnews': 1, '@chrishayestv': 1, '@nick_brana': 1, '@edielangston1': 1, '@rantingnyer': 1, '@privacystrategy': 1, '@socialquantgeni': 1, '@siggas': 1, '@comradewarbear': 1, '@johnoliverbot': 1, '@tobuscus': 1, '@ralphnorman': 1, '@panoply_digital': 1, '@rijksoverheid': 1, '@ziggowebcare': 1, '@extracreditz': 1, '@gavinnewsom': 1, '@texastweetybird': 1, '@moonlightsboo': 1, '@corriefaith': 1, '@santacon': 1, '@greeneindenver': 1, '@toyoubutera': 1, '@wifp': 1, '@sethshapirotv': 1, '@insanelabz': 1, '@gradeaundera': 1, '@snailmailtocongress': 1, '@hillsboroughnc': 1, '@nwssacramento': 1, '@fresnorock': 1, '@kalapawaicafe': 1, '@doublejake': 1, '@enjoneer01': 1, '@ucberkeley': 1, '@manufernandezba': 1, '@scully2018': 1, '@joseph_santoro': 1, '@revbarberii': 1, '@redway420': 1, '@gofccyourself': 1, '@adultswim': 1, '@jrjrmusic': 1, '@risecalifornia': 1, '@4healthyca': 1, '@firenationphoe1': 1, '@universalorlando': 1, '@bethesdastudios': 1, '@been_sick': 1, '@margaritarr8': 1, '@lulu_lemew': 1, '@waxenwings': 1, '@laurabrarian': 1, '@cableman727': 1, '@tjmccue': 1, '@guykawasaki': 1, '@cspenn': 1, '@dbfarber': 1, '@sencoonsoffice': 1, '@davidmdavis': 1, '@marioarmstrong': 1, '@lpierc9': 1, '@mikejolitz': 1, '@ntbpodcastcrew': 1, '@emotionally14': 1, '@emptypodcast': 1, '@whonanshow': 1, '@cardboardcastl1': 1, '@the_uap': 1, '@storytacular': 1, '@reielys1280': 1, '@thenerdynomicon': 1, '@nicoledawnw': 1, '@felixxxthecatt': 1, '@lukespeedwalker': 1, '@alonc_aliceon': 1, '@privacydigest': 1, '@jc_gov': 1, '@cityofhoboken': 1, '@cityofnewarknj': 1, '@michaelmattmiller': 1, '@cityofseattle': 1, '@tangentlounge': 1, '@tanktimepodcast': 1, '@that1shawniam': 1, '@longboxs': 1, '@longcoatmafia': 1, '@tjaxzi': 1, '@backtofuturama': 1, '@driftandramble': 1, '@gys_horrorpod': 1, '@dashingdigress': 1, '@mostmortem': 1, '@mostokayestpod': 1, '@lariatcchs': 1, '@pftsta': 1, '@coopercityhigh': 1, '@cchsctv': 1, '@xhamstercom': 1, '@proxywonk': 1, '@adirondackatie': 1, '@fox2deena': 1, '@theluecrew': 1, '@history': 1, '@alicej831': 1, '@bellahadid': 1, '@barbarapalvin': 1, '@gigihadid': 1, '@theweeknd': 1, '@jheneaiko': 1, '@tommy_enright': 1, '@jessebwatters': 1, '@unmedialiaison': 1, '@zcat7777': 1, '@trekonlinegame': 1, '@laurentaylorsd': 1, '@leafygames': 1, '@myclyburnfcc': 1, '@toddchrisley': 1, '@valerieghent': 1, '@tahitismith': 1, '@aceducation': 1, '@andrewscheercpc': 1, '@aynrandpaulryan': 1, '@gundamishere': 1, '@dizzymom64': 1, '@exploit_this': 1, '@consumervic': 1, '@jeffdunham': 1, '@harleyplays': 1, '@themissesmae': 1, '@unitednations': 1, '@techflowtweets': 1, '@swashintv': 1, '@tldtoday': 1, '@billclinton': 1, '@adobeae': 1, '@mtmograph': 1, '@creativecloud': 1, '@absolutvodka': 1, '@nwi_jsp': 1, '@maxkennerly': 1, '@ticewrites': 1, '@bluelinemusic_': 1, '@on_rihanna_ass': 1, '@moodysinvsvc': 1, '@spglobalratings': 1, '@fitchratings': 1, '@survivingwk': 1, '@claudiakincaid': 1, '@raycorrigan': 1, '@krishgm': 1, '@bbclaurak': 1, '@aoalphamale': 1, '@bullets4wizards': 1, '@ivancatalanodep': 1, '@montecitorio': 1, '@modemlibero': 1, '@m347298': 1, '@mrjoshuagray': 1, '@mikematt': 1, '@ssantosham': 1, '@thomaspower': 1, '@coldwater1978': 1, '@humanrightsday': 1, '@_little_britt_': 1, '@romanatwood': 1, '@cbssunday': 1, '@dgustavovega': 1, '@unixmx': 1, '@uaipit': 1, '@peppermashay53': 1, '@mangelet': 1, '@jennacondie': 1, '@globalhe': 1, '@sdxpdx': 1, '@utalibraries': 1, '@naomiaklein': 1, '@dharmesh': 1, '@hunkygayjesus': 1, '@tomsegura': 1, '@thetaztaylor': 1, '@cat_minhv0': 1, '@mrproductivity': 1, '@theopposition': 1, '@billburr': 1, '@michealoreilly': 1, '@unc_librarian': 1, '@natashashenry': 1, '@destroy_time': 1, '@ss': 1, '@deviantart': 1, '@civicrm': 1, '@evenskjervold': 1, '@razexde': 1, '@infocrownpalace': 1, '@google_comms': 1, '@shane_snipes': 1, '@talkimpactnyc': 1, '@greenpeace': 1, '@usnavy': 1, '@radicalgoats': 1, '@dunkindonuts': 1, '@kasparov63': 1, '@maddox': 1, '@befirsttoknow': 1, '@newsminer': 1, '@artofmeoc28': 1, '@sprintworks4me': 1, '@ohrenschall4nv': 1, '@progressivepush': 1, '@cheddar': 1, '@barrettall': 1, '@diofavatas': 1, '@chief_ventures': 1, '@facemar': 1, '@buddyfowler': 1, '@helpfulhonda': 1, '@rul3r': 1, '@9to5mac': 1, '@swaindiana': 1, '@robertgarcialb': 1, '@blindspotroom': 1, '@panthers': 1, '@kevingreenefawx': 1, '@therandomhour': 1, '@danielstewy': 1, '@inthesetimesmag': 1, '@mignonclyburnfcc': 1, '@randpau': 1, '@mesquitetxnews': 1, '@wewildernessea': 1, '@opencontext': 1, '@nowviskie': 1, '@rwstavros': 1, '@bhadbhabie': 1, '@nerdstalker': 1, '@davidstehle': 1, '@karlakush420': 1, '@candicebergenmp': 1, '@nspc': 1, '@sfr': 1, '@ndp': 1, '@elizabethmay': 1, '@sdgnelson': 1, '@2ggaming': 1, '@esportsarena': 1, '@arcsystemworksu': 1, '@lookingout4mom': 1, '@govsambrownback': 1, '@freckle_red': 1, '@daily_american': 1, '@rbasicincomeusa': 1, '@usbig': 1, '@thehumanistreport': 1, '@house': 1, '@muffinus': 1, '@socbreakdown': 1, '@wawa': 1, '@realdonaltrunp': 1, '@mark1dunbar': 1, '@patribotics': 1, '@counterchekist': 1, '@juicemedia': 1, '@gadfly': 1, '@yokoono': 1, '@thatmikeny': 1, '@davidcayj': 1, '@slapbackabully': 1, '@legs__mcneil': 1, '@mcgarveyyvonne': 1, '@pkmbook': 1, '@mydaughtersarmy': 1, '@strgyn': 1, '@brettjsimpson': 1, '@jameslacym': 1, '@nilesmack': 1, '@cityofsanramon': 1, '@mikebloomberg': 1, '@yelp': 1, '@loisfrankel': 1, '@rockstargames': 1, '@costco': 1, '@asu_sfis': 1, '@asunews': 1, '@rollercaste': 1, '@stevenreycristo': 1, '@wabroussard1': 1, '@ghhshirley': 1, '@govtrack': 1, '@juliemason': 1, '@coasttocoastam': 1, '@ameer200718': 1, '@reproberthurt': 1, '@thehackersnews': 1, '@anonopslegion': 1, '@safervpn': 1, '@brianaelizab': 1, '@louferrigno': 1, '@chrishemsworth': 1, '@alyankovic': 1, '@jeremyjahns': 1, '@cmkshama': 1, '@mikepencevp': 1, '@sluggahjells': 1, '@mr_unstable': 1, '@selfreliantlife': 1, '@cls273': 1, '@uscongress00': 1, '@onemanrev': 1, '@lou16': 1, '@tommiesunshine': 1, '@radiohead': 1, '@wayneaschneider': 1, '@thebernreport': 1, '@berniesandzfan': 1, '@fatboy_sse': 1, '@bitburner': 1, '@wsjcentralbanks': 1, '@nikkietutorials': 1, '@patrickstarrr': 1, '@xsparkage': 1, '@vintageortacky': 1, '@michellephan': 1, '@cullenint': 1, '@goodguyfitz': 1, '@johnontheradio': 1, '@mrmuselk': 1, '@bazza_gazza': 1, '@loserfruit': 1, '@caseybrome': 1, '@dagensnyheter': 1, '@gigisohn': 1, '@sandyhardebeck': 1, '@hardebeck': 1, '@johnmho': 1, '@abc7ny': 1, '@ed7471': 1, '@shapshak': 1, '@movietvtechgeek': 1, '@royalfamily': 1, '@occupywallstnyc': 1, '@jayarjackson': 1, '@vanjones68': 1, '@angela_rye': 1, '@marclamonthill': 1, '@bouyguestelecom': 1, '@sfr_groupe': 1, '@airbnb_fr': 1, '@amazonfr': 1, '@ebay_fr': 1, '@linkedinfrance': 1, '@microsoftfrance': 1, '@netflixfr': 1, '@twittermediafr': 1, '@uberfr': 1, '@paypal': 1, '@pinterestfr': 1, '@spotifyfrance': 1, '@tripadvisorfr': 1, '@msn': 1, '@msnbcvideo': 1, '@hiperderecho': 1, '@infoworld': 1, '@mayortomlinson': 1, '@lagrangemayor': 1, '@leonmo': 1, '@ised_ca': 1, '@stemceo': 1, '@cirbn_llc': 1, '@skymix': 1, '@celiuskaya': 1, '@atlanticcraft': 1, '@cannibalcrab': 1, '@thekrakenkid': 1, '@sneakysisters': 1, '@littlelizardg': 1, '@kdltnews': 1, '@dmccabe': 1, '@jeffersonpooley': 1, '@designsthelimit': 1, '@ncta': 1, '@gclinch': 1, '@t_s_p_o_o_k_y': 1, '@k_shelton': 1, '@redtube': 1, '@consumerist': 1, '@themorrancave': 1, '@mtracey': 1, '@acedtect': 1, '@swmrs': 1, '@bido': 1, '@cambridgeinns': 1, '@alexcequea': 1, '@lilsimsie': 1, '@xurbansimsx': 1, '@alwaysimming': 1, '@tomhornsworth': 1, '@kiwisimming': 1, '@steph0sims': 1, '@lifesimmer': 1, '@newenglanvc': 1, '@endgaget': 1, '@tracinski': 1, '@regranned': 1, '@kokayi': 1, '@robfields': 1, '@wharton': 1, '@steveberg1946': 1, '@stampslicked': 1, '@newenglandvc': 1, '@rubengallego': 1, '@paula_overby': 1, '@mls': 1, '@infernoomni': 1, '@giphy': 1, '@politikelle': 1, '@thejurgys': 1, '@creepypastajr': 1, '@topher_zheng': 1, '@masstlc': 1, '@schneider_dc': 1, '@risecollab': 1, '@michaelrosenyes': 1, '@utsaresearch': 1, '@colfa_utsa': 1, '@ashens': 1, '@rrlibraries': 1, '@echoics': 1, '@eriksoninst': 1, '@whackyjack': 1, '@dave_champion': 1, '@metheridge': 1, '@jimrenacci': 1, '@dsepdc': 1, '@jeffreybrown': 1, '@canardpcredac': 1, '@elokputput': 1, '@teppy87': 1, '@fitritash': 1, '@danicar': 1, '@des': 1, '@doncheadle': 1, '@killermike': 1, '@hilakleinh3': 1, '@stevesi': 1, '@piercetheveil': 1, '@alltimelow': 1, '@paramore': 1, '@swstheband': 1, '@gmbutts': 1, '@amandacarpenter': 1, '@ccn': 1, '@tromafanatics': 1, '@bustle': 1, '@wrir': 1, '@numerama': 1, '@theprogsoapbox': 1, '@dccomics': 1, '@robinlordtaylor': 1, '@mister_cms': 1, '@edri': 1, '@gannettalbany': 1, '@stevewozniak': 1, '@daily49er': 1, '@mayorpugh50': 1, '@chrisbeutler': 1, '@mayormeganbarry': 1, '@billpeduto': 1, '@libbyschaaf': 1, '@ztsamudzi': 1, '@gwrtrains': 1, '@richarddedor': 1, '@cityofiowacity': 1, '@hoffstech': 1, '@wvpublic': 1, '@waukeeapex': 1, '@activatebritain': 1, '@fansmith': 1, '@odihq': 1, '@news_guild': 1, '@mocamedia': 1, '@nathancullen': 1, '@lavenderblue27': 1, '@sgrogantc': 1, '@marykissel': 1, '@iminbeastmode': 1, '@sweetg35': 1, '@artemis1954': 1, '@notofracking': 1, '@frackfreemps': 1, '@f_f_ryedale': 1, '@indianz': 1, '@governing': 1, '@stevebannon': 1, '@donaldjtrump': 1, '@julieowono': 1, '@isocsenegal': 1, '@amnestysenegal': 1, '@amnestywaro': 1, '@papefo1': 1, '@dolfyib': 1, '@containspeanuts': 1, '@benlovejoy': 1, '@netvibes': 1, '@faithleadership': 1, '@thelegalintel': 1, '@westlaw': 1, '@ksteenprincipal': 1, '@techpolicygrind': 1, '@bradleydevlin': 1, '@jonah_hoj': 1, '@u_of_p': 1, '@hotspotshield': 1, '@sevenbowie': 1, '@offerman_shop': 1, '@corybranan': 1, '@freespeak3': 1, '@sueford06': 1, '@ayleenielsen': 1, '@castillo__io': 1, '@chatterjeekanad': 1, '@marcoco': 1, '@carlanelsonmn': 1, '@asi': 1, '@jjvincent': 1, '@takeaction': 1, '@nickhanauer': 1, '@medialab': 1, '@anthonycumiaxyz': 1, '@janetfitch323': 1, '@wabenews': 1, '@chrisklemens': 1, '@missrballer': 1, '@viasatinternet': 1, '@nolanews': 1, '@citrix': 1, '@heathermitts': 1, '@iliza': 1, '@1millioncupspro': 1, '@amodeifornevada': 1, '@teamdean': 1, '@ruralhealth': 1, '@rusa': 1, '@iron_light': 1, '@the_news_diva': 1, '@theresamax': 1, '@auntcole22': 1, '@barrymotivates': 1, '@gracefituk': 1, '@jazzyrgarcia': 1, '@davestrayer': 1, '@anonpress': 1, '@trutherbotcyan': 1, '@trutherbotpink': 1, '@trutherbotprple': 1, '@trutherbotsilve': 1, '@trutherbotgray': 1, '@dishonouredwolf': 1, '@shanedk': 1, '@btvmayor': 1, '@rutgersu': 1, '@ddamned': 1, '@stevenegusmasr': 1, '@a_addarrat': 1, '@congress40th': 1, '@rowefinkbeiner': 1, '@craignewmark': 1, '@evynn3melody': 1, '@theavclub': 1, '@tunein': 1, '@rubiconprograms': 1, '@utopiafiber': 1, '@ed_miliband': 1, '@ronnychieng': 1, '@alexandria': 1, '@technyc': 1, '@busybeaver': 1, '@reneguard7': 1, '@barb1259mb': 1, '@bitofjules': 1, '@rachelgamache1': 1, '@aallen69': 1, '@noisecancelpod': 1, '@jonsandmantv': 1, '@marianelatv': 1, '@cliffschecter': 1, '@tuftsuniversity': 1, '@guster': 1, '@bachposts': 1, '@malcolmnance': 1, '@phil_carlson': 1, '@whitfielddiffie': 1, '@martinhellman2': 1, '@ronrivest': 1, '@panzer': 1, '@vikyborgomeo': 1, '@web__110': 1, '@thedirtpoor': 1, '@kcmo': 1, '@joshgad': 1, '@tiffanyrom': 1, '@swaygroup': 1, '@farber': 1, '@dearwhitepeople': 1, '@pegt': 1, '@telecomlawyer': 1, '@drdenagrayson': 1, '@mrssmh2': 1, '@louisemensch': 1, '@therealryyguyy': 1, '@smoshian': 1, '@theeconomist': 1, '@bitcoinsquebec': 1, '@steemit': 1, '@trevdon': 1, '@johnnystonecb': 1, '@chaturbate': 1, '@shanehalll': 1, '@moluskein': 1, '@elblogiante': 1, '@chenteydrach': 1, '@residente': 1, '@ojedawkaq': 1, '@cheboricua': 1, '@funkyjoeelcirco': 1, '@jennajulienpod': 1, '@samjammal': 1, '@abaesq': 1, '@chandlerriggs': 1, '@officialjaden': 1, '@chrishardwickk': 1, '@cascadeinsights': 1, '@jesuschitchat': 1, '@georgetown': 1, '@scuhtli': 1, '@uu_jec': 1, '@brendoncarrfcc': 1, '@autotrader_com': 1, '@visa': 1, '@umn_hsjmc': 1, '@pamelascully': 1, '@jodeyarrington': 1, '@tomjoynerfound': 1, '@elvisduran': 1, '@radiobethany': 1, '@constitutionctr': 1, '@skeeryjones': 1, '@scottpopescu': 1, '@jrexnet': 1, '@stevebellovin': 1, '@enoclue': 1, '@mattblaze': 1, '@techof_tomorrow': 1, '@allahpundit': 1, '@sarahkendsior': 1, '@maikatystar': 1, '@helaina_of_troy': 1, '@finstd': 1, '@tomcarperforde': 1, '@andmarilynsays': 1, '@profciara': 1, '@lisatalmadge': 1, '@lauren_ten': 1, '@betaworks': 1, '@borthwick': 1, '@cpc': 1, '@bbtamagotchi': 1, '@ak3r303': 1, '@maryamishani': 1, '@antietambb': 1, '@instrument': 1, '@newswithed': 1, '@thesimpsons': 1, '@ordinarygamers': 1, '@eduarda20178': 1, '@indivisibletxjc': 1, '@indivisibleatx': 1, '@dfwindivisible': 1, '@pcarvalhojp': 1, '@cantonrepdotcom': 1, '@michaelrapaport': 1, '@indivisiblegv': 1, '@idvancouverwa': 1, '@sarahhuckabee': 1, '@tdgarden': 1, '@himss': 1, '@knewagb': 1, '@itsjoelpimentel': 1, '@dannbc6': 1, '@buxmontnews': 1, '@anoggle_wkow': 1, '@invalidateu': 1, '@dccc': 1, '@arisamacom': 1, '@samiaji': 1, '@captimes': 1, '@finkd': 1, '@stephencurry30': 1, '@klaythompson': 1, '@money23green': 1, '@danpfeiffer': 1, '@dencilpun': 1, '@thedivisiongame': 1, '@forhonorgame': 1, '@steep_game': 1, '@melanielbbh': 1, '@badastronomer': 1, '@mountaindew': 1, '@findmeclan': 1, '@topsrts': 1, '@ww2rts': 1, '@jgo4justice': 1, '@lindenlab': 1, '@cspanvl': 1, '@librarycongress': 1, '@uscongress_gta': 1, '@solomonster': 1, '@rsf_en': 1, '@danielbiss': 1, '@johnnyleroy': 1, '@rogerwicker': 1, '@christoaivalis': 1, '@sameenacongress': 1, '@sbnation': 1, '@comedycentral': 1, '@auroraperrineau': 1, '@meldisny': 1, '@nationalnurses': 1, '@tytlive': 1, '@climatereality': 1, '@zachcallison': 1, '@mkatwood': 1, '@shanboody': 1, '@f1abraham': 1, '@glamlifeguru': 1, '@judahworldchamp': 1, '@thiefcgt': 1, '@evilafm': 1, '@sharanrj': 1, '@chattanoogafun': 1, '@cityofdavis': 1, '@tharadbrad': 1, '@pepsico': 1, '@dwatchnews': 1, '@jeffsantosshow': 1, '@greg_palast': 1, '@lhfang': 1, '@jeremyscahill': 1, '@arunindy': 1, '@goldyha': 1, '@speckyboy': 1, '@awardsdarwin': 1, '@twittermktg': 1, '@jonnygators': 1, '@jimsterling': 1, '@blauspot': 1, '@established_ink': 1, '@cj_wentz': 1, '@ryanshazier': 1, '@testedcom': 1, '@johngreen': 1, '@uua': 1, '@lesechos': 1, '@nicorichaud': 1, '@coachfibregdt': 1, '@smithakprasad': 1, '@ccgnlud': 1, '@warcraft': 1, '@periscope': 1, '@judeeflick': 1, '@thealiceroberts': 1, '@rickoshea': 1, '@garmullins': 1, '@historyhub_ie': 1, '@matthancock': 1, '@openreachgb': 1, '@mpomeroy3': 1, '@flommus': 1, '@emmewinch': 1, '@riaus': 1, '@eldsjal': 1, '@rnids': 1, '@stevewo': 1, '@joss': 1, '@wildonnelly': 1, '@eshap': 1, '@myrondewey': 1, '@dallasgoldtooth': 1, '@holmesworcester': 1, '@ashinsservices': 1, '@michaelcthulhu': 1, '@malestylist': 1, '@frontpagetech': 1, '@brendancartfcc': 1, '@vigilancejcwv': 1, '@persistresist2': 1, '@digi_city': 1, '@delltech': 1, '@euroinfosec': 1, '@dataeconomy': 1, '@valuepointorg': 1, '@shokal7': 1, '@sunny': 1, '@mit': 1, '@tytinterviews': 1, '@housedemsil': 1, '@maritagrillo': 1, '@senatorreid': 1, '@wasendemocrat': 1, '@redlynxgamer': 1, '@southparkphone': 1, '@t3n': 1, '@paulmiller1313': 1, '@lrtgee': 1, '@iilab': 1, '@oktavia': 1, '@bia_kira': 1, '@nomadiclucie': 1, '@fredericdonck': 1, '@thedems': 1, '@chrisvelazco': 1, '@maidsafe': 1, '@mdpoliticsblog': 1, '@cbssports': 1, '@up2us2act': 1, '@ezralevin': 1, '@wstchr7resists': 1, '@leahgreenb': 1, '@acusgov': 1, '@thetrueabstract': 1, '@thisiswharr': 1, '@patriots': 1, '@addiefeather': 1, '@chrisrulon': 1, '@neoconwatson': 1, '@abzhuofficial': 1, '@laurasexangel': 1, '@nine11inreverse': 1, '@lloyddoggetttx': 1, '@foxbusiness': 1, '@morningsmaria': 1, '@ilpfoundry': 1, '@womanoffuego': 1, '@joejerome': 1, '@electroboyusa': 1, '@niggatheory': 1, '@joey_girardi': 1, '@palegis': 1, '@andrewlawton': 1, '@iedm_montreal': 1, '@jaspar': 1, '@msnewengland': 1, '@thegamechief': 1, '@braincancercure': 1, '@jeancase': 1, '@arincrumley': 1, '@grandesdevotion': 1, '@farnan': 1, '@patrickbatty': 1, '@roxannesukolmd': 1, '@erikaharlacher': 1, '@cristinavee': 1, '@stephaniesheh': 1, '@carriekeranen': 1, '@sverigesradio': 1, '@p4vn': 1, '@innermastery': 1, '@melissa4dpi': 1, '@senatorkingme': 1, '@mcalabresenaf': 1, '@nuzzel': 1, '@nelsonforsenate': 1, '@rickscott': 1, '@charles_okocha1': 1, '@justicedanielh': 1, '@armadatrice': 1, '@kwissoker': 1, '@pjluntz': 1, '@acttogetherfl': 1, '@action2gethersc': 1, '@jessfink': 1, '@govscott': 1, '@telecomptech': 1, '@marshablackbur': 1, '@billsenatornels': 1, '@thinkful': 1, '@irpp': 1, '@indivisibleny10': 1, '@indivisibleny12': 1, '@indivisibleny14': 1, '@esprogressives': 1, '@jacksmithiv': 1, '@seanansmith': 1, '@fcwnow': 1, '@kywnewsradio': 1, '@thechlocal': 1, '@nicktsigos': 1, '@makeitplain': 1, '@cosmopolitan': 1, '@colonialdude': 1, '@steven_jacques1': 1, '@pinkroses21': 1, '@rtbf': 1, '@joemillerjd': 1, '@souljaboy': 1, '@kristenhare': 1, '@mattderienzo': 1, '@clintsmithiii': 1, '@nybookeditors': 1, '@lowellsunnews': 1, '@alfredoaguirre': 1, '@mojo93g': 1, '@cbsdetroit': 1, '@larrykim': 1, '@keeganmkey': 1, '@newyorktimes': 1, '@unitepink': 1, '@ourrevolutionga': 1, '@dfreedbzhd': 1, '@livingichigo': 1, '@nanogenix': 1, '@speeedyssj': 1, '@dakotastatemset': 1, '@dsuteach': 1, '@dakotastate': 1, '@femioke': 1, '@eduinfographics': 1, '@kimkimswy': 1, '@osheanri': 1, '@ocppnews': 1, '@thelundreport': 1, '@truefactsor': 1, '@womenmarchpdx': 1, '@writetocongress': 1, '@twwnaz': 1, '@eladarling': 1, '@ebleser': 1, '@bluechipww': 1, '@consultski': 1, '@indvsblharlem': 1, '@nyc_indivisible': 1, '@netflix_ca': 1, '@djkhaled': 1, '@logitech': 1, '@brucerauner': 1, '@engine': 1, '@giffgaff': 1, '@restonpatch': 1, '@chantillypatch': 1, '@fairfaxtimes': 1, '@centreview': 1, '@fcnp': 1, '@ltmnews': 1, '@restonchamber': 1, '@chantilly_hs': 1, '@herndonhs': 1, '@loudounbiz': 1, '@loudounwp': 1, '@loudouncogovt': 1, '@fairfaxcounty': 1, '@teksavvynetwork': 1, '@loveindivisible': 1, '@indivisiblev10e': 1, '@realedketch': 1, '@target_mom': 1, '@hr_indivisible': 1, '@winchesterindiv': 1, '@fauquierresist5': 1, '@kare11': 1, '@melissacolorado': 1, '@romanmars': 1, '@tanukitsune': 1, '@thetodayshow': 1, '@bmorelikenita': 1, '@purch': 1, '@jbrightness': 1, '@americanauk': 1, '@johnnyisaksen': 1, '@benderandmolly': 1, '@warroomshow': 1, '@onemycelium': 1, '@rickross': 1, '@yg': 1, '@nipseyhussle': 1, '@snoopdogg': 1, '@bigsean': 1, '@metroboomin': 1, '@justblaze': 1, '@_eat8': 1, '@lightshow10thpl': 1, '@shyglizzy': 1, '@fwdtogetherstl': 1, '@jenesq2': 1, '@kitchendj': 1, '@hearsomejoke': 1, '@wgawest': 1, '@playerunknown': 1, '@alllibertynews': 1, '@bcpagreens': 1, '@knowwhereistand': 1, '@greenpartyofphl': 1, '@kevlabeast': 1, '@nrbassociation': 1, '@briannadeg': 1, '@roughdraftvc': 1, '@vetsfirstchoice': 1, '@acquia': 1, '@thebetesorg': 1, '@indivisiblenv': 1, '@indivisiblesoco': 1, '@indivisiblevv': 1, '@indivisibleyolo': 1, '@dontgogentlysac': 1, '@amblergazette': 1, '@whatspatupto': 1, '@allymom64': 1, '@jessicalewis89': 1, '@lindsaygrahamsc': 1, '@rephensarlingstop': 1, '@replouiegohmer': 1, '@donyoungak': 1, '@notsam': 1, '@fbhcomic': 1, '@fcpsk12': 1, '@sciam': 1, '@pitchfork': 1, '@seesaw': 1, '@remindhq': 1, '@arisia': 1, '@desmos': 1, '@paladinsgame': 1, '@th3citizen': 1, '@ohsayusa': 1, '@resistwar': 1, '@thefloodmag': 1, '@josephparziale': 1, '@umg': 1, '@hunton_williams': 1, '@european': 1, '@eu': 1, '@cnnhealth': 1, '@progressorg': 1, '@demos_org': 1, '@hmcghee': 1, '@helenrosenthal': 1, '@godaddy': 1, '@andykirn': 1, '@jonstall2009': 1, '@breibartnews': 1, '@mrrepzion': 1, '@ajitpaifccand': 1, '@wtkr3': 1, '@wavy_news': 1, '@uninoticias': 1, '@googleindia': 1, '@googlestudents': 1, '@msftimagine': 1, '@freecodecamp': 1, '@virginianpilot': 1, '@andyharrismd': 1, '@ctv': 1, '@rachelmaddow': 1, '@chrishayes': 1, '@raullabrador4id': 1, '@santaclaralaw': 1, '@person': 1, '@khart': 1, '@senklobuchar': 1, '@cn': 1, '@mendcommunity': 1, '@diegovilarreal': 1, '@lifeatgoogle': 1, '@rondesantisfl': 1, '@knowyourmeme': 1, '@storsterr': 1, '@iamsafaree': 1, '@mzflame_86': 1, '@wale': 1, '@seantaketa': 1, '@accesshumboldt': 1, '@jeffcot': 1, '@congculbersonto': 1, '@xxxtentacion': 1, '@profmcmouse': 1, '@michaelchautv': 1, '@dt2comicschat': 1, '@swtheory66': 1, '@screenrant': 1, '@awesome_walter': 1, '@hwatford': 1, '@indretailer': 1, '@feedly': 1, '@albertwenger': 1, '@bfeld': 1, '@popbott3000': 1, '@dmf71': 1, '@landofree': 1, '@erinceaser': 1, '@lyndalcairns': 1, '@pattersonhood': 1, '@rmantri': 1, '@educause': 1, '@nubiannewyorker': 1, '@writersdigest': 1, '@newyorkpost': 1, '@clarekramer': 1, '@wsjpolitics': 1, '@hamiltonmusical': 1, '@netinclusion': 1, '@sydneybirdd': 1, '@sciencemarchchi': 1, '@flatironschool': 1, '@craigmelvin': 1, '@crampell': 1, '@kadybat': 1, '@the3rdmic': 1, '@the5thdownff': 1, '@hellblazerbiz': 1, '@twobobspodcast': 1, '@middleurinalpod': 1, '@verbalverkehr': 1, '@xdexperience': 1, '@flafflhouse': 1, '@themccpodcast': 1, '@geekdigpod': 1, '@guystuffpodcast': 1, '@droppingloadspc': 1, '@gccsofficial': 1, '@500womensci': 1, '@awaldstein': 1, '@rianjohnson': 1, '@ctedtech': 1, '@db_sweeney': 1, '@rachelzarndt': 1, '@jontronshow': 1, '@madrinas': 1, '@therulesorg': 1, '@houdartun': 1, '@cptnacional': 1, '@dddominikk': 1, '@azfamily': 1, '@billhelm42': 1, '@brandonleetv': 1, '@support': 1, '@juliajay8': 1, '@nyathew': 1, '@albiosiresnj': 1, '@donaldpaynejr': 1, '@bonnie4congress': 1, '@alcatel_lucent': 1, '@3m': 1, '@aallnet': 1, '@ibm': 1, '@sophos': 1, '@intel': 1, '@anonymous910685': 1, '@twilio': 1, '@bugquestions': 1, '@lackadaisycats': 1, '@googlemaps': 1, '@streamerrt': 1, '@iamscicomm': 1, '@nashturley': 1, '@omnidestiny': 1, '@callmcclintock': 1, '@sierraforward': 1, '@ariana2525': 1, '@christian_ice': 1, '@jwt_worldwide': 1, '@v_cakes': 1, '@triplehq': 1, '@fec': 1, '@govmcauliffe': 1, '@vinixglobal': 1, '@claroqueteayudo': 1, '@remixtures': 1, '@netflx': 1, '@missmollyfuller': 1, '@atlbizchron': 1, '@njbiz': 1, '@davatron5000': 1, '@michaelabehrens': 1, '@popvox': 1, '@jmergy': 1, '@kfiam640': 1, '@timminchin': 1, '@joncozart': 1, '@globalvoices': 1, '@whispersystems': 1, '@ajitpaifccgoing': 1, '@alex_burness': 1, '@newstatesman': 1, '@itu': 1, '@subwufferet': 1, '@mrsvanessatrump': 1, '@samsungmobileus': 1, '@stephenmilleral': 1, '@colinmochrie': 1, '@townofmarana': 1, '@sen': 1, '@mah_sadeghi': 1, '@kimberlynfoster': 1, '@citymagazineelp': 1, '@jeanmicheljarre': 1, '@angelasiefer': 1, '@coltonfordmusic': 1, '@mediapost': 1, '@colinlecher': 1, '@opbtol': 1, '@comcasttechsoln': 1, '@plainrocktweets': 1, '@tecnicalidade': 1, '@mvcmendes': 1, '@complex': 1, '@elevator_': 1, '@nojumper': 1, '@adrive_tk': 1, '@crimsoncbad': 1, '@numbnexus': 1, '@joeypokeaim': 1, '@smurphycongress': 1, '@jimmygomezca': 1, '@camilleesq': 1, '@davidocoulter': 1, '@heyitsfcc': 1, '@rpshephard': 1, '@clevvertv': 1, '@tweeplers': 1, '@mrdevinhunter': 1, '@meatwagon22': 1, '@18thaddison': 1, '@aabaraki': 1, '@adronmusic': 1, '@aoscruggs': 1, '@ajpantaleo': 1, '@cyhsyband': 1, '@fymissmosshart': 1, '@thekills': 1, '@scoundreltime': 1, '@tweet': 1, '@matilda_w_': 1, '@cthie': 1, '@nichttweeterin': 1, '@njbpu': 1, '@speedtest': 1, '@ashkhen': 1, '@hhodbuzz': 1, '@freeyourmindkid': 1, '@frentepop': 1, '@rockdelux': 1, '@american_lions': 1, '@amyrebeccaklein': 1, '@andrewadkins': 1, '@antibalas': 1, '@chuck_solitude': 1, '@arthurnoll': 1, '@arringtondd': 1, '@auburn_x': 1, '@beautypill': 1, '@realsebadoh': 1, '@braille_stars': 1, '@bngsoul': 1, '@feelgoodlost': 1, '@ramonafalls': 1, '@menomena': 1, '@bottlerockets': 1, '@wearecathedrals': 1, '@bryandivisions': 1, '@themilesluna': 1, '@autodesk': 1, '@therealelp': 1, '@runjewels': 1, '@jboitnott': 1, '@zaibatsu': 1, '@afropunk': 1, '@tinyblueorange': 1, '@idigbio': 1, '@realluigikid': 1, '@proactivepghw': 1, '@cjweeborder': 1, '@califonemusic': 1, '@cheeraccident': 1, '@cheaimee': 1, '@steadycraig': 1, '@theholdsteady': 1, '@cursivetheband': 1, '@murderbydeath': 1, '@parts_and_labor': 1, '@starboii_7': 1, '@daveeasley1': 1, '@davidbazan': 1, '@daverosane': 1, '@declan_zapala': 1, '@jessforcongress': 1, '@tytnation': 1, '@cogentco': 1, '@serenawinters': 1, '@ramonashelburne': 1, '@attentiontoken': 1, '@tronfoundation': 1, '@dodgecomm': 1, '@thepracticaldev': 1, '@phoneyourreps': 1, '@ubnt': 1, '@r3sistanc3_bot': 1, '@deerhoof': 1, '@denvermeatpack': 1, '@devin_typhoon': 1, '@dominothief': 1, '@dudeyork': 1, '@djejnyc': 1, '@dubistry': 1, '@eluvium': 1, '@erinmckeown': 1, '@flobots': 1, '@franznicolay': 1, '@kidskys': 1, '@thereallaxing': 1, '@fmlappe': 1, '@anarchyball': 1, '@henrysternca': 1, '@gotteam': 1, '@thatoneroo': 1, '@escoblades': 1, '@sevengranddad92': 1, '@chase_doggie': 1, '@taxedfraud': 1, '@dareinmind': 1, '@3narshlok': 1, '@yd2017_': 1, '@macleans': 1, '@real3wks': 1, '@repvaldemings': 1, '@staceyplaskett': 1, '@rephuffman': 1, '@replowenthal': 1, '@reptomsuozzi': 1, '@teammoulton': 1, '@senatorgillibrand': 1, '@michaelsheam': 1, '@lllyetl': 1, '@mrjoeiconis': 1, '@tedleu': 1, '@rxleymusic': 1, '@presjpolk': 1, '@platz_pb': 1, '@alliex': 1, '@phoeberyan': 1, '@dagnymusic': 1, '@conangray': 1, '@goyim_doll': 1, '@anon6_nvrforget': 1, '@tricias_family': 1, '@freefromeurule': 1, '@belindahayle': 1, '@evetweets': 1, '@simon_gib': 1, '@miauniverse': 1, '@adameichen': 1, '@beaconpressbks': 1, '@poshmarkapp': 1, '@joy_randels': 1, '@wahousedems': 1, '@dcmediagroup': 1, '@iamaraindogtoo': 1, '@xyex_': 1, '@marcusveltri': 1, '@darealazerrz': 1, '@youranonglobal': 1, '@aliyahmoulden': 1, '@gregghoush': 1, '@joshuabaldw1n': 1, '@repmikequigleyhave': 1, '@twitchsupport': 1, '@uw_ischool': 1, '@thomasfrey': 1, '@jhagel': 1, '@truckersvote': 1, '@scott_springer': 1, '@jackhenryfaust': 1, '@noreaga': 1, '@superstvgh': 1, '@nkwaten': 1, '@oyantwi': 1, '@bobfernandez1': 1, '@portiaaboulger': 1, '@mch7576': 1, '@careerfed': 1, '@m_f_rose': 1, '@slashgear': 1, '@impactbnd': 1, '@laprofe63': 1, '@legalator': 1, '@otojuarez85': 1, '@sashaseclipse': 1, '@clowery806': 1, '@foramsraqu': 1, '@macromicropaleo': 1, '@paleojb': 1, '@ashleyippolito': 1, '@jackheart180': 1, '@telekom_group': 1, '@ericgreitens': 1, '@c_coop_official': 1, '@healthitnews': 1, '@toqc_official': 1, '@statnews': 1, '@twcgr': 1, '@badassbeckyshow': 1, '@mscalilogan': 1, '@badgirlandi': 1, '@lizzandrews': 1, '@madalynnraye': 1, '@gmoras1': 1, '@thefamilyship': 1, '@thesuperstash': 1, '@joefaz': 1, '@imtutwo1': 1, '@anonzx': 1, '@anon_opnews': 1, '@jackalanon': 1, '@efforums': 1, '@saurik': 1, '@trnshow': 1, '@rashadrobinson': 1, '@thought_crimez': 1, '@artiequitter': 1, '@jenniffer2012': 1, '@larabrittwrites': 1, '@penpaperpad': 1, '@djsmook': 1, '@hbcufessions': 1, '@holden': 1, '@spm4congress': 1, '@cl2empower': 1, '@genie_ideman': 1, '@suzannefaha1': 1, '@brandon_peffer': 1, '@mediaequalizer': 1, '@senronwyden': 1, '@edmarkeycomm': 1, '@dexiejanerw': 1, '@sece5': 1, '@secretarysonny': 1, '@melo_meli': 1, '@augieobserver': 1, '@waugfm': 1, '@danielgerling': 1, '@oregongovbrown': 1, '@passcde': 1, '@_blip_': 1, '@tferriss': 1, '@flyingmonkeyair': 1, '@paxworld': 1, '@leslierojas': 1, '@scanmyphotos': 1, '@alangrayson': 1, '@representdotus': 1, '@periscopeco': 1, '@transpartisanrt': 1, '@theanonjournal': 1, '@jetblue': 1, '@ryan_knutson': 1, '@dimnwit': 1, '@techfreedom': 1, '@henet': 1, '@megapath': 1, '@skyriver': 1, '@towerstream': 1, '@stealthfiber': 1, '@juddapatow': 1, '@darth': 1, '@alanlowenthal': 1, '@nouvode': 1, '@wilco': 1, '@nekocase': 1, '@mayoredlee': 1, '@lanceulanoff': 1, '@haventhefraud': 1, '@_reaganrod': 1, '@wbezeducation': 1, '@tmorris210': 1, '@professordlugo': 1, '@kent5k14': 1, '@spkerofthehouse': 1, '@hipst3rectomy': 1, '@dtomoffcpa': 1, '@btomoffcpa': 1, '@argylereport': 1, '@vetsforobama': 1, '@metropcs': 1, '@fr0gio': 1, '@sebtsb': 1, '@michaelmccaul': 1, '@ysaproductions': 1, '@secretlycndian': 1, '@sinderlynrecord': 1, '@slumberlandrecs': 1, '@sooperrecords': 1, '@subpop': 1, '@tapemodulator': 1, '@tempresltd': 1, '@thirdmanrecords': 1, '@thirsty_ear': 1, '@dailymixreport': 1, '@sky_gravity': 1, '@iam_djxii': 1, '@dejhalei': 1, '@dk': 1, '@shortymacshort_': 1, '@domoandcrissy': 1, '@wyncode': 1, '@refreshmiami': 1, '@alexreevegivens': 1, '@canlightsource': 1, '@bandinblack': 1, '@kobethegoat99': 1, '@goldxpeaches': 1, '@cameronduda1': 1, '@gwynethwlin': 1, '@panda__le': 1, '@truthorange': 1, '@madisonsiriusxm': 1, '@chromecast': 1, '@kvlinx': 1, '@okayafrica': 1, '@abiolaoke': 1, '@pam_houston': 1, '@realsunilsharma': 1, '@interpol_hq': 1, '@dylanwestbrook2': 1, '@petermckinnon': 1, '@shonduras': 1, '@irarabois': 1, '@thyssmark': 1, '@swenbooks': 1, '@elainemansfiel7': 1, '@diane_tober': 1, '@ann_m_ackermann': 1, '@porterfolio': 1, '@erynecki': 1, '@cathrynprince': 1, '@kimhruba': 1, '@jeanraffa': 1, '@mikeisaac': 1, '@daiwaka': 1, '@nickwingfield': 1, '@krakenfx': 1, '@bassistundrfire': 1, '@jordanwinn99': 1, '@tt_dgiuliani': 1, '@judithtorresss': 1, '@bzookah': 1, '@garrettforva': 1, '@erikdvp': 1, '@friendzonepod': 1, '@iisupermanli': 1, '@cporrino': 1, '@ellenrosenblum': 1, '@uofcincy': 1, '@citybeatcincy': 1, '@bighitent': 1, '@antennereunion': 1, '@linfore': 1, '@a_forestier': 1, '@forrester': 1, '@wisgop': 1, '@tichinaarnold': 1, '@cpc_bps': 1, '@suptchang': 1, '@worldstar': 1, '@safestreetsbalt': 1, '@flynn8989': 1, '@falloutboy': 1, '@patrickstump': 1, '@trohman': 1, '@tylerperry': 1, '@iyanlavanzant': 1, '@strykerdawson': 1, '@devonfranklin': 1, '@sensicalpol': 1, '@rupaul': 1, '@titussburgess': 1, '@bryanlanning': 1, '@hannahkimberlee': 1, '@jaredmecham': 1, '@dendari': 1, '@lindayollis': 1, '@anitaheiss': 1, '@fcbalaw': 1, '@watchadam': 1, '@montytayloe': 1, '@anthonyblogan': 1, '@comcastsucks_': 1, '@capitol_forum': 1, '@buckforcolorado': 1, '@bikemaker': 1, '@legalgen': 1, '@ohiogensoc': 1, '@fgsgenealogy': 1, '@familytreemag': 1, '@myheritage': 1, '@houstondsa': 1, '@lucasvlogan': 1, '@imtechfr': 1, '@ffrf': 1, '@genopp': 1, '@chloe_fried': 1, '@joanayvaldez': 1, '@_ur_best_bud_': 1, '@benziegler': 1, '@virtuops': 1, '@share_stream': 1, '@streamsupport_': 1, '@seabornebeth': 1, '@xexrainnn': 1, '@rainnnplex': 1, '@js_edit': 1, '@karoli': 1, '@dianewindsor13': 1, '@histoftech': 1, '@wolfofwallst': 1, '@tonyrobbins': 1, '@peterguber': 1, '@c_frangos': 1, '@alejandronw': 1, '@karaduffycbs12': 1, '@questfusion': 1, '@googlevoice': 1, '@larrytyner1': 1, '@mishmill': 1, '@evielitwok': 1, '@bcobbaclu': 1, '@beingkimmie': 1, '@mkmatthews': 1, '@willrinehart': 1, '@wigazette': 1, '@moni_monika_chr': 1, '@medicalnetworks': 1, '@firmre': 1, '@venezart': 1, '@firmpm': 1, '@urbanequityinc': 1, '@streamlinecap': 1, '@fedsocrtp': 1, '@mercedesintheam': 1, '@rlong_bailey': 1, '@repmikecollins': 1, '@havredaily': 1, '@pexelsphotos': 1, '@canva': 1, '@pennlawctic': 1, '@adele': 1, '@zaynmalik': 1, '@cdwgwagov': 1, '@kamalahariis': 1, '@cbspectator': 1, '@flikshop': 1, '@anjitpaifcc': 1, '@trucutu1': 1, '@marceloclaure': 1, '@validic': 1, '@mobileexperts1': 1, '@coffeegremlin_': 1, '@iron_man': 1, '@danieldaekim': 1, '@mrjoshcharles': 1, '@bridgetmoynahan': 1, '@tarynsouthern': 1, '@angelarichter_': 1, '@andrearamseyks': 1, '@joshuadubois': 1, '@okursus': 1, '@daniel_t_1985': 1, '@banossteven': 1, '@projectsnt': 1, '@potato_scribs': 1, '@cybrid101': 1, '@sonicth90055013': 1, '@theknightofwind': 1, '@edgehograven': 1, '@rogercraigsmith': 1, '@cakindrummer': 1, '@cprewritten': 1, '@irstaxpros': 1, '@aijtpaifcc': 1, '@lightroom': 1, '@word2myknicks': 1, '@midknlght': 1, '@marrciiaaa': 1, '@alondravxga': 1, '@6godalexaaa': 1, '@wladi': 1, '@brokencarpenter': 1, '@michaelpnano': 1, '@sista_theology': 1, '@reprobert_aderholt': 1, '@pilgrimtucker': 1, '@sankrant': 1, '@rajivmessage': 1, '@repreed': 1, '@pava': 1, '@sarahvangelder': 1, '@tetrimbath': 1, '@thebradsherwood': 1, '@josellausas': 1, '@debatedebutante': 1, '@jessieburstein': 1, '@lifechurch': 1, '@trukelayser': 1, '@jenniferswayje': 1, '@gstephanopoulos': 1, '@matthewjdowd': 1, '@bcbeat': 1, '@senatorjohnmccain': 1, '@mitchellvii': 1, '@markdice': 1, '@politicalshort': 1, '@jjambonefilms': 1, '@claytravis': 1, '@migzc': 1, '@grain_a_moudre': 1, '@franceculture': 1, '@fftelecoms': 1, '@axellelemaire': 1, '@vcnicolas55': 1, '@friday13thgame': 1, '@rontao13': 1, '@weskeltner': 1, '@randygbk': 1, '@telecomymedios': 1, '@abrilgaming': 1, '@nj7c4c': 1, '@ufc': 1, '@thenotoriousmma': 1, '@jonnybones': 1, '@mandunsen': 1, '@elisahk92': 1, '@librab103': 1, '@omnipangolin': 1, '@muesreviews': 1, '@okturtles': 1, '@aidan': 1, '@georgesalazar': 1, '@sorrykhary': 1, '@dhiraagu': 1, '@ooredoomaldives': 1, '@rolmaldives': 1, '@mikeleeforutah': 1, '@vote2maga_djt': 1, '@changek': 1, '@messenger': 1, '@microsft': 1, '@erikadprice': 1, '@robertaderholt': 1, '@tamu': 1, '@laurendotwilson': 1, '@digitalsista': 1, '@gagnier': 1, '@drakebell': 1, '@xtina': 1, '@pink': 1, '@bitmoji': 1, '@pointlessblog': 1, '@dkopf': 1, '@gopcongress': 1, '@everytown': 1, '@gadgetress': 1, '@pokejungle': 1, '@kyrstensinema': 1, '@gazzi_24': 1, '@d3mghazi': 1, '@rep_buddycarter': 1, '@rayleevaughn': 1, '@voiceofobrien': 1, '@jacobwhitesides': 1, '@usmanally': 1, '@louiseschiavone': 1, '@loboexplosivo': 1, '@georgewbush': 1, '@persiabu': 1, '@zoella': 1, '@ladivaza': 1, '@anthonynoto': 1, '@anonycraig': 1, '@garretgraves': 1, '@miathememequeen': 1, '@aberdeenfc': 1, '@catherine_lucey': 1, '@janinezacharia': 1, '@brekke_dimitri': 1, '@georgeresch': 1, '@phillychic5': 1, '@eringilfoy': 1, '@thehpalliance': 1, '@gwimaine': 1, '@pnnlab': 1, '@scb_ben': 1, '@outlawdipper': 1, '@troydangaming': 1, '@javier_hardeman': 1, '@fcchow': 1, '@sageandsavvy': 1, '@the': 1, '@eriwick': 1, '@jessiepaege': 1, '@rucateyez': 1, '@diorvargas': 1, '@yosoy_amanda': 1, '@aimeett': 1, '@isps': 1, '@mr_hadeny': 1, '@40atlas': 1, '@gametsf': 1, '@shawny_alt': 1, '@mamamaxxy': 1, '@unsweetenedmag': 1, '@faithpennick': 1, '@s_hero4hire': 1, '@jrutherfordfl': 1, '@erikacostell': 1, '@onedayatatime': 1, '@alcee4congress': 1, '@senatorboxer': 1, '@westsidewired': 1, '@jacobsartorius': 1, '@bradytutton': 1, '@chanceperez': 1, '@kinghsupdates': 1, '@louispromosquad': 1, '@louisianagov': 1, '@sgpt6': 1, '@never_enough79': 1, '@tosastalkintech': 1, '@bribriggs': 1, '@john_eick': 1, '@edtechminded': 1, '@cogswell_ben': 1, '@annkozma723': 1, '@herrplatt': 1, '@arthesrock': 1, '@legal_reader': 1, '@bellathorne': 1, '@bobayconner': 1, '@kristenxleanne': 1, '@iamgabivictor': 1, '@iamblackbear': 1, '@oliviaanc': 1, '@simplynessa15': 1, '@bklynlibrary': 1, '@podcon': 1, '@rtv6': 1, '@americanlegion': 1, '@alvarez_tur': 1, '@japp7207': 1, '@waldo_cuba': 1, '@inception_org': 1, '@fineartdetroit': 1, '@society6dan': 1, '@mgwvdan': 1, '@myagentmarkb': 1, '@dan_brummitt': 1, '@jgsilverman': 1, '@omi10468': 1, '@mikebliss': 1, '@outnumberedot': 1, '@9news': 1, '@regalretweet': 1, '@smoshgames': 1, '@repjohncurtis': 1, '@uwork4utah': 1, '@unhrcpr': 1, '@caseymmiller': 1, '@elgatoylacaja': 1, '@undocumedia': 1, '@carols_world': 1, '@twittergov': 1, '@unhumanrights': 1, '@fiftythree': 1, '@enwealthen': 1, '@paolacorb': 1, '@tony_ignite': 1, '@gustomela': 1, '@jayfromtgf': 1, '@sensassei': 1, '@alfierivendog': 1, '@doonyxd': 1, '@sorakarina1': 1, '@dannyboyseo': 1, '@philososaurzine': 1, '@nanisimo': 1, '@feliciaday': 1, '@stephen_kent89': 1, '@indivisibleneb': 1, '@indivisibleomah': 1, '@indivisibleoma': 1, '@jrosenworceli': 1, '@tompelphrey': 1, '@antonystarr': 1, '@msroyalvloggerr': 1, '@imthomasgibson': 1, '@ieeespectrum': 1, '@claire1ancaster': 1, '@brucebartlett': 1, '@atdavidhoffman': 1, '@indivisibleil14': 1, '@beauwillimon': 1, '@highonthc': 1, '@etcatusc': 1, '@threeboxblake': 1, '@digitalavmag': 1, '@doj': 1, '@umnews': 1, '@alyssadotcom': 1, '@katciz': 1, '@kamalsinclair': 1, '@paulmitchell': 1, '@palayeroyale': 1, '@thewhir': 1, '@tomfulp': 1, '@camila_cabello': 1, '@fifthharmony': 1, '@samsmithworld': 1, '@istelib': 1, '@sherryngick': 1, '@elissamalespina': 1, '@nikkidrobertson': 1, '@boss_librarian': 1, '@lflemingedu': 1, '@franglick': 1, '@heathermlister': 1, '@drkmattson': 1, '@officeofedtech': 1, '@shannonmmiller': 1, '@thomascmurray': 1, '@utalaniz': 1, '@ukchangen': 1, '@wfnuradio': 1, '@gapyouthmedia': 1, '@banks': 1, '@ricegum': 1, '@carrington125': 1, '@sommerray': 1, '@chanteljeffries': 1, '@kslbrowser50': 1, '@akgovbillwalker': 1, '@ltgovmallott': 1, '@mayorethananc': 1, '@repsenayyyyotte': 1, '@hack2justice': 1, '@sylvesterturner': 1, '@houstontx': 1, '@comediversenet': 1, '@realhartman': 1, '@american_media_': 1, '@gregtime': 1, '@zbaris': 1, '@reflog_18': 1, '@cbowdenl': 1, '@crookedintriago': 1, '@mrchuckd': 1, '@kerrywashington': 1, '@countableus': 1, '@latchedonmd': 1, '@thesheepdogs': 1, '@jennleedawson': 1, '@alxwinter': 1, '@iamcarljones': 1, '@baratunde': 1, '@ibtimes': 1, '@emmanuelmacron': 1, '@mqt_dems': 1, '@michigandems': 1, '@resistmi': 1, '@magicbeans': 1, '@ksfrnews': 1, '@eiwbm_cat': 1, '@samoajoe': 1, '@hotelbiron': 1, '@stripe': 1, '@sportsbygotti': 1, '@playtogga': 1, '@lynzway': 1, '@columbusdispbrk': 1, '@kennagq': 1, '@otoiks': 1, '@myspace': 1, '@elisestefanik': 1, '@zac1967': 1, '@backstreetboys': 1, '@nkotb': 1, '@otownofficial': 1, '@thereallfo': 1, '@bigtimerush': 1, '@onedirection': 1, '@rickyrebelrocks': 1, '@lancebass': 1, '@edsurge': 1, '@journoinred': 1, '@govchristie': 1, '@wolfpacmd': 1, '@8gaming': 1, '@chamath': 1, '@sparker': 1, '@franklinfoer': 1, '@nbcsn': 1, '@nbcsportsgold': 1, '@iselfdevine': 1, '@opb': 1, '@thewaywithanoa': 1, '@acosta': 1, '@aprildryan': 1, '@usun': 1, '@whnsc': 1, '@secdefus': 1, '@sacem': 1, '@stgpresents': 1, '@prattfinearts': 1, '@thsea': 1, '@vox': 1, '@katiawb': 1, '@evanbaehr': 1, '@samcorcos': 1, '@jtlonsdale': 1, '@traestephens': 1, '@bussgang': 1, '@benpattersonca': 1, '@vasu': 1, '@zcferres': 1, '@schrockn': 1, '@jtkostman': 1, '@lenadanya': 1, '@mcuyar': 1, '@precariousfac': 1, '@diigo': 1, '@sarafaerodell': 1, '@hugh_w_forrest': 1, '@josephkopser': 1, '@fabiomb': 1, '@joe_kidder2': 1, '@agile_rts': 1, '@demented_rts': 1, '@findmeaclan': 1, '@4ag_rts': 1, '@24hourrts': 1, '@direwolvesrts': 1, '@bemiraculouslb': 1, '@dennysdiner': 1, '@g0ffthew': 1, '@rihouseofreps': 1, '@risenate': 1, '@utahag': 1, '@tapfreedom': 1, '@chegg': 1, '@erratarob': 1, '@dovecameron': 1, '@madisonbeer': 1, '@sierra_furtado': 1, '@imari': 1, '@bellaafusco': 1, '@choosefluid': 1, '@edmhumor': 1, '@univpugetsound': 1, '@berkeleyseti': 1, '@justinucd': 1, '@demunderground': 1, '@camdrome': 1, '@woodrailwayonly': 1, '@sudokusolvernl': 1, '@emma64549': 1, '@207tv': 1, '@kitlively': 1, '@epidermallayer': 1, '@kagaderp': 1, '@cindynguyen4497': 1, '@alex82492': 1, '@justiceatr': 1, '@samperib': 1, '@gabrifreak': 1, '@deb8479eaeef410': 1, '@ethansnicki': 1, '@speaklowmusic': 1, '@theknowfresno': 1, '@ermagurdyt': 1, '@abbijacobson': 1, '@ilazer': 1, '@broadcity': 1, '@parademagazine': 1, '@lasvegassun': 1, '@senatorernst': 1, '@albertsstuff': 1, '@earthlink': 1, '@1': 1, '@culturesmith': 1, '@underscoregeoff': 1, '@ajlocascio': 1, '@ibexwebex': 1, '@nekap': 1, '@joshkeaton': 1, '@voltron': 1, '@letsvoltron': 1, '@jeremyshada': 1, '@rhysiedarby': 1, '@uncleblazer': 1, '@steveyeun': 1, '@akasukimmd': 1, '@bitdegree': 1, '@mattshea': 1, '@tylerrjoseph': 1, '@joshuadun': 1, '@yaniboebanga': 1, '@troxkeegs': 1, '@itslivvyyyy': 1, '@aidaveeto': 1, '@arcaneghost4l': 1, '@snhuprez': 1, '@thecipherbrief': 1, '@lemax13': 1, '@inequalitymedia': 1, '@hereandnow': 1, '@qofficiel': 1, '@felipeneto': 1, '@kyliexoxo___': 1, '@sandraswins': 1, '@laurensrimmer': 1, '@bey_outsold': 1, '@sirmalcoth': 1, '@dudematthais': 1, '@tylerrhoft': 1, '@thelovelysdavis': 1, '@kingesskia': 1, '@brady_hhh': 1, '@cw_spn': 1, '@europe': 1, '@theoriestwd': 1, '@itsatohiou': 1, '@ohiou': 1, '@alanchartock': 1, '@sk3tchyt': 1, '@hugoclement': 1, '@bjcalvillo': 1, '@alexernst2': 1, '@eldiarioint': 1, '@familyguyonfox': 1, '@6aarqt': 1, '@popmech': 1, '@soydeportero': 1, '@wibbysworld': 1, '@dantdm': 1, '@popularmmos': 1, '@tbnrfrags': 1, '@dobby201765': 1, '@slideshare': 1, '@_leverettt': 1, '@thsstudentmedia': 1, '@jlivingood': 1, '@sfiegerman': 1, '@rtlfrance': 1, '@nrtheast_artist': 1, '@ford': 1, '@nyclibraries': 1, '@sydj1405': 1, '@brettlogiurato': 1, '@rob_coh': 1, '@ajenews': 1, '@v4l3y4rd': 1, '@operationyemen_': 1, '@drrandpaul': 1, '@kellyoxford': 1, '@pftcommenter': 1, '@theweakpickle': 1, '@icrazyteddy': 1, '@heavenlogin': 1, '@piercej32': 1, '@newdaynw': 1, '@imzachherron': 1, '@jonahmarais': 1, '@seaveydaniel': 1, '@corbynbesson': 1, '@jackaverymusic': 1, '@theboneheadclan': 1, '@morningbriefing': 1, '@ilgop': 1, '@anewdomain': 1, '@linuxdotcom': 1, '@djmatrox': 1, '@themarinamorgan': 1, '@fousey': 1, '@alexonthemic': 1, '@q102philly': 1, '@thecarlamarie': 1, '@curvyllama': 1, '@gassymexican': 1, '@norcocollege': 1, '@bizradio111': 1, '@eddelaney86': 1, '@ingmorrison': 1, '@ryan_eggold': 1, '@humetom': 1, '@tvserieshub': 1, '@wearesnarled': 1, '@mgbgaming_': 1, '@iwassmiling': 1, '@cbates6325': 1, '@pejvahdat': 1, '@phoenixlp': 1, '@jongries': 1, '@scottgrimes': 1, '@hybridmshinoda': 1, '@zuiker': 1, '@senchrisdodd': 1, '@profwrightgmu': 1, '@rednorthuk': 1, '@dallonweekes': 1, '@revolution41157': 1, '@mikeleeut': 1, '@tgc_yt': 1, '@avirtualscrawl': 1, '@gabriel_prevost': 1, '@keefknight': 1, '@josedrojas': 1, '@conqy': 1, '@oldmanramos': 1, '@stephaneplace': 1, '@lenalutaud': 1, '@g_peltier': 1, '@tamaralchambers': 1, '@roymoore': 1, '@browserweb': 1, '@imaginedragons': 1, '@rdbrwanda': 1, '@wwenetwork': 1, '@lindseygrahamds': 1, '@rgscanner': 1, '@preppersilver': 1, '@martinstarr': 1, '@mozillafestival': 1, '@cortesbob': 1, '@lindastewartfl': 1, '@changed': 1, '@bexeyswan': 1, '@googlenewsstand': 1, '@sierrarise': 1, '@venomouspie': 1, '@bijoufan0137': 1, '@mlp_johncar1069': 1, '@jonahswhale01': 1, '@peoplesparty': 1, '@elysefox45now': 1, '@cerensozeri': 1, '@emreerbirer': 1, '@basatonur': 1, '@taylorcaniff': 1, '@bruhitszach': 1, '@itsnickbean': 1, '@imtessabrooks': 1, '@kanebrown': 1, '@quincie_candice': 1, '@rnbreakfast': 1, '@rossr5': 1, '@lilmonix3': 1, '@coxmg': 1, '@boston25': 1, '@1captd': 1, '@eric_heinz_57': 1, '@rohanpinto': 1, '@lsridaran': 1, '@scottymccreery': 1, '@lukecombsmusic': 1, '@brooke_jones123': 1, '@connorfranta': 1, '@sampottorff': 1, '@hunterrowland': 1, '@genebhunter': 1, '@rerutled': 1, '@skeppey': 1, '@akikebi': 1, '@janelindholm': 1, '@vprnet': 1, '@ryansbergara': 1, '@shalexandej': 1, '@renegade_roo': 1, '@skleefeld': 1, '@lbh1969': 1, '@joeypadron': 1, '@alispagnola': 1, '@seattlemkh': 1, '@benjamin': 1, '@reprutherfordf': 1, '@casuallyginger': 1, '@stephousenet': 1, '@shadownexedge': 1, '@diplo': 1, '@alcatelmobileus': 1, '@anono1013': 1, '@naturbanleague': 1, '@cenithack': 1, '@barto3300': 1, '@j360productions': 1, '@saywecanfly': 1, '@chrisabiersack': 1, '@julietsimmsall': 1, '@realinnapitts': 1, '@jakepittsbvb': 1, '@jinxxbvb': 1, '@akuofficialacct': 1, '@stephybarbie408': 1, '@weezer': 1, '@grannyfernn': 1, '@aedanparrish': 1, '@teamcoworker': 1, '@el_cjr': 1, '@ah_science': 1, '@berylmills455': 1, '@dianadevlin': 1, '@mintermarilyn': 1, '@cmp_4u': 1, '@slutopedia': 1, '@rtdumb': 1, '@rtsubby': 1, '@rtfucker': 1, '@rtthishotstuff': 1, '@mlp_bristle': 1, '@danackerman': 1, '@officialjosha': 1, '@politifact': 1, '@arielcnet': 1, '@ada': 1, '@diablohead': 1, '@the_trickertree': 1, '@burkeusa': 1, '@hugotravers': 1, '@goodvibestwitch': 1, '@nxtlvlstreamers': 1, '@meemaw_phillis': 1, '@girrange': 1, '@speedmeans': 1, '@foxycomedy': 1, '@popo101toto': 1, '@representus': 1, '@wethepeoplemass': 1, '@maydayus': 1, '@officialrezz': 1, '@wwepeytonroyce': 1, '@biancabelairwwe': 1, '@jetaimelipa': 1, '@georgetownlaw': 1, '@animatedkinders': 1, '@bambinobecky': 1, '@thomasewoods': 1, '@issa': 1, '@hayesgrier': 1, '@thephantomlex': 1, '@sabrinaannlynn': 1, '@juliereisetter': 1, '@lacktman': 1, '@kristihenderson': 1, '@drreedtuckson': 1, '@petemetzgar': 1, '@aneel_irfan': 1, '@90kid2382': 1, '@vinecreators': 1, '@five_katz_antiq': 1, '@cwistalbatpon3': 1, '@bernstein': 1, '@panerabread': 1, '@thedailybanter': 1, '@nationaladapt': 1, '@bwostevie': 1, '@greekgodpapadon': 1, '@deadnosave': 1, '@bin_hamin': 1, '@repvelazquez': 1, '@santa': 1, '@stollmeyereu': 1, '@maasalan': 1, '@aspirationtech': 1, '@info_activism': 1, '@monerocurrency': 1, '@mnn59': 1, '@cnnsitroom': 1, '@lowrysnow': 1, '@katereports': 1, '@normthurston': 1, '@sonos': 1, '@america': 1, '@xdevastatedx': 1, '@musicregistry': 1, '@pearljam': 1, '@theprpetrator': 1, '@cchpca': 1, '@tempoaxe': 1, '@megankrumpelman': 1, '@cattaber': 1, '@nfutterman': 1, '@cpucelli': 1, '@nsbe': 1, '@kendallsfunfair': 1, '@copps': 1, '@therealbanksyy': 1, '@enbrown': 1, '@91x': 1, '@amiainformatics': 1, '@ncbi': 1, '@nlm_news': 1, '@nih': 1, '@pwestphil': 1, '@joebiden': 1, '@crrow777': 1, '@congjoewilson': 1, '@blakegray': 1, '@marjorie_faith': 1, '@datassque': 1, '@dadsined': 1, '@catlett1': 1, '@dschoening': 1, '@johnculberson': 1, '@briansgummybear': 1, '@oliverswands': 1, '@mizzoulaw': 1, '@russty_krab': 1, '@usinternetmn': 1, '@scooterbraun': 1, '@georgesoros': 1, '@harmbizzle': 1, '@anikanrose': 1, '@jaywalkr': 1, '@kyleferrandino': 1, '@inkbunny': 1, '@furaffinity': 1, '@shadowofwargame': 1, '@twitchretweetsu': 1, '@poptivist': 1, '@jimcarrey': 1, '@bigmeaninternet': 1, '@mattlech': 1, '@jamie_elizabeth': 1, '@bf1nn': 1, '@timtomyt': 1, '@somethingelseyt': 1, '@iamtyanimations': 1, '@thetoastednoodl': 1, '@heinemannpub': 1, '@chicagocouncil': 1, '@pennykittle': 1, '@donalynbooks': 1, '@weareoneexo': 1, '@episode': 1, '@awolk': 1, '@afw39000': 1, '@smg4official': 1, '@themeatly': 1, '@adamlbs': 1, '@mlmedianews': 1, '@kimrhodes4real': 1, '@officialbrianab': 1, '@osricchau': 1, '@ruthieconnell': 1, '@robbenedict': 1, '@dicksp8jr': 1, '@mattcohen4real': 1, '@jensenackles': 1, '@evanfilarca': 1, '@cbake76': 1, '@slcmof': 1, '@argamer0612': 1, '@duckduckedyt': 1, '@spidey_squad': 1, '@dollemore': 1, '@gridlink': 1, '@jacksonsmybitch': 1, '@gvinestuco': 1, '@ghsnation': 1, '@kenyaonkobaa': 1, '@supreme_kaiu7': 1, '@northwestel': 1, '@camrianalove': 1, '@senatormarco_r': 1, '@realityofari': 1, '@oomeisaya_': 1, '@yareen69': 1, '@hallwaygiri': 1, '@thepettyperson': 1, '@skyckyy': 1, '@ilygxmez': 1, '@juliakconley': 1, '@neprisapp': 1, '@lien_diaz': 1, '@kickrg': 1, '@thenormanlear': 1, '@leadnowca': 1, '@ziibiing': 1, '@kathriller': 1, '@pieroalessio': 1, '@shannonbream': 1, '@loudobbs': 1, '@dkempdesigns': 1, '@staticandchaos': 1, '@chicaplier_1989': 1, '@papapiier': 1, '@ladybug_cartoon': 1, '@embaressedpanda': 1, '@whatstorr': 1, '@butlerchatbot': 1, '@damiendarkcb': 1, '@damienschatbot': 1, '@jim_city_news': 1, '@lauren_asta': 1, '@furphobia': 1, '@sir_meowface': 1, '@twitch_alert': 1, '@twitchman68': 1, '@twitchtvhost': 1, '@cgndotus': 1, '@catrific': 1, '@austinmahone': 1, '@jakemiller': 1, '@ericburger': 1, '@tigermedianet': 1, '@lyannemelendez': 1, '@bluetailchris': 1, '@joopis': 1, '@opchemtrails': 1, '@realgeoengwatch': 1, '@climateviewer': 1, '@allys2rightfeet': 1, '@osnapjauregui_': 1, '@zouis_harmony': 1, '@delicatefreya': 1, '@intoxicatedlani': 1, '@skylarastin': 1, '@loudmouthjulia': 1, '@stltoday': 1, '@repgerantarr': 1, '@repjasongrenn': 1, '@replesgara': 1, '@repsamkitoiii': 1, '@sendunleavy': 1, '@senkevinmeyer': 1, '@wielechowski': 1, '@alaskascott': 1, '@roku': 1, '@amazonmusic': 1, '@eagles': 1, '@jimw81': 1, '@bbluetrue1': 1, '@jonups_': 1, '@wp': 1, '@lawlibcongress': 1, '@salesforce': 1, '@shgurrowo': 1, '@maattbreehne30': 1, '@vanessanason': 1, '@maps': 1, '@ohboywhatashot': 1, '@whydontwemusic': 1, '@inreallife': 1, '@wbz': 1, '@flakka_a': 1, '@ohiogop': 1, '@jordanebyers': 1, '@lelepons': 1, '@alexisreng': 1, '@iansomerhalder': 1, '@mongster': 1, '@gaba': 1, '@7news': 1, '@jaack': 1, '@barin_moon': 1, '@gamecubedude100': 1, '@dr': 1, '@swantzybaby': 1, '@r0bertjduffy': 1, '@extremelydecent': 1, '@jackspticeye_': 1, '@kytxcbs19': 1, '@cbs19now': 1, '@madamecrab': 1, '@chae': 1, '@gddonnelly22': 1, '@governorva': 1, '@onthek_train': 1, '@lizziextbh': 1, '@jrumplik': 1, '@mainstreetgop': 1, '@aksysgames': 1, '@tinder': 1, '@guynamedtawanda': 1, '@bornsmusic': 1, '@josuemb': 1, '@rugi': 1, '@eldermael': 1, '@horizontelecom': 1, '@ltatm_radio': 1, '@spreaker': 1, '@mylobrizuela': 1, '@universomarvela': 1, '@kevfeige': 1, '@gabymeza8': 1, '@kira0loka': 1, '@stripmarvel': 1, '@andresnavyz': 1, '@tuberadio985': 1, '@kiingtong': 1, '@ldshadowlady': 1, '@shelbygraces': 1, '@alexwassabi': 1, '@laurdiy': 1, '@lazyronstudios': 1, '@marziapie': 1, '@strawburry17': 1, '@poloniex': 1, '@cryptokitties': 1, '@mircrosoft': 1, '@seereax': 1, '@140503am': 1, '@od_madison': 1, '@charletchung': 1, '@heyitsjencohn': 1, '@luciepohlcomedy': 1, '@sweeetanj': 1, '@hollings_chloe': 1, '@roslehtinencamp': 1, '@biticonjustine': 1, '@crankthatfrank': 1, '@den2cypher': 1, '@lowtechmagazine': 1, '@stevestivers': 1, '@archdigest': 1, '@homeruntags': 1, '@booshoe37': 1, '@dermotcasey': 1, '@michaelgmadden': 1, '@sushitrash': 1, '@lanadelrey': 1, '@9p1702dodge': 1, '@curlyheadjackyy': 1, '@wes10': 1, '@dolanskissess': 1, '@dolantwinsliife': 1, '@giannirios1': 1, '@voicelegend': 1, '@looksharpe': 1, '@fsugoody': 1, '@she_maps': 1, '@jaclynhill': 1, '@kathleenlights1': 1, '@leftdial': 1, '@hasanthehun': 1, '@joshstein_': 1, '@jonnybernthal': 1, '@jae_day6': 1, '@kourtneykardash': 1, '@amandaredmanhq': 1, '@jencromarty': 1, '@htbock': 1, '@postdispatchbiz': 1, '@netlfix': 1, '@iowasos': 1, '@radioone': 1, '@mediacom': 1, '@hotinthestreetz': 1, '@indrigautama': 1, '@963rpkfm': 1, '@zachhaller': 1, '@jaredbeck': 1, '@sportswithpep': 1, '@scottwalker': 1, '@ncte': 1, '@liquidhbox': 1, '@tokidoki77': 1, '@sunnylifeupblog': 1, '@usbtsarmy': 1, '@dredeyedick': 1, '@govhick': 1, '@intanetz': 1, '@h1z1': 1, '@konami': 1, '@govofco': 1, '@vicxoralt': 1, '@johncabell': 1, '@nick_mathews': 1, '@piinksparkles': 1, '@govricksnyder': 1, '@ajiitpajfcc': 1, '@usrealitycheck': 1, '@nbaontnt': 1, '@nero': 1, '@polygon': 1, '@brianfrosh': 1, '@cobbschools': 1, '@ampglobalyouth': 1, '@arizonaago': 1, '@newtechnw': 1, '@youranoncentral': 1, '@shopfloornam': 1, '@richardburr_dn': 1, '@c_lindner': 1, '@maryfallin': 1, '@amberwinans': 1, '@hickforco': 1, '@therobdyke': 1, '@bbcmundo': 1, '@nyuniversity': 1, '@gov_martinez': 1, '@joeybadass': 1, '@agencia_andina': 1, '@coattnygeneral': 1, '@votejakechapman': 1, '@dae_fraze': 1, '@vh1': 1, '@jackiechristie': 1, '@leslierutledge': 1, '@dougducey': 1, '@bobbi_bobbi': 1, '@talktomeguy': 1, '@agalanwilson': 1, '@scattygenoffice': 1, '@jamesrosentv': 1, '@sharylattkisson': 1, '@nydnsports': 1, '@nydailynews': 1, '@buzztulsa': 1, '@pacificwin': 1, '@pacificmigrant': 1, '@niuango': 1, '@wellsvillecsd': 1, '@yourdnrec': 1, '@honestlymental': 1, '@seaofvixens': 1, '@bayridgedems': 1, '@jaaakehill': 1, '@lilpineconeyuh': 1, '@pndamini': 1, '@pnehlen': 1, '@armatorlk': 1, '@thefishou': 1, '@oliechhs': 1, '@hearthstone_fr': 1, '@gymleaderclaire': 1, '@gdax': 1, '@coinbase': 1, '@martyjackley': 1, '@indivisiblelnh': 1, '@emmachambie': 1, '@kenpaxtontx': 1, '@maroc_telecom': 1, '@inwi': 1, '@orangemaroc': 1, '@rogerfederer': 1, '@sciencemarchdc': 1, '@joyvbehar': 1, '@whoopigoldberg': 1, '@francisrooney': 1, '@repralphwatts': 1, '@hammerheadshar': 1, '@papayapodrida': 1, '@mikedewine': 1, '@liliana_aster': 1, '@hereformarais': 1, '@dancer202021': 1, '@rebekah_wages': 1, '@strongformyseif': 1, '@thankyouherron': 1, '@gergesemma': 1, '@joe_l_1995': 1, '@pics_by_hannah': 1, '@colindonnell': 1, '@remgriffith': 1, '@nh_doj': 1, '@billmccamley': 1, '@tomudall': 1, '@wdtnmarkallan': 1, '@arkansasgov': 1, '@asahutchinson': 1, '@jefflandry': 1, '@markstellation': 1, '@miltonvv': 1, '@notjustinpeters': 1, '@kingdivine315': 1, '@nutellausa': 1, '@klrnradio': 1, '@govraimondo': 1, '@linewebtoon': 1, '@abruadrover': 1, '@nvgreenparty': 1, '@mattbevin': 1, '@coloradoan': 1, '@coloradogov': 1, '@coloradodot': 1, '@derekfisher': 1, '@linseygrahamsc': 1})\n"
     ]
    }
   ],
   "source": [
    "from collections import Counter\n",
    "\n",
    "\n",
    "at_counter = Counter()\n",
    "\n",
    "for at in mega_df_final['@s']:\n",
    "    for item in at:\n",
    "        total_ats += 1\n",
    "        at_counter[item] += 1\n",
    "    \n",
    "        \n",
    "print(total_ats)\n",
    "print(len(at_counter))\n",
    "print(at_counter)"
   ]
  },
  {
   "cell_type": "code",
   "execution_count": 46,
   "metadata": {
    "scrolled": true
   },
   "outputs": [
    {
     "data": {
      "text/html": [
       "<div>\n",
       "<style>\n",
       "    .dataframe thead tr:only-child th {\n",
       "        text-align: right;\n",
       "    }\n",
       "\n",
       "    .dataframe thead th {\n",
       "        text-align: left;\n",
       "    }\n",
       "\n",
       "    .dataframe tbody tr th {\n",
       "        vertical-align: top;\n",
       "    }\n",
       "</style>\n",
       "<table border=\"1\" class=\"dataframe\">\n",
       "  <thead>\n",
       "    <tr style=\"text-align: right;\">\n",
       "      <th></th>\n",
       "      <th>user</th>\n",
       "      <th>frequency</th>\n",
       "    </tr>\n",
       "  </thead>\n",
       "  <tbody>\n",
       "    <tr>\n",
       "      <th>0</th>\n",
       "      <td>@moveon</td>\n",
       "      <td>0.000797</td>\n",
       "    </tr>\n",
       "    <tr>\n",
       "      <th>1</th>\n",
       "      <td>@cartoonmovement</td>\n",
       "      <td>0.000004</td>\n",
       "    </tr>\n",
       "    <tr>\n",
       "      <th>2</th>\n",
       "      <td>@dolantwinsliife</td>\n",
       "      <td>0.000004</td>\n",
       "    </tr>\n",
       "    <tr>\n",
       "      <th>3</th>\n",
       "      <td>@ignaciowenley</td>\n",
       "      <td>0.000004</td>\n",
       "    </tr>\n",
       "    <tr>\n",
       "      <th>4</th>\n",
       "      <td>@emotionally14</td>\n",
       "      <td>0.000004</td>\n",
       "    </tr>\n",
       "    <tr>\n",
       "      <th>5</th>\n",
       "      <td>@wfla</td>\n",
       "      <td>0.000009</td>\n",
       "    </tr>\n",
       "    <tr>\n",
       "      <th>6</th>\n",
       "      <td>@repbost</td>\n",
       "      <td>0.000048</td>\n",
       "    </tr>\n",
       "    <tr>\n",
       "      <th>7</th>\n",
       "      <td>@officialmcafee</td>\n",
       "      <td>0.000009</td>\n",
       "    </tr>\n",
       "    <tr>\n",
       "      <th>8</th>\n",
       "      <td>@acracebest</td>\n",
       "      <td>0.000004</td>\n",
       "    </tr>\n",
       "    <tr>\n",
       "      <th>9</th>\n",
       "      <td>@wcco</td>\n",
       "      <td>0.000009</td>\n",
       "    </tr>\n",
       "    <tr>\n",
       "      <th>10</th>\n",
       "      <td>@mssarahpaulson</td>\n",
       "      <td>0.000009</td>\n",
       "    </tr>\n",
       "    <tr>\n",
       "      <th>11</th>\n",
       "      <td>@dareinmind</td>\n",
       "      <td>0.000004</td>\n",
       "    </tr>\n",
       "    <tr>\n",
       "      <th>12</th>\n",
       "      <td>@petersuderman</td>\n",
       "      <td>0.000044</td>\n",
       "    </tr>\n",
       "    <tr>\n",
       "      <th>13</th>\n",
       "      <td>@quepasaboricua</td>\n",
       "      <td>0.000061</td>\n",
       "    </tr>\n",
       "    <tr>\n",
       "      <th>14</th>\n",
       "      <td>@repmceachin</td>\n",
       "      <td>0.000026</td>\n",
       "    </tr>\n",
       "    <tr>\n",
       "      <th>15</th>\n",
       "      <td>@4healthyca</td>\n",
       "      <td>0.000004</td>\n",
       "    </tr>\n",
       "    <tr>\n",
       "      <th>16</th>\n",
       "      <td>@safervpn</td>\n",
       "      <td>0.000004</td>\n",
       "    </tr>\n",
       "    <tr>\n",
       "      <th>17</th>\n",
       "      <td>@wendyndavis</td>\n",
       "      <td>0.000013</td>\n",
       "    </tr>\n",
       "    <tr>\n",
       "      <th>18</th>\n",
       "      <td>@danieltosh</td>\n",
       "      <td>0.000004</td>\n",
       "    </tr>\n",
       "    <tr>\n",
       "      <th>19</th>\n",
       "      <td>@isoc_lac</td>\n",
       "      <td>0.000009</td>\n",
       "    </tr>\n",
       "    <tr>\n",
       "      <th>20</th>\n",
       "      <td>@theoklahoman</td>\n",
       "      <td>0.000004</td>\n",
       "    </tr>\n",
       "    <tr>\n",
       "      <th>21</th>\n",
       "      <td>@will_ppi</td>\n",
       "      <td>0.000009</td>\n",
       "    </tr>\n",
       "    <tr>\n",
       "      <th>22</th>\n",
       "      <td>@stevewoz</td>\n",
       "      <td>0.000114</td>\n",
       "    </tr>\n",
       "    <tr>\n",
       "      <th>23</th>\n",
       "      <td>@bbcnewsmarathi</td>\n",
       "      <td>0.000004</td>\n",
       "    </tr>\n",
       "    <tr>\n",
       "      <th>24</th>\n",
       "      <td>@senatorcollins</td>\n",
       "      <td>0.000784</td>\n",
       "    </tr>\n",
       "    <tr>\n",
       "      <th>25</th>\n",
       "      <td>@clareangelyn</td>\n",
       "      <td>0.000004</td>\n",
       "    </tr>\n",
       "    <tr>\n",
       "      <th>26</th>\n",
       "      <td>@aclu_wa</td>\n",
       "      <td>0.000004</td>\n",
       "    </tr>\n",
       "    <tr>\n",
       "      <th>27</th>\n",
       "      <td>@amodeifornevada</td>\n",
       "      <td>0.000004</td>\n",
       "    </tr>\n",
       "    <tr>\n",
       "      <th>28</th>\n",
       "      <td>@scottbvs</td>\n",
       "      <td>0.000018</td>\n",
       "    </tr>\n",
       "    <tr>\n",
       "      <th>29</th>\n",
       "      <td>@jonkerlin</td>\n",
       "      <td>0.000009</td>\n",
       "    </tr>\n",
       "    <tr>\n",
       "      <th>...</th>\n",
       "      <td>...</td>\n",
       "      <td>...</td>\n",
       "    </tr>\n",
       "    <tr>\n",
       "      <th>9701</th>\n",
       "      <td>@urbanophile</td>\n",
       "      <td>0.000004</td>\n",
       "    </tr>\n",
       "    <tr>\n",
       "      <th>9702</th>\n",
       "      <td>@vinecreators</td>\n",
       "      <td>0.000004</td>\n",
       "    </tr>\n",
       "    <tr>\n",
       "      <th>9703</th>\n",
       "      <td>@duncantrussell</td>\n",
       "      <td>0.000009</td>\n",
       "    </tr>\n",
       "    <tr>\n",
       "      <th>9704</th>\n",
       "      <td>@amy4thepeople</td>\n",
       "      <td>0.000018</td>\n",
       "    </tr>\n",
       "    <tr>\n",
       "      <th>9705</th>\n",
       "      <td>@johnoliverbot</td>\n",
       "      <td>0.000004</td>\n",
       "    </tr>\n",
       "    <tr>\n",
       "      <th>9706</th>\n",
       "      <td>@iamblackbear</td>\n",
       "      <td>0.000004</td>\n",
       "    </tr>\n",
       "    <tr>\n",
       "      <th>9707</th>\n",
       "      <td>@bradleydevlin</td>\n",
       "      <td>0.000004</td>\n",
       "    </tr>\n",
       "    <tr>\n",
       "      <th>9708</th>\n",
       "      <td>@discordapp</td>\n",
       "      <td>0.000149</td>\n",
       "    </tr>\n",
       "    <tr>\n",
       "      <th>9709</th>\n",
       "      <td>@survivetheark</td>\n",
       "      <td>0.000009</td>\n",
       "    </tr>\n",
       "    <tr>\n",
       "      <th>9710</th>\n",
       "      <td>@alissaviolet</td>\n",
       "      <td>0.000009</td>\n",
       "    </tr>\n",
       "    <tr>\n",
       "      <th>9711</th>\n",
       "      <td>@teachthought</td>\n",
       "      <td>0.000009</td>\n",
       "    </tr>\n",
       "    <tr>\n",
       "      <th>9712</th>\n",
       "      <td>@lrtgee</td>\n",
       "      <td>0.000004</td>\n",
       "    </tr>\n",
       "    <tr>\n",
       "      <th>9713</th>\n",
       "      <td>@demandprogress</td>\n",
       "      <td>0.000206</td>\n",
       "    </tr>\n",
       "    <tr>\n",
       "      <th>9714</th>\n",
       "      <td>@jgfortwayne</td>\n",
       "      <td>0.000009</td>\n",
       "    </tr>\n",
       "    <tr>\n",
       "      <th>9715</th>\n",
       "      <td>@charmchawm</td>\n",
       "      <td>0.000004</td>\n",
       "    </tr>\n",
       "    <tr>\n",
       "      <th>9716</th>\n",
       "      <td>@tldtoday</td>\n",
       "      <td>0.000004</td>\n",
       "    </tr>\n",
       "    <tr>\n",
       "      <th>9717</th>\n",
       "      <td>@thepracticaldev</td>\n",
       "      <td>0.000004</td>\n",
       "    </tr>\n",
       "    <tr>\n",
       "      <th>9718</th>\n",
       "      <td>@repbonamici</td>\n",
       "      <td>0.000026</td>\n",
       "    </tr>\n",
       "    <tr>\n",
       "      <th>9719</th>\n",
       "      <td>@poloniex</td>\n",
       "      <td>0.000004</td>\n",
       "    </tr>\n",
       "    <tr>\n",
       "      <th>9720</th>\n",
       "      <td>@xojillianjanson</td>\n",
       "      <td>0.000004</td>\n",
       "    </tr>\n",
       "    <tr>\n",
       "      <th>9721</th>\n",
       "      <td>@arkansasgov</td>\n",
       "      <td>0.000004</td>\n",
       "    </tr>\n",
       "    <tr>\n",
       "      <th>9722</th>\n",
       "      <td>@tedcruz</td>\n",
       "      <td>0.000600</td>\n",
       "    </tr>\n",
       "    <tr>\n",
       "      <th>9723</th>\n",
       "      <td>@wolfblitzer</td>\n",
       "      <td>0.000009</td>\n",
       "    </tr>\n",
       "    <tr>\n",
       "      <th>9724</th>\n",
       "      <td>@chronopinion</td>\n",
       "      <td>0.000004</td>\n",
       "    </tr>\n",
       "    <tr>\n",
       "      <th>9725</th>\n",
       "      <td>@free_our_net</td>\n",
       "      <td>0.000004</td>\n",
       "    </tr>\n",
       "    <tr>\n",
       "      <th>9726</th>\n",
       "      <td>@numerama</td>\n",
       "      <td>0.000004</td>\n",
       "    </tr>\n",
       "    <tr>\n",
       "      <th>9727</th>\n",
       "      <td>@benwikler</td>\n",
       "      <td>0.000013</td>\n",
       "    </tr>\n",
       "    <tr>\n",
       "      <th>9728</th>\n",
       "      <td>@padddyylol</td>\n",
       "      <td>0.000009</td>\n",
       "    </tr>\n",
       "    <tr>\n",
       "      <th>9729</th>\n",
       "      <td>@hre3news</td>\n",
       "      <td>0.000004</td>\n",
       "    </tr>\n",
       "    <tr>\n",
       "      <th>9730</th>\n",
       "      <td>@markpocan</td>\n",
       "      <td>0.000004</td>\n",
       "    </tr>\n",
       "  </tbody>\n",
       "</table>\n",
       "<p>9731 rows × 2 columns</p>\n",
       "</div>"
      ],
      "text/plain": [
       "                  user  frequency\n",
       "0              @moveon   0.000797\n",
       "1     @cartoonmovement   0.000004\n",
       "2     @dolantwinsliife   0.000004\n",
       "3       @ignaciowenley   0.000004\n",
       "4       @emotionally14   0.000004\n",
       "5                @wfla   0.000009\n",
       "6             @repbost   0.000048\n",
       "7      @officialmcafee   0.000009\n",
       "8          @acracebest   0.000004\n",
       "9                @wcco   0.000009\n",
       "10     @mssarahpaulson   0.000009\n",
       "11         @dareinmind   0.000004\n",
       "12      @petersuderman   0.000044\n",
       "13     @quepasaboricua   0.000061\n",
       "14        @repmceachin   0.000026\n",
       "15         @4healthyca   0.000004\n",
       "16           @safervpn   0.000004\n",
       "17        @wendyndavis   0.000013\n",
       "18         @danieltosh   0.000004\n",
       "19           @isoc_lac   0.000009\n",
       "20       @theoklahoman   0.000004\n",
       "21           @will_ppi   0.000009\n",
       "22           @stevewoz   0.000114\n",
       "23     @bbcnewsmarathi   0.000004\n",
       "24     @senatorcollins   0.000784\n",
       "25       @clareangelyn   0.000004\n",
       "26            @aclu_wa   0.000004\n",
       "27    @amodeifornevada   0.000004\n",
       "28           @scottbvs   0.000018\n",
       "29          @jonkerlin   0.000009\n",
       "...                ...        ...\n",
       "9701      @urbanophile   0.000004\n",
       "9702     @vinecreators   0.000004\n",
       "9703   @duncantrussell   0.000009\n",
       "9704    @amy4thepeople   0.000018\n",
       "9705    @johnoliverbot   0.000004\n",
       "9706     @iamblackbear   0.000004\n",
       "9707    @bradleydevlin   0.000004\n",
       "9708       @discordapp   0.000149\n",
       "9709    @survivetheark   0.000009\n",
       "9710     @alissaviolet   0.000009\n",
       "9711     @teachthought   0.000009\n",
       "9712           @lrtgee   0.000004\n",
       "9713   @demandprogress   0.000206\n",
       "9714      @jgfortwayne   0.000009\n",
       "9715       @charmchawm   0.000004\n",
       "9716         @tldtoday   0.000004\n",
       "9717  @thepracticaldev   0.000004\n",
       "9718      @repbonamici   0.000026\n",
       "9719         @poloniex   0.000004\n",
       "9720  @xojillianjanson   0.000004\n",
       "9721      @arkansasgov   0.000004\n",
       "9722          @tedcruz   0.000600\n",
       "9723      @wolfblitzer   0.000009\n",
       "9724     @chronopinion   0.000004\n",
       "9725     @free_our_net   0.000004\n",
       "9726         @numerama   0.000004\n",
       "9727        @benwikler   0.000013\n",
       "9728       @padddyylol   0.000009\n",
       "9729         @hre3news   0.000004\n",
       "9730        @markpocan   0.000004\n",
       "\n",
       "[9731 rows x 2 columns]"
      ]
     },
     "execution_count": 46,
     "metadata": {},
     "output_type": "execute_result"
    }
   ],
   "source": [
    "user_mention_freq_df"
   ]
  },
  {
   "cell_type": "code",
   "execution_count": 73,
   "metadata": {},
   "outputs": [],
   "source": [
    "total_tweets = mega_df_final['text'].count()\n",
    "\n",
    "for i, user in enumerate(user_mention_freq_df['user']):\n",
    "    user_mention_freq_df.at[i, 'frequency'] = (at_counter[user] / total_tweets)"
   ]
  },
  {
   "cell_type": "code",
   "execution_count": 79,
   "metadata": {
    "scrolled": true
   },
   "outputs": [
    {
     "data": {
      "text/plain": [
       "5504    0.230806\n",
       "6282    0.086709\n",
       "4261    0.064148\n",
       "6194    0.028495\n",
       "2477    0.008602\n",
       "6781    0.003303\n",
       "810     0.002812\n",
       "3613    0.002750\n",
       "7795    0.002699\n",
       "6842    0.002673\n",
       "8639    0.002404\n",
       "6369    0.001700\n",
       "4823    0.001495\n",
       "1347    0.001242\n",
       "9343    0.001235\n",
       "1143    0.001188\n",
       "5634    0.001171\n",
       "4358    0.001052\n",
       "4330    0.000968\n",
       "7232    0.000911\n",
       "8165    0.000882\n",
       "3959    0.000694\n",
       "1189    0.000622\n",
       "5351    0.000608\n",
       "7290    0.000565\n",
       "1316    0.000553\n",
       "624     0.000541\n",
       "6007    0.000541\n",
       "767     0.000522\n",
       "2128    0.000517\n",
       "          ...   \n",
       "5835    0.000002\n",
       "5834    0.000002\n",
       "5833    0.000002\n",
       "5831    0.000002\n",
       "5794    0.000002\n",
       "5796    0.000002\n",
       "5798    0.000002\n",
       "5800    0.000002\n",
       "5802    0.000002\n",
       "5803    0.000002\n",
       "5805    0.000002\n",
       "5806    0.000002\n",
       "5807    0.000002\n",
       "5808    0.000002\n",
       "5810    0.000002\n",
       "5811    0.000002\n",
       "5813    0.000002\n",
       "5814    0.000002\n",
       "5816    0.000002\n",
       "5817    0.000002\n",
       "5819    0.000002\n",
       "5820    0.000002\n",
       "5822    0.000002\n",
       "5823    0.000002\n",
       "5824    0.000002\n",
       "5825    0.000002\n",
       "5827    0.000002\n",
       "5829    0.000002\n",
       "5830    0.000002\n",
       "4865    0.000002\n",
       "Name: frequency, Length: 9731, dtype: float64"
      ]
     },
     "execution_count": 79,
     "metadata": {},
     "output_type": "execute_result"
    }
   ],
   "source": [
    "user_mention_freq_df['frequency'].sort_values(ascending=False)"
   ]
  },
  {
   "cell_type": "code",
   "execution_count": null,
   "metadata": {},
   "outputs": [],
   "source": []
  },
  {
   "cell_type": "code",
   "execution_count": 92,
   "metadata": {},
   "outputs": [
    {
     "ename": "SyntaxError",
     "evalue": "unexpected character after line continuation character (<ipython-input-92-2fa4ce2e0077>, line 1)",
     "output_type": "error",
     "traceback": [
      "\u001b[0;36m  File \u001b[0;32m\"<ipython-input-92-2fa4ce2e0077>\"\u001b[0;36m, line \u001b[0;32m1\u001b[0m\n\u001b[0;31m    {\\displaystyle {\\frac {\\lambda ^{k}e^{-\\lambda }}{k!}}} {\\displaystyle {\\frac {\\lambda ^{k}e^{-\\lambda }}{k!}}}\u001b[0m\n\u001b[0m                                                                                                                   ^\u001b[0m\n\u001b[0;31mSyntaxError\u001b[0m\u001b[0;31m:\u001b[0m unexpected character after line continuation character\n"
     ]
    }
   ],
   "source": []
  },
  {
   "cell_type": "code",
   "execution_count": 93,
   "metadata": {},
   "outputs": [
    {
     "data": {
      "text/plain": [
       "0.004524187090179801"
      ]
     },
     "execution_count": 93,
     "metadata": {},
     "output_type": "execute_result"
    }
   ],
   "source": [
    "scipy.poisson.pmf(2, .1)"
   ]
  },
  {
   "cell_type": "code",
   "execution_count": null,
   "metadata": {
    "collapsed": true
   },
   "outputs": [],
   "source": []
  }
 ],
 "metadata": {
  "kernelspec": {
   "display_name": "Python 3",
   "language": "python",
   "name": "python3"
  },
  "language_info": {
   "codemirror_mode": {
    "name": "ipython",
    "version": 3
   },
   "file_extension": ".py",
   "mimetype": "text/x-python",
   "name": "python",
   "nbconvert_exporter": "python",
   "pygments_lexer": "ipython3",
   "version": "3.6.3"
  }
 },
 "nbformat": 4,
 "nbformat_minor": 2
}
